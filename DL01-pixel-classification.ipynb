{
 "cells": [
  {
   "cell_type": "markdown",
   "metadata": {
    "colab_type": "text",
    "id": "0JvwqPl0WGVE"
   },
   "source": [
    "# Deep Learning Experiment - Pixel Classification"
   ]
  },
  {
   "cell_type": "markdown",
   "metadata": {
    "colab_type": "text",
    "id": "CLQjiDQLWGVH"
   },
   "source": [
    "## Abstract"
   ]
  },
  {
   "cell_type": "markdown",
   "metadata": {
    "colab_type": "text",
    "id": "3oZUY9DhWGVJ"
   },
   "source": [
    "We take a naive approach to pixel classification (image segmentation) by machine learning with artificial neural networks. The focus here is on exploring practical issues like the preparation of data, python [1] programming and the use of the keras library [2]. The theroretical background of machine learning and deep learning is treated elsewhere [3].\n",
    "\n",
    "Since we know that vectors of measurements can be classified by neural networks, we attempt to do image segmentation in the same way. We consider the NxN environment of each pixel of an image as a feature vector and classify each pixel as either belonging to the background or to an object of interest. Given a number of input images and corresponding ground truth images we extract the training and validation data. We build a neural network using keras, train it with the extracted training data and vaildate it using the extracted validation data. The created classidier is then applied on input images to create a segmentation mask and a probability map. \n",
    "\n",
    "The python programming constructs are explained along the process."
   ]
  },
  {
   "cell_type": "markdown",
   "metadata": {
    "colab_type": "text",
    "id": "ukX7LPh_vFBL"
   },
   "source": [
    "## Setup for Colab\n",
    "\n",
    "When running in google colab, we need to install tifffile and update the keras version. We also need to download the dataset. "
   ]
  },
  {
   "cell_type": "code",
   "execution_count": 1,
   "metadata": {
    "colab": {},
    "colab_type": "code",
    "id": "N01GIurYvqNL"
   },
   "outputs": [],
   "source": [
    "import os\n",
    "if  not os.path.isdir('./training'):\n",
    "  !pip install tifffile\n",
    "  !pip install -U keras\n",
    "  !cd /content/ && git clone https://github.com/MontpellierRessourcesImagerie/DL_EXP_PC.git && cp -r DL_EXP_PC/data . && cp -r DL_EXP_PC/training ."
   ]
  },
  {
   "cell_type": "markdown",
   "metadata": {
    "colab_type": "text",
    "id": "RmPLXqLOWGVL"
   },
   "source": [
    "## Reading in the training data"
   ]
  },
  {
   "cell_type": "markdown",
   "metadata": {
    "colab_type": "text",
    "id": "5eXwA7DgWGVN"
   },
   "source": [
    "For simplicity we will use one image to construct the input data for now. We will generalize this to multiple images later. We have one input image and a correcponding ground-truth image as our training input.\n",
    "\n",
    "As the input of the neural network we need a matrix X containing the input data and a vector y containing the classification for each row in the input matrix. We will construct X and y from the input dataset by first looking at the ground truth images and randomly choosing a number S of foreground samples and a number S of background samples. "
   ]
  },
  {
   "cell_type": "markdown",
   "metadata": {
    "colab_type": "text",
    "id": "fmiMf96XWGVO"
   },
   "source": [
    "We set the paths to the input image and the ground-truth image, the patch size N and the number of samples S of foreground and background values."
   ]
  },
  {
   "cell_type": "code",
   "execution_count": 2,
   "metadata": {
    "colab": {},
    "colab_type": "code",
    "id": "zURDAcw-WGVQ"
   },
   "outputs": [],
   "source": [
    "inputPath = './training/spots.tif'\n",
    "gtPath = './training/spots-gt.tif'\n",
    "N = 3\n",
    "S = 20000"
   ]
  },
  {
   "cell_type": "markdown",
   "metadata": {
    "colab_type": "text",
    "id": "eVzGxcmRWGVa"
   },
   "source": [
    "We read in the input and the ground-truth image as numpy matrices."
   ]
  },
  {
   "cell_type": "code",
   "execution_count": 3,
   "metadata": {
    "colab": {},
    "colab_type": "code",
    "id": "zBVqP954WGVb"
   },
   "outputs": [
    {
     "name": "stdout",
     "output_type": "stream",
     "text": [
      "(1830, 1980)\n"
     ]
    }
   ],
   "source": [
    "import tifffile as tiff\n",
    "gtImage = tiff.imread(gtPath)\n",
    "inputImage = tiff.imread(inputPath) / 255\n",
    "print(inputImage.shape)"
   ]
  },
  {
   "cell_type": "markdown",
   "metadata": {
    "colab_type": "text",
    "id": "mtHLUTHdWGVi"
   },
   "source": [
    "We filter out the background samples and the object samples from the ground-truth image."
   ]
  },
  {
   "cell_type": "code",
   "execution_count": 4,
   "metadata": {
    "colab": {
     "base_uri": "https://localhost:8080/",
     "height": 52
    },
    "colab_type": "code",
    "executionInfo": {
     "elapsed": 1597,
     "status": "ok",
     "timestamp": 1586430002490,
     "user": {
      "displayName": "Volker Bäcker",
      "photoUrl": "https://lh3.googleusercontent.com/a-/AOh14GjEu5wjN2vCYiy08xA1eynmYpMhOc6dLWwRZvWdJbI=s64",
      "userId": "10406901054643491303"
     },
     "user_tz": -120
    },
    "id": "rpuATQFJWGVj",
    "outputId": "5d501a88-963a-47c1-869f-39ea0a573dd5"
   },
   "outputs": [
    {
     "name": "stdout",
     "output_type": "stream",
     "text": [
      "[(0, 0), (0, 1), (0, 2), (0, 3), (0, 4), (0, 5), (0, 6), (0, 7), (0, 8), (0, 9)] nr.: 3412479\n",
      "[(36, 1765), (36, 1766), (36, 1767), (36, 1768), (36, 1769), (37, 1764), (37, 1765), (37, 1766), (37, 1767), (37, 1768)] nr.: 210921\n"
     ]
    }
   ],
   "source": [
    "import numpy as np\n",
    "foregroundY, foregroundX = gtImage.nonzero()\n",
    "foreground = list(zip(foregroundY, foregroundX))\n",
    "backgroundY, backgroundX = (gtImage==0).nonzero()\n",
    "background = list(zip(backgroundY, backgroundX))\n",
    "print(background[0:10], \"nr.:\", len(background))\n",
    "print(foreground[0:10], \"nr.:\", len(foreground))"
   ]
  },
  {
   "cell_type": "markdown",
   "metadata": {
    "colab_type": "text",
    "id": "PUDV-eOoWGVr"
   },
   "source": [
    "We select S randomly choosen coordinates from the foreground and S randomly choosen coordinates from the background. We do not take coordinates close to the borders for which the whole neighborhood is not inside of the image."
   ]
  },
  {
   "cell_type": "code",
   "execution_count": 5,
   "metadata": {
    "colab": {
     "base_uri": "https://localhost:8080/",
     "height": 52
    },
    "colab_type": "code",
    "executionInfo": {
     "elapsed": 1093,
     "status": "ok",
     "timestamp": 1586430022323,
     "user": {
      "displayName": "Volker Bäcker",
      "photoUrl": "https://lh3.googleusercontent.com/a-/AOh14GjEu5wjN2vCYiy08xA1eynmYpMhOc6dLWwRZvWdJbI=s64",
      "userId": "10406901054643491303"
     },
     "user_tz": -120
    },
    "id": "wA2p8iDNWGVs",
    "outputId": "6d40c370-6ba6-465b-b350-7a2ed3ec73a9"
   },
   "outputs": [
    {
     "name": "stdout",
     "output_type": "stream",
     "text": [
      "[(1413, 1033), (1008, 628), (1795, 1069), (341, 1734), (792, 876), (983, 1497), (1582, 294), (1184, 442), (311, 1230), (389, 610)]\n",
      "[(1465, 980), (167, 280), (734, 1520), (493, 39), (1311, 1903), (940, 485), (1678, 960), (1461, 1926), (590, 1715), (931, 1837)]\n"
     ]
    }
   ],
   "source": [
    "from random import randint\n",
    "height, width = gtImage.shape\n",
    "def getNCoordinateSamplesFrom(n, aList, minX, maxX, minY, maxY):\n",
    "    samples = []\n",
    "    for _ in range(n):\n",
    "        r = randint(0,len(aList)-1)\n",
    "        coords = aList[r]\n",
    "        while coords[0]<=minY or coords[0]>=maxY or coords[1]<=minX or coords[1]>=maxX:    \n",
    "            r = randint(0,len(foreground)-1)\n",
    "            coords = foreground[r]\n",
    "        samples.append(coords)\n",
    "    return samples\n",
    "FS = getNCoordinateSamplesFrom(S, foreground, N//2, width-N//2, N//2, height-N//2)\n",
    "BS = getNCoordinateSamplesFrom(S, background, N//2, width-N//2, N//2, height-N//2)\n",
    "print(FS[0:10])\n",
    "print(BS[0:10])"
   ]
  },
  {
   "cell_type": "markdown",
   "metadata": {
    "colab_type": "text",
    "id": "yOk9SchDWGVz"
   },
   "source": [
    "We create X and y by using the data at the sampled positions in the input image. Since we have separate lists of foreground and background samples, we know to which class each sample must be assigned."
   ]
  },
  {
   "cell_type": "code",
   "execution_count": 6,
   "metadata": {
    "colab": {
     "base_uri": "https://localhost:8080/",
     "height": 191
    },
    "colab_type": "code",
    "executionInfo": {
     "elapsed": 1200,
     "status": "ok",
     "timestamp": 1586430030959,
     "user": {
      "displayName": "Volker Bäcker",
      "photoUrl": "https://lh3.googleusercontent.com/a-/AOh14GjEu5wjN2vCYiy08xA1eynmYpMhOc6dLWwRZvWdJbI=s64",
      "userId": "10406901054643491303"
     },
     "user_tz": -120
    },
    "id": "W7iFQ9YyWGV0",
    "outputId": "072f3e82-e54a-4d83-ffdf-6b1b84dc3282"
   },
   "outputs": [
    {
     "name": "stdout",
     "output_type": "stream",
     "text": [
      "foreground samples\n",
      " [[0.50980392 0.52941176 0.52941176 0.51764706 0.52941176 0.52941176\n",
      "  0.52156863 0.48627451 0.49019608]\n",
      " [0.50980392 0.51764706 0.48235294 0.53333333 0.48235294 0.54117647\n",
      "  0.52941176 0.51764706 0.46666667]\n",
      " [0.47058824 0.51372549 0.50196078 0.4745098  0.45882353 0.49019608\n",
      "  0.49019608 0.46666667 0.45490196]\n",
      " [0.43529412 0.48235294 0.4745098  0.45490196 0.45882353 0.45490196\n",
      "  0.43529412 0.41960784 0.4745098 ]\n",
      " [0.4        0.4627451  0.4745098  0.42352941 0.44313725 0.43529412\n",
      "  0.43529412 0.45490196 0.45882353]] [1 1 1 1 1]\n",
      "background samples\n",
      " [[0.31764706 0.33333333 0.30196078 0.3372549  0.29803922 0.31764706\n",
      "  0.28627451 0.34509804 0.3254902 ]\n",
      " [0.29019608 0.27843137 0.28235294 0.29411765 0.25098039 0.27058824\n",
      "  0.30196078 0.2627451  0.29019608]\n",
      " [0.30980392 0.34117647 0.32156863 0.29803922 0.31372549 0.32156863\n",
      "  0.31764706 0.32941176 0.34117647]\n",
      " [0.29411765 0.28627451 0.2745098  0.28235294 0.2745098  0.29411765\n",
      "  0.29411765 0.28627451 0.27843137]\n",
      " [0.3254902  0.34901961 0.3372549  0.32941176 0.33333333 0.34901961\n",
      "  0.32941176 0.34509804 0.34509804]] [0 0 0 0 0]\n"
     ]
    }
   ],
   "source": [
    "def addSamplesToTrainingData(n, image, samples, X, y, target):\n",
    "    start = -n//2 + 1\n",
    "    stop = -start + 1\n",
    "    for ys, xs in samples:\n",
    "        vector = []\n",
    "        for i in range(start, stop):\n",
    "            for j in range(start, stop):\n",
    "                vector.append(image[ys+i,xs+j])\n",
    "        X.append(vector)\n",
    "        y.append(target)\n",
    "    return X, y\n",
    "X = []\n",
    "y = []\n",
    "addSamplesToTrainingData(N, inputImage, FS, X, y, 1)\n",
    "addSamplesToTrainingData(N, inputImage, BS, X, y, 0)\n",
    "X = np.array(X)\n",
    "y = np.array(y)\n",
    "print(\"foreground samples\\n\", X[0:5], y[0:5])\n",
    "print(\"background samples\\n\", X[S:S+5], y[S:S+5])"
   ]
  },
  {
   "cell_type": "markdown",
   "metadata": {
    "colab_type": "text",
    "id": "Zoc2lxQ2WGV6"
   },
   "source": [
    "## Creating a network using keras"
   ]
  },
  {
   "cell_type": "markdown",
   "metadata": {
    "colab_type": "text",
    "id": "jRU1ZcOKWGV6"
   },
   "source": [
    "As a first approach we create a simple, densly connected network with 4 layers inspired by [[4]](https://machinelearningmastery.com/tutorial-first-neural-network-python-keras/). We visualize the network architecture."
   ]
  },
  {
   "cell_type": "code",
   "execution_count": 7,
   "metadata": {
    "colab": {
     "base_uri": "https://localhost:8080/",
     "height": 504
    },
    "colab_type": "code",
    "executionInfo": {
     "elapsed": 3468,
     "status": "ok",
     "timestamp": 1586430041349,
     "user": {
      "displayName": "Volker Bäcker",
      "photoUrl": "https://lh3.googleusercontent.com/a-/AOh14GjEu5wjN2vCYiy08xA1eynmYpMhOc6dLWwRZvWdJbI=s64",
      "userId": "10406901054643491303"
     },
     "user_tz": -120
    },
    "id": "KOOFecMXWGV7",
    "outputId": "e0a5836b-ca3b-41b0-ca9a-db41d655e692"
   },
   "outputs": [
    {
     "name": "stderr",
     "output_type": "stream",
     "text": [
      "Using TensorFlow backend.\n"
     ]
    },
    {
     "name": "stdout",
     "output_type": "stream",
     "text": [
      "Model: \"sequential_1\"\n",
      "_________________________________________________________________\n",
      "Layer (type)                 Output Shape              Param #   \n",
      "=================================================================\n",
      "dense_1 (Dense)              (None, 8)                 80        \n",
      "_________________________________________________________________\n",
      "dense_2 (Dense)              (None, 1)                 9         \n",
      "=================================================================\n",
      "Total params: 89\n",
      "Trainable params: 89\n",
      "Non-trainable params: 0\n",
      "_________________________________________________________________\n"
     ]
    },
    {
     "data": {
      "image/svg+xml": [
       "<svg height=\"200pt\" viewBox=\"0.00 0.00 295.00 221.00\" width=\"266pt\" xmlns=\"http://www.w3.org/2000/svg\" xmlns:xlink=\"http://www.w3.org/1999/xlink\">\n",
       "<g class=\"graph\" id=\"graph0\" transform=\"scale(.9028 .9028) rotate(0) translate(4 217)\">\n",
       "<title>G</title>\n",
       "<polygon fill=\"#ffffff\" points=\"-4,4 -4,-217 291,-217 291,4 -4,4\" stroke=\"transparent\"/>\n",
       "<!-- 140682007446672 -->\n",
       "<g class=\"node\" id=\"node1\">\n",
       "<title>140682007446672</title>\n",
       "<polygon fill=\"none\" points=\"0,-166.5 0,-212.5 287,-212.5 287,-166.5 0,-166.5\" stroke=\"#000000\"/>\n",
       "<text fill=\"#000000\" font-family=\"Times,serif\" font-size=\"14.00\" text-anchor=\"middle\" x=\"81.5\" y=\"-185.8\">dense_1_input: InputLayer</text>\n",
       "<polyline fill=\"none\" points=\"163,-166.5 163,-212.5 \" stroke=\"#000000\"/>\n",
       "<text fill=\"#000000\" font-family=\"Times,serif\" font-size=\"14.00\" text-anchor=\"middle\" x=\"190.5\" y=\"-197.3\">input:</text>\n",
       "<polyline fill=\"none\" points=\"163,-189.5 218,-189.5 \" stroke=\"#000000\"/>\n",
       "<text fill=\"#000000\" font-family=\"Times,serif\" font-size=\"14.00\" text-anchor=\"middle\" x=\"190.5\" y=\"-174.3\">output:</text>\n",
       "<polyline fill=\"none\" points=\"218,-166.5 218,-212.5 \" stroke=\"#000000\"/>\n",
       "<text fill=\"#000000\" font-family=\"Times,serif\" font-size=\"14.00\" text-anchor=\"middle\" x=\"252.5\" y=\"-197.3\">(None, 9)</text>\n",
       "<polyline fill=\"none\" points=\"218,-189.5 287,-189.5 \" stroke=\"#000000\"/>\n",
       "<text fill=\"#000000\" font-family=\"Times,serif\" font-size=\"14.00\" text-anchor=\"middle\" x=\"252.5\" y=\"-174.3\">(None, 9)</text>\n",
       "</g>\n",
       "<!-- 140684441509712 -->\n",
       "<g class=\"node\" id=\"node2\">\n",
       "<title>140684441509712</title>\n",
       "<polygon fill=\"none\" points=\"30.5,-83.5 30.5,-129.5 256.5,-129.5 256.5,-83.5 30.5,-83.5\" stroke=\"#000000\"/>\n",
       "<text fill=\"#000000\" font-family=\"Times,serif\" font-size=\"14.00\" text-anchor=\"middle\" x=\"81.5\" y=\"-102.8\">dense_1: Dense</text>\n",
       "<polyline fill=\"none\" points=\"132.5,-83.5 132.5,-129.5 \" stroke=\"#000000\"/>\n",
       "<text fill=\"#000000\" font-family=\"Times,serif\" font-size=\"14.00\" text-anchor=\"middle\" x=\"160\" y=\"-114.3\">input:</text>\n",
       "<polyline fill=\"none\" points=\"132.5,-106.5 187.5,-106.5 \" stroke=\"#000000\"/>\n",
       "<text fill=\"#000000\" font-family=\"Times,serif\" font-size=\"14.00\" text-anchor=\"middle\" x=\"160\" y=\"-91.3\">output:</text>\n",
       "<polyline fill=\"none\" points=\"187.5,-83.5 187.5,-129.5 \" stroke=\"#000000\"/>\n",
       "<text fill=\"#000000\" font-family=\"Times,serif\" font-size=\"14.00\" text-anchor=\"middle\" x=\"222\" y=\"-114.3\">(None, 9)</text>\n",
       "<polyline fill=\"none\" points=\"187.5,-106.5 256.5,-106.5 \" stroke=\"#000000\"/>\n",
       "<text fill=\"#000000\" font-family=\"Times,serif\" font-size=\"14.00\" text-anchor=\"middle\" x=\"222\" y=\"-91.3\">(None, 8)</text>\n",
       "</g>\n",
       "<!-- 140682007446672&#45;&gt;140684441509712 -->\n",
       "<g class=\"edge\" id=\"edge1\">\n",
       "<title>140682007446672-&gt;140684441509712</title>\n",
       "<path d=\"M143.5,-166.3799C143.5,-158.1745 143.5,-148.7679 143.5,-139.8786\" fill=\"none\" stroke=\"#000000\"/>\n",
       "<polygon fill=\"#000000\" points=\"147.0001,-139.784 143.5,-129.784 140.0001,-139.784 147.0001,-139.784\" stroke=\"#000000\"/>\n",
       "</g>\n",
       "<!-- 140682007446160 -->\n",
       "<g class=\"node\" id=\"node3\">\n",
       "<title>140682007446160</title>\n",
       "<polygon fill=\"none\" points=\"30.5,-.5 30.5,-46.5 256.5,-46.5 256.5,-.5 30.5,-.5\" stroke=\"#000000\"/>\n",
       "<text fill=\"#000000\" font-family=\"Times,serif\" font-size=\"14.00\" text-anchor=\"middle\" x=\"81.5\" y=\"-19.8\">dense_2: Dense</text>\n",
       "<polyline fill=\"none\" points=\"132.5,-.5 132.5,-46.5 \" stroke=\"#000000\"/>\n",
       "<text fill=\"#000000\" font-family=\"Times,serif\" font-size=\"14.00\" text-anchor=\"middle\" x=\"160\" y=\"-31.3\">input:</text>\n",
       "<polyline fill=\"none\" points=\"132.5,-23.5 187.5,-23.5 \" stroke=\"#000000\"/>\n",
       "<text fill=\"#000000\" font-family=\"Times,serif\" font-size=\"14.00\" text-anchor=\"middle\" x=\"160\" y=\"-8.3\">output:</text>\n",
       "<polyline fill=\"none\" points=\"187.5,-.5 187.5,-46.5 \" stroke=\"#000000\"/>\n",
       "<text fill=\"#000000\" font-family=\"Times,serif\" font-size=\"14.00\" text-anchor=\"middle\" x=\"222\" y=\"-31.3\">(None, 8)</text>\n",
       "<polyline fill=\"none\" points=\"187.5,-23.5 256.5,-23.5 \" stroke=\"#000000\"/>\n",
       "<text fill=\"#000000\" font-family=\"Times,serif\" font-size=\"14.00\" text-anchor=\"middle\" x=\"222\" y=\"-8.3\">(None, 1)</text>\n",
       "</g>\n",
       "<!-- 140684441509712&#45;&gt;140682007446160 -->\n",
       "<g class=\"edge\" id=\"edge2\">\n",
       "<title>140684441509712-&gt;140682007446160</title>\n",
       "<path d=\"M143.5,-83.3799C143.5,-75.1745 143.5,-65.7679 143.5,-56.8786\" fill=\"none\" stroke=\"#000000\"/>\n",
       "<polygon fill=\"#000000\" points=\"147.0001,-56.784 143.5,-46.784 140.0001,-56.784 147.0001,-56.784\" stroke=\"#000000\"/>\n",
       "</g>\n",
       "</g>\n",
       "</svg>"
      ],
      "text/plain": [
       "<IPython.core.display.SVG object>"
      ]
     },
     "execution_count": 7,
     "metadata": {},
     "output_type": "execute_result"
    }
   ],
   "source": [
    "from keras.models import Sequential\n",
    "from keras.layers import Dense\n",
    "from IPython.display import SVG\n",
    "from keras.utils import model_to_dot\n",
    "\n",
    "model = Sequential()\n",
    "model.add(Dense(N*N-1, input_dim=(N*N), activation='relu'))\n",
    "model.add(Dense(1, activation='sigmoid'))\n",
    "model.compile(loss='binary_crossentropy', optimizer='adam', metrics=['accuracy'])\n",
    "model.summary()\n",
    "SVG(model_to_dot(model, show_shapes=True, show_layer_names=True, dpi=65).create(prog='dot', format='svg'))"
   ]
  },
  {
   "cell_type": "markdown",
   "metadata": {
    "colab_type": "text",
    "id": "migHcEROWGWB"
   },
   "source": [
    "## Training the network"
   ]
  },
  {
   "cell_type": "markdown",
   "metadata": {
    "colab_type": "text",
    "id": "jUZtk-YjWGWB"
   },
   "source": [
    "We now run the training of the network and calculate and display the trainig loss and accuracy. We also use one fouth of the data for validation and calculate the validation accuracy and loss."
   ]
  },
  {
   "cell_type": "code",
   "execution_count": 8,
   "metadata": {
    "colab": {
     "base_uri": "https://localhost:8080/",
     "height": 34
    },
    "colab_type": "code",
    "executionInfo": {
     "elapsed": 38844,
     "status": "ok",
     "timestamp": 1586430086308,
     "user": {
      "displayName": "Volker Bäcker",
      "photoUrl": "https://lh3.googleusercontent.com/a-/AOh14GjEu5wjN2vCYiy08xA1eynmYpMhOc6dLWwRZvWdJbI=s64",
      "userId": "10406901054643491303"
     },
     "user_tz": -120
    },
    "id": "nfoOfPlTWGWD",
    "outputId": "392037c8-60cc-4d93-c9bb-49e4e4334ddb"
   },
   "outputs": [
    {
     "name": "stdout",
     "output_type": "stream",
     "text": [
      "Loss:  0.050539429442724215 Accuracy:  0.9876499772071838\n",
      "CPU times: user 16.9 s, sys: 1.35 s, total: 18.3 s\n",
      "Wall time: 11 s\n"
     ]
    }
   ],
   "source": [
    "%%time\n",
    "history = model.fit(X, y, validation_split=0.25, epochs=75, batch_size=int(S/100), verbose=0)\n",
    "loss, accuracy = model.evaluate(X, y, verbose=0)\n",
    "print(\"Loss: \", loss, \"Accuracy: \", accuracy)"
   ]
  },
  {
   "cell_type": "markdown",
   "metadata": {
    "colab_type": "text",
    "id": "gpGoDtb9WGWI"
   },
   "source": [
    "We visualize the training accuracy and loss history."
   ]
  },
  {
   "cell_type": "code",
   "execution_count": 9,
   "metadata": {
    "colab": {
     "base_uri": "https://localhost:8080/",
     "height": 573
    },
    "colab_type": "code",
    "executionInfo": {
     "elapsed": 1723,
     "status": "ok",
     "timestamp": 1586430093938,
     "user": {
      "displayName": "Volker Bäcker",
      "photoUrl": "https://lh3.googleusercontent.com/a-/AOh14GjEu5wjN2vCYiy08xA1eynmYpMhOc6dLWwRZvWdJbI=s64",
      "userId": "10406901054643491303"
     },
     "user_tz": -120
    },
    "id": "GjA7Hq9uWGWK",
    "outputId": "c9125504-d65c-4bf1-a194-c6723f908aa5"
   },
   "outputs": [
    {
     "data": {
      "image/png": "[encoded data removed]",
      "text/plain": [
       "<Figure size 432x288 with 1 Axes>"
      ]
     },
     "metadata": {
      "needs_background": "light"
     },
     "output_type": "display_data"
    },
    {
     "data": {
      "image/png": "[encoded data removed]",
      "text/plain": [
       "<Figure size 432x288 with 1 Axes>"
      ]
     },
     "metadata": {
      "needs_background": "light"
     },
     "output_type": "display_data"
    }
   ],
   "source": [
    "import matplotlib.pyplot as plt\n",
    "\n",
    "# Plot training & validation accuracy values\n",
    "plt.plot(history.history['accuracy'])\n",
    "plt.plot(history.history['val_accuracy'])\n",
    "plt.title('Model accuracy')\n",
    "plt.ylabel('Accuracy')\n",
    "plt.xlabel('Epoch')\n",
    "plt.legend(['Train', 'Test'], loc='lower right')\n",
    "plt.show()\n",
    "\n",
    "# Plot training & validation loss values\n",
    "plt.plot(history.history['loss'])\n",
    "plt.plot(history.history['val_loss'])\n",
    "plt.title('Model loss')\n",
    "plt.ylabel('Loss')\n",
    "plt.xlabel('Epoch')\n",
    "plt.legend(['Train', 'Test'], loc='upper right')\n",
    "plt.show()"
   ]
  },
  {
   "cell_type": "markdown",
   "metadata": {
    "colab_type": "text",
    "id": "P-VIduv3WGWN"
   },
   "source": [
    "## Applying the model on images"
   ]
  },
  {
   "cell_type": "markdown",
   "metadata": {
    "colab_type": "text",
    "id": "5RnGxraeWGWO"
   },
   "source": [
    "We can now use the model to make predictions for the intensity vector of the neighborhood of a pixel."
   ]
  },
  {
   "cell_type": "code",
   "execution_count": 10,
   "metadata": {
    "colab": {
     "base_uri": "https://localhost:8080/",
     "height": 52
    },
    "colab_type": "code",
    "executionInfo": {
     "elapsed": 1287,
     "status": "ok",
     "timestamp": 1586430114179,
     "user": {
      "displayName": "Volker Bäcker",
      "photoUrl": "https://lh3.googleusercontent.com/a-/AOh14GjEu5wjN2vCYiy08xA1eynmYpMhOc6dLWwRZvWdJbI=s64",
      "userId": "10406901054643491303"
     },
     "user_tz": -120
    },
    "id": "B53RMxWsWGWP",
    "outputId": "ea1ad08b-7b76-4422-efe1-c1da6dba66ab"
   },
   "outputs": [
    {
     "name": "stdout",
     "output_type": "stream",
     "text": [
      "0.99999845\n",
      "1\n"
     ]
    }
   ],
   "source": [
    "prediction = model.predict(np.array([[128/255]*N*N]))\n",
    "print(prediction[0][0])\n",
    "classPrediction = model.predict_classes(np.array([[128/255]*N*N]))\n",
    "print(classPrediction[0][0])"
   ]
  },
  {
   "cell_type": "markdown",
   "metadata": {
    "colab_type": "text",
    "id": "XKEndjUcWGWU"
   },
   "source": [
    "We will now use the model to segment images. We need to feed the neighborhood of all pixels to the classifier and create an output mask and a probability map from the result of the classification.\n",
    "\n",
    "We set the path to the folder containing the input images. We will read each image in the folder, do the segmentation and save the result images.\n",
    "\n",
    "Here is how it conceptually works. A loop iterates over the pixel in the input image. For each pixel a feature vector is created and classified from the intensities values in its neighborhood. It works but is very slow. We will therefore rather use an optimized version, that first creates a list of all feature vectors, passes them to the classification and then creates the mask and probability map from the results. However since the version not optimized is easier to understand, here it is:"
   ]
  },
  {
   "cell_type": "markdown",
   "metadata": {
    "colab_type": "text",
    "id": "DyMlFzZ9WGWV"
   },
   "source": [
    "```python\n",
    "import os\n",
    "path = './data'\n",
    "files = os.listdir(path)\n",
    "imagePaths = [os.path.join(path, f)  for f in files if not os.path.isdir(path + \"/\" + f)]\n",
    "imagePaths.sort()\n",
    "for imagePath in imagePaths:\n",
    "    image = tiff.imread(imagePath)\n",
    "    width, height = image.shape\n",
    "    pMap = np.zeros(image.shape)\n",
    "    mask = np.zeros(image.shape)\n",
    "    for x in range(0, width):\n",
    "        if x%100 == 0:\n",
    "            print(x)\n",
    "        for y in range(0, height):\n",
    "            neighborhood = []\n",
    "            for i in range((-N//2)+1, (N//2)+1):\n",
    "                for j in range((-N//2)+1, (N//2)+1):\n",
    "                    ic = i\n",
    "                    jc = j\n",
    "                    if x+i < 0 or x+i>=width:\n",
    "                        ic = -1 * i\n",
    "                    if y+j < 0 or y+j>=height:\n",
    "                        jc = -1 * j    \n",
    "                    neighborhood.append(image[x+ic,y+jc])\n",
    "            neighborhood = np.array([neighborhood])\n",
    "            prob = model.predict(neighborhood)[0][0]\n",
    "            category =  model.predict_classes(neighborhood)[0][0]\n",
    "            pMap[x ,y] = prob * 255\n",
    "            mask[x ,y] = category * 255\n",
    "    print(pMap)\n",
    "    print(mask)\n",
    "```"
   ]
  },
  {
   "cell_type": "markdown",
   "metadata": {
    "colab_type": "text",
    "id": "yNN72DevWGWW"
   },
   "source": [
    "### Making the segmentation faster"
   ]
  },
  {
   "cell_type": "markdown",
   "metadata": {
    "colab_type": "text",
    "id": "Ojb6QgMpWGWX"
   },
   "source": [
    "Although the segmentation above works, it is very slow. We will make it faster by applying the classification on bigger chunks of the image data, instead of classifying each pixel based on its neighborhood individually. We will first calculate the feature-vectors, i.e. the values in the neighboorhod for the whole image. Then we apply the classification. Instead of 2D output images we start with 1D arrays of size widthxheight. We fill the linear array with the classification result and then reshape it to the 2D-image."
   ]
  },
  {
   "cell_type": "code",
   "execution_count": 11,
   "metadata": {
    "colab": {
     "base_uri": "https://localhost:8080/",
     "height": 278
    },
    "colab_type": "code",
    "executionInfo": {
     "elapsed": 310398,
     "status": "ok",
     "timestamp": 1586430453983,
     "user": {
      "displayName": "Volker Bäcker",
      "photoUrl": "https://lh3.googleusercontent.com/a-/AOh14GjEu5wjN2vCYiy08xA1eynmYpMhOc6dLWwRZvWdJbI=s64",
      "userId": "10406901054643491303"
     },
     "user_tz": -120
    },
    "id": "I9hpBJ-8WGWa",
    "outputId": "79ccd54d-2faf-4581-e5ce-6a12c443da62"
   },
   "outputs": [
    {
     "name": "stdout",
     "output_type": "stream",
     "text": [
      "Processing image ./data/spots01.tif\n",
      "Extracting the feature vectors.\n",
      "Row: 1820\n",
      "Applying the classifier.\n",
      "Creating the output images.\n",
      "Done!\n",
      "Processing image ./data/spots02.tif\n",
      "Extracting the feature vectors.\n",
      "Row: 1820\n",
      "Applying the classifier.\n",
      "Creating the output images.\n",
      "Done!\n",
      "CPU times: user 3min 21s, sys: 6.81 s, total: 3min 27s\n",
      "Wall time: 2min 59s\n"
     ]
    }
   ],
   "source": [
    "%%time\n",
    "import os\n",
    "path = './data'\n",
    "out = os.path.join(path, 'out')\n",
    "if not os.path.isdir(out):\n",
    "    os.mkdir(out)\n",
    "files = os.listdir(path)\n",
    "imagePaths = [os.path.join(path, f)  for f in files if not os.path.isdir(path + \"/\" + f)]\n",
    "imagePaths.sort()\n",
    "for imagePath in imagePaths:\n",
    "    print(\"Processing image \" + imagePath)\n",
    "    image = tiff.imread(imagePath) / 255\n",
    "    width, height = image.shape\n",
    "    neighborsRange = range((-N//2)+1, (N//2)+1)\n",
    "    pMap = np.zeros(width*height)\n",
    "    mask = np.zeros(width*height)\n",
    "    neighborhoods = np.zeros((width*height, N*N), dtype=float)\n",
    "    vc = 0\n",
    "    print(\"Extracting the feature vectors.\")\n",
    "    for x in range(0, width):\n",
    "        if x%10 == 0:\n",
    "            print(\"\\rRow: \" + str(x), end=\"\")\n",
    "        for y in range(0, height):\n",
    "            neighborhood = np.zeros(N*N)\n",
    "            nc = 0\n",
    "            for i in neighborsRange:\n",
    "                for j in neighborsRange:\n",
    "                    ic = i\n",
    "                    jc = j\n",
    "                    if x+i < 0 or x+i>=width:\n",
    "                        ic = -1 * i\n",
    "                    if y+j < 0 or y+j>=height:\n",
    "                        jc = -1 * j    \n",
    "                    neighborhood[nc] = image[x+ic,y+jc]\n",
    "                    nc = nc + 1\n",
    "            neighborhoods[vc]=neighborhood\n",
    "            vc = vc + 1\n",
    "    print(\"\\nApplying the classifier.\")\n",
    "    prob = model.predict(neighborhoods)\n",
    "    category =  model.predict_classes(neighborhoods)\n",
    "    counter = 0\n",
    "    print(\"Creating the output images.\")\n",
    "    for p in prob:\n",
    "        pMap[counter] = p[0] * 255\n",
    "        counter = counter + 1\n",
    "    pMap = pMap.reshape(width, height)\n",
    "    pMap = pMap.astype(np.uint8)\n",
    "    outFileName = os.path.basename(imagePath)\n",
    "    outFileName = os.path.splitext(outFileName)[0]\n",
    "    outPath = os.path.join(out,outFileName + \"-pMap.tif\" )\n",
    "    tiff.imwrite(outPath, pMap, imagej=True)\n",
    "    counter = 0\n",
    "    for c in category:\n",
    "        mask[counter] = c[0] * 255\n",
    "        counter = counter + 1\n",
    "    mask = mask.reshape(width, height)\n",
    "    mask = mask.astype(np.uint8)\n",
    "    outPath = os.path.join(out,outFileName + \"-mask.tif\" )\n",
    "    tiff.imwrite(outPath, mask, imagej=True)\n",
    "    print(\"Done!\")"
   ]
  },
  {
   "cell_type": "code",
   "execution_count": 12,
   "metadata": {
    "colab": {
     "base_uri": "https://localhost:8080/",
     "height": 704
    },
    "colab_type": "code",
    "executionInfo": {
     "elapsed": 3119,
     "status": "ok",
     "timestamp": 1586430541229,
     "user": {
      "displayName": "Volker Bäcker",
      "photoUrl": "https://lh3.googleusercontent.com/a-/AOh14GjEu5wjN2vCYiy08xA1eynmYpMhOc6dLWwRZvWdJbI=s64",
      "userId": "10406901054643491303"
     },
     "user_tz": -120
    },
    "id": "_iN0FsfoWGWi",
    "outputId": "13441628-795b-4cb6-a59e-707abe29ce67"
   },
   "outputs": [
    {
     "data": {
      "image/png": "[encoded data removed]",
      "text/plain": [
       "<Figure size 1080x864 with 1 Axes>"
      ]
     },
     "metadata": {
      "needs_background": "light"
     },
     "output_type": "display_data"
    }
   ],
   "source": [
    "from matplotlib import pyplot as plt\n",
    "plt.figure(figsize = (15,12))\n",
    "plt.imshow(mask, interpolation='nearest', aspect=\"auto\")\n",
    "plt.show()"
   ]
  },
  {
   "cell_type": "code",
   "execution_count": 13,
   "metadata": {},
   "outputs": [
    {
     "data": {
      "text/plain": [
       "[array([[-0.24922928, -0.2558999 , -0.48380035,  0.6957937 ,  0.16250938,\n",
       "          0.75379896,  1.0143697 ,  0.5849198 ],\n",
       "        [-0.4136861 ,  0.1793254 , -0.12086192,  1.2812083 , -0.12743592,\n",
       "          0.92141026,  1.0506828 , -0.18777758],\n",
       "        [-0.3131886 , -0.3292617 ,  0.37316537,  1.2406181 , -0.22665825,\n",
       "          0.79238266,  0.7083542 , -0.4524597 ],\n",
       "        [-0.1193023 , -0.19011128, -0.53203094,  1.2478547 ,  0.3574732 ,\n",
       "          0.83157325,  0.6880962 ,  0.35776895],\n",
       "        [-0.5522436 , -0.29711497, -0.13692239,  0.6780136 ,  0.316006  ,\n",
       "          1.279267  ,  0.9108037 ,  0.01591021],\n",
       "        [ 0.00818634,  0.37335038,  0.18961579,  0.7341843 ,  0.0022313 ,\n",
       "          0.5547671 ,  1.3009305 , -0.5648337 ],\n",
       "        [-0.18092254,  0.3949207 , -0.4145864 ,  0.39597842, -0.388893  ,\n",
       "          1.175108  ,  0.84839636, -0.10258037],\n",
       "        [ 0.10650367, -0.2012749 ,  0.42332327,  0.91942877,  0.07275784,\n",
       "          0.60953176,  1.2273471 , -0.09994072],\n",
       "        [ 0.14555049,  0.09683436,  0.3764298 ,  0.42357135, -0.3948673 ,\n",
       "          1.1972003 ,  0.6675663 ,  0.06655389]], dtype=float32),\n",
       " array([ 0.       ,  0.       ,  0.       , -2.4154532,  0.       ,\n",
       "        -2.5711477, -2.6667917,  0.       ], dtype=float32),\n",
       " array([[-0.4496896 ],\n",
       "        [ 0.34290135],\n",
       "        [ 0.5636196 ],\n",
       "        [ 4.298373  ],\n",
       "        [ 0.7448906 ],\n",
       "        [ 3.8930595 ],\n",
       "        [ 4.3162293 ],\n",
       "        [-0.55474234]], dtype=float32),\n",
       " array([-5.2111835], dtype=float32)]"
      ]
     },
     "execution_count": 13,
     "metadata": {},
     "output_type": "execute_result"
    }
   ],
   "source": [
    "model.get_weights()"
   ]
  },
  {
   "cell_type": "markdown",
   "metadata": {
    "colab_type": "text",
    "id": "wzDHnusqWGWn"
   },
   "source": [
    "## Literatur"
   ]
  },
  {
   "cell_type": "markdown",
   "metadata": {
    "colab_type": "text",
    "id": "oNgT5_FHWGWo"
   },
   "source": [
    "[1] Van Rossum G, Drake FL. [Python 3 Reference Manual](https://docs.python.org/3/reference/index.html). Scotts Valley, CA: CreateSpace; 2009.\n",
    "\n",
    "[2] Chollet F. and others. [Keras](https://keras.io). 2015\n",
    "\n",
    "[3] [The MRI machine learning workshop](https://github.com/MontpellierRessourcesImagerie/mri-workshop-machine-learning). 2019\n",
    "\n",
    "[4] Brownlee J. [Your First Deep Learning Project in Python with Keras Step-By-Step](https://machinelearningmastery.com/tutorial-first-neural-network-python-keras/). 2019"
   ]
  }
 ],
 "metadata": {
  "colab": {
   "collapsed_sections": [],
   "name": "Copy of DL01-input-data.ipynb",
   "provenance": [
    {
     "file_id": "https://github.com/MontpellierRessourcesImagerie/DL_EXP_PC/blob/master/DL01-input-data.ipynb",
     "timestamp": 1586429829137
    }
   ],
   "toc_visible": true
  },
  "kernelspec": {
   "display_name": "Python 3",
   "language": "python",
   "name": "python3"
  },
  "language_info": {
   "codemirror_mode": {
    "name": "ipython",
    "version": 3
   },
   "file_extension": ".py",
   "mimetype": "text/x-python",
   "name": "python",
   "nbconvert_exporter": "python",
   "pygments_lexer": "ipython3",
   "version": "3.7.6"
  }
 },
 "nbformat": 4,
 "nbformat_minor": 4
}
