{
 "cells": [
  {
   "cell_type": "markdown",
   "metadata": {
    "colab_type": "text",
    "id": "0JvwqPl0WGVE"
   },
   "source": [
    "# Deep Learning Experiment - Pixel Classification"
   ]
  },
  {
   "cell_type": "markdown",
   "metadata": {
    "colab_type": "text",
    "id": "CLQjiDQLWGVH"
   },
   "source": [
    "## Abstract"
   ]
  },
  {
   "cell_type": "markdown",
   "metadata": {
    "colab_type": "text",
    "id": "3oZUY9DhWGVJ"
   },
   "source": [
    "We take a naive approach to pixel classification (image segmentation) by machine learning with artificial neural networks. The focus here is on exploring practical issues like the preparation of data, python [1] programming and the use of the keras library [2]. The theroretical background of machine learning and deep learning is treated elsewhere [3].\n",
    "\n",
    "Since we know that vectors of measurements can be classified by neural networks, we attempt to do image segmentation in the same way. We consider the NxN environment of each pixel of an image as a feature vector and classify each pixel as either belonging to the background or to an object of interest. Given a number of input images and corresponding ground truth images we extract the training and validation data. We build a neural network using keras, train it with the extracted training data and vaildate it using the extracted validation data. The created classifier is then applied on input images to create a segmentation mask and a probability map. \n",
    "\n",
    "The python programming constructs are explained along the process."
   ]
  },
  {
   "cell_type": "markdown",
   "metadata": {
    "colab_type": "text",
    "id": "ukX7LPh_vFBL"
   },
   "source": [
    "## Setup for Colab\n",
    "\n",
    "When running in google colab, we need to install tifffile and update the keras version. We also need to download the dataset. "
   ]
  },
  {
   "cell_type": "code",
   "execution_count": 1,
   "metadata": {
    "colab": {},
    "colab_type": "code",
    "id": "N01GIurYvqNL"
   },
   "outputs": [],
   "source": [
    "import os\n",
    "if  not os.path.isdir('./training'):\n",
    "  !pip install tifffile\n",
    "  !pip install -U keras\n",
    "  !pip install mpld3\n",
    "  !cd /content/ && git clone https://github.com/MontpellierRessourcesImagerie/DL_EXP_PC.git && cp -r DL_EXP_PC/data . && cp -r DL_EXP_PC/training ."
   ]
  },
  {
   "cell_type": "markdown",
   "metadata": {},
   "source": [
    "$+$ [open In colab](https://colab.research.google.com/github/MontpellierRessourcesImagerie/DL_EXP_PC/blob/master/DL01-cell01-explanations.ipynb) or \n",
    "[open locally](./DL01-cell01-explanations.ipynb)"
   ]
  },
  {
   "cell_type": "markdown",
   "metadata": {
    "colab_type": "text",
    "id": "RmPLXqLOWGVL"
   },
   "source": [
    "## Reading in and preparing the training data"
   ]
  },
  {
   "cell_type": "markdown",
   "metadata": {
    "colab_type": "text",
    "id": "5eXwA7DgWGVN"
   },
   "source": [
    "For simplicity we will use one image to construct the input data for now. We will generalize this to multiple images later. We have one input image and a correcponding ground-truth image as our training input.\n",
    "\n",
    "As the input of the neural network we need a matrix X containing the input data and a vector y containing the classification for each row in the input matrix. We will construct X and y from the input dataset by first looking at the ground truth images and randomly choosing a number S of foreground samples and a number S of background samples. "
   ]
  },
  {
   "cell_type": "markdown",
   "metadata": {
    "colab_type": "text",
    "id": "fmiMf96XWGVO"
   },
   "source": [
    "We set the paths to the input image and the ground-truth image, the patch size N and the number of samples S of foreground and background values."
   ]
  },
  {
   "cell_type": "code",
   "execution_count": 2,
   "metadata": {
    "colab": {},
    "colab_type": "code",
    "id": "zURDAcw-WGVQ"
   },
   "outputs": [],
   "source": [
    "inputPath = './training/spots.tif'\n",
    "gtPath = './training/spots-gt.tif'\n",
    "N = 3\n",
    "S = 20000"
   ]
  },
  {
   "cell_type": "markdown",
   "metadata": {},
   "source": [
    "$+$ [open In colab](https://colab.research.google.com/github/MontpellierRessourcesImagerie/DL_EXP_PC/blob/master/DL01-cell02-explanations.ipynb) or \n",
    "[open locally](./DL01-cell02-explanations.ipynb)"
   ]
  },
  {
   "cell_type": "markdown",
   "metadata": {
    "colab_type": "text",
    "id": "eVzGxcmRWGVa"
   },
   "source": [
    "We read in the input and the ground-truth image as numpy matrices."
   ]
  },
  {
   "cell_type": "code",
   "execution_count": 3,
   "metadata": {
    "colab": {},
    "colab_type": "code",
    "id": "zBVqP954WGVb"
   },
   "outputs": [
    {
     "name": "stdout",
     "output_type": "stream",
     "text": [
      "(1830, 1980)\n"
     ]
    }
   ],
   "source": [
    "import tifffile as tiff\n",
    "gtImage = tiff.imread(gtPath)\n",
    "inputImage = tiff.imread(inputPath) / 255\n",
    "print(inputImage.shape)"
   ]
  },
  {
   "cell_type": "markdown",
   "metadata": {},
   "source": [
    "$+$ [open In colab](https://colab.research.google.com/github/MontpellierRessourcesImagerie/DL_EXP_PC/blob/master/DL01-cell03-explanations.ipynb) or \n",
    "[open locally](./DL01-cell03-explanations.ipynb)"
   ]
  },
  {
   "cell_type": "markdown",
   "metadata": {
    "colab_type": "text",
    "id": "mtHLUTHdWGVi"
   },
   "source": [
    "We filter out the background samples and the object samples from the ground-truth image."
   ]
  },
  {
   "cell_type": "code",
   "execution_count": 4,
   "metadata": {
    "colab": {
     "base_uri": "https://localhost:8080/",
     "height": 52
    },
    "colab_type": "code",
    "executionInfo": {
     "elapsed": 1597,
     "status": "ok",
     "timestamp": 1586430002490,
     "user": {
      "displayName": "Volker Bäcker",
      "photoUrl": "https://lh3.googleusercontent.com/a-/AOh14GjEu5wjN2vCYiy08xA1eynmYpMhOc6dLWwRZvWdJbI=s64",
      "userId": "10406901054643491303"
     },
     "user_tz": -120
    },
    "id": "rpuATQFJWGVj",
    "outputId": "5d501a88-963a-47c1-869f-39ea0a573dd5"
   },
   "outputs": [
    {
     "name": "stdout",
     "output_type": "stream",
     "text": [
      "[(0, 0), (0, 1), (0, 2), (0, 3), (0, 4), (0, 5), (0, 6), (0, 7), (0, 8), (0, 9)] nr.: 3412479\n",
      "[(36, 1765), (36, 1766), (36, 1767), (36, 1768), (36, 1769), (37, 1764), (37, 1765), (37, 1766), (37, 1767), (37, 1768)] nr.: 210921\n"
     ]
    }
   ],
   "source": [
    "import numpy as np\n",
    "foregroundY, foregroundX = gtImage.nonzero()\n",
    "foreground = list(zip(foregroundY, foregroundX))\n",
    "backgroundY, backgroundX = (gtImage==0).nonzero()\n",
    "background = list(zip(backgroundY, backgroundX))\n",
    "print(background[0:10], \"nr.:\", len(background))\n",
    "print(foreground[0:10], \"nr.:\", len(foreground))"
   ]
  },
  {
   "cell_type": "markdown",
   "metadata": {},
   "source": [
    "$+$ [open In colab](https://colab.research.google.com/github/MontpellierRessourcesImagerie/DL_EXP_PC/blob/master/DL01-cell04-explanations.ipynb) or \n",
    "[open locally](./DL01-cell04-explanations.ipynb)"
   ]
  },
  {
   "cell_type": "markdown",
   "metadata": {
    "colab_type": "text",
    "id": "PUDV-eOoWGVr"
   },
   "source": [
    "We select S randomly choosen coordinates from the foreground and S randomly choosen coordinates from the background. We do not take coordinates close to the borders for which the whole neighborhood is not inside of the image."
   ]
  },
  {
   "cell_type": "code",
   "execution_count": 5,
   "metadata": {
    "colab": {
     "base_uri": "https://localhost:8080/",
     "height": 52
    },
    "colab_type": "code",
    "executionInfo": {
     "elapsed": 1093,
     "status": "ok",
     "timestamp": 1586430022323,
     "user": {
      "displayName": "Volker Bäcker",
      "photoUrl": "https://lh3.googleusercontent.com/a-/AOh14GjEu5wjN2vCYiy08xA1eynmYpMhOc6dLWwRZvWdJbI=s64",
      "userId": "10406901054643491303"
     },
     "user_tz": -120
    },
    "id": "wA2p8iDNWGVs",
    "outputId": "6d40c370-6ba6-465b-b350-7a2ed3ec73a9"
   },
   "outputs": [
    {
     "name": "stdout",
     "output_type": "stream",
     "text": [
      "[(259, 986), (400, 592), (1487, 478), (787, 778), (1727, 155), (812, 1480), (1679, 1003), (1498, 1815), (363, 543), (732, 1343)]\n",
      "[(1386, 42), (959, 142), (1557, 901), (844, 274), (1322, 1702), (963, 752), (373, 512), (1362, 1935), (1506, 346), (1793, 571)]\n"
     ]
    }
   ],
   "source": [
    "from random import randint\n",
    "height, width = gtImage.shape\n",
    "def getNCoordinateSamplesFrom(n, aList, minX, maxX, minY, maxY):\n",
    "    samples = []\n",
    "    for _ in range(n):\n",
    "        r = randint(0,len(aList)-1)\n",
    "        coords = aList[r]\n",
    "        while coords[0]<=minY or coords[0]>=maxY or coords[1]<=minX or coords[1]>=maxX:    \n",
    "            r = randint(0,len(aList)-1)\n",
    "            coords = aList[r]\n",
    "        samples.append(coords)\n",
    "    return samples\n",
    "FS = getNCoordinateSamplesFrom(S, foreground, N//2, width-N//2, N//2, height-N//2)\n",
    "BS = getNCoordinateSamplesFrom(S, background, N//2, width-N//2, N//2, height-N//2)\n",
    "print(FS[0:10])\n",
    "print(BS[0:10])"
   ]
  },
  {
   "cell_type": "markdown",
   "metadata": {},
   "source": [
    "$+$ [open In colab](https://colab.research.google.com/github/MontpellierRessourcesImagerie/DL_EXP_PC/blob/master/DL01-cell05-explanations.ipynb) or \n",
    "[open locally](./DL01-cell05-explanations.ipynb)"
   ]
  },
  {
   "cell_type": "markdown",
   "metadata": {
    "colab_type": "text",
    "id": "yOk9SchDWGVz"
   },
   "source": [
    "We create X and y by using the data at the sampled positions in the input image. Since we have separate lists of foreground and background samples, we know to which class each sample must be assigned."
   ]
  },
  {
   "cell_type": "code",
   "execution_count": 6,
   "metadata": {
    "colab": {
     "base_uri": "https://localhost:8080/",
     "height": 191
    },
    "colab_type": "code",
    "executionInfo": {
     "elapsed": 1200,
     "status": "ok",
     "timestamp": 1586430030959,
     "user": {
      "displayName": "Volker Bäcker",
      "photoUrl": "https://lh3.googleusercontent.com/a-/AOh14GjEu5wjN2vCYiy08xA1eynmYpMhOc6dLWwRZvWdJbI=s64",
      "userId": "10406901054643491303"
     },
     "user_tz": -120
    },
    "id": "W7iFQ9YyWGV0",
    "outputId": "072f3e82-e54a-4d83-ffdf-6b1b84dc3282"
   },
   "outputs": [
    {
     "name": "stdout",
     "output_type": "stream",
     "text": [
      "foreground samples\n",
      " [[0.43137255 0.45490196 0.43921569 0.40392157 0.42745098 0.40392157\n",
      "  0.38823529 0.4        0.4       ]\n",
      " [0.48235294 0.45098039 0.50980392 0.50588235 0.47843137 0.5254902\n",
      "  0.45490196 0.45490196 0.50196078]\n",
      " [0.47058824 0.41176471 0.45490196 0.4627451  0.46666667 0.43921569\n",
      "  0.43921569 0.39607843 0.44313725]\n",
      " [0.49019608 0.44313725 0.44705882 0.50980392 0.45882353 0.49803922\n",
      "  0.49411765 0.47843137 0.4745098 ]\n",
      " [0.43529412 0.45882353 0.45490196 0.43921569 0.43529412 0.47058824\n",
      "  0.43921569 0.48235294 0.4745098 ]] [1 1 1 1 1]\n",
      "background samples\n",
      " [[0.31372549 0.30980392 0.28235294 0.29019608 0.2745098  0.33333333\n",
      "  0.29803922 0.3254902  0.29411765]\n",
      " [0.29019608 0.30588235 0.27843137 0.29411765 0.29803922 0.29411765\n",
      "  0.29019608 0.28627451 0.30980392]\n",
      " [0.30588235 0.30980392 0.31372549 0.30588235 0.33333333 0.3254902\n",
      "  0.32156863 0.31372549 0.32156863]\n",
      " [0.27843137 0.29019608 0.28627451 0.28235294 0.30980392 0.2745098\n",
      "  0.30196078 0.31372549 0.29019608]\n",
      " [0.32156863 0.34117647 0.31764706 0.34117647 0.32156863 0.30980392\n",
      "  0.3254902  0.33333333 0.32941176]] [0 0 0 0 0]\n"
     ]
    }
   ],
   "source": [
    "def addSamplesToTrainingData(n, image, samples, X, y, target):\n",
    "    start = -n//2 + 1\n",
    "    stop = -start + 1\n",
    "    for ys, xs in samples:\n",
    "        vector = []\n",
    "        for i in range(start, stop):\n",
    "            for j in range(start, stop):\n",
    "                vector.append(image[ys+i,xs+j])\n",
    "        X.append(vector)\n",
    "        y.append(target)\n",
    "    return X, y\n",
    "X = []\n",
    "y = []\n",
    "addSamplesToTrainingData(N, inputImage, FS, X, y, 1)\n",
    "addSamplesToTrainingData(N, inputImage, BS, X, y, 0)\n",
    "X = np.array(X)\n",
    "y = np.array(y)\n",
    "print(\"foreground samples\\n\", X[0:5], y[0:5])\n",
    "print(\"background samples\\n\", X[S:S+5], y[S:S+5])"
   ]
  },
  {
   "cell_type": "markdown",
   "metadata": {},
   "source": [
    "$+$ [open In colab](https://colab.research.google.com/github/MontpellierRessourcesImagerie/DL_EXP_PC/blob/master/DL01-cell06-explanations.ipynb) or \n",
    "[open locally](./DL01-cell06-explanations.ipynb)"
   ]
  },
  {
   "cell_type": "markdown",
   "metadata": {},
   "source": [
    "The way we created X and y, we have S foreground samples followed by S background samples. This might not be ideal. The training will be done in mini-batches. The data will be shuffled automatically in the training before the mini-batches are created. However for validation a fraction of the data is taken from the end of the data before the shuffling is done. We therefore shuffle the data now."
   ]
  },
  {
   "cell_type": "code",
   "execution_count": 7,
   "metadata": {},
   "outputs": [
    {
     "name": "stdout",
     "output_type": "stream",
     "text": [
      "first 5 of mixed samples\n",
      " [[0.47843137 0.49803922 0.4745098  0.45882353 0.44313725 0.45098039\n",
      "  0.42352941 0.41960784 0.41568627]\n",
      " [0.30196078 0.29411765 0.29019608 0.29803922 0.28235294 0.30196078\n",
      "  0.30588235 0.30588235 0.29019608]\n",
      " [0.4627451  0.43529412 0.49019608 0.44313725 0.45490196 0.44705882\n",
      "  0.42352941 0.45098039 0.45882353]\n",
      " [0.32941176 0.34509804 0.32156863 0.31764706 0.30588235 0.32941176\n",
      "  0.31372549 0.31764706 0.30196078]\n",
      " [0.31372549 0.30196078 0.27843137 0.29411765 0.31372549 0.30588235\n",
      "  0.29803922 0.32156863 0.28627451]] [1 0 1 0 0]\n",
      "5 samples after the middle\n",
      " [[0.48235294 0.4745098  0.45098039 0.48235294 0.47058824 0.48235294\n",
      "  0.49019608 0.48235294 0.48235294]\n",
      " [0.30588235 0.29803922 0.29803922 0.30588235 0.30980392 0.31764706\n",
      "  0.31372549 0.31372549 0.32941176]\n",
      " [0.34901961 0.33333333 0.3254902  0.30980392 0.33333333 0.34901961\n",
      "  0.32156863 0.31764706 0.33333333]\n",
      " [0.32156863 0.32156863 0.3254902  0.32941176 0.32941176 0.30588235\n",
      "  0.3254902  0.32941176 0.3254902 ]\n",
      " [0.3254902  0.3254902  0.32941176 0.3372549  0.34117647 0.31372549\n",
      "  0.32156863 0.3372549  0.34901961]] [1 0 0 0 0]\n"
     ]
    }
   ],
   "source": [
    "seed = np.random.randint(0, 2**(32 - 1) - 1) \n",
    "rstate = np.random.RandomState(seed)\n",
    "rstate.shuffle(X)\n",
    "rstate = np.random.RandomState(seed)\n",
    "rstate.shuffle(y)\n",
    "print(\"first 5 of mixed samples\\n\", X[0:5], y[0:5])\n",
    "print(\"5 samples after the middle\\n\", X[S:S+5], y[S:S+5])"
   ]
  },
  {
   "cell_type": "markdown",
   "metadata": {},
   "source": [
    "$+$ [open In colab](https://colab.research.google.com/github/MontpellierRessourcesImagerie/DL_EXP_PC/blob/master/DL01-cell07-explanations.ipynb) or \n",
    "[open locally](./DL01-cell07-explanations.ipynb)"
   ]
  },
  {
   "cell_type": "markdown",
   "metadata": {
    "colab_type": "text",
    "id": "Zoc2lxQ2WGV6"
   },
   "source": [
    "## Creating a network using keras"
   ]
  },
  {
   "cell_type": "markdown",
   "metadata": {
    "colab_type": "text",
    "id": "jRU1ZcOKWGV6"
   },
   "source": [
    "As a first approach we create a simple, densly connected network with 4 layers inspired by [[4]](https://machinelearningmastery.com/tutorial-first-neural-network-python-keras/). We visualize the network architecture."
   ]
  },
  {
   "cell_type": "code",
   "execution_count": 8,
   "metadata": {
    "colab": {
     "base_uri": "https://localhost:8080/",
     "height": 504
    },
    "colab_type": "code",
    "executionInfo": {
     "elapsed": 3468,
     "status": "ok",
     "timestamp": 1586430041349,
     "user": {
      "displayName": "Volker Bäcker",
      "photoUrl": "https://lh3.googleusercontent.com/a-/AOh14GjEu5wjN2vCYiy08xA1eynmYpMhOc6dLWwRZvWdJbI=s64",
      "userId": "10406901054643491303"
     },
     "user_tz": -120
    },
    "id": "KOOFecMXWGV7",
    "outputId": "e0a5836b-ca3b-41b0-ca9a-db41d655e692"
   },
   "outputs": [
    {
     "name": "stderr",
     "output_type": "stream",
     "text": [
      "Using TensorFlow backend.\n"
     ]
    },
    {
     "name": "stdout",
     "output_type": "stream",
     "text": [
      "Model: \"sequential_1\"\n",
      "_________________________________________________________________\n",
      "Layer (type)                 Output Shape              Param #   \n",
      "=================================================================\n",
      "dense_1 (Dense)              (None, 8)                 80        \n",
      "_________________________________________________________________\n",
      "dense_2 (Dense)              (None, 1)                 9         \n",
      "=================================================================\n",
      "Total params: 89\n",
      "Trainable params: 89\n",
      "Non-trainable params: 0\n",
      "_________________________________________________________________\n"
     ]
    },
    {
     "data": {
      "image/svg+xml": [
       "<svg height=\"200pt\" viewBox=\"0.00 0.00 295.00 221.00\" width=\"266pt\" xmlns=\"http://www.w3.org/2000/svg\" xmlns:xlink=\"http://www.w3.org/1999/xlink\">\n",
       "<g class=\"graph\" id=\"graph0\" transform=\"scale(.9028 .9028) rotate(0) translate(4 217)\">\n",
       "<title>G</title>\n",
       "<polygon fill=\"#ffffff\" points=\"-4,4 -4,-217 291,-217 291,4 -4,4\" stroke=\"transparent\"/>\n",
       "<!-- 140612394618320 -->\n",
       "<g class=\"node\" id=\"node1\">\n",
       "<title>140612394618320</title>\n",
       "<polygon fill=\"none\" points=\"0,-166.5 0,-212.5 287,-212.5 287,-166.5 0,-166.5\" stroke=\"#000000\"/>\n",
       "<text fill=\"#000000\" font-family=\"Times,serif\" font-size=\"14.00\" text-anchor=\"middle\" x=\"81.5\" y=\"-185.8\">dense_1_input: InputLayer</text>\n",
       "<polyline fill=\"none\" points=\"163,-166.5 163,-212.5 \" stroke=\"#000000\"/>\n",
       "<text fill=\"#000000\" font-family=\"Times,serif\" font-size=\"14.00\" text-anchor=\"middle\" x=\"190.5\" y=\"-197.3\">input:</text>\n",
       "<polyline fill=\"none\" points=\"163,-189.5 218,-189.5 \" stroke=\"#000000\"/>\n",
       "<text fill=\"#000000\" font-family=\"Times,serif\" font-size=\"14.00\" text-anchor=\"middle\" x=\"190.5\" y=\"-174.3\">output:</text>\n",
       "<polyline fill=\"none\" points=\"218,-166.5 218,-212.5 \" stroke=\"#000000\"/>\n",
       "<text fill=\"#000000\" font-family=\"Times,serif\" font-size=\"14.00\" text-anchor=\"middle\" x=\"252.5\" y=\"-197.3\">(None, 9)</text>\n",
       "<polyline fill=\"none\" points=\"218,-189.5 287,-189.5 \" stroke=\"#000000\"/>\n",
       "<text fill=\"#000000\" font-family=\"Times,serif\" font-size=\"14.00\" text-anchor=\"middle\" x=\"252.5\" y=\"-174.3\">(None, 9)</text>\n",
       "</g>\n",
       "<!-- 140614829911760 -->\n",
       "<g class=\"node\" id=\"node2\">\n",
       "<title>140614829911760</title>\n",
       "<polygon fill=\"none\" points=\"30.5,-83.5 30.5,-129.5 256.5,-129.5 256.5,-83.5 30.5,-83.5\" stroke=\"#000000\"/>\n",
       "<text fill=\"#000000\" font-family=\"Times,serif\" font-size=\"14.00\" text-anchor=\"middle\" x=\"81.5\" y=\"-102.8\">dense_1: Dense</text>\n",
       "<polyline fill=\"none\" points=\"132.5,-83.5 132.5,-129.5 \" stroke=\"#000000\"/>\n",
       "<text fill=\"#000000\" font-family=\"Times,serif\" font-size=\"14.00\" text-anchor=\"middle\" x=\"160\" y=\"-114.3\">input:</text>\n",
       "<polyline fill=\"none\" points=\"132.5,-106.5 187.5,-106.5 \" stroke=\"#000000\"/>\n",
       "<text fill=\"#000000\" font-family=\"Times,serif\" font-size=\"14.00\" text-anchor=\"middle\" x=\"160\" y=\"-91.3\">output:</text>\n",
       "<polyline fill=\"none\" points=\"187.5,-83.5 187.5,-129.5 \" stroke=\"#000000\"/>\n",
       "<text fill=\"#000000\" font-family=\"Times,serif\" font-size=\"14.00\" text-anchor=\"middle\" x=\"222\" y=\"-114.3\">(None, 9)</text>\n",
       "<polyline fill=\"none\" points=\"187.5,-106.5 256.5,-106.5 \" stroke=\"#000000\"/>\n",
       "<text fill=\"#000000\" font-family=\"Times,serif\" font-size=\"14.00\" text-anchor=\"middle\" x=\"222\" y=\"-91.3\">(None, 8)</text>\n",
       "</g>\n",
       "<!-- 140612394618320&#45;&gt;140614829911760 -->\n",
       "<g class=\"edge\" id=\"edge1\">\n",
       "<title>140612394618320-&gt;140614829911760</title>\n",
       "<path d=\"M143.5,-166.3799C143.5,-158.1745 143.5,-148.7679 143.5,-139.8786\" fill=\"none\" stroke=\"#000000\"/>\n",
       "<polygon fill=\"#000000\" points=\"147.0001,-139.784 143.5,-129.784 140.0001,-139.784 147.0001,-139.784\" stroke=\"#000000\"/>\n",
       "</g>\n",
       "<!-- 140612405845456 -->\n",
       "<g class=\"node\" id=\"node3\">\n",
       "<title>140612405845456</title>\n",
       "<polygon fill=\"none\" points=\"30.5,-.5 30.5,-46.5 256.5,-46.5 256.5,-.5 30.5,-.5\" stroke=\"#000000\"/>\n",
       "<text fill=\"#000000\" font-family=\"Times,serif\" font-size=\"14.00\" text-anchor=\"middle\" x=\"81.5\" y=\"-19.8\">dense_2: Dense</text>\n",
       "<polyline fill=\"none\" points=\"132.5,-.5 132.5,-46.5 \" stroke=\"#000000\"/>\n",
       "<text fill=\"#000000\" font-family=\"Times,serif\" font-size=\"14.00\" text-anchor=\"middle\" x=\"160\" y=\"-31.3\">input:</text>\n",
       "<polyline fill=\"none\" points=\"132.5,-23.5 187.5,-23.5 \" stroke=\"#000000\"/>\n",
       "<text fill=\"#000000\" font-family=\"Times,serif\" font-size=\"14.00\" text-anchor=\"middle\" x=\"160\" y=\"-8.3\">output:</text>\n",
       "<polyline fill=\"none\" points=\"187.5,-.5 187.5,-46.5 \" stroke=\"#000000\"/>\n",
       "<text fill=\"#000000\" font-family=\"Times,serif\" font-size=\"14.00\" text-anchor=\"middle\" x=\"222\" y=\"-31.3\">(None, 8)</text>\n",
       "<polyline fill=\"none\" points=\"187.5,-23.5 256.5,-23.5 \" stroke=\"#000000\"/>\n",
       "<text fill=\"#000000\" font-family=\"Times,serif\" font-size=\"14.00\" text-anchor=\"middle\" x=\"222\" y=\"-8.3\">(None, 1)</text>\n",
       "</g>\n",
       "<!-- 140614829911760&#45;&gt;140612405845456 -->\n",
       "<g class=\"edge\" id=\"edge2\">\n",
       "<title>140614829911760-&gt;140612405845456</title>\n",
       "<path d=\"M143.5,-83.3799C143.5,-75.1745 143.5,-65.7679 143.5,-56.8786\" fill=\"none\" stroke=\"#000000\"/>\n",
       "<polygon fill=\"#000000\" points=\"147.0001,-56.784 143.5,-46.784 140.0001,-56.784 147.0001,-56.784\" stroke=\"#000000\"/>\n",
       "</g>\n",
       "</g>\n",
       "</svg>"
      ],
      "text/plain": [
       "<IPython.core.display.SVG object>"
      ]
     },
     "execution_count": 8,
     "metadata": {},
     "output_type": "execute_result"
    }
   ],
   "source": [
    "from keras.models import Sequential\n",
    "from keras.layers import Dense\n",
    "from IPython.display import SVG\n",
    "from keras.utils import model_to_dot\n",
    "\n",
    "model = Sequential()\n",
    "model.add(Dense(N*N-1, input_dim=(N*N), activation='relu'))\n",
    "model.add(Dense(1, activation='sigmoid'))\n",
    "model.compile(loss='binary_crossentropy', optimizer='rmsprop', metrics=['accuracy'])\n",
    "model.summary()\n",
    "SVG(model_to_dot(model, show_shapes=True, show_layer_names=True, dpi=65).create(prog='dot', format='svg'))"
   ]
  },
  {
   "cell_type": "markdown",
   "metadata": {},
   "source": [
    "$+$ [open In colab](https://colab.research.google.com/github/MontpellierRessourcesImagerie/DL_EXP_PC/blob/master/DL01-cell08-explanations.ipynb) or \n",
    "[open locally](./DL01-cell08-explanations.ipynb)"
   ]
  },
  {
   "cell_type": "markdown",
   "metadata": {
    "colab_type": "text",
    "id": "migHcEROWGWB"
   },
   "source": [
    "## Training the network"
   ]
  },
  {
   "cell_type": "markdown",
   "metadata": {
    "colab_type": "text",
    "id": "jUZtk-YjWGWB"
   },
   "source": [
    "We now run the training of the network and calculate and display the trainig loss and accuracy. We also use one fouth of the data for validation and calculate the validation accuracy and loss."
   ]
  },
  {
   "cell_type": "code",
   "execution_count": 9,
   "metadata": {
    "colab": {
     "base_uri": "https://localhost:8080/",
     "height": 34
    },
    "colab_type": "code",
    "executionInfo": {
     "elapsed": 38844,
     "status": "ok",
     "timestamp": 1586430086308,
     "user": {
      "displayName": "Volker Bäcker",
      "photoUrl": "https://lh3.googleusercontent.com/a-/AOh14GjEu5wjN2vCYiy08xA1eynmYpMhOc6dLWwRZvWdJbI=s64",
      "userId": "10406901054643491303"
     },
     "user_tz": -120
    },
    "id": "nfoOfPlTWGWD",
    "outputId": "392037c8-60cc-4d93-c9bb-49e4e4334ddb"
   },
   "outputs": [
    {
     "name": "stdout",
     "output_type": "stream",
     "text": [
      "Loss:  0.03237840222641826 Accuracy:  0.9894000291824341\n",
      "CPU times: user 7.84 s, sys: 549 ms, total: 8.39 s\n",
      "Wall time: 5.01 s\n"
     ]
    }
   ],
   "source": [
    "%%time\n",
    "history = model.fit(X, y, validation_split=0.25, epochs=25, batch_size=128, verbose=0)\n",
    "print(\"Loss: \", history.history['val_loss'][-1], \"Accuracy: \", history.history['val_accuracy'][-1])"
   ]
  },
  {
   "cell_type": "markdown",
   "metadata": {},
   "source": [
    "$+$ [open In colab](https://colab.research.google.com/github/MontpellierRessourcesImagerie/DL_EXP_PC/blob/master/DL01-cell09-explanations.ipynb) or \n",
    "[open locally](./DL01-cell09-explanations.ipynb)"
   ]
  },
  {
   "cell_type": "markdown",
   "metadata": {
    "colab_type": "text",
    "id": "gpGoDtb9WGWI"
   },
   "source": [
    "We visualize the training accuracy and loss history."
   ]
  },
  {
   "cell_type": "code",
   "execution_count": 10,
   "metadata": {
    "colab": {
     "base_uri": "https://localhost:8080/",
     "height": 573
    },
    "colab_type": "code",
    "executionInfo": {
     "elapsed": 1723,
     "status": "ok",
     "timestamp": 1586430093938,
     "user": {
      "displayName": "Volker Bäcker",
      "photoUrl": "https://lh3.googleusercontent.com/a-/AOh14GjEu5wjN2vCYiy08xA1eynmYpMhOc6dLWwRZvWdJbI=s64",
      "userId": "10406901054643491303"
     },
     "user_tz": -120
    },
    "id": "GjA7Hq9uWGWK",
    "outputId": "c9125504-d65c-4bf1-a194-c6723f908aa5"
   },
   "outputs": [
    {
     "data": {
      "text/html": [
       "\n",
       "\n",
       "<style>\n",
       "\n",
       "</style>\n",
       "\n",
       "<div id=\"fig_el180921406151838901929356537234\"></div>\n",
       "<script>\n",
       "function mpld3_load_lib(url, callback){\n",
       "  var s = document.createElement('script');\n",
       "  s.src = url;\n",
       "  s.async = true;\n",
       "  s.onreadystatechange = s.onload = callback;\n",
       "  s.onerror = function(){console.warn(\"failed to load library \" + url);};\n",
       "  document.getElementsByTagName(\"head\")[0].appendChild(s);\n",
       "}\n",
       "\n",
       "if(typeof(mpld3) !== \"undefined\" && mpld3._mpld3IsLoaded){\n",
       "   // already loaded: just create the figure\n",
       "   !function(mpld3){\n",
       "       \n",
       "       mpld3.draw_figure(\"fig_el180921406151838901929356537234\", {\"width\": 1080.0, \"height\": 360.0, \"axes\": [{\"bbox\": [0.07361111111111111, 0.20416666666666672, 0.4125, 0.6680555555555554], \"xlim\": [-0.20000000000000018, 26.2], \"ylim\": [0.46361500173807146, 1.015485017001629], \"xdomain\": [-0.20000000000000018, 26.2], \"ydomain\": [0.46361500173807146, 1.015485017001629], \"xscale\": \"linear\", \"yscale\": \"linear\", \"axes\": [{\"position\": \"bottom\", \"nticks\": 8, \"tickvalues\": null, \"tickformat\": null, \"scale\": \"linear\", \"fontsize\": 10.0, \"grid\": {\"gridOn\": false}, \"visible\": true}, {\"position\": \"left\", \"nticks\": 8, \"tickvalues\": null, \"tickformat\": null, \"scale\": \"linear\", \"fontsize\": 10.0, \"grid\": {\"gridOn\": false}, \"visible\": true}], \"axesbg\": \"#FFFFFF\", \"axesbgalpha\": null, \"zoomable\": true, \"id\": \"el18092140615166620048\", \"lines\": [{\"data\": \"data01\", \"xindex\": 0, \"yindex\": 1, \"coordinates\": \"data\", \"id\": \"el18092140615166477392\", \"color\": \"#1F77B4\", \"linewidth\": 1.5, \"dasharray\": \"none\", \"alpha\": 1, \"zorder\": 2, \"drawstyle\": \"default\"}, {\"data\": \"data01\", \"xindex\": 0, \"yindex\": 2, \"coordinates\": \"data\", \"id\": \"el18092140615171189584\", \"color\": \"#FF7F0E\", \"linewidth\": 1.5, \"dasharray\": \"none\", \"alpha\": 1, \"zorder\": 2, \"drawstyle\": \"default\"}, {\"data\": \"data02\", \"xindex\": 0, \"yindex\": 1, \"coordinates\": \"axes\", \"id\": \"el18092140615166103760\", \"color\": \"#1F77B4\", \"linewidth\": 1.5, \"dasharray\": \"none\", \"alpha\": 1, \"zorder\": 1000002.0, \"drawstyle\": \"default\"}, {\"data\": \"data02\", \"xindex\": 0, \"yindex\": 2, \"coordinates\": \"axes\", \"id\": \"el18092140615172112464\", \"color\": \"#FF7F0E\", \"linewidth\": 1.5, \"dasharray\": \"none\", \"alpha\": 1, \"zorder\": 1000002.0, \"drawstyle\": \"default\"}], \"paths\": [{\"data\": \"data03\", \"xindex\": 0, \"yindex\": 1, \"coordinates\": \"axes\", \"pathcodes\": [\"M\", \"L\", \"S\", \"L\", \"S\", \"L\", \"S\", \"L\", \"S\", \"Z\"], \"id\": \"el18092140615166621520\", \"dasharray\": \"none\", \"alpha\": 0.8, \"facecolor\": \"#FFFFFF\", \"edgecolor\": \"#CCCCCC\", \"edgewidth\": 1.0, \"zorder\": 1000000.0}], \"markers\": [], \"texts\": [{\"text\": \"Epoch\", \"position\": [0.5, -0.13929313929313933], \"coordinates\": \"axes\", \"h_anchor\": \"middle\", \"v_baseline\": \"hanging\", \"rotation\": -0.0, \"fontsize\": 10.0, \"color\": \"#000000\", \"alpha\": 1, \"zorder\": 3, \"id\": \"el18092140615185464336\"}, {\"text\": \"Accuracy\", \"position\": [-0.08866442199775534, 0.5], \"coordinates\": \"axes\", \"h_anchor\": \"middle\", \"v_baseline\": \"auto\", \"rotation\": -90.0, \"fontsize\": 10.0, \"color\": \"#000000\", \"alpha\": 1, \"zorder\": 3, \"id\": \"el18092140615171190288\"}, {\"text\": \"Model accuracy\", \"position\": [0.5, 1.024948024948025], \"coordinates\": \"axes\", \"h_anchor\": \"middle\", \"v_baseline\": \"auto\", \"rotation\": -0.0, \"fontsize\": 12.0, \"color\": \"#000000\", \"alpha\": 1, \"zorder\": 3, \"id\": \"el18092140615166379344\"}, {\"text\": \"Training\", \"position\": [0.8667227833894502, 0.10810810810810817], \"coordinates\": \"axes\", \"h_anchor\": \"start\", \"v_baseline\": \"auto\", \"rotation\": -0.0, \"fontsize\": 10.0, \"color\": \"#000000\", \"alpha\": 1, \"zorder\": 1000003.0, \"id\": \"el18092140615166521232\"}, {\"text\": \"Validation\", \"position\": [0.8667227833894502, 0.04573804573804574], \"coordinates\": \"axes\", \"h_anchor\": \"start\", \"v_baseline\": \"auto\", \"rotation\": -0.0, \"fontsize\": 10.0, \"color\": \"#000000\", \"alpha\": 1, \"zorder\": 1000003.0, \"id\": \"el18092140615166105168\"}], \"collections\": [], \"images\": [], \"sharex\": [], \"sharey\": []}, {\"bbox\": [0.5597222222222222, 0.20416666666666672, 0.4125, 0.6680555555555554], \"xlim\": [-0.20000000000000018, 26.2], \"ylim\": [0.00013188478474816107, 0.703170989332348], \"xdomain\": [-0.20000000000000018, 26.2], \"ydomain\": [0.00013188478474816107, 0.703170989332348], \"xscale\": \"linear\", \"yscale\": \"linear\", \"axes\": [{\"position\": \"bottom\", \"nticks\": 8, \"tickvalues\": null, \"tickformat\": null, \"scale\": \"linear\", \"fontsize\": 10.0, \"grid\": {\"gridOn\": false}, \"visible\": true}, {\"position\": \"left\", \"nticks\": 9, \"tickvalues\": null, \"tickformat\": null, \"scale\": \"linear\", \"fontsize\": 10.0, \"grid\": {\"gridOn\": false}, \"visible\": true}], \"axesbg\": \"#FFFFFF\", \"axesbgalpha\": null, \"zoomable\": true, \"id\": \"el18092140615167564560\", \"lines\": [{\"data\": \"data01\", \"xindex\": 0, \"yindex\": 3, \"coordinates\": \"data\", \"id\": \"el18092140615166338192\", \"color\": \"#1F77B4\", \"linewidth\": 1.5, \"dasharray\": \"none\", \"alpha\": 1, \"zorder\": 2, \"drawstyle\": \"default\"}, {\"data\": \"data01\", \"xindex\": 0, \"yindex\": 4, \"coordinates\": \"data\", \"id\": \"el18092140615166518416\", \"color\": \"#FF7F0E\", \"linewidth\": 1.5, \"dasharray\": \"none\", \"alpha\": 1, \"zorder\": 2, \"drawstyle\": \"default\"}, {\"data\": \"data02\", \"xindex\": 0, \"yindex\": 3, \"coordinates\": \"axes\", \"id\": \"el18092140615165899472\", \"color\": \"#1F77B4\", \"linewidth\": 1.5, \"dasharray\": \"none\", \"alpha\": 1, \"zorder\": 1000002.0, \"drawstyle\": \"default\"}, {\"data\": \"data02\", \"xindex\": 0, \"yindex\": 4, \"coordinates\": \"axes\", \"id\": \"el18092140615165899408\", \"color\": \"#FF7F0E\", \"linewidth\": 1.5, \"dasharray\": \"none\", \"alpha\": 1, \"zorder\": 1000002.0, \"drawstyle\": \"default\"}], \"paths\": [{\"data\": \"data03\", \"xindex\": 0, \"yindex\": 2, \"coordinates\": \"axes\", \"pathcodes\": [\"M\", \"L\", \"S\", \"L\", \"S\", \"L\", \"S\", \"L\", \"S\", \"Z\"], \"id\": \"el18092140615166105616\", \"dasharray\": \"none\", \"alpha\": 0.8, \"facecolor\": \"#FFFFFF\", \"edgecolor\": \"#CCCCCC\", \"edgewidth\": 1.0, \"zorder\": 1000000.0}], \"markers\": [], \"texts\": [{\"text\": \"Epoch\", \"position\": [0.5, -0.13929313929313933], \"coordinates\": \"axes\", \"h_anchor\": \"middle\", \"v_baseline\": \"hanging\", \"rotation\": -0.0, \"fontsize\": 10.0, \"color\": \"#000000\", \"alpha\": 1, \"zorder\": 3, \"id\": \"el18092140615166154320\"}, {\"text\": \"Loss\", \"position\": [-0.08866442199775548, 0.5], \"coordinates\": \"axes\", \"h_anchor\": \"middle\", \"v_baseline\": \"auto\", \"rotation\": -90.0, \"fontsize\": 10.0, \"color\": \"#000000\", \"alpha\": 1, \"zorder\": 3, \"id\": \"el18092140615166155408\"}, {\"text\": \"Model loss\", \"position\": [0.5, 1.024948024948025], \"coordinates\": \"axes\", \"h_anchor\": \"middle\", \"v_baseline\": \"auto\", \"rotation\": -0.0, \"fontsize\": 12.0, \"color\": \"#000000\", \"alpha\": 1, \"zorder\": 3, \"id\": \"el18092140615166248016\"}, {\"text\": \"Training\", \"position\": [0.8667227833894502, 0.9293139293139294], \"coordinates\": \"axes\", \"h_anchor\": \"start\", \"v_baseline\": \"auto\", \"rotation\": -0.0, \"fontsize\": 10.0, \"color\": \"#000000\", \"alpha\": 1, \"zorder\": 1000003.0, \"id\": \"el18092140615165898832\"}, {\"text\": \"Validation\", \"position\": [0.8667227833894502, 0.8669438669438669], \"coordinates\": \"axes\", \"h_anchor\": \"start\", \"v_baseline\": \"auto\", \"rotation\": -0.0, \"fontsize\": 10.0, \"color\": \"#000000\", \"alpha\": 1, \"zorder\": 1000003.0, \"id\": \"el18092140615165900752\"}], \"collections\": [], \"images\": [], \"sharex\": [], \"sharey\": []}], \"data\": {\"data01\": [[1.0, 0.4887000024318695, 0.5108000040054321, 0.6712146663983662, 0.6318937628746033], [2.0, 0.6787999868392944, 0.8960999846458435, 0.594331539662679, 0.5451730313301086], [3.0, 0.972100019454956, 0.9884999990463257, 0.49718837610880534, 0.44206227135658266], [4.0, 0.9884666800498962, 0.9898999929428101, 0.39067388529777525, 0.3359942768096924], [5.0, 0.9878000020980835, 0.989799976348877, 0.29018179574807484, 0.2444624222755432], [6.0, 0.9874333143234253, 0.9891999959945679, 0.2090579761425654, 0.17440392360687257], [7.0, 0.9873666763305664, 0.9890999794006348, 0.14998593197663626, 0.12574337663650512], [8.0, 0.9877333045005798, 0.9894999861717224, 0.10980224885543187, 0.0930533679008484], [9.0, 0.9877333045005798, 0.9891999959945679, 0.08451880133549372, 0.07342804559469222], [10.0, 0.9880333542823792, 0.9894999861717224, 0.06866122879981995, 0.060483538913726806], [11.0, 0.9883999824523926, 0.9896000027656555, 0.05805668355623881, 0.05191618244946003], [12.0, 0.9883000254631042, 0.9901000261306763, 0.05118189912637075, 0.04668205410242081], [13.0, 0.9886333346366882, 0.9896000027656555, 0.04658137724300226, 0.042453969478607176], [14.0, 0.9887333512306213, 0.9896000027656555, 0.04333250269095103, 0.039844699394702913], [15.0, 0.9886000156402588, 0.9894999861717224, 0.04104500557879607, 0.03769765104949474], [16.0, 0.9886333346366882, 0.9897000193595886, 0.03941508526206017, 0.03621952410638332], [17.0, 0.9885666370391846, 0.9894999861717224, 0.038143279036879536, 0.03525618305504322], [18.0, 0.9889000058174133, 0.9901999831199646, 0.03718763236155113, 0.0344468997001648], [19.0, 0.9889666438102722, 0.9901999831199646, 0.036452841265996294, 0.03380666261464357], [20.0, 0.9889000058174133, 0.9896000027656555, 0.03594117026974757, 0.033038005661964416], [21.0, 0.9886000156402588, 0.9894999861717224, 0.03541042211254438, 0.032667959182709455], [22.0, 0.9890333414077759, 0.9894999861717224, 0.034971075142423313, 0.032273454824090005], [23.0, 0.9889333248138428, 0.9904000163078308, 0.034664098834991455, 0.03268733889982104], [24.0, 0.9886000156402588, 0.9901000261306763, 0.03448043023745219, 0.03208820771872997], [25.0, 0.9889000058174133, 0.9894000291824341, 0.03428016047924757, 0.03237840222641826]], \"data02\": [[0.8038720538720538, 0.12266112266112272, 0.060291060291060294, 0.943866943866944, 0.8814968814968815], [0.8487654320987654, 0.12266112266112272, 0.060291060291060294, 0.943866943866944, 0.8814968814968815]], \"data03\": [[0.7993827160493827, 0.02079002079002079, 0.841995841995842], [0.984287317620651, 0.02079002079002079, 0.841995841995842], [0.9887766554433222, 0.02079002079002079, 0.841995841995842], [0.9887766554433222, 0.029106029106029108, 0.8503118503118503], [0.9887766554433222, 0.14968814968814975, 0.970893970893971], [0.9887766554433222, 0.15800415800415807, 0.9792099792099793], [0.984287317620651, 0.15800415800415807, 0.9792099792099793], [0.7993827160493827, 0.15800415800415807, 0.9792099792099793], [0.7948933782267116, 0.15800415800415807, 0.9792099792099793], [0.7948933782267116, 0.14968814968814975, 0.970893970893971], [0.7948933782267116, 0.029106029106029108, 0.8503118503118503], [0.7948933782267116, 0.02079002079002079, 0.841995841995842], [0.7993827160493827, 0.02079002079002079, 0.841995841995842]]}, \"id\": \"el18092140615183890192\", \"plugins\": [{\"type\": \"reset\"}, {\"type\": \"zoom\", \"button\": true, \"enabled\": false}, {\"type\": \"boxzoom\", \"button\": true, \"enabled\": false}]});\n",
       "   }(mpld3);\n",
       "}else if(typeof define === \"function\" && define.amd){\n",
       "   // require.js is available: use it to load d3/mpld3\n",
       "   require.config({paths: {d3: \"https://mpld3.github.io/js/d3.v3.min\"}});\n",
       "   require([\"d3\"], function(d3){\n",
       "      window.d3 = d3;\n",
       "      mpld3_load_lib(\"https://mpld3.github.io/js/mpld3.v0.3.js\", function(){\n",
       "         \n",
       "         mpld3.draw_figure(\"fig_el180921406151838901929356537234\", {\"width\": 1080.0, \"height\": 360.0, \"axes\": [{\"bbox\": [0.07361111111111111, 0.20416666666666672, 0.4125, 0.6680555555555554], \"xlim\": [-0.20000000000000018, 26.2], \"ylim\": [0.46361500173807146, 1.015485017001629], \"xdomain\": [-0.20000000000000018, 26.2], \"ydomain\": [0.46361500173807146, 1.015485017001629], \"xscale\": \"linear\", \"yscale\": \"linear\", \"axes\": [{\"position\": \"bottom\", \"nticks\": 8, \"tickvalues\": null, \"tickformat\": null, \"scale\": \"linear\", \"fontsize\": 10.0, \"grid\": {\"gridOn\": false}, \"visible\": true}, {\"position\": \"left\", \"nticks\": 8, \"tickvalues\": null, \"tickformat\": null, \"scale\": \"linear\", \"fontsize\": 10.0, \"grid\": {\"gridOn\": false}, \"visible\": true}], \"axesbg\": \"#FFFFFF\", \"axesbgalpha\": null, \"zoomable\": true, \"id\": \"el18092140615166620048\", \"lines\": [{\"data\": \"data01\", \"xindex\": 0, \"yindex\": 1, \"coordinates\": \"data\", \"id\": \"el18092140615166477392\", \"color\": \"#1F77B4\", \"linewidth\": 1.5, \"dasharray\": \"none\", \"alpha\": 1, \"zorder\": 2, \"drawstyle\": \"default\"}, {\"data\": \"data01\", \"xindex\": 0, \"yindex\": 2, \"coordinates\": \"data\", \"id\": \"el18092140615171189584\", \"color\": \"#FF7F0E\", \"linewidth\": 1.5, \"dasharray\": \"none\", \"alpha\": 1, \"zorder\": 2, \"drawstyle\": \"default\"}, {\"data\": \"data02\", \"xindex\": 0, \"yindex\": 1, \"coordinates\": \"axes\", \"id\": \"el18092140615166103760\", \"color\": \"#1F77B4\", \"linewidth\": 1.5, \"dasharray\": \"none\", \"alpha\": 1, \"zorder\": 1000002.0, \"drawstyle\": \"default\"}, {\"data\": \"data02\", \"xindex\": 0, \"yindex\": 2, \"coordinates\": \"axes\", \"id\": \"el18092140615172112464\", \"color\": \"#FF7F0E\", \"linewidth\": 1.5, \"dasharray\": \"none\", \"alpha\": 1, \"zorder\": 1000002.0, \"drawstyle\": \"default\"}], \"paths\": [{\"data\": \"data03\", \"xindex\": 0, \"yindex\": 1, \"coordinates\": \"axes\", \"pathcodes\": [\"M\", \"L\", \"S\", \"L\", \"S\", \"L\", \"S\", \"L\", \"S\", \"Z\"], \"id\": \"el18092140615166621520\", \"dasharray\": \"none\", \"alpha\": 0.8, \"facecolor\": \"#FFFFFF\", \"edgecolor\": \"#CCCCCC\", \"edgewidth\": 1.0, \"zorder\": 1000000.0}], \"markers\": [], \"texts\": [{\"text\": \"Epoch\", \"position\": [0.5, -0.13929313929313933], \"coordinates\": \"axes\", \"h_anchor\": \"middle\", \"v_baseline\": \"hanging\", \"rotation\": -0.0, \"fontsize\": 10.0, \"color\": \"#000000\", \"alpha\": 1, \"zorder\": 3, \"id\": \"el18092140615185464336\"}, {\"text\": \"Accuracy\", \"position\": [-0.08866442199775534, 0.5], \"coordinates\": \"axes\", \"h_anchor\": \"middle\", \"v_baseline\": \"auto\", \"rotation\": -90.0, \"fontsize\": 10.0, \"color\": \"#000000\", \"alpha\": 1, \"zorder\": 3, \"id\": \"el18092140615171190288\"}, {\"text\": \"Model accuracy\", \"position\": [0.5, 1.024948024948025], \"coordinates\": \"axes\", \"h_anchor\": \"middle\", \"v_baseline\": \"auto\", \"rotation\": -0.0, \"fontsize\": 12.0, \"color\": \"#000000\", \"alpha\": 1, \"zorder\": 3, \"id\": \"el18092140615166379344\"}, {\"text\": \"Training\", \"position\": [0.8667227833894502, 0.10810810810810817], \"coordinates\": \"axes\", \"h_anchor\": \"start\", \"v_baseline\": \"auto\", \"rotation\": -0.0, \"fontsize\": 10.0, \"color\": \"#000000\", \"alpha\": 1, \"zorder\": 1000003.0, \"id\": \"el18092140615166521232\"}, {\"text\": \"Validation\", \"position\": [0.8667227833894502, 0.04573804573804574], \"coordinates\": \"axes\", \"h_anchor\": \"start\", \"v_baseline\": \"auto\", \"rotation\": -0.0, \"fontsize\": 10.0, \"color\": \"#000000\", \"alpha\": 1, \"zorder\": 1000003.0, \"id\": \"el18092140615166105168\"}], \"collections\": [], \"images\": [], \"sharex\": [], \"sharey\": []}, {\"bbox\": [0.5597222222222222, 0.20416666666666672, 0.4125, 0.6680555555555554], \"xlim\": [-0.20000000000000018, 26.2], \"ylim\": [0.00013188478474816107, 0.703170989332348], \"xdomain\": [-0.20000000000000018, 26.2], \"ydomain\": [0.00013188478474816107, 0.703170989332348], \"xscale\": \"linear\", \"yscale\": \"linear\", \"axes\": [{\"position\": \"bottom\", \"nticks\": 8, \"tickvalues\": null, \"tickformat\": null, \"scale\": \"linear\", \"fontsize\": 10.0, \"grid\": {\"gridOn\": false}, \"visible\": true}, {\"position\": \"left\", \"nticks\": 9, \"tickvalues\": null, \"tickformat\": null, \"scale\": \"linear\", \"fontsize\": 10.0, \"grid\": {\"gridOn\": false}, \"visible\": true}], \"axesbg\": \"#FFFFFF\", \"axesbgalpha\": null, \"zoomable\": true, \"id\": \"el18092140615167564560\", \"lines\": [{\"data\": \"data01\", \"xindex\": 0, \"yindex\": 3, \"coordinates\": \"data\", \"id\": \"el18092140615166338192\", \"color\": \"#1F77B4\", \"linewidth\": 1.5, \"dasharray\": \"none\", \"alpha\": 1, \"zorder\": 2, \"drawstyle\": \"default\"}, {\"data\": \"data01\", \"xindex\": 0, \"yindex\": 4, \"coordinates\": \"data\", \"id\": \"el18092140615166518416\", \"color\": \"#FF7F0E\", \"linewidth\": 1.5, \"dasharray\": \"none\", \"alpha\": 1, \"zorder\": 2, \"drawstyle\": \"default\"}, {\"data\": \"data02\", \"xindex\": 0, \"yindex\": 3, \"coordinates\": \"axes\", \"id\": \"el18092140615165899472\", \"color\": \"#1F77B4\", \"linewidth\": 1.5, \"dasharray\": \"none\", \"alpha\": 1, \"zorder\": 1000002.0, \"drawstyle\": \"default\"}, {\"data\": \"data02\", \"xindex\": 0, \"yindex\": 4, \"coordinates\": \"axes\", \"id\": \"el18092140615165899408\", \"color\": \"#FF7F0E\", \"linewidth\": 1.5, \"dasharray\": \"none\", \"alpha\": 1, \"zorder\": 1000002.0, \"drawstyle\": \"default\"}], \"paths\": [{\"data\": \"data03\", \"xindex\": 0, \"yindex\": 2, \"coordinates\": \"axes\", \"pathcodes\": [\"M\", \"L\", \"S\", \"L\", \"S\", \"L\", \"S\", \"L\", \"S\", \"Z\"], \"id\": \"el18092140615166105616\", \"dasharray\": \"none\", \"alpha\": 0.8, \"facecolor\": \"#FFFFFF\", \"edgecolor\": \"#CCCCCC\", \"edgewidth\": 1.0, \"zorder\": 1000000.0}], \"markers\": [], \"texts\": [{\"text\": \"Epoch\", \"position\": [0.5, -0.13929313929313933], \"coordinates\": \"axes\", \"h_anchor\": \"middle\", \"v_baseline\": \"hanging\", \"rotation\": -0.0, \"fontsize\": 10.0, \"color\": \"#000000\", \"alpha\": 1, \"zorder\": 3, \"id\": \"el18092140615166154320\"}, {\"text\": \"Loss\", \"position\": [-0.08866442199775548, 0.5], \"coordinates\": \"axes\", \"h_anchor\": \"middle\", \"v_baseline\": \"auto\", \"rotation\": -90.0, \"fontsize\": 10.0, \"color\": \"#000000\", \"alpha\": 1, \"zorder\": 3, \"id\": \"el18092140615166155408\"}, {\"text\": \"Model loss\", \"position\": [0.5, 1.024948024948025], \"coordinates\": \"axes\", \"h_anchor\": \"middle\", \"v_baseline\": \"auto\", \"rotation\": -0.0, \"fontsize\": 12.0, \"color\": \"#000000\", \"alpha\": 1, \"zorder\": 3, \"id\": \"el18092140615166248016\"}, {\"text\": \"Training\", \"position\": [0.8667227833894502, 0.9293139293139294], \"coordinates\": \"axes\", \"h_anchor\": \"start\", \"v_baseline\": \"auto\", \"rotation\": -0.0, \"fontsize\": 10.0, \"color\": \"#000000\", \"alpha\": 1, \"zorder\": 1000003.0, \"id\": \"el18092140615165898832\"}, {\"text\": \"Validation\", \"position\": [0.8667227833894502, 0.8669438669438669], \"coordinates\": \"axes\", \"h_anchor\": \"start\", \"v_baseline\": \"auto\", \"rotation\": -0.0, \"fontsize\": 10.0, \"color\": \"#000000\", \"alpha\": 1, \"zorder\": 1000003.0, \"id\": \"el18092140615165900752\"}], \"collections\": [], \"images\": [], \"sharex\": [], \"sharey\": []}], \"data\": {\"data01\": [[1.0, 0.4887000024318695, 0.5108000040054321, 0.6712146663983662, 0.6318937628746033], [2.0, 0.6787999868392944, 0.8960999846458435, 0.594331539662679, 0.5451730313301086], [3.0, 0.972100019454956, 0.9884999990463257, 0.49718837610880534, 0.44206227135658266], [4.0, 0.9884666800498962, 0.9898999929428101, 0.39067388529777525, 0.3359942768096924], [5.0, 0.9878000020980835, 0.989799976348877, 0.29018179574807484, 0.2444624222755432], [6.0, 0.9874333143234253, 0.9891999959945679, 0.2090579761425654, 0.17440392360687257], [7.0, 0.9873666763305664, 0.9890999794006348, 0.14998593197663626, 0.12574337663650512], [8.0, 0.9877333045005798, 0.9894999861717224, 0.10980224885543187, 0.0930533679008484], [9.0, 0.9877333045005798, 0.9891999959945679, 0.08451880133549372, 0.07342804559469222], [10.0, 0.9880333542823792, 0.9894999861717224, 0.06866122879981995, 0.060483538913726806], [11.0, 0.9883999824523926, 0.9896000027656555, 0.05805668355623881, 0.05191618244946003], [12.0, 0.9883000254631042, 0.9901000261306763, 0.05118189912637075, 0.04668205410242081], [13.0, 0.9886333346366882, 0.9896000027656555, 0.04658137724300226, 0.042453969478607176], [14.0, 0.9887333512306213, 0.9896000027656555, 0.04333250269095103, 0.039844699394702913], [15.0, 0.9886000156402588, 0.9894999861717224, 0.04104500557879607, 0.03769765104949474], [16.0, 0.9886333346366882, 0.9897000193595886, 0.03941508526206017, 0.03621952410638332], [17.0, 0.9885666370391846, 0.9894999861717224, 0.038143279036879536, 0.03525618305504322], [18.0, 0.9889000058174133, 0.9901999831199646, 0.03718763236155113, 0.0344468997001648], [19.0, 0.9889666438102722, 0.9901999831199646, 0.036452841265996294, 0.03380666261464357], [20.0, 0.9889000058174133, 0.9896000027656555, 0.03594117026974757, 0.033038005661964416], [21.0, 0.9886000156402588, 0.9894999861717224, 0.03541042211254438, 0.032667959182709455], [22.0, 0.9890333414077759, 0.9894999861717224, 0.034971075142423313, 0.032273454824090005], [23.0, 0.9889333248138428, 0.9904000163078308, 0.034664098834991455, 0.03268733889982104], [24.0, 0.9886000156402588, 0.9901000261306763, 0.03448043023745219, 0.03208820771872997], [25.0, 0.9889000058174133, 0.9894000291824341, 0.03428016047924757, 0.03237840222641826]], \"data02\": [[0.8038720538720538, 0.12266112266112272, 0.060291060291060294, 0.943866943866944, 0.8814968814968815], [0.8487654320987654, 0.12266112266112272, 0.060291060291060294, 0.943866943866944, 0.8814968814968815]], \"data03\": [[0.7993827160493827, 0.02079002079002079, 0.841995841995842], [0.984287317620651, 0.02079002079002079, 0.841995841995842], [0.9887766554433222, 0.02079002079002079, 0.841995841995842], [0.9887766554433222, 0.029106029106029108, 0.8503118503118503], [0.9887766554433222, 0.14968814968814975, 0.970893970893971], [0.9887766554433222, 0.15800415800415807, 0.9792099792099793], [0.984287317620651, 0.15800415800415807, 0.9792099792099793], [0.7993827160493827, 0.15800415800415807, 0.9792099792099793], [0.7948933782267116, 0.15800415800415807, 0.9792099792099793], [0.7948933782267116, 0.14968814968814975, 0.970893970893971], [0.7948933782267116, 0.029106029106029108, 0.8503118503118503], [0.7948933782267116, 0.02079002079002079, 0.841995841995842], [0.7993827160493827, 0.02079002079002079, 0.841995841995842]]}, \"id\": \"el18092140615183890192\", \"plugins\": [{\"type\": \"reset\"}, {\"type\": \"zoom\", \"button\": true, \"enabled\": false}, {\"type\": \"boxzoom\", \"button\": true, \"enabled\": false}]});\n",
       "      });\n",
       "    });\n",
       "}else{\n",
       "    // require.js not available: dynamically load d3 & mpld3\n",
       "    mpld3_load_lib(\"https://mpld3.github.io/js/d3.v3.min.js\", function(){\n",
       "         mpld3_load_lib(\"https://mpld3.github.io/js/mpld3.v0.3.js\", function(){\n",
       "                 \n",
       "                 mpld3.draw_figure(\"fig_el180921406151838901929356537234\", {\"width\": 1080.0, \"height\": 360.0, \"axes\": [{\"bbox\": [0.07361111111111111, 0.20416666666666672, 0.4125, 0.6680555555555554], \"xlim\": [-0.20000000000000018, 26.2], \"ylim\": [0.46361500173807146, 1.015485017001629], \"xdomain\": [-0.20000000000000018, 26.2], \"ydomain\": [0.46361500173807146, 1.015485017001629], \"xscale\": \"linear\", \"yscale\": \"linear\", \"axes\": [{\"position\": \"bottom\", \"nticks\": 8, \"tickvalues\": null, \"tickformat\": null, \"scale\": \"linear\", \"fontsize\": 10.0, \"grid\": {\"gridOn\": false}, \"visible\": true}, {\"position\": \"left\", \"nticks\": 8, \"tickvalues\": null, \"tickformat\": null, \"scale\": \"linear\", \"fontsize\": 10.0, \"grid\": {\"gridOn\": false}, \"visible\": true}], \"axesbg\": \"#FFFFFF\", \"axesbgalpha\": null, \"zoomable\": true, \"id\": \"el18092140615166620048\", \"lines\": [{\"data\": \"data01\", \"xindex\": 0, \"yindex\": 1, \"coordinates\": \"data\", \"id\": \"el18092140615166477392\", \"color\": \"#1F77B4\", \"linewidth\": 1.5, \"dasharray\": \"none\", \"alpha\": 1, \"zorder\": 2, \"drawstyle\": \"default\"}, {\"data\": \"data01\", \"xindex\": 0, \"yindex\": 2, \"coordinates\": \"data\", \"id\": \"el18092140615171189584\", \"color\": \"#FF7F0E\", \"linewidth\": 1.5, \"dasharray\": \"none\", \"alpha\": 1, \"zorder\": 2, \"drawstyle\": \"default\"}, {\"data\": \"data02\", \"xindex\": 0, \"yindex\": 1, \"coordinates\": \"axes\", \"id\": \"el18092140615166103760\", \"color\": \"#1F77B4\", \"linewidth\": 1.5, \"dasharray\": \"none\", \"alpha\": 1, \"zorder\": 1000002.0, \"drawstyle\": \"default\"}, {\"data\": \"data02\", \"xindex\": 0, \"yindex\": 2, \"coordinates\": \"axes\", \"id\": \"el18092140615172112464\", \"color\": \"#FF7F0E\", \"linewidth\": 1.5, \"dasharray\": \"none\", \"alpha\": 1, \"zorder\": 1000002.0, \"drawstyle\": \"default\"}], \"paths\": [{\"data\": \"data03\", \"xindex\": 0, \"yindex\": 1, \"coordinates\": \"axes\", \"pathcodes\": [\"M\", \"L\", \"S\", \"L\", \"S\", \"L\", \"S\", \"L\", \"S\", \"Z\"], \"id\": \"el18092140615166621520\", \"dasharray\": \"none\", \"alpha\": 0.8, \"facecolor\": \"#FFFFFF\", \"edgecolor\": \"#CCCCCC\", \"edgewidth\": 1.0, \"zorder\": 1000000.0}], \"markers\": [], \"texts\": [{\"text\": \"Epoch\", \"position\": [0.5, -0.13929313929313933], \"coordinates\": \"axes\", \"h_anchor\": \"middle\", \"v_baseline\": \"hanging\", \"rotation\": -0.0, \"fontsize\": 10.0, \"color\": \"#000000\", \"alpha\": 1, \"zorder\": 3, \"id\": \"el18092140615185464336\"}, {\"text\": \"Accuracy\", \"position\": [-0.08866442199775534, 0.5], \"coordinates\": \"axes\", \"h_anchor\": \"middle\", \"v_baseline\": \"auto\", \"rotation\": -90.0, \"fontsize\": 10.0, \"color\": \"#000000\", \"alpha\": 1, \"zorder\": 3, \"id\": \"el18092140615171190288\"}, {\"text\": \"Model accuracy\", \"position\": [0.5, 1.024948024948025], \"coordinates\": \"axes\", \"h_anchor\": \"middle\", \"v_baseline\": \"auto\", \"rotation\": -0.0, \"fontsize\": 12.0, \"color\": \"#000000\", \"alpha\": 1, \"zorder\": 3, \"id\": \"el18092140615166379344\"}, {\"text\": \"Training\", \"position\": [0.8667227833894502, 0.10810810810810817], \"coordinates\": \"axes\", \"h_anchor\": \"start\", \"v_baseline\": \"auto\", \"rotation\": -0.0, \"fontsize\": 10.0, \"color\": \"#000000\", \"alpha\": 1, \"zorder\": 1000003.0, \"id\": \"el18092140615166521232\"}, {\"text\": \"Validation\", \"position\": [0.8667227833894502, 0.04573804573804574], \"coordinates\": \"axes\", \"h_anchor\": \"start\", \"v_baseline\": \"auto\", \"rotation\": -0.0, \"fontsize\": 10.0, \"color\": \"#000000\", \"alpha\": 1, \"zorder\": 1000003.0, \"id\": \"el18092140615166105168\"}], \"collections\": [], \"images\": [], \"sharex\": [], \"sharey\": []}, {\"bbox\": [0.5597222222222222, 0.20416666666666672, 0.4125, 0.6680555555555554], \"xlim\": [-0.20000000000000018, 26.2], \"ylim\": [0.00013188478474816107, 0.703170989332348], \"xdomain\": [-0.20000000000000018, 26.2], \"ydomain\": [0.00013188478474816107, 0.703170989332348], \"xscale\": \"linear\", \"yscale\": \"linear\", \"axes\": [{\"position\": \"bottom\", \"nticks\": 8, \"tickvalues\": null, \"tickformat\": null, \"scale\": \"linear\", \"fontsize\": 10.0, \"grid\": {\"gridOn\": false}, \"visible\": true}, {\"position\": \"left\", \"nticks\": 9, \"tickvalues\": null, \"tickformat\": null, \"scale\": \"linear\", \"fontsize\": 10.0, \"grid\": {\"gridOn\": false}, \"visible\": true}], \"axesbg\": \"#FFFFFF\", \"axesbgalpha\": null, \"zoomable\": true, \"id\": \"el18092140615167564560\", \"lines\": [{\"data\": \"data01\", \"xindex\": 0, \"yindex\": 3, \"coordinates\": \"data\", \"id\": \"el18092140615166338192\", \"color\": \"#1F77B4\", \"linewidth\": 1.5, \"dasharray\": \"none\", \"alpha\": 1, \"zorder\": 2, \"drawstyle\": \"default\"}, {\"data\": \"data01\", \"xindex\": 0, \"yindex\": 4, \"coordinates\": \"data\", \"id\": \"el18092140615166518416\", \"color\": \"#FF7F0E\", \"linewidth\": 1.5, \"dasharray\": \"none\", \"alpha\": 1, \"zorder\": 2, \"drawstyle\": \"default\"}, {\"data\": \"data02\", \"xindex\": 0, \"yindex\": 3, \"coordinates\": \"axes\", \"id\": \"el18092140615165899472\", \"color\": \"#1F77B4\", \"linewidth\": 1.5, \"dasharray\": \"none\", \"alpha\": 1, \"zorder\": 1000002.0, \"drawstyle\": \"default\"}, {\"data\": \"data02\", \"xindex\": 0, \"yindex\": 4, \"coordinates\": \"axes\", \"id\": \"el18092140615165899408\", \"color\": \"#FF7F0E\", \"linewidth\": 1.5, \"dasharray\": \"none\", \"alpha\": 1, \"zorder\": 1000002.0, \"drawstyle\": \"default\"}], \"paths\": [{\"data\": \"data03\", \"xindex\": 0, \"yindex\": 2, \"coordinates\": \"axes\", \"pathcodes\": [\"M\", \"L\", \"S\", \"L\", \"S\", \"L\", \"S\", \"L\", \"S\", \"Z\"], \"id\": \"el18092140615166105616\", \"dasharray\": \"none\", \"alpha\": 0.8, \"facecolor\": \"#FFFFFF\", \"edgecolor\": \"#CCCCCC\", \"edgewidth\": 1.0, \"zorder\": 1000000.0}], \"markers\": [], \"texts\": [{\"text\": \"Epoch\", \"position\": [0.5, -0.13929313929313933], \"coordinates\": \"axes\", \"h_anchor\": \"middle\", \"v_baseline\": \"hanging\", \"rotation\": -0.0, \"fontsize\": 10.0, \"color\": \"#000000\", \"alpha\": 1, \"zorder\": 3, \"id\": \"el18092140615166154320\"}, {\"text\": \"Loss\", \"position\": [-0.08866442199775548, 0.5], \"coordinates\": \"axes\", \"h_anchor\": \"middle\", \"v_baseline\": \"auto\", \"rotation\": -90.0, \"fontsize\": 10.0, \"color\": \"#000000\", \"alpha\": 1, \"zorder\": 3, \"id\": \"el18092140615166155408\"}, {\"text\": \"Model loss\", \"position\": [0.5, 1.024948024948025], \"coordinates\": \"axes\", \"h_anchor\": \"middle\", \"v_baseline\": \"auto\", \"rotation\": -0.0, \"fontsize\": 12.0, \"color\": \"#000000\", \"alpha\": 1, \"zorder\": 3, \"id\": \"el18092140615166248016\"}, {\"text\": \"Training\", \"position\": [0.8667227833894502, 0.9293139293139294], \"coordinates\": \"axes\", \"h_anchor\": \"start\", \"v_baseline\": \"auto\", \"rotation\": -0.0, \"fontsize\": 10.0, \"color\": \"#000000\", \"alpha\": 1, \"zorder\": 1000003.0, \"id\": \"el18092140615165898832\"}, {\"text\": \"Validation\", \"position\": [0.8667227833894502, 0.8669438669438669], \"coordinates\": \"axes\", \"h_anchor\": \"start\", \"v_baseline\": \"auto\", \"rotation\": -0.0, \"fontsize\": 10.0, \"color\": \"#000000\", \"alpha\": 1, \"zorder\": 1000003.0, \"id\": \"el18092140615165900752\"}], \"collections\": [], \"images\": [], \"sharex\": [], \"sharey\": []}], \"data\": {\"data01\": [[1.0, 0.4887000024318695, 0.5108000040054321, 0.6712146663983662, 0.6318937628746033], [2.0, 0.6787999868392944, 0.8960999846458435, 0.594331539662679, 0.5451730313301086], [3.0, 0.972100019454956, 0.9884999990463257, 0.49718837610880534, 0.44206227135658266], [4.0, 0.9884666800498962, 0.9898999929428101, 0.39067388529777525, 0.3359942768096924], [5.0, 0.9878000020980835, 0.989799976348877, 0.29018179574807484, 0.2444624222755432], [6.0, 0.9874333143234253, 0.9891999959945679, 0.2090579761425654, 0.17440392360687257], [7.0, 0.9873666763305664, 0.9890999794006348, 0.14998593197663626, 0.12574337663650512], [8.0, 0.9877333045005798, 0.9894999861717224, 0.10980224885543187, 0.0930533679008484], [9.0, 0.9877333045005798, 0.9891999959945679, 0.08451880133549372, 0.07342804559469222], [10.0, 0.9880333542823792, 0.9894999861717224, 0.06866122879981995, 0.060483538913726806], [11.0, 0.9883999824523926, 0.9896000027656555, 0.05805668355623881, 0.05191618244946003], [12.0, 0.9883000254631042, 0.9901000261306763, 0.05118189912637075, 0.04668205410242081], [13.0, 0.9886333346366882, 0.9896000027656555, 0.04658137724300226, 0.042453969478607176], [14.0, 0.9887333512306213, 0.9896000027656555, 0.04333250269095103, 0.039844699394702913], [15.0, 0.9886000156402588, 0.9894999861717224, 0.04104500557879607, 0.03769765104949474], [16.0, 0.9886333346366882, 0.9897000193595886, 0.03941508526206017, 0.03621952410638332], [17.0, 0.9885666370391846, 0.9894999861717224, 0.038143279036879536, 0.03525618305504322], [18.0, 0.9889000058174133, 0.9901999831199646, 0.03718763236155113, 0.0344468997001648], [19.0, 0.9889666438102722, 0.9901999831199646, 0.036452841265996294, 0.03380666261464357], [20.0, 0.9889000058174133, 0.9896000027656555, 0.03594117026974757, 0.033038005661964416], [21.0, 0.9886000156402588, 0.9894999861717224, 0.03541042211254438, 0.032667959182709455], [22.0, 0.9890333414077759, 0.9894999861717224, 0.034971075142423313, 0.032273454824090005], [23.0, 0.9889333248138428, 0.9904000163078308, 0.034664098834991455, 0.03268733889982104], [24.0, 0.9886000156402588, 0.9901000261306763, 0.03448043023745219, 0.03208820771872997], [25.0, 0.9889000058174133, 0.9894000291824341, 0.03428016047924757, 0.03237840222641826]], \"data02\": [[0.8038720538720538, 0.12266112266112272, 0.060291060291060294, 0.943866943866944, 0.8814968814968815], [0.8487654320987654, 0.12266112266112272, 0.060291060291060294, 0.943866943866944, 0.8814968814968815]], \"data03\": [[0.7993827160493827, 0.02079002079002079, 0.841995841995842], [0.984287317620651, 0.02079002079002079, 0.841995841995842], [0.9887766554433222, 0.02079002079002079, 0.841995841995842], [0.9887766554433222, 0.029106029106029108, 0.8503118503118503], [0.9887766554433222, 0.14968814968814975, 0.970893970893971], [0.9887766554433222, 0.15800415800415807, 0.9792099792099793], [0.984287317620651, 0.15800415800415807, 0.9792099792099793], [0.7993827160493827, 0.15800415800415807, 0.9792099792099793], [0.7948933782267116, 0.15800415800415807, 0.9792099792099793], [0.7948933782267116, 0.14968814968814975, 0.970893970893971], [0.7948933782267116, 0.029106029106029108, 0.8503118503118503], [0.7948933782267116, 0.02079002079002079, 0.841995841995842], [0.7993827160493827, 0.02079002079002079, 0.841995841995842]]}, \"id\": \"el18092140615183890192\", \"plugins\": [{\"type\": \"reset\"}, {\"type\": \"zoom\", \"button\": true, \"enabled\": false}, {\"type\": \"boxzoom\", \"button\": true, \"enabled\": false}]});\n",
       "            })\n",
       "         });\n",
       "}\n",
       "</script>"
      ],
      "text/plain": [
       "<IPython.core.display.HTML object>"
      ]
     },
     "execution_count": 10,
     "metadata": {},
     "output_type": "execute_result"
    }
   ],
   "source": [
    "%matplotlib inline\n",
    "import matplotlib.pyplot as plt, mpld3\n",
    "def createSubplot(x, dataSeries, dataLabels, title, xLabel, yLabel, legendLoc, position):\n",
    "    plt.subplot(position)\n",
    "    plt.title(title)\n",
    "    plt.xlabel(xLabel)\n",
    "    plt.ylabel(yLabel)\n",
    "    for y, label in zip(dataSeries, dataLabels):\n",
    "        plt.plot(x, y, label=label)\n",
    "    plt.legend(loc=legendLoc)\n",
    "xValues = np.arange(1., len(history.history['loss'])+1, 1)\n",
    "plt.rcParams['xtick.major.pad']='16'\n",
    "plt.rcParams['ytick.major.pad']='16'\n",
    "plt.rcParams[\"figure.figsize\"] = (15,5)\n",
    "createSubplot(xValues, [history.history['accuracy'], history.history['val_accuracy']], \n",
    "              [\"Training\", \"Validation\"], \"Model accuracy\", \"Epoch\", \"Accuracy\",  \"lower right\", 121)\n",
    "createSubplot(xValues, [history.history['loss'], history.history['val_loss']], \n",
    "              [\"Training\", \"Validation\"], \"Model loss\", \"Epoch\", \"Loss\", \"upper right\", 122)\n",
    "plt.tight_layout(pad=3.0)\n",
    "mpld3.display()"
   ]
  },
  {
   "cell_type": "markdown",
   "metadata": {},
   "source": [
    "$+$ [open In colab](https://colab.research.google.com/github/MontpellierRessourcesImagerie/DL_EXP_PC/blob/master/DL01-cell10-explanations.ipynb) or \n",
    "[open locally](./DL01-cell10-explanations.ipynb)"
   ]
  },
  {
   "cell_type": "markdown",
   "metadata": {
    "colab_type": "text",
    "id": "P-VIduv3WGWN"
   },
   "source": [
    "## Applying the model on images"
   ]
  },
  {
   "cell_type": "markdown",
   "metadata": {
    "colab_type": "text",
    "id": "5RnGxraeWGWO"
   },
   "source": [
    "We can now use the model to make predictions for the intensity vector of the neighborhood of a pixel."
   ]
  },
  {
   "cell_type": "code",
   "execution_count": 11,
   "metadata": {
    "colab": {
     "base_uri": "https://localhost:8080/",
     "height": 52
    },
    "colab_type": "code",
    "executionInfo": {
     "elapsed": 1287,
     "status": "ok",
     "timestamp": 1586430114179,
     "user": {
      "displayName": "Volker Bäcker",
      "photoUrl": "https://lh3.googleusercontent.com/a-/AOh14GjEu5wjN2vCYiy08xA1eynmYpMhOc6dLWwRZvWdJbI=s64",
      "userId": "10406901054643491303"
     },
     "user_tz": -120
    },
    "id": "B53RMxWsWGWP",
    "outputId": "ea1ad08b-7b76-4422-efe1-c1da6dba66ab"
   },
   "outputs": [
    {
     "name": "stdout",
     "output_type": "stream",
     "text": [
      "p: [0.9999746] c: [1]\n"
     ]
    }
   ],
   "source": [
    "prediction = model.predict(np.array([[128/255]*N*N]))\n",
    "classPrediction = model.predict_classes(np.array([[128/255]*N*N]))\n",
    "print(\"p:\", prediction.flatten(), \"c:\", classPrediction.flatten())"
   ]
  },
  {
   "cell_type": "markdown",
   "metadata": {},
   "source": [
    "$+$ [open In colab](https://colab.research.google.com/github/MontpellierRessourcesImagerie/DL_EXP_PC/blob/master/DL01-cell11-explanations.ipynb) or \n",
    "[open locally](./DL01-cell11-explanations.ipynb)"
   ]
  },
  {
   "cell_type": "markdown",
   "metadata": {
    "colab_type": "text",
    "id": "XKEndjUcWGWU"
   },
   "source": [
    "We will now use the model to segment images. We need to feed the neighborhood of all pixels to the classifier and create an output mask and a probability map from the result of the classification.\n",
    "\n",
    "We set the path to the folder containing the input images. We will read each image in the folder, do the segmentation and save the result images.\n",
    "\n",
    "Here is how it conceptually works. \n",
    "A loop iterates over the pixels in the input image. For each pixel a feature vector is created and classified from the intensity values in its neighborhood. \n",
    "\n",
    "It works but is very slow. We will therefore rather use an optimized version, that first creates a list of all feature vectors, passes them to the classification and then creates the mask and probability map from the results.\n",
    "\n",
    "We first define a function that creates a list of feature vectors from an image. Each vector represents the intensities in the neighborhood of a pixel in the image. "
   ]
  },
  {
   "cell_type": "code",
   "execution_count": 12,
   "metadata": {},
   "outputs": [],
   "source": [
    "def getFeatureVectorsFromImage(image, n, reportInterval):    \n",
    "    neighborsRange = range((-n//2)+1, (n//2)+1)\n",
    "    height, width = image.shape\n",
    "    neighborhood = np.zeros(n*n)\n",
    "    neighborhoods = np.zeros((height*width, n*n), dtype=float)\n",
    "    print(\"Extracting the feature vectors.\")\n",
    "    vectorIndex = 0\n",
    "    for y in range(0, height):\n",
    "        if y%reportInterval == 0:\n",
    "            print(\"\\rRow: \" + str(y), end=\"\")\n",
    "        for x in range(0, width):\n",
    "            featureIndex = 0\n",
    "            for yRel in neighborsRange:\n",
    "                for xRel in neighborsRange:\n",
    "                    yRel = yRel if y+yRel >= 0 and y+yRel < height else -yRel\n",
    "                    xRel = xRel if x+xRel >= 0 and x+xRel < width else -xRel\n",
    "                    neighborhood[featureIndex] = image[y+yRel,x+xRel]\n",
    "                    featureIndex += 1\n",
    "            neighborhoods[vectorIndex] = neighborhood\n",
    "            vectorIndex += 1\n",
    "    print(\"\", end=\"\\n\")\n",
    "    return neighborhoods"
   ]
  },
  {
   "cell_type": "markdown",
   "metadata": {},
   "source": [
    "$+$ [open In colab](https://colab.research.google.com/github/MontpellierRessourcesImagerie/DL_EXP_PC/blob/master/DL01-cell12-explanations.ipynb) or \n",
    "[open locally](./DL01-cell12-explanations.ipynb)"
   ]
  },
  {
   "cell_type": "markdown",
   "metadata": {},
   "source": [
    "Now we create an output folder as a subfolder of the input folder and get a list of the images in the input folder."
   ]
  },
  {
   "cell_type": "code",
   "execution_count": 13,
   "metadata": {},
   "outputs": [
    {
     "name": "stdout",
     "output_type": "stream",
     "text": [
      "['./data/spots01.tif', './data/spots02.tif']\n",
      "gt  out  spots01.tif  spots02.tif\n"
     ]
    }
   ],
   "source": [
    "import os\n",
    "path = './data'\n",
    "out = os.path.join(path, 'out')\n",
    "if not os.path.isdir(out):\n",
    "    os.mkdir(out)\n",
    "files = os.listdir(path)\n",
    "imagePaths = [os.path.join(path, f)  for f in files if not os.path.isdir(os.path.join(path, f))]\n",
    "imagePaths.sort()\n",
    "print(imagePaths)\n",
    "!ls ./data"
   ]
  },
  {
   "cell_type": "markdown",
   "metadata": {
    "colab_type": "text",
    "id": "Ojb6QgMpWGWX"
   },
   "source": [
    "For the result images pMap and mask we start with 1D arrays of size $width \\times height$. We fill the linear arrays with the classification results and then reshape them to 2D-images."
   ]
  },
  {
   "cell_type": "code",
   "execution_count": 14,
   "metadata": {
    "colab": {
     "base_uri": "https://localhost:8080/",
     "height": 278
    },
    "colab_type": "code",
    "executionInfo": {
     "elapsed": 310398,
     "status": "ok",
     "timestamp": 1586430453983,
     "user": {
      "displayName": "Volker Bäcker",
      "photoUrl": "https://lh3.googleusercontent.com/a-/AOh14GjEu5wjN2vCYiy08xA1eynmYpMhOc6dLWwRZvWdJbI=s64",
      "userId": "10406901054643491303"
     },
     "user_tz": -120
    },
    "id": "I9hpBJ-8WGWa",
    "outputId": "79ccd54d-2faf-4581-e5ce-6a12c443da62"
   },
   "outputs": [
    {
     "name": "stdout",
     "output_type": "stream",
     "text": [
      "Processing image ./data/spots01.tif\n",
      "Extracting the feature vectors.\n",
      "Row: 1820\n",
      "Applying the classifier.\n",
      "Writing the output images.\n",
      "Processing image ./data/spots02.tif\n",
      "Extracting the feature vectors.\n",
      "Row: 1820\n",
      "Applying the classifier.\n",
      "Writing the output images.\n",
      "Done!\n",
      "CPU times: user 1min 17s, sys: 3.25 s, total: 1min 20s\n",
      "Wall time: 1min 6s\n"
     ]
    }
   ],
   "source": [
    "%%time\n",
    "import tifffile as tiff\n",
    "for imagePath in imagePaths:   \n",
    "    print(\"Processing image \" + imagePath)\n",
    "    image = tiff.imread(imagePath) / 255\n",
    "    neighborhoods = getFeatureVectorsFromImage(image, N, 10)\n",
    "\n",
    "    print(\"Applying the classifier.\")\n",
    "    pMap = model.predict(neighborhoods).flatten()\n",
    "    mask = (np.round(pMap)*255).reshape(image.shape).astype(np.uint8)  \n",
    "    pMap = (pMap * 255).reshape(image.shape).astype(np.uint8)\n",
    "    \n",
    "    print(\"Writing the output images.\")\n",
    "    outFileName = os.path.basename(imagePath)\n",
    "    outFileName = os.path.splitext(outFileName)[0]\n",
    "    outPath = os.path.join(out,outFileName + \"-pMap.tif\" )\n",
    "    tiff.imwrite(outPath, pMap, imagej=True)\n",
    "    outPath = os.path.join(out,outFileName + \"-mask.tif\" )\n",
    "    tiff.imwrite(outPath, mask, imagej=True)\n",
    "print(\"Done!\")"
   ]
  },
  {
   "cell_type": "code",
   "execution_count": 15,
   "metadata": {
    "colab": {
     "base_uri": "https://localhost:8080/",
     "height": 704
    },
    "colab_type": "code",
    "executionInfo": {
     "elapsed": 3119,
     "status": "ok",
     "timestamp": 1586430541229,
     "user": {
      "displayName": "Volker Bäcker",
      "photoUrl": "https://lh3.googleusercontent.com/a-/AOh14GjEu5wjN2vCYiy08xA1eynmYpMhOc6dLWwRZvWdJbI=s64",
      "userId": "10406901054643491303"
     },
     "user_tz": -120
    },
    "id": "_iN0FsfoWGWi",
    "outputId": "13441628-795b-4cb6-a59e-707abe29ce67"
   },
   "outputs": [
    {
     "data": {
      "image/png": "[encoded data removed]",
      "text/plain": [
       "<Figure size 1080x864 with 1 Axes>"
      ]
     },
     "metadata": {
      "needs_background": "light"
     },
     "output_type": "display_data"
    }
   ],
   "source": [
    "from matplotlib import pyplot as plt\n",
    "plt.figure(figsize = (15,12))\n",
    "plt.imshow(mask, interpolation='nearest', aspect=\"auto\")\n",
    "plt.show()"
   ]
  },
  {
   "cell_type": "code",
   "execution_count": 16,
   "metadata": {},
   "outputs": [
    {
     "data": {
      "text/plain": [
       "[array([[-0.9209979 , -0.17496067,  0.39992577,  1.3215821 , -0.3959496 ,\n",
       "         -0.26826012, -0.31895775,  1.0181777 ],\n",
       "        [-0.98357004, -0.7776833 , -0.53853184,  0.54648405,  0.1379925 ,\n",
       "          0.26625943, -0.56994563,  0.5262475 ],\n",
       "        [-0.19012643, -0.15641744,  0.4955585 ,  0.32024118, -0.37587285,\n",
       "          0.23558325, -0.35793802,  0.8772675 ],\n",
       "        [-0.12587094, -1.0526037 , -0.43367064,  0.83614767, -0.17428607,\n",
       "          0.3404287 , -0.7846861 ,  0.92708004],\n",
       "        [-0.85285205, -0.6973441 , -0.37144798,  1.279327  , -0.04277664,\n",
       "          0.20613164, -0.05282859,  0.96739066],\n",
       "        [-0.09963638, -0.01772077,  0.13357967,  1.4129795 , -0.07315767,\n",
       "         -0.48574337, -0.19613911,  1.2385446 ],\n",
       "        [-0.14616746, -0.01733013, -0.10145032,  0.39329034,  0.43570554,\n",
       "         -0.34089556, -0.7914348 ,  0.59627265],\n",
       "        [-0.5268434 , -0.38129875,  0.00603467,  0.9589828 , -0.54033667,\n",
       "         -0.3905172 , -1.0649046 ,  0.56312716],\n",
       "        [-0.35688218, -0.8984912 , -0.14423862,  0.5431491 , -0.19548869,\n",
       "          0.20585078, -0.04086825,  1.3765975 ]], dtype=float32),\n",
       " array([ 1.9560704,  1.9421682,  0.       , -1.8801963,  0.       ,\n",
       "         0.       ,  1.9444016, -1.8733451], dtype=float32),\n",
       " array([[-3.9162612 ],\n",
       "        [-4.503235  ],\n",
       "        [-0.48440066],\n",
       "        [ 2.8841095 ],\n",
       "        [-0.00555331],\n",
       "        [-0.6723058 ],\n",
       "        [-4.001362  ],\n",
       "        [ 3.1299226 ]], dtype=float32),\n",
       " array([-1.8636045], dtype=float32)]"
      ]
     },
     "execution_count": 16,
     "metadata": {},
     "output_type": "execute_result"
    }
   ],
   "source": [
    "model.get_weights()"
   ]
  },
  {
   "cell_type": "markdown",
   "metadata": {},
   "source": [
    "We can save the model to a file and load it somewhere else to use it. Since the model can be big (which is not the case here) it is saved as a .h5 file."
   ]
  },
  {
   "cell_type": "code",
   "execution_count": 17,
   "metadata": {},
   "outputs": [],
   "source": [
    "model.save('simple-pixel-seg.h5')"
   ]
  },
  {
   "cell_type": "markdown",
   "metadata": {},
   "source": [
    "To load it somewhere else use the load_model function from the module models of keras."
   ]
  },
  {
   "cell_type": "code",
   "execution_count": 18,
   "metadata": {},
   "outputs": [
    {
     "name": "stdout",
     "output_type": "stream",
     "text": [
      "Model: \"sequential_1\"\n",
      "_________________________________________________________________\n",
      "Layer (type)                 Output Shape              Param #   \n",
      "=================================================================\n",
      "dense_1 (Dense)              (None, 8)                 80        \n",
      "_________________________________________________________________\n",
      "dense_2 (Dense)              (None, 1)                 9         \n",
      "=================================================================\n",
      "Total params: 89\n",
      "Trainable params: 89\n",
      "Non-trainable params: 0\n",
      "_________________________________________________________________\n",
      "None\n"
     ]
    },
    {
     "data": {
      "text/plain": [
       "[array([[-0.9209979 , -0.17496067,  0.39992577,  1.3215821 , -0.3959496 ,\n",
       "         -0.26826012, -0.31895775,  1.0181777 ],\n",
       "        [-0.98357004, -0.7776833 , -0.53853184,  0.54648405,  0.1379925 ,\n",
       "          0.26625943, -0.56994563,  0.5262475 ],\n",
       "        [-0.19012643, -0.15641744,  0.4955585 ,  0.32024118, -0.37587285,\n",
       "          0.23558325, -0.35793802,  0.8772675 ],\n",
       "        [-0.12587094, -1.0526037 , -0.43367064,  0.83614767, -0.17428607,\n",
       "          0.3404287 , -0.7846861 ,  0.92708004],\n",
       "        [-0.85285205, -0.6973441 , -0.37144798,  1.279327  , -0.04277664,\n",
       "          0.20613164, -0.05282859,  0.96739066],\n",
       "        [-0.09963638, -0.01772077,  0.13357967,  1.4129795 , -0.07315767,\n",
       "         -0.48574337, -0.19613911,  1.2385446 ],\n",
       "        [-0.14616746, -0.01733013, -0.10145032,  0.39329034,  0.43570554,\n",
       "         -0.34089556, -0.7914348 ,  0.59627265],\n",
       "        [-0.5268434 , -0.38129875,  0.00603467,  0.9589828 , -0.54033667,\n",
       "         -0.3905172 , -1.0649046 ,  0.56312716],\n",
       "        [-0.35688218, -0.8984912 , -0.14423862,  0.5431491 , -0.19548869,\n",
       "          0.20585078, -0.04086825,  1.3765975 ]], dtype=float32),\n",
       " array([ 1.9560704,  1.9421682,  0.       , -1.8801963,  0.       ,\n",
       "         0.       ,  1.9444016, -1.8733451], dtype=float32),\n",
       " array([[-3.9162612 ],\n",
       "        [-4.503235  ],\n",
       "        [-0.48440066],\n",
       "        [ 2.8841095 ],\n",
       "        [-0.00555331],\n",
       "        [-0.6723058 ],\n",
       "        [-4.001362  ],\n",
       "        [ 3.1299226 ]], dtype=float32),\n",
       " array([-1.8636045], dtype=float32)]"
      ]
     },
     "execution_count": 18,
     "metadata": {},
     "output_type": "execute_result"
    }
   ],
   "source": [
    "from keras.models import load_model\n",
    "model2 = load_model('simple-pixel-seg.h5')\n",
    "print(model2.summary())\n",
    "model2.get_weights()"
   ]
  },
  {
   "cell_type": "markdown",
   "metadata": {
    "colab_type": "text",
    "id": "wzDHnusqWGWn"
   },
   "source": [
    "## Literatur"
   ]
  },
  {
   "cell_type": "markdown",
   "metadata": {
    "colab_type": "text",
    "id": "oNgT5_FHWGWo"
   },
   "source": [
    "[1] Van Rossum G, Drake FL. [Python 3 Reference Manual](https://docs.python.org/3/reference/index.html). Scotts Valley, CA: CreateSpace; 2009.\n",
    "\n",
    "[2] Chollet F. and others. [Keras](https://keras.io). 2015\n",
    "\n",
    "[3] [The MRI machine learning workshop](https://github.com/MontpellierRessourcesImagerie/mri-workshop-machine-learning). 2019\n",
    "\n",
    "[4] Brownlee J. [Your First Deep Learning Project in Python with Keras Step-By-Step](https://machinelearningmastery.com/tutorial-first-neural-network-python-keras/). 2019"
   ]
  }
 ],
 "metadata": {
  "colab": {
   "collapsed_sections": [],
   "name": "Copy of DL01-input-data.ipynb",
   "provenance": [
    {
     "file_id": "https://github.com/MontpellierRessourcesImagerie/DL_EXP_PC/blob/master/DL01-input-data.ipynb",
     "timestamp": 1586429829137
    }
   ],
   "toc_visible": true
  },
  "kernelspec": {
   "display_name": "Python 3",
   "language": "python",
   "name": "python3"
  },
  "language_info": {
   "codemirror_mode": {
    "name": "ipython",
    "version": 3
   },
   "file_extension": ".py",
   "mimetype": "text/x-python",
   "name": "python",
   "nbconvert_exporter": "python",
   "pygments_lexer": "ipython3",
   "version": "3.7.6"
  }
 },
 "nbformat": 4,
 "nbformat_minor": 4
}
