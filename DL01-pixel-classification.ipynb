{
 "cells": [
  {
   "cell_type": "markdown",
   "metadata": {
    "colab_type": "text",
    "id": "0JvwqPl0WGVE"
   },
   "source": [
    "# Deep Learning Experiment - Pixel Classification"
   ]
  },
  {
   "cell_type": "markdown",
   "metadata": {
    "colab_type": "text",
    "id": "CLQjiDQLWGVH"
   },
   "source": [
    "## Abstract"
   ]
  },
  {
   "cell_type": "markdown",
   "metadata": {
    "colab_type": "text",
    "id": "3oZUY9DhWGVJ"
   },
   "source": [
    "We take a naive approach to pixel classification (image segmentation) by machine learning with artificial neural networks. The focus here is on exploring practical issues like the preparation of data, python [1] programming and the use of the keras library [2]. The theroretical background of machine learning and deep learning is treated elsewhere [3].\n",
    "\n",
    "Since we know that vectors of measurements can be classified by neural networks, we attempt to do image segmentation in the same way. We consider the NxN environment of each pixel of an image as a feature vector and classify each pixel as either belonging to the background or to an object of interest. Given a number of input images and corresponding ground truth images we extract the training and validation data. We build a neural network using keras, train it with the extracted training data and vaildate it using the extracted validation data. The created classidier is then applied on input images to create a segmentation mask and a probability map. \n",
    "\n",
    "The python programming constructs are explained along the process."
   ]
  },
  {
   "cell_type": "markdown",
   "metadata": {
    "colab_type": "text",
    "id": "ukX7LPh_vFBL"
   },
   "source": [
    "## Setup for Colab\n",
    "\n",
    "When running in google colab, we need to install tifffile and update the keras version. We also need to download the dataset. "
   ]
  },
  {
   "cell_type": "code",
   "execution_count": 1,
   "metadata": {
    "colab": {},
    "colab_type": "code",
    "id": "N01GIurYvqNL"
   },
   "outputs": [],
   "source": [
    "import os\n",
    "if  not os.path.isdir('./training'):\n",
    "  !pip install tifffile\n",
    "  !pip install -U keras\n",
    "  !pip install mpld3\n",
    "  !cd /content/ && git clone https://github.com/MontpellierRessourcesImagerie/DL_EXP_PC.git && cp -r DL_EXP_PC/data . && cp -r DL_EXP_PC/training ."
   ]
  },
  {
   "cell_type": "markdown",
   "metadata": {
    "colab_type": "text",
    "id": "RmPLXqLOWGVL"
   },
   "source": [
    "## Reading in the training data"
   ]
  },
  {
   "cell_type": "markdown",
   "metadata": {
    "colab_type": "text",
    "id": "5eXwA7DgWGVN"
   },
   "source": [
    "For simplicity we will use one image to construct the input data for now. We will generalize this to multiple images later. We have one input image and a correcponding ground-truth image as our training input.\n",
    "\n",
    "As the input of the neural network we need a matrix X containing the input data and a vector y containing the classification for each row in the input matrix. We will construct X and y from the input dataset by first looking at the ground truth images and randomly choosing a number S of foreground samples and a number S of background samples. "
   ]
  },
  {
   "cell_type": "markdown",
   "metadata": {
    "colab_type": "text",
    "id": "fmiMf96XWGVO"
   },
   "source": [
    "We set the paths to the input image and the ground-truth image, the patch size N and the number of samples S of foreground and background values."
   ]
  },
  {
   "cell_type": "code",
   "execution_count": 2,
   "metadata": {
    "colab": {},
    "colab_type": "code",
    "id": "zURDAcw-WGVQ"
   },
   "outputs": [],
   "source": [
    "inputPath = './training/spots.tif'\n",
    "gtPath = './training/spots-gt.tif'\n",
    "N = 3\n",
    "S = 20000"
   ]
  },
  {
   "cell_type": "markdown",
   "metadata": {
    "colab_type": "text",
    "id": "eVzGxcmRWGVa"
   },
   "source": [
    "We read in the input and the ground-truth image as numpy matrices."
   ]
  },
  {
   "cell_type": "code",
   "execution_count": 3,
   "metadata": {
    "colab": {},
    "colab_type": "code",
    "id": "zBVqP954WGVb"
   },
   "outputs": [
    {
     "name": "stdout",
     "output_type": "stream",
     "text": [
      "(1830, 1980)\n"
     ]
    }
   ],
   "source": [
    "import tifffile as tiff\n",
    "gtImage = tiff.imread(gtPath)\n",
    "inputImage = tiff.imread(inputPath) / 255\n",
    "print(inputImage.shape)"
   ]
  },
  {
   "cell_type": "markdown",
   "metadata": {
    "colab_type": "text",
    "id": "mtHLUTHdWGVi"
   },
   "source": [
    "We filter out the background samples and the object samples from the ground-truth image."
   ]
  },
  {
   "cell_type": "code",
   "execution_count": 4,
   "metadata": {
    "colab": {
     "base_uri": "https://localhost:8080/",
     "height": 52
    },
    "colab_type": "code",
    "executionInfo": {
     "elapsed": 1597,
     "status": "ok",
     "timestamp": 1586430002490,
     "user": {
      "displayName": "Volker Bäcker",
      "photoUrl": "https://lh3.googleusercontent.com/a-/AOh14GjEu5wjN2vCYiy08xA1eynmYpMhOc6dLWwRZvWdJbI=s64",
      "userId": "10406901054643491303"
     },
     "user_tz": -120
    },
    "id": "rpuATQFJWGVj",
    "outputId": "5d501a88-963a-47c1-869f-39ea0a573dd5"
   },
   "outputs": [
    {
     "name": "stdout",
     "output_type": "stream",
     "text": [
      "[(0, 0), (0, 1), (0, 2), (0, 3), (0, 4), (0, 5), (0, 6), (0, 7), (0, 8), (0, 9)] nr.: 3412479\n",
      "[(36, 1765), (36, 1766), (36, 1767), (36, 1768), (36, 1769), (37, 1764), (37, 1765), (37, 1766), (37, 1767), (37, 1768)] nr.: 210921\n"
     ]
    }
   ],
   "source": [
    "import numpy as np\n",
    "foregroundY, foregroundX = gtImage.nonzero()\n",
    "foreground = list(zip(foregroundY, foregroundX))\n",
    "backgroundY, backgroundX = (gtImage==0).nonzero()\n",
    "background = list(zip(backgroundY, backgroundX))\n",
    "print(background[0:10], \"nr.:\", len(background))\n",
    "print(foreground[0:10], \"nr.:\", len(foreground))"
   ]
  },
  {
   "cell_type": "markdown",
   "metadata": {
    "colab_type": "text",
    "id": "PUDV-eOoWGVr"
   },
   "source": [
    "We select S randomly choosen coordinates from the foreground and S randomly choosen coordinates from the background. We do not take coordinates close to the borders for which the whole neighborhood is not inside of the image."
   ]
  },
  {
   "cell_type": "code",
   "execution_count": 5,
   "metadata": {
    "colab": {
     "base_uri": "https://localhost:8080/",
     "height": 52
    },
    "colab_type": "code",
    "executionInfo": {
     "elapsed": 1093,
     "status": "ok",
     "timestamp": 1586430022323,
     "user": {
      "displayName": "Volker Bäcker",
      "photoUrl": "https://lh3.googleusercontent.com/a-/AOh14GjEu5wjN2vCYiy08xA1eynmYpMhOc6dLWwRZvWdJbI=s64",
      "userId": "10406901054643491303"
     },
     "user_tz": -120
    },
    "id": "wA2p8iDNWGVs",
    "outputId": "6d40c370-6ba6-465b-b350-7a2ed3ec73a9"
   },
   "outputs": [
    {
     "name": "stdout",
     "output_type": "stream",
     "text": [
      "[(806, 1852), (929, 270), (1125, 478), (165, 842), (1116, 464), (1493, 1788), (931, 288), (500, 1800), (374, 627), (707, 1179)]\n",
      "[(1675, 1444), (266, 1939), (643, 1385), (1784, 225), (526, 1820), (1458, 1153), (350, 892), (610, 703), (1038, 750), (1600, 1692)]\n"
     ]
    }
   ],
   "source": [
    "from random import randint\n",
    "height, width = gtImage.shape\n",
    "def getNCoordinateSamplesFrom(n, aList, minX, maxX, minY, maxY):\n",
    "    samples = []\n",
    "    for _ in range(n):\n",
    "        r = randint(0,len(aList)-1)\n",
    "        coords = aList[r]\n",
    "        while coords[0]<=minY or coords[0]>=maxY or coords[1]<=minX or coords[1]>=maxX:    \n",
    "            r = randint(0,len(foreground)-1)\n",
    "            coords = foreground[r]\n",
    "        samples.append(coords)\n",
    "    return samples\n",
    "FS = getNCoordinateSamplesFrom(S, foreground, N//2, width-N//2, N//2, height-N//2)\n",
    "BS = getNCoordinateSamplesFrom(S, background, N//2, width-N//2, N//2, height-N//2)\n",
    "print(FS[0:10])\n",
    "print(BS[0:10])"
   ]
  },
  {
   "cell_type": "markdown",
   "metadata": {
    "colab_type": "text",
    "id": "yOk9SchDWGVz"
   },
   "source": [
    "We create X and y by using the data at the sampled positions in the input image. Since we have separate lists of foreground and background samples, we know to which class each sample must be assigned."
   ]
  },
  {
   "cell_type": "code",
   "execution_count": 6,
   "metadata": {
    "colab": {
     "base_uri": "https://localhost:8080/",
     "height": 191
    },
    "colab_type": "code",
    "executionInfo": {
     "elapsed": 1200,
     "status": "ok",
     "timestamp": 1586430030959,
     "user": {
      "displayName": "Volker Bäcker",
      "photoUrl": "https://lh3.googleusercontent.com/a-/AOh14GjEu5wjN2vCYiy08xA1eynmYpMhOc6dLWwRZvWdJbI=s64",
      "userId": "10406901054643491303"
     },
     "user_tz": -120
    },
    "id": "W7iFQ9YyWGV0",
    "outputId": "072f3e82-e54a-4d83-ffdf-6b1b84dc3282"
   },
   "outputs": [
    {
     "name": "stdout",
     "output_type": "stream",
     "text": [
      "foreground samples\n",
      " [[0.38823529 0.49019608 0.46666667 0.42352941 0.40784314 0.47058824\n",
      "  0.38823529 0.38431373 0.43529412]\n",
      " [0.45490196 0.45490196 0.47058824 0.41176471 0.44705882 0.46666667\n",
      "  0.41176471 0.45098039 0.45490196]\n",
      " [0.41568627 0.43921569 0.36470588 0.41176471 0.4        0.37254902\n",
      "  0.43921569 0.41960784 0.37254902]\n",
      " [0.45490196 0.47058824 0.47058824 0.47843137 0.48627451 0.46666667\n",
      "  0.48235294 0.48627451 0.48627451]\n",
      " [0.49803922 0.49019608 0.52156863 0.51372549 0.49019608 0.4627451\n",
      "  0.49019608 0.49019608 0.46666667]] [1 1 1 1 1]\n",
      "background samples\n",
      " [[0.31764706 0.3254902  0.33333333 0.32156863 0.33333333 0.32156863\n",
      "  0.3254902  0.34117647 0.32941176]\n",
      " [0.29803922 0.31764706 0.32941176 0.31372549 0.31764706 0.32941176\n",
      "  0.29019608 0.29803922 0.35686275]\n",
      " [0.31372549 0.3254902  0.30588235 0.32941176 0.3254902  0.30196078\n",
      "  0.32941176 0.29411765 0.31372549]\n",
      " [0.36078431 0.32941176 0.32156863 0.3254902  0.33333333 0.33333333\n",
      "  0.29019608 0.34117647 0.32156863]\n",
      " [0.29803922 0.30588235 0.31764706 0.29803922 0.32941176 0.31372549\n",
      "  0.3372549  0.31764706 0.30588235]] [0 0 0 0 0]\n"
     ]
    }
   ],
   "source": [
    "def addSamplesToTrainingData(n, image, samples, X, y, target):\n",
    "    start = -n//2 + 1\n",
    "    stop = -start + 1\n",
    "    for ys, xs in samples:\n",
    "        vector = []\n",
    "        for i in range(start, stop):\n",
    "            for j in range(start, stop):\n",
    "                vector.append(image[ys+i,xs+j])\n",
    "        X.append(vector)\n",
    "        y.append(target)\n",
    "    return X, y\n",
    "X = []\n",
    "y = []\n",
    "addSamplesToTrainingData(N, inputImage, FS, X, y, 1)\n",
    "addSamplesToTrainingData(N, inputImage, BS, X, y, 0)\n",
    "X = np.array(X)\n",
    "y = np.array(y)\n",
    "print(\"foreground samples\\n\", X[0:5], y[0:5])\n",
    "print(\"background samples\\n\", X[S:S+5], y[S:S+5])"
   ]
  },
  {
   "cell_type": "markdown",
   "metadata": {},
   "source": [
    "The way we created X and y, we have S foreground samples followed by S background samples. This might not be ideal. The training will be done in mini-batches. The data will be shuffled automatically in the training before the mini-batches are created. However for validation a fraction of the data is taken from the end of the data before the shuffling is done. We therefore shuffle the data now."
   ]
  },
  {
   "cell_type": "code",
   "execution_count": 7,
   "metadata": {},
   "outputs": [
    {
     "name": "stdout",
     "output_type": "stream",
     "text": [
      "first 5 of mixed samples\n",
      " [[0.50980392 0.4        0.42352941 0.44313725 0.49019608 0.48235294\n",
      "  0.47058824 0.4745098  0.50196078]\n",
      " [0.3254902  0.3254902  0.3254902  0.3372549  0.30980392 0.30196078\n",
      "  0.32941176 0.33333333 0.32156863]\n",
      " [0.30980392 0.31372549 0.32156863 0.28627451 0.29803922 0.30196078\n",
      "  0.29411765 0.29803922 0.30588235]\n",
      " [0.44705882 0.47843137 0.49411765 0.45098039 0.4745098  0.48627451\n",
      "  0.46666667 0.46666667 0.47843137]\n",
      " [0.27843137 0.29411765 0.29803922 0.28627451 0.27843137 0.27843137\n",
      "  0.29803922 0.30196078 0.27058824]] [1 0 0 1 0]\n",
      "last 5 of mixed samples\n",
      " [[0.30196078 0.30588235 0.31372549 0.3254902  0.30588235 0.28235294\n",
      "  0.30588235 0.30980392 0.28627451]\n",
      " [0.2745098  0.31764706 0.29411765 0.29019608 0.30196078 0.30588235\n",
      "  0.31372549 0.28627451 0.29411765]\n",
      " [0.45490196 0.52156863 0.45098039 0.5254902  0.49803922 0.51372549\n",
      "  0.5254902  0.50196078 0.45882353]\n",
      " [0.30196078 0.28235294 0.31764706 0.30588235 0.29411765 0.29411765\n",
      "  0.29803922 0.30588235 0.31764706]\n",
      " [0.42745098 0.40784314 0.43137255 0.37254902 0.42745098 0.38823529\n",
      "  0.36862745 0.37647059 0.39215686]] [0 0 1 0 1]\n"
     ]
    }
   ],
   "source": [
    "seed = np.random.randint(0, 2**(32 - 1) - 1) \n",
    "rstate = np.random.RandomState(seed)\n",
    "rstate.shuffle(X)\n",
    "rstate = np.random.RandomState(seed)\n",
    "rstate.shuffle(y)\n",
    "print(\"first 5 of mixed samples\\n\", X[0:5], y[0:5])\n",
    "print(\"last 5 of mixed samples\\n\", X[S:S+5], y[S:S+5])"
   ]
  },
  {
   "cell_type": "markdown",
   "metadata": {
    "colab_type": "text",
    "id": "Zoc2lxQ2WGV6"
   },
   "source": [
    "## Creating a network using keras"
   ]
  },
  {
   "cell_type": "markdown",
   "metadata": {
    "colab_type": "text",
    "id": "jRU1ZcOKWGV6"
   },
   "source": [
    "As a first approach we create a simple, densly connected network with 4 layers inspired by [[4]](https://machinelearningmastery.com/tutorial-first-neural-network-python-keras/). We visualize the network architecture."
   ]
  },
  {
   "cell_type": "code",
   "execution_count": 8,
   "metadata": {
    "colab": {
     "base_uri": "https://localhost:8080/",
     "height": 504
    },
    "colab_type": "code",
    "executionInfo": {
     "elapsed": 3468,
     "status": "ok",
     "timestamp": 1586430041349,
     "user": {
      "displayName": "Volker Bäcker",
      "photoUrl": "https://lh3.googleusercontent.com/a-/AOh14GjEu5wjN2vCYiy08xA1eynmYpMhOc6dLWwRZvWdJbI=s64",
      "userId": "10406901054643491303"
     },
     "user_tz": -120
    },
    "id": "KOOFecMXWGV7",
    "outputId": "e0a5836b-ca3b-41b0-ca9a-db41d655e692"
   },
   "outputs": [
    {
     "name": "stderr",
     "output_type": "stream",
     "text": [
      "Using TensorFlow backend.\n"
     ]
    },
    {
     "name": "stdout",
     "output_type": "stream",
     "text": [
      "Model: \"sequential_1\"\n",
      "_________________________________________________________________\n",
      "Layer (type)                 Output Shape              Param #   \n",
      "=================================================================\n",
      "dense_1 (Dense)              (None, 8)                 80        \n",
      "_________________________________________________________________\n",
      "dense_2 (Dense)              (None, 1)                 9         \n",
      "=================================================================\n",
      "Total params: 89\n",
      "Trainable params: 89\n",
      "Non-trainable params: 0\n",
      "_________________________________________________________________\n"
     ]
    },
    {
     "data": {
      "image/svg+xml": [
       "<svg height=\"200pt\" viewBox=\"0.00 0.00 295.00 221.00\" width=\"266pt\" xmlns=\"http://www.w3.org/2000/svg\" xmlns:xlink=\"http://www.w3.org/1999/xlink\">\n",
       "<g class=\"graph\" id=\"graph0\" transform=\"scale(.9028 .9028) rotate(0) translate(4 217)\">\n",
       "<title>G</title>\n",
       "<polygon fill=\"#ffffff\" points=\"-4,4 -4,-217 291,-217 291,4 -4,4\" stroke=\"transparent\"/>\n",
       "<!-- 140412872403408 -->\n",
       "<g class=\"node\" id=\"node1\">\n",
       "<title>140412872403408</title>\n",
       "<polygon fill=\"none\" points=\"0,-166.5 0,-212.5 287,-212.5 287,-166.5 0,-166.5\" stroke=\"#000000\"/>\n",
       "<text fill=\"#000000\" font-family=\"Times,serif\" font-size=\"14.00\" text-anchor=\"middle\" x=\"81.5\" y=\"-185.8\">dense_1_input: InputLayer</text>\n",
       "<polyline fill=\"none\" points=\"163,-166.5 163,-212.5 \" stroke=\"#000000\"/>\n",
       "<text fill=\"#000000\" font-family=\"Times,serif\" font-size=\"14.00\" text-anchor=\"middle\" x=\"190.5\" y=\"-197.3\">input:</text>\n",
       "<polyline fill=\"none\" points=\"163,-189.5 218,-189.5 \" stroke=\"#000000\"/>\n",
       "<text fill=\"#000000\" font-family=\"Times,serif\" font-size=\"14.00\" text-anchor=\"middle\" x=\"190.5\" y=\"-174.3\">output:</text>\n",
       "<polyline fill=\"none\" points=\"218,-166.5 218,-212.5 \" stroke=\"#000000\"/>\n",
       "<text fill=\"#000000\" font-family=\"Times,serif\" font-size=\"14.00\" text-anchor=\"middle\" x=\"252.5\" y=\"-197.3\">(None, 9)</text>\n",
       "<polyline fill=\"none\" points=\"218,-189.5 287,-189.5 \" stroke=\"#000000\"/>\n",
       "<text fill=\"#000000\" font-family=\"Times,serif\" font-size=\"14.00\" text-anchor=\"middle\" x=\"252.5\" y=\"-174.3\">(None, 9)</text>\n",
       "</g>\n",
       "<!-- 140415306646864 -->\n",
       "<g class=\"node\" id=\"node2\">\n",
       "<title>140415306646864</title>\n",
       "<polygon fill=\"none\" points=\"30.5,-83.5 30.5,-129.5 256.5,-129.5 256.5,-83.5 30.5,-83.5\" stroke=\"#000000\"/>\n",
       "<text fill=\"#000000\" font-family=\"Times,serif\" font-size=\"14.00\" text-anchor=\"middle\" x=\"81.5\" y=\"-102.8\">dense_1: Dense</text>\n",
       "<polyline fill=\"none\" points=\"132.5,-83.5 132.5,-129.5 \" stroke=\"#000000\"/>\n",
       "<text fill=\"#000000\" font-family=\"Times,serif\" font-size=\"14.00\" text-anchor=\"middle\" x=\"160\" y=\"-114.3\">input:</text>\n",
       "<polyline fill=\"none\" points=\"132.5,-106.5 187.5,-106.5 \" stroke=\"#000000\"/>\n",
       "<text fill=\"#000000\" font-family=\"Times,serif\" font-size=\"14.00\" text-anchor=\"middle\" x=\"160\" y=\"-91.3\">output:</text>\n",
       "<polyline fill=\"none\" points=\"187.5,-83.5 187.5,-129.5 \" stroke=\"#000000\"/>\n",
       "<text fill=\"#000000\" font-family=\"Times,serif\" font-size=\"14.00\" text-anchor=\"middle\" x=\"222\" y=\"-114.3\">(None, 9)</text>\n",
       "<polyline fill=\"none\" points=\"187.5,-106.5 256.5,-106.5 \" stroke=\"#000000\"/>\n",
       "<text fill=\"#000000\" font-family=\"Times,serif\" font-size=\"14.00\" text-anchor=\"middle\" x=\"222\" y=\"-91.3\">(None, 8)</text>\n",
       "</g>\n",
       "<!-- 140412872403408&#45;&gt;140415306646864 -->\n",
       "<g class=\"edge\" id=\"edge1\">\n",
       "<title>140412872403408-&gt;140415306646864</title>\n",
       "<path d=\"M143.5,-166.3799C143.5,-158.1745 143.5,-148.7679 143.5,-139.8786\" fill=\"none\" stroke=\"#000000\"/>\n",
       "<polygon fill=\"#000000\" points=\"147.0001,-139.784 143.5,-129.784 140.0001,-139.784 147.0001,-139.784\" stroke=\"#000000\"/>\n",
       "</g>\n",
       "<!-- 140413242674960 -->\n",
       "<g class=\"node\" id=\"node3\">\n",
       "<title>140413242674960</title>\n",
       "<polygon fill=\"none\" points=\"30.5,-.5 30.5,-46.5 256.5,-46.5 256.5,-.5 30.5,-.5\" stroke=\"#000000\"/>\n",
       "<text fill=\"#000000\" font-family=\"Times,serif\" font-size=\"14.00\" text-anchor=\"middle\" x=\"81.5\" y=\"-19.8\">dense_2: Dense</text>\n",
       "<polyline fill=\"none\" points=\"132.5,-.5 132.5,-46.5 \" stroke=\"#000000\"/>\n",
       "<text fill=\"#000000\" font-family=\"Times,serif\" font-size=\"14.00\" text-anchor=\"middle\" x=\"160\" y=\"-31.3\">input:</text>\n",
       "<polyline fill=\"none\" points=\"132.5,-23.5 187.5,-23.5 \" stroke=\"#000000\"/>\n",
       "<text fill=\"#000000\" font-family=\"Times,serif\" font-size=\"14.00\" text-anchor=\"middle\" x=\"160\" y=\"-8.3\">output:</text>\n",
       "<polyline fill=\"none\" points=\"187.5,-.5 187.5,-46.5 \" stroke=\"#000000\"/>\n",
       "<text fill=\"#000000\" font-family=\"Times,serif\" font-size=\"14.00\" text-anchor=\"middle\" x=\"222\" y=\"-31.3\">(None, 8)</text>\n",
       "<polyline fill=\"none\" points=\"187.5,-23.5 256.5,-23.5 \" stroke=\"#000000\"/>\n",
       "<text fill=\"#000000\" font-family=\"Times,serif\" font-size=\"14.00\" text-anchor=\"middle\" x=\"222\" y=\"-8.3\">(None, 1)</text>\n",
       "</g>\n",
       "<!-- 140415306646864&#45;&gt;140413242674960 -->\n",
       "<g class=\"edge\" id=\"edge2\">\n",
       "<title>140415306646864-&gt;140413242674960</title>\n",
       "<path d=\"M143.5,-83.3799C143.5,-75.1745 143.5,-65.7679 143.5,-56.8786\" fill=\"none\" stroke=\"#000000\"/>\n",
       "<polygon fill=\"#000000\" points=\"147.0001,-56.784 143.5,-46.784 140.0001,-56.784 147.0001,-56.784\" stroke=\"#000000\"/>\n",
       "</g>\n",
       "</g>\n",
       "</svg>"
      ],
      "text/plain": [
       "<IPython.core.display.SVG object>"
      ]
     },
     "execution_count": 8,
     "metadata": {},
     "output_type": "execute_result"
    }
   ],
   "source": [
    "from keras.models import Sequential\n",
    "from keras.layers import Dense\n",
    "from IPython.display import SVG\n",
    "from keras.utils import model_to_dot\n",
    "\n",
    "model = Sequential()\n",
    "model.add(Dense(N*N-1, input_dim=(N*N), activation='relu'))\n",
    "model.add(Dense(1, activation='sigmoid'))\n",
    "model.compile(loss='binary_crossentropy', optimizer='rmsprop', metrics=['accuracy'])\n",
    "model.summary()\n",
    "SVG(model_to_dot(model, show_shapes=True, show_layer_names=True, dpi=65).create(prog='dot', format='svg'))"
   ]
  },
  {
   "cell_type": "markdown",
   "metadata": {
    "colab_type": "text",
    "id": "migHcEROWGWB"
   },
   "source": [
    "## Training the network"
   ]
  },
  {
   "cell_type": "markdown",
   "metadata": {
    "colab_type": "text",
    "id": "jUZtk-YjWGWB"
   },
   "source": [
    "We now run the training of the network and calculate and display the trainig loss and accuracy. We also use one fouth of the data for validation and calculate the validation accuracy and loss."
   ]
  },
  {
   "cell_type": "code",
   "execution_count": 9,
   "metadata": {
    "colab": {
     "base_uri": "https://localhost:8080/",
     "height": 34
    },
    "colab_type": "code",
    "executionInfo": {
     "elapsed": 38844,
     "status": "ok",
     "timestamp": 1586430086308,
     "user": {
      "displayName": "Volker Bäcker",
      "photoUrl": "https://lh3.googleusercontent.com/a-/AOh14GjEu5wjN2vCYiy08xA1eynmYpMhOc6dLWwRZvWdJbI=s64",
      "userId": "10406901054643491303"
     },
     "user_tz": -120
    },
    "id": "nfoOfPlTWGWD",
    "outputId": "392037c8-60cc-4d93-c9bb-49e4e4334ddb"
   },
   "outputs": [
    {
     "name": "stdout",
     "output_type": "stream",
     "text": [
      "Loss:  0.046133837470412255 Accuracy:  0.988099992275238\n",
      "CPU times: user 7.58 s, sys: 560 ms, total: 8.14 s\n",
      "Wall time: 4.74 s\n"
     ]
    }
   ],
   "source": [
    "%%time\n",
    "history = model.fit(X, y, validation_split=0.25, epochs=25, batch_size=128, verbose=0)\n",
    "print(\"Loss: \", history.history['val_loss'][-1], \"Accuracy: \", history.history['val_accuracy'][-1])"
   ]
  },
  {
   "cell_type": "markdown",
   "metadata": {
    "colab_type": "text",
    "id": "gpGoDtb9WGWI"
   },
   "source": [
    "We visualize the training accuracy and loss history."
   ]
  },
  {
   "cell_type": "code",
   "execution_count": 24,
   "metadata": {
    "colab": {
     "base_uri": "https://localhost:8080/",
     "height": 573
    },
    "colab_type": "code",
    "executionInfo": {
     "elapsed": 1723,
     "status": "ok",
     "timestamp": 1586430093938,
     "user": {
      "displayName": "Volker Bäcker",
      "photoUrl": "https://lh3.googleusercontent.com/a-/AOh14GjEu5wjN2vCYiy08xA1eynmYpMhOc6dLWwRZvWdJbI=s64",
      "userId": "10406901054643491303"
     },
     "user_tz": -120
    },
    "id": "GjA7Hq9uWGWK",
    "outputId": "c9125504-d65c-4bf1-a194-c6723f908aa5"
   },
   "outputs": [
    {
     "data": {
      "text/html": [
       "\n",
       "\n",
       "<style>\n",
       "\n",
       "</style>\n",
       "\n",
       "<div id=\"fig_el192311404130923905443565811254\"></div>\n",
       "<script>\n",
       "function mpld3_load_lib(url, callback){\n",
       "  var s = document.createElement('script');\n",
       "  s.src = url;\n",
       "  s.async = true;\n",
       "  s.onreadystatechange = s.onload = callback;\n",
       "  s.onerror = function(){console.warn(\"failed to load library \" + url);};\n",
       "  document.getElementsByTagName(\"head\")[0].appendChild(s);\n",
       "}\n",
       "\n",
       "if(typeof(mpld3) !== \"undefined\" && mpld3._mpld3IsLoaded){\n",
       "   // already loaded: just create the figure\n",
       "   !function(mpld3){\n",
       "       \n",
       "       mpld3.draw_figure(\"fig_el192311404130923905443565811254\", {\"width\": 1080.0, \"height\": 360.0, \"axes\": [{\"bbox\": [0.07361111111111111, 0.20416666666666672, 0.4125, 0.6680555555555554], \"xlim\": [-0.20000000000000018, 26.2], \"ylim\": [0.46817499995231626, 1.0128583252429961], \"xdomain\": [-0.20000000000000018, 26.2], \"ydomain\": [0.46817499995231626, 1.0128583252429961], \"xscale\": \"linear\", \"yscale\": \"linear\", \"axes\": [{\"position\": \"bottom\", \"nticks\": 8, \"tickvalues\": null, \"tickformat\": null, \"scale\": \"linear\", \"fontsize\": 10.0, \"grid\": {\"gridOn\": false}, \"visible\": true}, {\"position\": \"left\", \"nticks\": 8, \"tickvalues\": null, \"tickformat\": null, \"scale\": \"linear\", \"fontsize\": 10.0, \"grid\": {\"gridOn\": false}, \"visible\": true}], \"axesbg\": \"#FFFFFF\", \"axesbgalpha\": null, \"zoomable\": true, \"id\": \"el19231140413092391120\", \"lines\": [{\"data\": \"data01\", \"xindex\": 0, \"yindex\": 1, \"coordinates\": \"data\", \"id\": \"el19231140415778002704\", \"color\": \"#1F77B4\", \"linewidth\": 1.5, \"dasharray\": \"none\", \"alpha\": 1, \"zorder\": 2, \"drawstyle\": \"default\"}, {\"data\": \"data01\", \"xindex\": 0, \"yindex\": 2, \"coordinates\": \"data\", \"id\": \"el19231140415778003920\", \"color\": \"#FF7F0E\", \"linewidth\": 1.5, \"dasharray\": \"none\", \"alpha\": 1, \"zorder\": 2, \"drawstyle\": \"default\"}, {\"data\": \"data02\", \"xindex\": 0, \"yindex\": 1, \"coordinates\": \"axes\", \"id\": \"el19231140415776963152\", \"color\": \"#1F77B4\", \"linewidth\": 1.5, \"dasharray\": \"none\", \"alpha\": 1, \"zorder\": 1000002.0, \"drawstyle\": \"default\"}, {\"data\": \"data02\", \"xindex\": 0, \"yindex\": 2, \"coordinates\": \"axes\", \"id\": \"el19231140415778405264\", \"color\": \"#FF7F0E\", \"linewidth\": 1.5, \"dasharray\": \"none\", \"alpha\": 1, \"zorder\": 1000002.0, \"drawstyle\": \"default\"}], \"paths\": [{\"data\": \"data03\", \"xindex\": 0, \"yindex\": 1, \"coordinates\": \"axes\", \"pathcodes\": [\"M\", \"L\", \"S\", \"L\", \"S\", \"L\", \"S\", \"L\", \"S\", \"Z\"], \"id\": \"el19231140415777718992\", \"dasharray\": \"none\", \"alpha\": 0.8, \"facecolor\": \"#FFFFFF\", \"edgecolor\": \"#CCCCCC\", \"edgewidth\": 1.0, \"zorder\": 1000000.0}], \"markers\": [], \"texts\": [{\"text\": \"Epoch\", \"position\": [0.5, -0.13929313929313933], \"coordinates\": \"axes\", \"h_anchor\": \"middle\", \"v_baseline\": \"hanging\", \"rotation\": -0.0, \"fontsize\": 10.0, \"color\": \"#000000\", \"alpha\": 1, \"zorder\": 3, \"id\": \"el19231140413092813392\"}, {\"text\": \"Accuracy\", \"position\": [-0.08866442199775534, 0.5], \"coordinates\": \"axes\", \"h_anchor\": \"middle\", \"v_baseline\": \"auto\", \"rotation\": -90.0, \"fontsize\": 10.0, \"color\": \"#000000\", \"alpha\": 1, \"zorder\": 3, \"id\": \"el19231140415316627216\"}, {\"text\": \"Model accuracy\", \"position\": [0.5, 1.024948024948025], \"coordinates\": \"axes\", \"h_anchor\": \"middle\", \"v_baseline\": \"auto\", \"rotation\": -0.0, \"fontsize\": 12.0, \"color\": \"#000000\", \"alpha\": 1, \"zorder\": 3, \"id\": \"el19231140415777721360\"}, {\"text\": \"Training\", \"position\": [0.8667227833894502, 0.10810810810810817], \"coordinates\": \"axes\", \"h_anchor\": \"start\", \"v_baseline\": \"auto\", \"rotation\": -0.0, \"fontsize\": 10.0, \"color\": \"#000000\", \"alpha\": 1, \"zorder\": 1000003.0, \"id\": \"el19231140415778403728\"}, {\"text\": \"Validation\", \"position\": [0.8667227833894502, 0.04573804573804574], \"coordinates\": \"axes\", \"h_anchor\": \"start\", \"v_baseline\": \"auto\", \"rotation\": -0.0, \"fontsize\": 10.0, \"color\": \"#000000\", \"alpha\": 1, \"zorder\": 1000003.0, \"id\": \"el19231140415778402704\"}], \"collections\": [], \"images\": [], \"sharex\": [], \"sharey\": []}, {\"bbox\": [0.5597222222222222, 0.20416666666666672, 0.4125, 0.6680555555555554], \"xlim\": [-0.20000000000000018, 26.2], \"ylim\": [0.0127162585819761, 0.70042177725782], \"xdomain\": [-0.20000000000000018, 26.2], \"ydomain\": [0.0127162585819761, 0.70042177725782], \"xscale\": \"linear\", \"yscale\": \"linear\", \"axes\": [{\"position\": \"bottom\", \"nticks\": 8, \"tickvalues\": null, \"tickformat\": null, \"scale\": \"linear\", \"fontsize\": 10.0, \"grid\": {\"gridOn\": false}, \"visible\": true}, {\"position\": \"left\", \"nticks\": 9, \"tickvalues\": null, \"tickformat\": null, \"scale\": \"linear\", \"fontsize\": 10.0, \"grid\": {\"gridOn\": false}, \"visible\": true}], \"axesbg\": \"#FFFFFF\", \"axesbgalpha\": null, \"zoomable\": true, \"id\": \"el19231140415778001936\", \"lines\": [{\"data\": \"data01\", \"xindex\": 0, \"yindex\": 3, \"coordinates\": \"data\", \"id\": \"el19231140415777702992\", \"color\": \"#1F77B4\", \"linewidth\": 1.5, \"dasharray\": \"none\", \"alpha\": 1, \"zorder\": 2, \"drawstyle\": \"default\"}, {\"data\": \"data01\", \"xindex\": 0, \"yindex\": 4, \"coordinates\": \"data\", \"id\": \"el19231140415777704016\", \"color\": \"#FF7F0E\", \"linewidth\": 1.5, \"dasharray\": \"none\", \"alpha\": 1, \"zorder\": 2, \"drawstyle\": \"default\"}, {\"data\": \"data02\", \"xindex\": 0, \"yindex\": 3, \"coordinates\": \"axes\", \"id\": \"el19231140415778404304\", \"color\": \"#1F77B4\", \"linewidth\": 1.5, \"dasharray\": \"none\", \"alpha\": 1, \"zorder\": 1000002.0, \"drawstyle\": \"default\"}, {\"data\": \"data02\", \"xindex\": 0, \"yindex\": 4, \"coordinates\": \"axes\", \"id\": \"el19231140415778374928\", \"color\": \"#FF7F0E\", \"linewidth\": 1.5, \"dasharray\": \"none\", \"alpha\": 1, \"zorder\": 1000002.0, \"drawstyle\": \"default\"}], \"paths\": [{\"data\": \"data03\", \"xindex\": 0, \"yindex\": 2, \"coordinates\": \"axes\", \"pathcodes\": [\"M\", \"L\", \"S\", \"L\", \"S\", \"L\", \"S\", \"L\", \"S\", \"Z\"], \"id\": \"el19231140415778405200\", \"dasharray\": \"none\", \"alpha\": 0.8, \"facecolor\": \"#FFFFFF\", \"edgecolor\": \"#CCCCCC\", \"edgewidth\": 1.0, \"zorder\": 1000000.0}], \"markers\": [], \"texts\": [{\"text\": \"Epoch\", \"position\": [0.5, -0.13929313929313933], \"coordinates\": \"axes\", \"h_anchor\": \"middle\", \"v_baseline\": \"hanging\", \"rotation\": -0.0, \"fontsize\": 10.0, \"color\": \"#000000\", \"alpha\": 1, \"zorder\": 3, \"id\": \"el19231140415778114256\"}, {\"text\": \"Loss\", \"position\": [-0.08866442199775548, 0.5], \"coordinates\": \"axes\", \"h_anchor\": \"middle\", \"v_baseline\": \"auto\", \"rotation\": -90.0, \"fontsize\": 10.0, \"color\": \"#000000\", \"alpha\": 1, \"zorder\": 3, \"id\": \"el19231140415778404112\"}, {\"text\": \"Model loss\", \"position\": [0.5, 1.024948024948025], \"coordinates\": \"axes\", \"h_anchor\": \"middle\", \"v_baseline\": \"auto\", \"rotation\": -0.0, \"fontsize\": 12.0, \"color\": \"#000000\", \"alpha\": 1, \"zorder\": 3, \"id\": \"el19231140415777788432\"}, {\"text\": \"Training\", \"position\": [0.8667227833894502, 0.9293139293139294], \"coordinates\": \"axes\", \"h_anchor\": \"start\", \"v_baseline\": \"auto\", \"rotation\": -0.0, \"fontsize\": 10.0, \"color\": \"#000000\", \"alpha\": 1, \"zorder\": 1000003.0, \"id\": \"el19231140415778375568\"}, {\"text\": \"Validation\", \"position\": [0.8667227833894502, 0.8669438669438669], \"coordinates\": \"axes\", \"h_anchor\": \"start\", \"v_baseline\": \"auto\", \"rotation\": -0.0, \"fontsize\": 10.0, \"color\": \"#000000\", \"alpha\": 1, \"zorder\": 1000003.0, \"id\": \"el19231140415778375632\"}], \"collections\": [], \"images\": [], \"sharex\": [], \"sharey\": []}], \"data\": {\"data01\": [[1.0, 0.49293333292007446, 0.5051000118255615, 0.669162435499827, 0.626798679447174], [2.0, 0.668666660785675, 0.9624000191688538, 0.5886252654711406, 0.5419045663833618], [3.0, 0.9695000052452087, 0.9865000247955322, 0.49682245875994363, 0.44465266370773315], [4.0, 0.9867666959762573, 0.987500011920929, 0.3978352906703949, 0.3472459904193878], [5.0, 0.9872333407402039, 0.9857000112533569, 0.306758357000351, 0.26322061655521395], [6.0, 0.9863666892051697, 0.9850999712944031, 0.23072040056387583, 0.19611002135276795], [7.0, 0.98580002784729, 0.9872000217437744, 0.17194145386219026, 0.14833878903388978], [8.0, 0.9860666394233704, 0.9851999878883362, 0.1309841987848282, 0.11474760471582413], [9.0, 0.985966682434082, 0.98580002784729, 0.10366035531163216, 0.09324499163627624], [10.0, 0.9865999817848206, 0.9858999848365784, 0.08548184771140417, 0.07918867715597153], [11.0, 0.9865999817848206, 0.9861999750137329, 0.07331683634320894, 0.06947345623373985], [12.0, 0.9870333075523376, 0.9878000020980835, 0.0652207030057907, 0.0636745540380478], [13.0, 0.9869333505630493, 0.9860000014305115, 0.059501672101020815, 0.058804481089115145], [14.0, 0.9868666529655457, 0.9869999885559082, 0.05558840070366859, 0.05526845211386681], [15.0, 0.9871000051498413, 0.987500011920929, 0.052861041645208995, 0.05302084904611111], [16.0, 0.9871000051498413, 0.987500011920929, 0.05068039850195249, 0.05124193752706051], [17.0, 0.9872999787330627, 0.9868999719619751, 0.049070664814611274, 0.049874516412615776], [18.0, 0.9876333475112915, 0.9868999719619751, 0.047677528637647626, 0.04881949780881405], [19.0, 0.9872000217437744, 0.9876000285148621, 0.04679209299186866, 0.04800169860422611], [20.0, 0.9874333143234253, 0.9864000082015991, 0.04597650003184875, 0.04748307981193066], [21.0, 0.9869999885559082, 0.9871000051498413, 0.04547785283128421, 0.04669404478669167], [22.0, 0.9870666861534119, 0.9879000186920166, 0.045005904304981234, 0.04666673473417759], [23.0, 0.9869999885559082, 0.9876999855041504, 0.04458469740947087, 0.04708758274912834], [24.0, 0.9873666763305664, 0.9879999756813049, 0.04425623360474904, 0.045936001347005366], [25.0, 0.9872999787330627, 0.988099992275238, 0.043975600339969, 0.046133837470412255]], \"data02\": [[0.8038720538720538, 0.12266112266112272, 0.060291060291060294, 0.943866943866944, 0.8814968814968815], [0.8487654320987654, 0.12266112266112272, 0.060291060291060294, 0.943866943866944, 0.8814968814968815]], \"data03\": [[0.7993827160493827, 0.02079002079002079, 0.841995841995842], [0.984287317620651, 0.02079002079002079, 0.841995841995842], [0.9887766554433222, 0.02079002079002079, 0.841995841995842], [0.9887766554433222, 0.029106029106029108, 0.8503118503118503], [0.9887766554433222, 0.14968814968814975, 0.970893970893971], [0.9887766554433222, 0.15800415800415807, 0.9792099792099793], [0.984287317620651, 0.15800415800415807, 0.9792099792099793], [0.7993827160493827, 0.15800415800415807, 0.9792099792099793], [0.7948933782267116, 0.15800415800415807, 0.9792099792099793], [0.7948933782267116, 0.14968814968814975, 0.970893970893971], [0.7948933782267116, 0.029106029106029108, 0.8503118503118503], [0.7948933782267116, 0.02079002079002079, 0.841995841995842], [0.7993827160493827, 0.02079002079002079, 0.841995841995842]]}, \"id\": \"el19231140413092390544\", \"plugins\": [{\"type\": \"reset\"}, {\"type\": \"zoom\", \"button\": true, \"enabled\": false}, {\"type\": \"boxzoom\", \"button\": true, \"enabled\": false}]});\n",
       "   }(mpld3);\n",
       "}else if(typeof define === \"function\" && define.amd){\n",
       "   // require.js is available: use it to load d3/mpld3\n",
       "   require.config({paths: {d3: \"https://mpld3.github.io/js/d3.v3.min\"}});\n",
       "   require([\"d3\"], function(d3){\n",
       "      window.d3 = d3;\n",
       "      mpld3_load_lib(\"https://mpld3.github.io/js/mpld3.v0.3.js\", function(){\n",
       "         \n",
       "         mpld3.draw_figure(\"fig_el192311404130923905443565811254\", {\"width\": 1080.0, \"height\": 360.0, \"axes\": [{\"bbox\": [0.07361111111111111, 0.20416666666666672, 0.4125, 0.6680555555555554], \"xlim\": [-0.20000000000000018, 26.2], \"ylim\": [0.46817499995231626, 1.0128583252429961], \"xdomain\": [-0.20000000000000018, 26.2], \"ydomain\": [0.46817499995231626, 1.0128583252429961], \"xscale\": \"linear\", \"yscale\": \"linear\", \"axes\": [{\"position\": \"bottom\", \"nticks\": 8, \"tickvalues\": null, \"tickformat\": null, \"scale\": \"linear\", \"fontsize\": 10.0, \"grid\": {\"gridOn\": false}, \"visible\": true}, {\"position\": \"left\", \"nticks\": 8, \"tickvalues\": null, \"tickformat\": null, \"scale\": \"linear\", \"fontsize\": 10.0, \"grid\": {\"gridOn\": false}, \"visible\": true}], \"axesbg\": \"#FFFFFF\", \"axesbgalpha\": null, \"zoomable\": true, \"id\": \"el19231140413092391120\", \"lines\": [{\"data\": \"data01\", \"xindex\": 0, \"yindex\": 1, \"coordinates\": \"data\", \"id\": \"el19231140415778002704\", \"color\": \"#1F77B4\", \"linewidth\": 1.5, \"dasharray\": \"none\", \"alpha\": 1, \"zorder\": 2, \"drawstyle\": \"default\"}, {\"data\": \"data01\", \"xindex\": 0, \"yindex\": 2, \"coordinates\": \"data\", \"id\": \"el19231140415778003920\", \"color\": \"#FF7F0E\", \"linewidth\": 1.5, \"dasharray\": \"none\", \"alpha\": 1, \"zorder\": 2, \"drawstyle\": \"default\"}, {\"data\": \"data02\", \"xindex\": 0, \"yindex\": 1, \"coordinates\": \"axes\", \"id\": \"el19231140415776963152\", \"color\": \"#1F77B4\", \"linewidth\": 1.5, \"dasharray\": \"none\", \"alpha\": 1, \"zorder\": 1000002.0, \"drawstyle\": \"default\"}, {\"data\": \"data02\", \"xindex\": 0, \"yindex\": 2, \"coordinates\": \"axes\", \"id\": \"el19231140415778405264\", \"color\": \"#FF7F0E\", \"linewidth\": 1.5, \"dasharray\": \"none\", \"alpha\": 1, \"zorder\": 1000002.0, \"drawstyle\": \"default\"}], \"paths\": [{\"data\": \"data03\", \"xindex\": 0, \"yindex\": 1, \"coordinates\": \"axes\", \"pathcodes\": [\"M\", \"L\", \"S\", \"L\", \"S\", \"L\", \"S\", \"L\", \"S\", \"Z\"], \"id\": \"el19231140415777718992\", \"dasharray\": \"none\", \"alpha\": 0.8, \"facecolor\": \"#FFFFFF\", \"edgecolor\": \"#CCCCCC\", \"edgewidth\": 1.0, \"zorder\": 1000000.0}], \"markers\": [], \"texts\": [{\"text\": \"Epoch\", \"position\": [0.5, -0.13929313929313933], \"coordinates\": \"axes\", \"h_anchor\": \"middle\", \"v_baseline\": \"hanging\", \"rotation\": -0.0, \"fontsize\": 10.0, \"color\": \"#000000\", \"alpha\": 1, \"zorder\": 3, \"id\": \"el19231140413092813392\"}, {\"text\": \"Accuracy\", \"position\": [-0.08866442199775534, 0.5], \"coordinates\": \"axes\", \"h_anchor\": \"middle\", \"v_baseline\": \"auto\", \"rotation\": -90.0, \"fontsize\": 10.0, \"color\": \"#000000\", \"alpha\": 1, \"zorder\": 3, \"id\": \"el19231140415316627216\"}, {\"text\": \"Model accuracy\", \"position\": [0.5, 1.024948024948025], \"coordinates\": \"axes\", \"h_anchor\": \"middle\", \"v_baseline\": \"auto\", \"rotation\": -0.0, \"fontsize\": 12.0, \"color\": \"#000000\", \"alpha\": 1, \"zorder\": 3, \"id\": \"el19231140415777721360\"}, {\"text\": \"Training\", \"position\": [0.8667227833894502, 0.10810810810810817], \"coordinates\": \"axes\", \"h_anchor\": \"start\", \"v_baseline\": \"auto\", \"rotation\": -0.0, \"fontsize\": 10.0, \"color\": \"#000000\", \"alpha\": 1, \"zorder\": 1000003.0, \"id\": \"el19231140415778403728\"}, {\"text\": \"Validation\", \"position\": [0.8667227833894502, 0.04573804573804574], \"coordinates\": \"axes\", \"h_anchor\": \"start\", \"v_baseline\": \"auto\", \"rotation\": -0.0, \"fontsize\": 10.0, \"color\": \"#000000\", \"alpha\": 1, \"zorder\": 1000003.0, \"id\": \"el19231140415778402704\"}], \"collections\": [], \"images\": [], \"sharex\": [], \"sharey\": []}, {\"bbox\": [0.5597222222222222, 0.20416666666666672, 0.4125, 0.6680555555555554], \"xlim\": [-0.20000000000000018, 26.2], \"ylim\": [0.0127162585819761, 0.70042177725782], \"xdomain\": [-0.20000000000000018, 26.2], \"ydomain\": [0.0127162585819761, 0.70042177725782], \"xscale\": \"linear\", \"yscale\": \"linear\", \"axes\": [{\"position\": \"bottom\", \"nticks\": 8, \"tickvalues\": null, \"tickformat\": null, \"scale\": \"linear\", \"fontsize\": 10.0, \"grid\": {\"gridOn\": false}, \"visible\": true}, {\"position\": \"left\", \"nticks\": 9, \"tickvalues\": null, \"tickformat\": null, \"scale\": \"linear\", \"fontsize\": 10.0, \"grid\": {\"gridOn\": false}, \"visible\": true}], \"axesbg\": \"#FFFFFF\", \"axesbgalpha\": null, \"zoomable\": true, \"id\": \"el19231140415778001936\", \"lines\": [{\"data\": \"data01\", \"xindex\": 0, \"yindex\": 3, \"coordinates\": \"data\", \"id\": \"el19231140415777702992\", \"color\": \"#1F77B4\", \"linewidth\": 1.5, \"dasharray\": \"none\", \"alpha\": 1, \"zorder\": 2, \"drawstyle\": \"default\"}, {\"data\": \"data01\", \"xindex\": 0, \"yindex\": 4, \"coordinates\": \"data\", \"id\": \"el19231140415777704016\", \"color\": \"#FF7F0E\", \"linewidth\": 1.5, \"dasharray\": \"none\", \"alpha\": 1, \"zorder\": 2, \"drawstyle\": \"default\"}, {\"data\": \"data02\", \"xindex\": 0, \"yindex\": 3, \"coordinates\": \"axes\", \"id\": \"el19231140415778404304\", \"color\": \"#1F77B4\", \"linewidth\": 1.5, \"dasharray\": \"none\", \"alpha\": 1, \"zorder\": 1000002.0, \"drawstyle\": \"default\"}, {\"data\": \"data02\", \"xindex\": 0, \"yindex\": 4, \"coordinates\": \"axes\", \"id\": \"el19231140415778374928\", \"color\": \"#FF7F0E\", \"linewidth\": 1.5, \"dasharray\": \"none\", \"alpha\": 1, \"zorder\": 1000002.0, \"drawstyle\": \"default\"}], \"paths\": [{\"data\": \"data03\", \"xindex\": 0, \"yindex\": 2, \"coordinates\": \"axes\", \"pathcodes\": [\"M\", \"L\", \"S\", \"L\", \"S\", \"L\", \"S\", \"L\", \"S\", \"Z\"], \"id\": \"el19231140415778405200\", \"dasharray\": \"none\", \"alpha\": 0.8, \"facecolor\": \"#FFFFFF\", \"edgecolor\": \"#CCCCCC\", \"edgewidth\": 1.0, \"zorder\": 1000000.0}], \"markers\": [], \"texts\": [{\"text\": \"Epoch\", \"position\": [0.5, -0.13929313929313933], \"coordinates\": \"axes\", \"h_anchor\": \"middle\", \"v_baseline\": \"hanging\", \"rotation\": -0.0, \"fontsize\": 10.0, \"color\": \"#000000\", \"alpha\": 1, \"zorder\": 3, \"id\": \"el19231140415778114256\"}, {\"text\": \"Loss\", \"position\": [-0.08866442199775548, 0.5], \"coordinates\": \"axes\", \"h_anchor\": \"middle\", \"v_baseline\": \"auto\", \"rotation\": -90.0, \"fontsize\": 10.0, \"color\": \"#000000\", \"alpha\": 1, \"zorder\": 3, \"id\": \"el19231140415778404112\"}, {\"text\": \"Model loss\", \"position\": [0.5, 1.024948024948025], \"coordinates\": \"axes\", \"h_anchor\": \"middle\", \"v_baseline\": \"auto\", \"rotation\": -0.0, \"fontsize\": 12.0, \"color\": \"#000000\", \"alpha\": 1, \"zorder\": 3, \"id\": \"el19231140415777788432\"}, {\"text\": \"Training\", \"position\": [0.8667227833894502, 0.9293139293139294], \"coordinates\": \"axes\", \"h_anchor\": \"start\", \"v_baseline\": \"auto\", \"rotation\": -0.0, \"fontsize\": 10.0, \"color\": \"#000000\", \"alpha\": 1, \"zorder\": 1000003.0, \"id\": \"el19231140415778375568\"}, {\"text\": \"Validation\", \"position\": [0.8667227833894502, 0.8669438669438669], \"coordinates\": \"axes\", \"h_anchor\": \"start\", \"v_baseline\": \"auto\", \"rotation\": -0.0, \"fontsize\": 10.0, \"color\": \"#000000\", \"alpha\": 1, \"zorder\": 1000003.0, \"id\": \"el19231140415778375632\"}], \"collections\": [], \"images\": [], \"sharex\": [], \"sharey\": []}], \"data\": {\"data01\": [[1.0, 0.49293333292007446, 0.5051000118255615, 0.669162435499827, 0.626798679447174], [2.0, 0.668666660785675, 0.9624000191688538, 0.5886252654711406, 0.5419045663833618], [3.0, 0.9695000052452087, 0.9865000247955322, 0.49682245875994363, 0.44465266370773315], [4.0, 0.9867666959762573, 0.987500011920929, 0.3978352906703949, 0.3472459904193878], [5.0, 0.9872333407402039, 0.9857000112533569, 0.306758357000351, 0.26322061655521395], [6.0, 0.9863666892051697, 0.9850999712944031, 0.23072040056387583, 0.19611002135276795], [7.0, 0.98580002784729, 0.9872000217437744, 0.17194145386219026, 0.14833878903388978], [8.0, 0.9860666394233704, 0.9851999878883362, 0.1309841987848282, 0.11474760471582413], [9.0, 0.985966682434082, 0.98580002784729, 0.10366035531163216, 0.09324499163627624], [10.0, 0.9865999817848206, 0.9858999848365784, 0.08548184771140417, 0.07918867715597153], [11.0, 0.9865999817848206, 0.9861999750137329, 0.07331683634320894, 0.06947345623373985], [12.0, 0.9870333075523376, 0.9878000020980835, 0.0652207030057907, 0.0636745540380478], [13.0, 0.9869333505630493, 0.9860000014305115, 0.059501672101020815, 0.058804481089115145], [14.0, 0.9868666529655457, 0.9869999885559082, 0.05558840070366859, 0.05526845211386681], [15.0, 0.9871000051498413, 0.987500011920929, 0.052861041645208995, 0.05302084904611111], [16.0, 0.9871000051498413, 0.987500011920929, 0.05068039850195249, 0.05124193752706051], [17.0, 0.9872999787330627, 0.9868999719619751, 0.049070664814611274, 0.049874516412615776], [18.0, 0.9876333475112915, 0.9868999719619751, 0.047677528637647626, 0.04881949780881405], [19.0, 0.9872000217437744, 0.9876000285148621, 0.04679209299186866, 0.04800169860422611], [20.0, 0.9874333143234253, 0.9864000082015991, 0.04597650003184875, 0.04748307981193066], [21.0, 0.9869999885559082, 0.9871000051498413, 0.04547785283128421, 0.04669404478669167], [22.0, 0.9870666861534119, 0.9879000186920166, 0.045005904304981234, 0.04666673473417759], [23.0, 0.9869999885559082, 0.9876999855041504, 0.04458469740947087, 0.04708758274912834], [24.0, 0.9873666763305664, 0.9879999756813049, 0.04425623360474904, 0.045936001347005366], [25.0, 0.9872999787330627, 0.988099992275238, 0.043975600339969, 0.046133837470412255]], \"data02\": [[0.8038720538720538, 0.12266112266112272, 0.060291060291060294, 0.943866943866944, 0.8814968814968815], [0.8487654320987654, 0.12266112266112272, 0.060291060291060294, 0.943866943866944, 0.8814968814968815]], \"data03\": [[0.7993827160493827, 0.02079002079002079, 0.841995841995842], [0.984287317620651, 0.02079002079002079, 0.841995841995842], [0.9887766554433222, 0.02079002079002079, 0.841995841995842], [0.9887766554433222, 0.029106029106029108, 0.8503118503118503], [0.9887766554433222, 0.14968814968814975, 0.970893970893971], [0.9887766554433222, 0.15800415800415807, 0.9792099792099793], [0.984287317620651, 0.15800415800415807, 0.9792099792099793], [0.7993827160493827, 0.15800415800415807, 0.9792099792099793], [0.7948933782267116, 0.15800415800415807, 0.9792099792099793], [0.7948933782267116, 0.14968814968814975, 0.970893970893971], [0.7948933782267116, 0.029106029106029108, 0.8503118503118503], [0.7948933782267116, 0.02079002079002079, 0.841995841995842], [0.7993827160493827, 0.02079002079002079, 0.841995841995842]]}, \"id\": \"el19231140413092390544\", \"plugins\": [{\"type\": \"reset\"}, {\"type\": \"zoom\", \"button\": true, \"enabled\": false}, {\"type\": \"boxzoom\", \"button\": true, \"enabled\": false}]});\n",
       "      });\n",
       "    });\n",
       "}else{\n",
       "    // require.js not available: dynamically load d3 & mpld3\n",
       "    mpld3_load_lib(\"https://mpld3.github.io/js/d3.v3.min.js\", function(){\n",
       "         mpld3_load_lib(\"https://mpld3.github.io/js/mpld3.v0.3.js\", function(){\n",
       "                 \n",
       "                 mpld3.draw_figure(\"fig_el192311404130923905443565811254\", {\"width\": 1080.0, \"height\": 360.0, \"axes\": [{\"bbox\": [0.07361111111111111, 0.20416666666666672, 0.4125, 0.6680555555555554], \"xlim\": [-0.20000000000000018, 26.2], \"ylim\": [0.46817499995231626, 1.0128583252429961], \"xdomain\": [-0.20000000000000018, 26.2], \"ydomain\": [0.46817499995231626, 1.0128583252429961], \"xscale\": \"linear\", \"yscale\": \"linear\", \"axes\": [{\"position\": \"bottom\", \"nticks\": 8, \"tickvalues\": null, \"tickformat\": null, \"scale\": \"linear\", \"fontsize\": 10.0, \"grid\": {\"gridOn\": false}, \"visible\": true}, {\"position\": \"left\", \"nticks\": 8, \"tickvalues\": null, \"tickformat\": null, \"scale\": \"linear\", \"fontsize\": 10.0, \"grid\": {\"gridOn\": false}, \"visible\": true}], \"axesbg\": \"#FFFFFF\", \"axesbgalpha\": null, \"zoomable\": true, \"id\": \"el19231140413092391120\", \"lines\": [{\"data\": \"data01\", \"xindex\": 0, \"yindex\": 1, \"coordinates\": \"data\", \"id\": \"el19231140415778002704\", \"color\": \"#1F77B4\", \"linewidth\": 1.5, \"dasharray\": \"none\", \"alpha\": 1, \"zorder\": 2, \"drawstyle\": \"default\"}, {\"data\": \"data01\", \"xindex\": 0, \"yindex\": 2, \"coordinates\": \"data\", \"id\": \"el19231140415778003920\", \"color\": \"#FF7F0E\", \"linewidth\": 1.5, \"dasharray\": \"none\", \"alpha\": 1, \"zorder\": 2, \"drawstyle\": \"default\"}, {\"data\": \"data02\", \"xindex\": 0, \"yindex\": 1, \"coordinates\": \"axes\", \"id\": \"el19231140415776963152\", \"color\": \"#1F77B4\", \"linewidth\": 1.5, \"dasharray\": \"none\", \"alpha\": 1, \"zorder\": 1000002.0, \"drawstyle\": \"default\"}, {\"data\": \"data02\", \"xindex\": 0, \"yindex\": 2, \"coordinates\": \"axes\", \"id\": \"el19231140415778405264\", \"color\": \"#FF7F0E\", \"linewidth\": 1.5, \"dasharray\": \"none\", \"alpha\": 1, \"zorder\": 1000002.0, \"drawstyle\": \"default\"}], \"paths\": [{\"data\": \"data03\", \"xindex\": 0, \"yindex\": 1, \"coordinates\": \"axes\", \"pathcodes\": [\"M\", \"L\", \"S\", \"L\", \"S\", \"L\", \"S\", \"L\", \"S\", \"Z\"], \"id\": \"el19231140415777718992\", \"dasharray\": \"none\", \"alpha\": 0.8, \"facecolor\": \"#FFFFFF\", \"edgecolor\": \"#CCCCCC\", \"edgewidth\": 1.0, \"zorder\": 1000000.0}], \"markers\": [], \"texts\": [{\"text\": \"Epoch\", \"position\": [0.5, -0.13929313929313933], \"coordinates\": \"axes\", \"h_anchor\": \"middle\", \"v_baseline\": \"hanging\", \"rotation\": -0.0, \"fontsize\": 10.0, \"color\": \"#000000\", \"alpha\": 1, \"zorder\": 3, \"id\": \"el19231140413092813392\"}, {\"text\": \"Accuracy\", \"position\": [-0.08866442199775534, 0.5], \"coordinates\": \"axes\", \"h_anchor\": \"middle\", \"v_baseline\": \"auto\", \"rotation\": -90.0, \"fontsize\": 10.0, \"color\": \"#000000\", \"alpha\": 1, \"zorder\": 3, \"id\": \"el19231140415316627216\"}, {\"text\": \"Model accuracy\", \"position\": [0.5, 1.024948024948025], \"coordinates\": \"axes\", \"h_anchor\": \"middle\", \"v_baseline\": \"auto\", \"rotation\": -0.0, \"fontsize\": 12.0, \"color\": \"#000000\", \"alpha\": 1, \"zorder\": 3, \"id\": \"el19231140415777721360\"}, {\"text\": \"Training\", \"position\": [0.8667227833894502, 0.10810810810810817], \"coordinates\": \"axes\", \"h_anchor\": \"start\", \"v_baseline\": \"auto\", \"rotation\": -0.0, \"fontsize\": 10.0, \"color\": \"#000000\", \"alpha\": 1, \"zorder\": 1000003.0, \"id\": \"el19231140415778403728\"}, {\"text\": \"Validation\", \"position\": [0.8667227833894502, 0.04573804573804574], \"coordinates\": \"axes\", \"h_anchor\": \"start\", \"v_baseline\": \"auto\", \"rotation\": -0.0, \"fontsize\": 10.0, \"color\": \"#000000\", \"alpha\": 1, \"zorder\": 1000003.0, \"id\": \"el19231140415778402704\"}], \"collections\": [], \"images\": [], \"sharex\": [], \"sharey\": []}, {\"bbox\": [0.5597222222222222, 0.20416666666666672, 0.4125, 0.6680555555555554], \"xlim\": [-0.20000000000000018, 26.2], \"ylim\": [0.0127162585819761, 0.70042177725782], \"xdomain\": [-0.20000000000000018, 26.2], \"ydomain\": [0.0127162585819761, 0.70042177725782], \"xscale\": \"linear\", \"yscale\": \"linear\", \"axes\": [{\"position\": \"bottom\", \"nticks\": 8, \"tickvalues\": null, \"tickformat\": null, \"scale\": \"linear\", \"fontsize\": 10.0, \"grid\": {\"gridOn\": false}, \"visible\": true}, {\"position\": \"left\", \"nticks\": 9, \"tickvalues\": null, \"tickformat\": null, \"scale\": \"linear\", \"fontsize\": 10.0, \"grid\": {\"gridOn\": false}, \"visible\": true}], \"axesbg\": \"#FFFFFF\", \"axesbgalpha\": null, \"zoomable\": true, \"id\": \"el19231140415778001936\", \"lines\": [{\"data\": \"data01\", \"xindex\": 0, \"yindex\": 3, \"coordinates\": \"data\", \"id\": \"el19231140415777702992\", \"color\": \"#1F77B4\", \"linewidth\": 1.5, \"dasharray\": \"none\", \"alpha\": 1, \"zorder\": 2, \"drawstyle\": \"default\"}, {\"data\": \"data01\", \"xindex\": 0, \"yindex\": 4, \"coordinates\": \"data\", \"id\": \"el19231140415777704016\", \"color\": \"#FF7F0E\", \"linewidth\": 1.5, \"dasharray\": \"none\", \"alpha\": 1, \"zorder\": 2, \"drawstyle\": \"default\"}, {\"data\": \"data02\", \"xindex\": 0, \"yindex\": 3, \"coordinates\": \"axes\", \"id\": \"el19231140415778404304\", \"color\": \"#1F77B4\", \"linewidth\": 1.5, \"dasharray\": \"none\", \"alpha\": 1, \"zorder\": 1000002.0, \"drawstyle\": \"default\"}, {\"data\": \"data02\", \"xindex\": 0, \"yindex\": 4, \"coordinates\": \"axes\", \"id\": \"el19231140415778374928\", \"color\": \"#FF7F0E\", \"linewidth\": 1.5, \"dasharray\": \"none\", \"alpha\": 1, \"zorder\": 1000002.0, \"drawstyle\": \"default\"}], \"paths\": [{\"data\": \"data03\", \"xindex\": 0, \"yindex\": 2, \"coordinates\": \"axes\", \"pathcodes\": [\"M\", \"L\", \"S\", \"L\", \"S\", \"L\", \"S\", \"L\", \"S\", \"Z\"], \"id\": \"el19231140415778405200\", \"dasharray\": \"none\", \"alpha\": 0.8, \"facecolor\": \"#FFFFFF\", \"edgecolor\": \"#CCCCCC\", \"edgewidth\": 1.0, \"zorder\": 1000000.0}], \"markers\": [], \"texts\": [{\"text\": \"Epoch\", \"position\": [0.5, -0.13929313929313933], \"coordinates\": \"axes\", \"h_anchor\": \"middle\", \"v_baseline\": \"hanging\", \"rotation\": -0.0, \"fontsize\": 10.0, \"color\": \"#000000\", \"alpha\": 1, \"zorder\": 3, \"id\": \"el19231140415778114256\"}, {\"text\": \"Loss\", \"position\": [-0.08866442199775548, 0.5], \"coordinates\": \"axes\", \"h_anchor\": \"middle\", \"v_baseline\": \"auto\", \"rotation\": -90.0, \"fontsize\": 10.0, \"color\": \"#000000\", \"alpha\": 1, \"zorder\": 3, \"id\": \"el19231140415778404112\"}, {\"text\": \"Model loss\", \"position\": [0.5, 1.024948024948025], \"coordinates\": \"axes\", \"h_anchor\": \"middle\", \"v_baseline\": \"auto\", \"rotation\": -0.0, \"fontsize\": 12.0, \"color\": \"#000000\", \"alpha\": 1, \"zorder\": 3, \"id\": \"el19231140415777788432\"}, {\"text\": \"Training\", \"position\": [0.8667227833894502, 0.9293139293139294], \"coordinates\": \"axes\", \"h_anchor\": \"start\", \"v_baseline\": \"auto\", \"rotation\": -0.0, \"fontsize\": 10.0, \"color\": \"#000000\", \"alpha\": 1, \"zorder\": 1000003.0, \"id\": \"el19231140415778375568\"}, {\"text\": \"Validation\", \"position\": [0.8667227833894502, 0.8669438669438669], \"coordinates\": \"axes\", \"h_anchor\": \"start\", \"v_baseline\": \"auto\", \"rotation\": -0.0, \"fontsize\": 10.0, \"color\": \"#000000\", \"alpha\": 1, \"zorder\": 1000003.0, \"id\": \"el19231140415778375632\"}], \"collections\": [], \"images\": [], \"sharex\": [], \"sharey\": []}], \"data\": {\"data01\": [[1.0, 0.49293333292007446, 0.5051000118255615, 0.669162435499827, 0.626798679447174], [2.0, 0.668666660785675, 0.9624000191688538, 0.5886252654711406, 0.5419045663833618], [3.0, 0.9695000052452087, 0.9865000247955322, 0.49682245875994363, 0.44465266370773315], [4.0, 0.9867666959762573, 0.987500011920929, 0.3978352906703949, 0.3472459904193878], [5.0, 0.9872333407402039, 0.9857000112533569, 0.306758357000351, 0.26322061655521395], [6.0, 0.9863666892051697, 0.9850999712944031, 0.23072040056387583, 0.19611002135276795], [7.0, 0.98580002784729, 0.9872000217437744, 0.17194145386219026, 0.14833878903388978], [8.0, 0.9860666394233704, 0.9851999878883362, 0.1309841987848282, 0.11474760471582413], [9.0, 0.985966682434082, 0.98580002784729, 0.10366035531163216, 0.09324499163627624], [10.0, 0.9865999817848206, 0.9858999848365784, 0.08548184771140417, 0.07918867715597153], [11.0, 0.9865999817848206, 0.9861999750137329, 0.07331683634320894, 0.06947345623373985], [12.0, 0.9870333075523376, 0.9878000020980835, 0.0652207030057907, 0.0636745540380478], [13.0, 0.9869333505630493, 0.9860000014305115, 0.059501672101020815, 0.058804481089115145], [14.0, 0.9868666529655457, 0.9869999885559082, 0.05558840070366859, 0.05526845211386681], [15.0, 0.9871000051498413, 0.987500011920929, 0.052861041645208995, 0.05302084904611111], [16.0, 0.9871000051498413, 0.987500011920929, 0.05068039850195249, 0.05124193752706051], [17.0, 0.9872999787330627, 0.9868999719619751, 0.049070664814611274, 0.049874516412615776], [18.0, 0.9876333475112915, 0.9868999719619751, 0.047677528637647626, 0.04881949780881405], [19.0, 0.9872000217437744, 0.9876000285148621, 0.04679209299186866, 0.04800169860422611], [20.0, 0.9874333143234253, 0.9864000082015991, 0.04597650003184875, 0.04748307981193066], [21.0, 0.9869999885559082, 0.9871000051498413, 0.04547785283128421, 0.04669404478669167], [22.0, 0.9870666861534119, 0.9879000186920166, 0.045005904304981234, 0.04666673473417759], [23.0, 0.9869999885559082, 0.9876999855041504, 0.04458469740947087, 0.04708758274912834], [24.0, 0.9873666763305664, 0.9879999756813049, 0.04425623360474904, 0.045936001347005366], [25.0, 0.9872999787330627, 0.988099992275238, 0.043975600339969, 0.046133837470412255]], \"data02\": [[0.8038720538720538, 0.12266112266112272, 0.060291060291060294, 0.943866943866944, 0.8814968814968815], [0.8487654320987654, 0.12266112266112272, 0.060291060291060294, 0.943866943866944, 0.8814968814968815]], \"data03\": [[0.7993827160493827, 0.02079002079002079, 0.841995841995842], [0.984287317620651, 0.02079002079002079, 0.841995841995842], [0.9887766554433222, 0.02079002079002079, 0.841995841995842], [0.9887766554433222, 0.029106029106029108, 0.8503118503118503], [0.9887766554433222, 0.14968814968814975, 0.970893970893971], [0.9887766554433222, 0.15800415800415807, 0.9792099792099793], [0.984287317620651, 0.15800415800415807, 0.9792099792099793], [0.7993827160493827, 0.15800415800415807, 0.9792099792099793], [0.7948933782267116, 0.15800415800415807, 0.9792099792099793], [0.7948933782267116, 0.14968814968814975, 0.970893970893971], [0.7948933782267116, 0.029106029106029108, 0.8503118503118503], [0.7948933782267116, 0.02079002079002079, 0.841995841995842], [0.7993827160493827, 0.02079002079002079, 0.841995841995842]]}, \"id\": \"el19231140413092390544\", \"plugins\": [{\"type\": \"reset\"}, {\"type\": \"zoom\", \"button\": true, \"enabled\": false}, {\"type\": \"boxzoom\", \"button\": true, \"enabled\": false}]});\n",
       "            })\n",
       "         });\n",
       "}\n",
       "</script>"
      ],
      "text/plain": [
       "<IPython.core.display.HTML object>"
      ]
     },
     "execution_count": 24,
     "metadata": {},
     "output_type": "execute_result"
    }
   ],
   "source": [
    "%matplotlib inline\n",
    "import matplotlib.pyplot as plt, mpld3\n",
    "def createSubplot(x, dataSeries, dataLabels, title, xLabel, yLabel, legendLoc, position):\n",
    "    plt.subplot(position)\n",
    "    plt.title(title)\n",
    "    plt.xlabel(xLabel)\n",
    "    plt.ylabel(yLabel)\n",
    "    for y, label in zip(dataSeries, dataLabels):\n",
    "        plt.plot(x, y, label=label)\n",
    "    plt.legend(loc=legendLoc)\n",
    "xValues = np.arange(1., len(history.history['loss'])+1, 1)\n",
    "plt.rcParams['xtick.major.pad']='16'\n",
    "plt.rcParams['ytick.major.pad']='16'\n",
    "plt.rcParams[\"figure.figsize\"] = (15,5)\n",
    "createSubplot(xValues, [history.history['accuracy'], history.history['val_accuracy']], \n",
    "              [\"Training\", \"Validation\"], \"Model accuracy\", \"Epoch\", \"Accuracy\",  \"lower right\", 121)\n",
    "createSubplot(xValues, [history.history['loss'], history.history['val_loss']], \n",
    "              [\"Training\", \"Validation\"], \"Model loss\", \"Epoch\", \"Loss\", \"upper right\", 122)\n",
    "plt.tight_layout(pad=3.0)\n",
    "mpld3.display()"
   ]
  },
  {
   "cell_type": "markdown",
   "metadata": {
    "colab_type": "text",
    "id": "P-VIduv3WGWN"
   },
   "source": [
    "## Applying the model on images"
   ]
  },
  {
   "cell_type": "markdown",
   "metadata": {
    "colab_type": "text",
    "id": "5RnGxraeWGWO"
   },
   "source": [
    "We can now use the model to make predictions for the intensity vector of the neighborhood of a pixel."
   ]
  },
  {
   "cell_type": "code",
   "execution_count": 11,
   "metadata": {
    "colab": {
     "base_uri": "https://localhost:8080/",
     "height": 52
    },
    "colab_type": "code",
    "executionInfo": {
     "elapsed": 1287,
     "status": "ok",
     "timestamp": 1586430114179,
     "user": {
      "displayName": "Volker Bäcker",
      "photoUrl": "https://lh3.googleusercontent.com/a-/AOh14GjEu5wjN2vCYiy08xA1eynmYpMhOc6dLWwRZvWdJbI=s64",
      "userId": "10406901054643491303"
     },
     "user_tz": -120
    },
    "id": "B53RMxWsWGWP",
    "outputId": "ea1ad08b-7b76-4422-efe1-c1da6dba66ab"
   },
   "outputs": [
    {
     "name": "stdout",
     "output_type": "stream",
     "text": [
      "0.9997367\n",
      "1\n"
     ]
    }
   ],
   "source": [
    "prediction = model.predict(np.array([[128/255]*N*N]))\n",
    "print(prediction[0][0])\n",
    "classPrediction = model.predict_classes(np.array([[128/255]*N*N]))\n",
    "print(classPrediction[0][0])"
   ]
  },
  {
   "cell_type": "markdown",
   "metadata": {
    "colab_type": "text",
    "id": "XKEndjUcWGWU"
   },
   "source": [
    "We will now use the model to segment images. We need to feed the neighborhood of all pixels to the classifier and create an output mask and a probability map from the result of the classification.\n",
    "\n",
    "We set the path to the folder containing the input images. We will read each image in the folder, do the segmentation and save the result images.\n",
    "\n",
    "Here is how it conceptually works. A loop iterates over the pixel in the input image. For each pixel a feature vector is created and classified from the intensities values in its neighborhood. It works but is very slow. We will therefore rather use an optimized version, that first creates a list of all feature vectors, passes them to the classification and then creates the mask and probability map from the results. However since the version not optimized is easier to understand, here it is:"
   ]
  },
  {
   "cell_type": "markdown",
   "metadata": {
    "colab_type": "text",
    "id": "DyMlFzZ9WGWV"
   },
   "source": [
    "```python\n",
    "import os\n",
    "path = './data'\n",
    "files = os.listdir(path)\n",
    "imagePaths = [os.path.join(path, f)  for f in files if not os.path.isdir(path + \"/\" + f)]\n",
    "imagePaths.sort()\n",
    "for imagePath in imagePaths:\n",
    "    image = tiff.imread(imagePath) / 255\n",
    "    width, height = image.shape\n",
    "    pMap = np.zeros(image.shape)\n",
    "    mask = np.zeros(image.shape)\n",
    "    for x in range(0, width):\n",
    "        if x%100 == 0:\n",
    "            print(x)\n",
    "        for y in range(0, height):\n",
    "            neighborhood = []\n",
    "            for i in range((-N//2)+1, (N//2)+1):\n",
    "                for j in range((-N//2)+1, (N//2)+1):\n",
    "                    ic = i\n",
    "                    jc = j\n",
    "                    if x+i < 0 or x+i>=width:\n",
    "                        ic = -1 * i\n",
    "                    if y+j < 0 or y+j>=height:\n",
    "                        jc = -1 * j    \n",
    "                    neighborhood.append(image[x+ic,y+jc])\n",
    "            neighborhood = np.array([neighborhood])\n",
    "            prob = model.predict(neighborhood)[0][0]\n",
    "            category =  model.predict_classes(neighborhood)[0][0]\n",
    "            pMap[x ,y] = prob * 255\n",
    "            mask[x ,y] = category * 255\n",
    "    print(pMap)\n",
    "    print(mask)\n",
    "```"
   ]
  },
  {
   "cell_type": "markdown",
   "metadata": {
    "colab_type": "text",
    "id": "yNN72DevWGWW"
   },
   "source": [
    "### Making the segmentation faster"
   ]
  },
  {
   "cell_type": "markdown",
   "metadata": {
    "colab_type": "text",
    "id": "Ojb6QgMpWGWX"
   },
   "source": [
    "Although the segmentation above works, it is very slow. We will make it faster by applying the classification on bigger chunks of the image data, instead of classifying each pixel based on its neighborhood individually. We will first calculate the feature-vectors, i.e. the values in the neighboorhod for the whole image. Then we apply the classification. Instead of 2D output images we start with 1D arrays of size $width \\times height$. We fill the linear array with the classification result and then reshape it to the 2D-image."
   ]
  },
  {
   "cell_type": "code",
   "execution_count": 12,
   "metadata": {
    "colab": {
     "base_uri": "https://localhost:8080/",
     "height": 278
    },
    "colab_type": "code",
    "executionInfo": {
     "elapsed": 310398,
     "status": "ok",
     "timestamp": 1586430453983,
     "user": {
      "displayName": "Volker Bäcker",
      "photoUrl": "https://lh3.googleusercontent.com/a-/AOh14GjEu5wjN2vCYiy08xA1eynmYpMhOc6dLWwRZvWdJbI=s64",
      "userId": "10406901054643491303"
     },
     "user_tz": -120
    },
    "id": "I9hpBJ-8WGWa",
    "outputId": "79ccd54d-2faf-4581-e5ce-6a12c443da62"
   },
   "outputs": [
    {
     "name": "stdout",
     "output_type": "stream",
     "text": [
      "Processing image ./data/spots01.tif\n",
      "Extracting the feature vectors.\n",
      "Row: 1820\n",
      "Applying the classifier.\n",
      "Creating the output images.\n",
      "Done!\n",
      "Processing image ./data/spots02.tif\n",
      "Extracting the feature vectors.\n",
      "Row: 1820\n",
      "Applying the classifier.\n",
      "Creating the output images.\n",
      "Done!\n",
      "CPU times: user 3min 7s, sys: 6.35 s, total: 3min 13s\n",
      "Wall time: 2min 45s\n"
     ]
    }
   ],
   "source": [
    "%%time\n",
    "import os\n",
    "path = './data'\n",
    "out = os.path.join(path, 'out')\n",
    "if not os.path.isdir(out):\n",
    "    os.mkdir(out)\n",
    "files = os.listdir(path)\n",
    "imagePaths = [os.path.join(path, f)  for f in files if not os.path.isdir(path + \"/\" + f)]\n",
    "imagePaths.sort()\n",
    "for imagePath in imagePaths:\n",
    "    print(\"Processing image \" + imagePath)\n",
    "    image = tiff.imread(imagePath) / 255\n",
    "    width, height = image.shape\n",
    "    neighborsRange = range((-N//2)+1, (N//2)+1)\n",
    "    pMap = np.zeros(width*height)\n",
    "    mask = np.zeros(width*height)\n",
    "    neighborhoods = np.zeros((width*height, N*N), dtype=float)\n",
    "    vc = 0\n",
    "    print(\"Extracting the feature vectors.\")\n",
    "    for x in range(0, width):\n",
    "        if x%10 == 0:\n",
    "            print(\"\\rRow: \" + str(x), end=\"\")\n",
    "        for y in range(0, height):\n",
    "            neighborhood = np.zeros(N*N)\n",
    "            nc = 0\n",
    "            for i in neighborsRange:\n",
    "                for j in neighborsRange:\n",
    "                    ic = i\n",
    "                    jc = j\n",
    "                    if x+i < 0 or x+i>=width:\n",
    "                        ic = -1 * i\n",
    "                    if y+j < 0 or y+j>=height:\n",
    "                        jc = -1 * j    \n",
    "                    neighborhood[nc] = image[x+ic,y+jc]\n",
    "                    nc = nc + 1\n",
    "            neighborhoods[vc]=neighborhood\n",
    "            vc = vc + 1\n",
    "    print(\"\\nApplying the classifier.\")\n",
    "    prob = model.predict(neighborhoods)\n",
    "    category =  model.predict_classes(neighborhoods)\n",
    "    counter = 0\n",
    "    print(\"Creating the output images.\")\n",
    "    for p in prob:\n",
    "        pMap[counter] = p[0] * 255\n",
    "        counter = counter + 1\n",
    "    pMap = pMap.reshape(width, height)\n",
    "    pMap = pMap.astype(np.uint8)\n",
    "    outFileName = os.path.basename(imagePath)\n",
    "    outFileName = os.path.splitext(outFileName)[0]\n",
    "    outPath = os.path.join(out,outFileName + \"-pMap.tif\" )\n",
    "    tiff.imwrite(outPath, pMap, imagej=True)\n",
    "    counter = 0\n",
    "    for c in category:\n",
    "        mask[counter] = c[0] * 255\n",
    "        counter = counter + 1\n",
    "    mask = mask.reshape(width, height)\n",
    "    mask = mask.astype(np.uint8)\n",
    "    outPath = os.path.join(out,outFileName + \"-mask.tif\" )\n",
    "    tiff.imwrite(outPath, mask, imagej=True)\n",
    "    print(\"Done!\")"
   ]
  },
  {
   "cell_type": "code",
   "execution_count": 13,
   "metadata": {
    "colab": {
     "base_uri": "https://localhost:8080/",
     "height": 704
    },
    "colab_type": "code",
    "executionInfo": {
     "elapsed": 3119,
     "status": "ok",
     "timestamp": 1586430541229,
     "user": {
      "displayName": "Volker Bäcker",
      "photoUrl": "https://lh3.googleusercontent.com/a-/AOh14GjEu5wjN2vCYiy08xA1eynmYpMhOc6dLWwRZvWdJbI=s64",
      "userId": "10406901054643491303"
     },
     "user_tz": -120
    },
    "id": "_iN0FsfoWGWi",
    "outputId": "13441628-795b-4cb6-a59e-707abe29ce67"
   },
   "outputs": [
    {
     "data": {
      "image/png": "[encoded data removed]",
      "text/plain": [
       "<Figure size 1080x864 with 1 Axes>"
      ]
     },
     "metadata": {
      "needs_background": "light"
     },
     "output_type": "display_data"
    }
   ],
   "source": [
    "from matplotlib import pyplot as plt\n",
    "plt.figure(figsize = (15,12))\n",
    "plt.imshow(mask, interpolation='nearest', aspect=\"auto\")\n",
    "plt.show()"
   ]
  },
  {
   "cell_type": "code",
   "execution_count": 14,
   "metadata": {},
   "outputs": [
    {
     "data": {
      "text/plain": [
       "[array([[-0.46350053,  0.57324356, -0.12273103, -0.33291847,  0.29250497,\n",
       "         -0.8996658 ,  0.32031614,  0.7490487 ],\n",
       "        [-0.36048278,  0.24187724,  0.38324332, -0.5970291 , -0.424206  ,\n",
       "         -0.64744264, -0.4226886 ,  0.7232532 ],\n",
       "        [ 0.33146065,  1.2270366 , -0.53161395, -0.29318175, -0.18609771,\n",
       "         -0.22382927, -0.15490353,  0.5326132 ],\n",
       "        [-0.4756609 ,  1.0292846 , -0.18599588, -0.30825883,  0.5465611 ,\n",
       "         -0.617859  , -0.0247547 ,  0.8972886 ],\n",
       "        [-0.26620278,  1.2297844 , -0.47031662, -0.2605127 , -0.35975105,\n",
       "         -0.42706168,  0.03288525,  0.619035  ],\n",
       "        [-0.2953589 ,  0.44682533,  0.32834953, -0.1981439 , -0.01255059,\n",
       "         -1.103296  ,  0.1858375 ,  1.2743654 ],\n",
       "        [ 0.03219473,  1.0450197 , -0.29950076, -0.7600623 , -0.3041462 ,\n",
       "         -0.45393428, -0.22564465,  1.017404  ],\n",
       "        [ 0.09562504,  0.61901534, -0.5247766 , -0.97387075, -0.14669779,\n",
       "         -0.2877862 , -0.33687025,  0.44544998],\n",
       "        [-0.13673994,  0.862169  ,  0.50909245, -1.1916933 ,  0.3116498 ,\n",
       "         -0.29454955, -0.34011936,  0.47421274]], dtype=float32),\n",
       " array([ 0.       , -2.038268 ,  0.       ,  2.0095875,  0.       ,\n",
       "         2.013176 ,  0.       , -2.0135794], dtype=float32),\n",
       " array([[-0.7912698 ],\n",
       "        [ 3.292623  ],\n",
       "        [ 0.23211706],\n",
       "        [-4.98795   ],\n",
       "        [ 0.73381937],\n",
       "        [-5.0665855 ],\n",
       "        [-0.18193299],\n",
       "        [ 3.6302466 ]], dtype=float32),\n",
       " array([-2.0280585], dtype=float32)]"
      ]
     },
     "execution_count": 14,
     "metadata": {},
     "output_type": "execute_result"
    }
   ],
   "source": [
    "model.get_weights()"
   ]
  },
  {
   "cell_type": "markdown",
   "metadata": {
    "colab_type": "text",
    "id": "wzDHnusqWGWn"
   },
   "source": [
    "## Literatur"
   ]
  },
  {
   "cell_type": "markdown",
   "metadata": {
    "colab_type": "text",
    "id": "oNgT5_FHWGWo"
   },
   "source": [
    "[1] Van Rossum G, Drake FL. [Python 3 Reference Manual](https://docs.python.org/3/reference/index.html). Scotts Valley, CA: CreateSpace; 2009.\n",
    "\n",
    "[2] Chollet F. and others. [Keras](https://keras.io). 2015\n",
    "\n",
    "[3] [The MRI machine learning workshop](https://github.com/MontpellierRessourcesImagerie/mri-workshop-machine-learning). 2019\n",
    "\n",
    "[4] Brownlee J. [Your First Deep Learning Project in Python with Keras Step-By-Step](https://machinelearningmastery.com/tutorial-first-neural-network-python-keras/). 2019"
   ]
  }
 ],
 "metadata": {
  "colab": {
   "collapsed_sections": [],
   "name": "Copy of DL01-input-data.ipynb",
   "provenance": [
    {
     "file_id": "https://github.com/MontpellierRessourcesImagerie/DL_EXP_PC/blob/master/DL01-input-data.ipynb",
     "timestamp": 1586429829137
    }
   ],
   "toc_visible": true
  },
  "kernelspec": {
   "display_name": "Python 3",
   "language": "python",
   "name": "python3"
  },
  "language_info": {
   "codemirror_mode": {
    "name": "ipython",
    "version": 3
   },
   "file_extension": ".py",
   "mimetype": "text/x-python",
   "name": "python",
   "nbconvert_exporter": "python",
   "pygments_lexer": "ipython3",
   "version": "3.7.6"
  }
 },
 "nbformat": 4,
 "nbformat_minor": 4
}
