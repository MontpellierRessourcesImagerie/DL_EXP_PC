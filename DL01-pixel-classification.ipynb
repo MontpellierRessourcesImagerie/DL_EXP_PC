{
 "cells": [
  {
   "cell_type": "markdown",
   "metadata": {
    "colab_type": "text",
    "id": "0JvwqPl0WGVE"
   },
   "source": [
    "# Deep Learning Experiment - Pixel Classification"
   ]
  },
  {
   "cell_type": "markdown",
   "metadata": {
    "colab_type": "text",
    "id": "CLQjiDQLWGVH"
   },
   "source": [
    "## Abstract"
   ]
  },
  {
   "cell_type": "markdown",
   "metadata": {
    "colab_type": "text",
    "id": "3oZUY9DhWGVJ"
   },
   "source": [
    "We take a naive approach to pixel classification (image segmentation) by machine learning with artificial neural networks. The focus here is on exploring practical issues like the preparation of data, python [1] programming and the use of the keras library [2]. The theroretical background of machine learning and deep learning is treated elsewhere [3].\n",
    "\n",
    "Since we know that vectors of measurements can be classified by neural networks, we attempt to do image segmentation in the same way. We consider the NxN environment of each pixel of an image as a feature vector and classify each pixel as either belonging to the background or to an object of interest. Given a number of input images and corresponding ground truth images we extract the training and validation data. We build a neural network using keras, train it with the extracted training data and vaildate it using the extracted validation data. The created classidier is then applied on input images to create a segmentation mask and a probability map. \n",
    "\n",
    "The python programming constructs are explained along the process."
   ]
  },
  {
   "cell_type": "markdown",
   "metadata": {
    "colab_type": "text",
    "id": "ukX7LPh_vFBL"
   },
   "source": [
    "## Setup for Colab\n",
    "\n",
    "When running in google colab, we need to install tifffile and update the keras version. We also need to download the dataset. "
   ]
  },
  {
   "cell_type": "code",
   "execution_count": 1,
   "metadata": {
    "colab": {},
    "colab_type": "code",
    "id": "N01GIurYvqNL"
   },
   "outputs": [],
   "source": [
    "import os\n",
    "if  not os.path.isdir('./training'):\n",
    "  !pip install tifffile\n",
    "  !pip install -U keras\n",
    "  !cd /content/ && git clone https://github.com/MontpellierRessourcesImagerie/DL_EXP_PC.git && cp -r DL_EXP_PC/data . && cp -r DL_EXP_PC/training ."
   ]
  },
  {
   "cell_type": "markdown",
   "metadata": {
    "colab_type": "text",
    "id": "RmPLXqLOWGVL"
   },
   "source": [
    "## Reading in the training data"
   ]
  },
  {
   "cell_type": "markdown",
   "metadata": {
    "colab_type": "text",
    "id": "5eXwA7DgWGVN"
   },
   "source": [
    "For simplicity we will use one image to construct the input data for now. We will generalize this to multiple images later. We have one input image and a correcponding ground-truth image as our training input.\n",
    "\n",
    "As the input of the neural network we need a matrix X containing the input data and a vector y containing the classification for each row in the input matrix. We will construct X and y from the input dataset by first looking at the ground truth images and randomly choosing a number S of foreground samples and a number S of background samples. "
   ]
  },
  {
   "cell_type": "markdown",
   "metadata": {
    "colab_type": "text",
    "id": "fmiMf96XWGVO"
   },
   "source": [
    "We set the paths to the input image and the ground-truth image, the patch size N and the number of samples S of foreground and background values."
   ]
  },
  {
   "cell_type": "code",
   "execution_count": 2,
   "metadata": {
    "colab": {},
    "colab_type": "code",
    "id": "zURDAcw-WGVQ"
   },
   "outputs": [],
   "source": [
    "inputPath = './training/spots.tif'\n",
    "gtPath = './training/spots-gt.tif'\n",
    "N = 3\n",
    "S = 20000"
   ]
  },
  {
   "cell_type": "markdown",
   "metadata": {
    "colab_type": "text",
    "id": "eVzGxcmRWGVa"
   },
   "source": [
    "We read in the input and the ground-truth image as numpy matrices."
   ]
  },
  {
   "cell_type": "code",
   "execution_count": 3,
   "metadata": {
    "colab": {},
    "colab_type": "code",
    "id": "zBVqP954WGVb"
   },
   "outputs": [],
   "source": [
    "import tifffile as tiff\n",
    "gtImage = tiff.imread(gtPath)\n",
    "inputImage = tiff.imread(inputPath)"
   ]
  },
  {
   "cell_type": "markdown",
   "metadata": {
    "colab_type": "text",
    "id": "mtHLUTHdWGVi"
   },
   "source": [
    "We filter out the background samples and the object samples from the ground-truth image."
   ]
  },
  {
   "cell_type": "code",
   "execution_count": 4,
   "metadata": {
    "colab": {
     "base_uri": "https://localhost:8080/",
     "height": 52
    },
    "colab_type": "code",
    "executionInfo": {
     "elapsed": 1597,
     "status": "ok",
     "timestamp": 1586430002490,
     "user": {
      "displayName": "Volker Bäcker",
      "photoUrl": "https://lh3.googleusercontent.com/a-/AOh14GjEu5wjN2vCYiy08xA1eynmYpMhOc6dLWwRZvWdJbI=s64",
      "userId": "10406901054643491303"
     },
     "user_tz": -120
    },
    "id": "rpuATQFJWGVj",
    "outputId": "5d501a88-963a-47c1-869f-39ea0a573dd5"
   },
   "outputs": [
    {
     "name": "stdout",
     "output_type": "stream",
     "text": [
      "[(0, 0), (0, 1), (0, 2), (0, 3), (0, 4), (0, 5), (0, 6), (0, 7), (0, 8), (0, 9)] nr.: 3412479\n",
      "[(36, 1765), (36, 1766), (36, 1767), (36, 1768), (36, 1769), (37, 1764), (37, 1765), (37, 1766), (37, 1767), (37, 1768)] nr.: 210921\n"
     ]
    }
   ],
   "source": [
    "import numpy as np\n",
    "foregroundY, foregroundX = gtImage.nonzero()\n",
    "foreground = list(zip(foregroundY, foregroundX))\n",
    "backgroundY, backgroundX = (gtImage==0).nonzero()\n",
    "background = list(zip(backgroundY, backgroundX))\n",
    "print(background[0:10], \"nr.:\", len(background))\n",
    "print(foreground[0:10], \"nr.:\", len(foreground))"
   ]
  },
  {
   "cell_type": "markdown",
   "metadata": {
    "colab_type": "text",
    "id": "PUDV-eOoWGVr"
   },
   "source": [
    "We select S randomly choosen coordinates from the foreground and S randomly choosen coordinates from the background. We do not take coordinates close to the borders for which the whole neighborhood is not inside of the image."
   ]
  },
  {
   "cell_type": "code",
   "execution_count": 5,
   "metadata": {
    "colab": {
     "base_uri": "https://localhost:8080/",
     "height": 52
    },
    "colab_type": "code",
    "executionInfo": {
     "elapsed": 1093,
     "status": "ok",
     "timestamp": 1586430022323,
     "user": {
      "displayName": "Volker Bäcker",
      "photoUrl": "https://lh3.googleusercontent.com/a-/AOh14GjEu5wjN2vCYiy08xA1eynmYpMhOc6dLWwRZvWdJbI=s64",
      "userId": "10406901054643491303"
     },
     "user_tz": -120
    },
    "id": "wA2p8iDNWGVs",
    "outputId": "6d40c370-6ba6-465b-b350-7a2ed3ec73a9"
   },
   "outputs": [
    {
     "name": "stdout",
     "output_type": "stream",
     "text": [
      "[(795, 414), (1207, 1597), (961, 1375), (345, 872), (1483, 1426), (1697, 1202), (1313, 544), (1744, 875), (792, 775), (1681, 797)]\n",
      "[(1827, 74), (139, 598), (391, 116), (1193, 1642), (1776, 1811), (479, 1588), (1145, 18), (547, 1318), (455, 1539), (154, 375)]\n"
     ]
    }
   ],
   "source": [
    "import random\n",
    "width, height = gtImage.shape\n",
    "FS = []\n",
    "for i in range(S):\n",
    "    r = random.randint(0,len(foreground)-1)\n",
    "    coords = foreground[r]\n",
    "    while coords[0]<=N//2 or coords[0]>=width-N//2 or coords[1]<=N//2 or coords[1]>=height-N//2:\n",
    "        r = random.randint(0,len(foreground)-1)\n",
    "        coords = foreground[r]\n",
    "    FS.append(coords)  \n",
    "BS = []\n",
    "for i in range(S):\n",
    "    r = random.randint(0,len(background)-1)\n",
    "    coords = background[r]\n",
    "    while coords[0]<=N//2 or coords[0]>=width-N//2 or coords[1]<=N//2 or coords[1]>=height-N//2:\n",
    "        r = random.randint(0,len(background)-1)\n",
    "        coords = background[r]\n",
    "    BS.append(background[r])\n",
    "print(FS[0:10])\n",
    "print(BS[0:10])"
   ]
  },
  {
   "cell_type": "markdown",
   "metadata": {
    "colab_type": "text",
    "id": "yOk9SchDWGVz"
   },
   "source": [
    "We create X and y by using the data at the sampled positions in the input image. Since we have separate lists of foreground and background samples, we know to which class each sample must be assigned."
   ]
  },
  {
   "cell_type": "code",
   "execution_count": 6,
   "metadata": {
    "colab": {
     "base_uri": "https://localhost:8080/",
     "height": 191
    },
    "colab_type": "code",
    "executionInfo": {
     "elapsed": 1200,
     "status": "ok",
     "timestamp": 1586430030959,
     "user": {
      "displayName": "Volker Bäcker",
      "photoUrl": "https://lh3.googleusercontent.com/a-/AOh14GjEu5wjN2vCYiy08xA1eynmYpMhOc6dLWwRZvWdJbI=s64",
      "userId": "10406901054643491303"
     },
     "user_tz": -120
    },
    "id": "W7iFQ9YyWGV0",
    "outputId": "072f3e82-e54a-4d83-ffdf-6b1b84dc3282"
   },
   "outputs": [
    {
     "name": "stdout",
     "output_type": "stream",
     "text": [
      "[[114 129 131 127 116 122 116 128 118]\n",
      " [133 121 131 129 127 131 130 128 120]\n",
      " [134 134 123 151 131 131 132 122 125]\n",
      " [111 105 107 105 105 112 106  98 101]\n",
      " [132 133 130 128 132 139 138 135 135]\n",
      " [131 123 114 122 128 116 121 104 111]\n",
      " [125 116 131 126 123 121 127 129 123]\n",
      " [134 130 124 134 127 122 131 136 132]\n",
      " [124 122 126 118 128 126 118 109 118]\n",
      " [120 114 110 122 114 115 113 125 119]] [1 1 1 1 1 1 1 1 1 1]\n"
     ]
    }
   ],
   "source": [
    "X = []\n",
    "y = []\n",
    "for xc, yc in FS:\n",
    "    row = []\n",
    "    for i in range((-N//2)+1, (N//2)+1):\n",
    "        for j in range((-N//2)+1, (N//2)+1):\n",
    "            row.append(inputImage[xc+i,yc+j])\n",
    "    X.append(row)\n",
    "    y.append(1)\n",
    "for xc, yc in BS:\n",
    "    row = []\n",
    "    for i in range((-N//2)+1, (N//2)+1):\n",
    "        for j in range((-N//2)+1, (N//2)+1):\n",
    "            row.append(inputImage[xc+i,yc+j])\n",
    "    X.append(row)\n",
    "    y.append(0)\n",
    "\n",
    "X = np.array(X)\n",
    "y = np.array(y)\n",
    "print(X[0:10], y[0:10])"
   ]
  },
  {
   "cell_type": "markdown",
   "metadata": {
    "colab_type": "text",
    "id": "Zoc2lxQ2WGV6"
   },
   "source": [
    "## Creating a network using keras"
   ]
  },
  {
   "cell_type": "markdown",
   "metadata": {
    "colab_type": "text",
    "id": "jRU1ZcOKWGV6"
   },
   "source": [
    "As a first approach we create a simple, densly connected network with 4 layers inspired by [[4]](https://machinelearningmastery.com/tutorial-first-neural-network-python-keras/). We visualize the network architecture."
   ]
  },
  {
   "cell_type": "code",
   "execution_count": 7,
   "metadata": {
    "colab": {
     "base_uri": "https://localhost:8080/",
     "height": 504
    },
    "colab_type": "code",
    "executionInfo": {
     "elapsed": 3468,
     "status": "ok",
     "timestamp": 1586430041349,
     "user": {
      "displayName": "Volker Bäcker",
      "photoUrl": "https://lh3.googleusercontent.com/a-/AOh14GjEu5wjN2vCYiy08xA1eynmYpMhOc6dLWwRZvWdJbI=s64",
      "userId": "10406901054643491303"
     },
     "user_tz": -120
    },
    "id": "KOOFecMXWGV7",
    "outputId": "e0a5836b-ca3b-41b0-ca9a-db41d655e692"
   },
   "outputs": [
    {
     "name": "stderr",
     "output_type": "stream",
     "text": [
      "Using TensorFlow backend.\n"
     ]
    },
    {
     "name": "stdout",
     "output_type": "stream",
     "text": [
      "Model: \"sequential_1\"\n",
      "_________________________________________________________________\n",
      "Layer (type)                 Output Shape              Param #   \n",
      "=================================================================\n",
      "dense_1 (Dense)              (None, 8)                 80        \n",
      "_________________________________________________________________\n",
      "dense_2 (Dense)              (None, 1)                 9         \n",
      "=================================================================\n",
      "Total params: 89\n",
      "Trainable params: 89\n",
      "Non-trainable params: 0\n",
      "_________________________________________________________________\n"
     ]
    },
    {
     "data": {
      "image/svg+xml": [
       "<svg height=\"200pt\" viewBox=\"0.00 0.00 295.00 221.00\" width=\"266pt\" xmlns=\"http://www.w3.org/2000/svg\" xmlns:xlink=\"http://www.w3.org/1999/xlink\">\n",
       "<g class=\"graph\" id=\"graph0\" transform=\"scale(.9028 .9028) rotate(0) translate(4 217)\">\n",
       "<title>G</title>\n",
       "<polygon fill=\"#ffffff\" points=\"-4,4 -4,-217 291,-217 291,4 -4,4\" stroke=\"transparent\"/>\n",
       "<!-- 140011839095888 -->\n",
       "<g class=\"node\" id=\"node1\">\n",
       "<title>140011839095888</title>\n",
       "<polygon fill=\"none\" points=\"0,-166.5 0,-212.5 287,-212.5 287,-166.5 0,-166.5\" stroke=\"#000000\"/>\n",
       "<text fill=\"#000000\" font-family=\"Times,serif\" font-size=\"14.00\" text-anchor=\"middle\" x=\"81.5\" y=\"-185.8\">dense_1_input: InputLayer</text>\n",
       "<polyline fill=\"none\" points=\"163,-166.5 163,-212.5 \" stroke=\"#000000\"/>\n",
       "<text fill=\"#000000\" font-family=\"Times,serif\" font-size=\"14.00\" text-anchor=\"middle\" x=\"190.5\" y=\"-197.3\">input:</text>\n",
       "<polyline fill=\"none\" points=\"163,-189.5 218,-189.5 \" stroke=\"#000000\"/>\n",
       "<text fill=\"#000000\" font-family=\"Times,serif\" font-size=\"14.00\" text-anchor=\"middle\" x=\"190.5\" y=\"-174.3\">output:</text>\n",
       "<polyline fill=\"none\" points=\"218,-166.5 218,-212.5 \" stroke=\"#000000\"/>\n",
       "<text fill=\"#000000\" font-family=\"Times,serif\" font-size=\"14.00\" text-anchor=\"middle\" x=\"252.5\" y=\"-197.3\">(None, 9)</text>\n",
       "<polyline fill=\"none\" points=\"218,-189.5 287,-189.5 \" stroke=\"#000000\"/>\n",
       "<text fill=\"#000000\" font-family=\"Times,serif\" font-size=\"14.00\" text-anchor=\"middle\" x=\"252.5\" y=\"-174.3\">(None, 9)</text>\n",
       "</g>\n",
       "<!-- 140013617126480 -->\n",
       "<g class=\"node\" id=\"node2\">\n",
       "<title>140013617126480</title>\n",
       "<polygon fill=\"none\" points=\"30.5,-83.5 30.5,-129.5 256.5,-129.5 256.5,-83.5 30.5,-83.5\" stroke=\"#000000\"/>\n",
       "<text fill=\"#000000\" font-family=\"Times,serif\" font-size=\"14.00\" text-anchor=\"middle\" x=\"81.5\" y=\"-102.8\">dense_1: Dense</text>\n",
       "<polyline fill=\"none\" points=\"132.5,-83.5 132.5,-129.5 \" stroke=\"#000000\"/>\n",
       "<text fill=\"#000000\" font-family=\"Times,serif\" font-size=\"14.00\" text-anchor=\"middle\" x=\"160\" y=\"-114.3\">input:</text>\n",
       "<polyline fill=\"none\" points=\"132.5,-106.5 187.5,-106.5 \" stroke=\"#000000\"/>\n",
       "<text fill=\"#000000\" font-family=\"Times,serif\" font-size=\"14.00\" text-anchor=\"middle\" x=\"160\" y=\"-91.3\">output:</text>\n",
       "<polyline fill=\"none\" points=\"187.5,-83.5 187.5,-129.5 \" stroke=\"#000000\"/>\n",
       "<text fill=\"#000000\" font-family=\"Times,serif\" font-size=\"14.00\" text-anchor=\"middle\" x=\"222\" y=\"-114.3\">(None, 9)</text>\n",
       "<polyline fill=\"none\" points=\"187.5,-106.5 256.5,-106.5 \" stroke=\"#000000\"/>\n",
       "<text fill=\"#000000\" font-family=\"Times,serif\" font-size=\"14.00\" text-anchor=\"middle\" x=\"222\" y=\"-91.3\">(None, 8)</text>\n",
       "</g>\n",
       "<!-- 140011839095888&#45;&gt;140013617126480 -->\n",
       "<g class=\"edge\" id=\"edge1\">\n",
       "<title>140011839095888-&gt;140013617126480</title>\n",
       "<path d=\"M143.5,-166.3799C143.5,-158.1745 143.5,-148.7679 143.5,-139.8786\" fill=\"none\" stroke=\"#000000\"/>\n",
       "<polygon fill=\"#000000\" points=\"147.0001,-139.784 143.5,-129.784 140.0001,-139.784 147.0001,-139.784\" stroke=\"#000000\"/>\n",
       "</g>\n",
       "<!-- 140011850294096 -->\n",
       "<g class=\"node\" id=\"node3\">\n",
       "<title>140011850294096</title>\n",
       "<polygon fill=\"none\" points=\"30.5,-.5 30.5,-46.5 256.5,-46.5 256.5,-.5 30.5,-.5\" stroke=\"#000000\"/>\n",
       "<text fill=\"#000000\" font-family=\"Times,serif\" font-size=\"14.00\" text-anchor=\"middle\" x=\"81.5\" y=\"-19.8\">dense_2: Dense</text>\n",
       "<polyline fill=\"none\" points=\"132.5,-.5 132.5,-46.5 \" stroke=\"#000000\"/>\n",
       "<text fill=\"#000000\" font-family=\"Times,serif\" font-size=\"14.00\" text-anchor=\"middle\" x=\"160\" y=\"-31.3\">input:</text>\n",
       "<polyline fill=\"none\" points=\"132.5,-23.5 187.5,-23.5 \" stroke=\"#000000\"/>\n",
       "<text fill=\"#000000\" font-family=\"Times,serif\" font-size=\"14.00\" text-anchor=\"middle\" x=\"160\" y=\"-8.3\">output:</text>\n",
       "<polyline fill=\"none\" points=\"187.5,-.5 187.5,-46.5 \" stroke=\"#000000\"/>\n",
       "<text fill=\"#000000\" font-family=\"Times,serif\" font-size=\"14.00\" text-anchor=\"middle\" x=\"222\" y=\"-31.3\">(None, 8)</text>\n",
       "<polyline fill=\"none\" points=\"187.5,-23.5 256.5,-23.5 \" stroke=\"#000000\"/>\n",
       "<text fill=\"#000000\" font-family=\"Times,serif\" font-size=\"14.00\" text-anchor=\"middle\" x=\"222\" y=\"-8.3\">(None, 1)</text>\n",
       "</g>\n",
       "<!-- 140013617126480&#45;&gt;140011850294096 -->\n",
       "<g class=\"edge\" id=\"edge2\">\n",
       "<title>140013617126480-&gt;140011850294096</title>\n",
       "<path d=\"M143.5,-83.3799C143.5,-75.1745 143.5,-65.7679 143.5,-56.8786\" fill=\"none\" stroke=\"#000000\"/>\n",
       "<polygon fill=\"#000000\" points=\"147.0001,-56.784 143.5,-46.784 140.0001,-56.784 147.0001,-56.784\" stroke=\"#000000\"/>\n",
       "</g>\n",
       "</g>\n",
       "</svg>"
      ],
      "text/plain": [
       "<IPython.core.display.SVG object>"
      ]
     },
     "execution_count": 7,
     "metadata": {},
     "output_type": "execute_result"
    }
   ],
   "source": [
    "import math\n",
    "from keras.models import Sequential\n",
    "from keras.layers import Dense\n",
    "from IPython.display import SVG\n",
    "from keras.utils import model_to_dot\n",
    "\n",
    "model = Sequential()\n",
    "#model.add(Dense(N*N+math.ceil((N*N)/2), input_dim=(N*N), activation='relu'))\n",
    "model.add(Dense(N*N-1, input_dim=(N*N), activation='relu'))\n",
    "model.add(Dense(1, activation='sigmoid'))\n",
    "model.compile(loss='binary_crossentropy', optimizer='adam', metrics=['accuracy'])\n",
    "model.summary()\n",
    "SVG(model_to_dot(model, show_shapes=True, show_layer_names=True, dpi=65).create(prog='dot', format='svg'))"
   ]
  },
  {
   "cell_type": "markdown",
   "metadata": {
    "colab_type": "text",
    "id": "migHcEROWGWB"
   },
   "source": [
    "## Training the network"
   ]
  },
  {
   "cell_type": "markdown",
   "metadata": {
    "colab_type": "text",
    "id": "jUZtk-YjWGWB"
   },
   "source": [
    "We now run the training of the network and calculate and display the trainig loss and accuracy. We also use one fouth of the data for validation and calculate the validation accuracy and loss."
   ]
  },
  {
   "cell_type": "code",
   "execution_count": 8,
   "metadata": {
    "colab": {
     "base_uri": "https://localhost:8080/",
     "height": 34
    },
    "colab_type": "code",
    "executionInfo": {
     "elapsed": 38844,
     "status": "ok",
     "timestamp": 1586430086308,
     "user": {
      "displayName": "Volker Bäcker",
      "photoUrl": "https://lh3.googleusercontent.com/a-/AOh14GjEu5wjN2vCYiy08xA1eynmYpMhOc6dLWwRZvWdJbI=s64",
      "userId": "10406901054643491303"
     },
     "user_tz": -120
    },
    "id": "nfoOfPlTWGWD",
    "outputId": "392037c8-60cc-4d93-c9bb-49e4e4334ddb"
   },
   "outputs": [
    {
     "name": "stdout",
     "output_type": "stream",
     "text": [
      "Loss:  0.033463043170026505 Accuracy:  0.9876499772071838\n",
      "CPU times: user 60 s, sys: 3.65 s, total: 1min 3s\n",
      "Wall time: 37 s\n"
     ]
    }
   ],
   "source": [
    "%%time\n",
    "history = model.fit(X, y, validation_split=0.25, epochs=300, batch_size=int(S/100), verbose=0)\n",
    "loss, accuracy = model.evaluate(X, y, verbose=0)\n",
    "print(\"Loss: \", loss, \"Accuracy: \", accuracy)"
   ]
  },
  {
   "cell_type": "markdown",
   "metadata": {
    "colab_type": "text",
    "id": "gpGoDtb9WGWI"
   },
   "source": [
    "We visualize the training accuracy and loss history."
   ]
  },
  {
   "cell_type": "code",
   "execution_count": 9,
   "metadata": {
    "colab": {
     "base_uri": "https://localhost:8080/",
     "height": 573
    },
    "colab_type": "code",
    "executionInfo": {
     "elapsed": 1723,
     "status": "ok",
     "timestamp": 1586430093938,
     "user": {
      "displayName": "Volker Bäcker",
      "photoUrl": "https://lh3.googleusercontent.com/a-/AOh14GjEu5wjN2vCYiy08xA1eynmYpMhOc6dLWwRZvWdJbI=s64",
      "userId": "10406901054643491303"
     },
     "user_tz": -120
    },
    "id": "GjA7Hq9uWGWK",
    "outputId": "c9125504-d65c-4bf1-a194-c6723f908aa5"
   },
   "outputs": [
    {
     "data": {
      "image/png": "[encoded data removed]",
      "text/plain": [
       "<Figure size 432x288 with 1 Axes>"
      ]
     },
     "metadata": {
      "needs_background": "light"
     },
     "output_type": "display_data"
    },
    {
     "data": {
      "image/png": "[encoded data removed]",
      "text/plain": [
       "<Figure size 432x288 with 1 Axes>"
      ]
     },
     "metadata": {
      "needs_background": "light"
     },
     "output_type": "display_data"
    }
   ],
   "source": [
    "import matplotlib.pyplot as plt\n",
    "\n",
    "# Plot training & validation accuracy values\n",
    "plt.plot(history.history['accuracy'])\n",
    "plt.plot(history.history['val_accuracy'])\n",
    "plt.title('Model accuracy')\n",
    "plt.ylabel('Accuracy')\n",
    "plt.xlabel('Epoch')\n",
    "plt.legend(['Train', 'Test'], loc='lower right')\n",
    "plt.show()\n",
    "\n",
    "# Plot training & validation loss values\n",
    "plt.plot(history.history['loss'])\n",
    "plt.plot(history.history['val_loss'])\n",
    "plt.title('Model loss')\n",
    "plt.ylabel('Loss')\n",
    "plt.xlabel('Epoch')\n",
    "plt.legend(['Train', 'Test'], loc='upper right')\n",
    "plt.show()"
   ]
  },
  {
   "cell_type": "markdown",
   "metadata": {
    "colab_type": "text",
    "id": "P-VIduv3WGWN"
   },
   "source": [
    "## Applying the model on images"
   ]
  },
  {
   "cell_type": "markdown",
   "metadata": {
    "colab_type": "text",
    "id": "5RnGxraeWGWO"
   },
   "source": [
    "We can now use the model to make predictions for the intensity vector of the neighborhood of a pixel."
   ]
  },
  {
   "cell_type": "code",
   "execution_count": 10,
   "metadata": {
    "colab": {
     "base_uri": "https://localhost:8080/",
     "height": 52
    },
    "colab_type": "code",
    "executionInfo": {
     "elapsed": 1287,
     "status": "ok",
     "timestamp": 1586430114179,
     "user": {
      "displayName": "Volker Bäcker",
      "photoUrl": "https://lh3.googleusercontent.com/a-/AOh14GjEu5wjN2vCYiy08xA1eynmYpMhOc6dLWwRZvWdJbI=s64",
      "userId": "10406901054643491303"
     },
     "user_tz": -120
    },
    "id": "B53RMxWsWGWP",
    "outputId": "ea1ad08b-7b76-4422-efe1-c1da6dba66ab"
   },
   "outputs": [
    {
     "name": "stdout",
     "output_type": "stream",
     "text": [
      "0.9999993\n",
      "1\n"
     ]
    }
   ],
   "source": [
    "prediction = model.predict(np.array([[128]*N*N]))\n",
    "print(prediction[0][0])\n",
    "classPrediction = model.predict_classes(np.array([[128]*N*N]))\n",
    "print(classPrediction[0][0])"
   ]
  },
  {
   "cell_type": "markdown",
   "metadata": {
    "colab_type": "text",
    "id": "XKEndjUcWGWU"
   },
   "source": [
    "We will now use the model to segment images. We need to feed the neighborhood of all pixels to the classifier and create an output mask and a probability map from the result of the classification.\n",
    "\n",
    "We set the path to the folder containing the input images. We will read each image in the folder, do the segmentation and save the result images.\n",
    "\n",
    "Here is how it conceptually works. A loop iterates over the pixel in the input image. For each pixel a feature vector is created and classified from the intensities values in its neighborhood. It works but is very slow. We will therefore rather use an optimized version, that first creates a list of all feature vectors, passes them to the classification and then creates the mask and probability map from the results. However since the version not optimized is easier to understand, here it is:"
   ]
  },
  {
   "cell_type": "markdown",
   "metadata": {
    "colab_type": "text",
    "id": "DyMlFzZ9WGWV"
   },
   "source": [
    "```python\n",
    "import os\n",
    "path = './data'\n",
    "files = os.listdir(path)\n",
    "imagePaths = [os.path.join(path, f)  for f in files if not os.path.isdir(path + \"/\" + f)]\n",
    "imagePaths.sort()\n",
    "for imagePath in imagePaths:\n",
    "    image = tiff.imread(imagePath)\n",
    "    width, height = image.shape\n",
    "    pMap = np.zeros(image.shape)\n",
    "    mask = np.zeros(image.shape)\n",
    "    for x in range(0, width):\n",
    "        if x%100 == 0:\n",
    "            print(x)\n",
    "        for y in range(0, height):\n",
    "            neighborhood = []\n",
    "            for i in range((-N//2)+1, (N//2)+1):\n",
    "                for j in range((-N//2)+1, (N//2)+1):\n",
    "                    ic = i\n",
    "                    jc = j\n",
    "                    if x+i < 0 or x+i>=width:\n",
    "                        ic = -1 * i\n",
    "                    if y+j < 0 or y+j>=height:\n",
    "                        jc = -1 * j    \n",
    "                    neighborhood.append(image[x+ic,y+jc])\n",
    "            neighborhood = np.array([neighborhood])\n",
    "            prob = model.predict(neighborhood)[0][0]\n",
    "            category =  model.predict_classes(neighborhood)[0][0]\n",
    "            pMap[x ,y] = prob * 255\n",
    "            mask[x ,y] = category * 255\n",
    "    print(pMap)\n",
    "    print(mask)\n",
    "```"
   ]
  },
  {
   "cell_type": "markdown",
   "metadata": {
    "colab_type": "text",
    "id": "yNN72DevWGWW"
   },
   "source": [
    "### Making the segmentation faster"
   ]
  },
  {
   "cell_type": "markdown",
   "metadata": {
    "colab_type": "text",
    "id": "Ojb6QgMpWGWX"
   },
   "source": [
    "Although the segmentation above works, it is very slow. We will make it faster by applying the classification on bigger chunks of the image data, instead of classifying each pixel based on its neighborhood individually. We will first calculate the feature-vectors, i.e. the values in the neighboorhod for the whole image. Then we apply the classification. Instead of 2D output images we start with 1D arrays of size widthxheight. We fill the linear array with the classification result and then reshape it to the 2D-image."
   ]
  },
  {
   "cell_type": "code",
   "execution_count": 11,
   "metadata": {
    "colab": {
     "base_uri": "https://localhost:8080/",
     "height": 278
    },
    "colab_type": "code",
    "executionInfo": {
     "elapsed": 310398,
     "status": "ok",
     "timestamp": 1586430453983,
     "user": {
      "displayName": "Volker Bäcker",
      "photoUrl": "https://lh3.googleusercontent.com/a-/AOh14GjEu5wjN2vCYiy08xA1eynmYpMhOc6dLWwRZvWdJbI=s64",
      "userId": "10406901054643491303"
     },
     "user_tz": -120
    },
    "id": "I9hpBJ-8WGWa",
    "outputId": "79ccd54d-2faf-4581-e5ce-6a12c443da62"
   },
   "outputs": [
    {
     "name": "stdout",
     "output_type": "stream",
     "text": [
      "Processing image ./data/spots01.tif\n",
      "Extracting the feature vectors.\n",
      "Row: 1820\n",
      "Applying the classifier.\n",
      "Creating the output images.\n",
      "Done!\n",
      "Processing image ./data/spots02.tif\n",
      "Extracting the feature vectors.\n",
      "Row: 1820\n",
      "Applying the classifier.\n",
      "Creating the output images.\n",
      "Done!\n",
      "CPU times: user 3min 6s, sys: 6.2 s, total: 3min 12s\n",
      "Wall time: 2min 43s\n"
     ]
    }
   ],
   "source": [
    "%%time\n",
    "import os\n",
    "path = './data'\n",
    "out = os.path.join(path, 'out')\n",
    "if not os.path.isdir(out):\n",
    "    os.mkdir(out)\n",
    "files = os.listdir(path)\n",
    "imagePaths = [os.path.join(path, f)  for f in files if not os.path.isdir(path + \"/\" + f)]\n",
    "imagePaths.sort()\n",
    "for imagePath in imagePaths:\n",
    "    print(\"Processing image \" + imagePath)\n",
    "    image = tiff.imread(imagePath)\n",
    "    width, height = image.shape\n",
    "    neighborsRange = range((-N//2)+1, (N//2)+1)\n",
    "    pMap = np.zeros(width*height)\n",
    "    mask = np.zeros(width*height)\n",
    "    neighborhoods = np.zeros((width*height, N*N), dtype=int)\n",
    "    vc = 0\n",
    "    print(\"Extracting the feature vectors.\")\n",
    "    for x in range(0, width):\n",
    "        if x%10 == 0:\n",
    "            print(\"\\rRow: \" + str(x), end=\"\")\n",
    "        for y in range(0, height):\n",
    "            neighborhood = np.zeros(N*N)\n",
    "            nc = 0\n",
    "            for i in neighborsRange:\n",
    "                for j in neighborsRange:\n",
    "                    ic = i\n",
    "                    jc = j\n",
    "                    if x+i < 0 or x+i>=width:\n",
    "                        ic = -1 * i\n",
    "                    if y+j < 0 or y+j>=height:\n",
    "                        jc = -1 * j    \n",
    "                    neighborhood[nc] = image[x+ic,y+jc]\n",
    "                    nc = nc + 1\n",
    "            neighborhoods[vc]=neighborhood\n",
    "            vc = vc + 1\n",
    "    print(\"\\nApplying the classifier.\")\n",
    "    prob = model.predict(neighborhoods)\n",
    "    category =  model.predict_classes(neighborhoods)\n",
    "    counter = 0\n",
    "    print(\"Creating the output images.\")\n",
    "    for p in prob:\n",
    "        pMap[counter] = p[0] * 255\n",
    "        counter = counter + 1\n",
    "    pMap = pMap.reshape(width, height)\n",
    "    pMap = pMap.astype(np.uint8)\n",
    "    outFileName = os.path.basename(imagePath)\n",
    "    outFileName = os.path.splitext(outFileName)[0]\n",
    "    outPath = os.path.join(out,outFileName + \"-pMap.tif\" )\n",
    "    tiff.imwrite(outPath, pMap, imagej=True)\n",
    "    counter = 0\n",
    "    for c in category:\n",
    "        mask[counter] = c[0] * 255\n",
    "        counter = counter + 1\n",
    "    mask = mask.reshape(width, height)\n",
    "    mask = mask.astype(np.uint8)\n",
    "    outPath = os.path.join(out,outFileName + \"-mask.tif\" )\n",
    "    tiff.imwrite(outPath, mask, imagej=True)\n",
    "    print(\"Done!\")"
   ]
  },
  {
   "cell_type": "code",
   "execution_count": 12,
   "metadata": {
    "colab": {
     "base_uri": "https://localhost:8080/",
     "height": 704
    },
    "colab_type": "code",
    "executionInfo": {
     "elapsed": 3119,
     "status": "ok",
     "timestamp": 1586430541229,
     "user": {
      "displayName": "Volker Bäcker",
      "photoUrl": "https://lh3.googleusercontent.com/a-/AOh14GjEu5wjN2vCYiy08xA1eynmYpMhOc6dLWwRZvWdJbI=s64",
      "userId": "10406901054643491303"
     },
     "user_tz": -120
    },
    "id": "_iN0FsfoWGWi",
    "outputId": "13441628-795b-4cb6-a59e-707abe29ce67"
   },
   "outputs": [
    {
     "data": {
      "image/png": "[encoded data removed]",
      "text/plain": [
       "<Figure size 1080x864 with 1 Axes>"
      ]
     },
     "metadata": {
      "needs_background": "light"
     },
     "output_type": "display_data"
    }
   ],
   "source": [
    "from matplotlib import pyplot as plt\n",
    "plt.figure(figsize = (15,12))\n",
    "plt.imshow(mask, interpolation='nearest', aspect=\"auto\")\n",
    "plt.show()"
   ]
  },
  {
   "cell_type": "code",
   "execution_count": 13,
   "metadata": {},
   "outputs": [
    {
     "data": {
      "text/plain": [
       "[array([[ 0.28246206, -0.26513678,  0.50406164, -0.38355905, -0.08544117,\n",
       "          0.5576191 ,  0.10375398,  0.03346551],\n",
       "        [-0.4482892 , -0.36275828, -0.33873725, -0.12975532,  0.09645026,\n",
       "          0.10140074,  0.21298791,  0.05154543],\n",
       "        [-0.00782514, -0.23612827, -0.34381267, -0.5075455 , -0.48719075,\n",
       "         -0.12613843,  0.5498339 , -0.32106102],\n",
       "        [-0.18390194,  0.25079852,  0.4855758 ,  0.3238753 ,  0.12628071,\n",
       "         -0.15606152, -0.3807834 ,  0.49767533],\n",
       "        [ 0.30502734, -0.5761536 ,  0.5225293 , -0.11845598,  0.4287374 ,\n",
       "          0.52345335, -0.284626  , -0.23599836],\n",
       "        [-0.11098929, -0.2704445 , -0.29949704,  0.50538206,  0.26554963,\n",
       "         -0.18829897, -0.15115814, -0.27998063],\n",
       "        [-0.4506374 , -0.00488979, -0.533168  , -0.40510985,  0.02290773,\n",
       "          0.20757069,  0.29221928,  0.17230478],\n",
       "        [ 0.5104866 , -0.33582777, -0.16468498, -0.37734044, -0.44456634,\n",
       "          0.45042682, -0.04374632,  0.46228725],\n",
       "        [ 0.2043601 ,  0.44223404, -0.10191482, -0.43710473,  0.16241975,\n",
       "          0.19750929, -0.2093215 , -0.03850043]], dtype=float32),\n",
       " array([ 7.402529  ,  0.        ,  0.02188051,  0.        ,  7.6838355 ,\n",
       "        -7.8412848 ,  8.235842  ,  7.551533  ], dtype=float32),\n",
       " array([[-0.8894844 ],\n",
       "        [-0.527279  ],\n",
       "        [-0.18935154],\n",
       "        [-0.5627271 ],\n",
       "        [-1.1561216 ],\n",
       "        [ 0.6209472 ],\n",
       "        [-1.2060648 ],\n",
       "        [-0.6772041 ]], dtype=float32),\n",
       " array([-7.6022744], dtype=float32)]"
      ]
     },
     "execution_count": 13,
     "metadata": {},
     "output_type": "execute_result"
    }
   ],
   "source": [
    "model.get_weights()"
   ]
  },
  {
   "cell_type": "markdown",
   "metadata": {
    "colab_type": "text",
    "id": "wzDHnusqWGWn"
   },
   "source": [
    "## Literatur"
   ]
  },
  {
   "cell_type": "markdown",
   "metadata": {
    "colab_type": "text",
    "id": "oNgT5_FHWGWo"
   },
   "source": [
    "[1] Van Rossum G, Drake FL. [Python 3 Reference Manual](https://docs.python.org/3/reference/index.html). Scotts Valley, CA: CreateSpace; 2009.\n",
    "\n",
    "[2] Chollet F. and others. [Keras](https://keras.io). 2015\n",
    "\n",
    "[3] [The MRI machine learning workshop](https://github.com/MontpellierRessourcesImagerie/mri-workshop-machine-learning). 2019\n",
    "\n",
    "[4] Brownlee J. [Your First Deep Learning Project in Python with Keras Step-By-Step](https://machinelearningmastery.com/tutorial-first-neural-network-python-keras/). 2019"
   ]
  }
 ],
 "metadata": {
  "colab": {
   "collapsed_sections": [],
   "name": "Copy of DL01-input-data.ipynb",
   "provenance": [
    {
     "file_id": "https://github.com/MontpellierRessourcesImagerie/DL_EXP_PC/blob/master/DL01-input-data.ipynb",
     "timestamp": 1586429829137
    }
   ],
   "toc_visible": true
  },
  "kernelspec": {
   "display_name": "Python 3",
   "language": "python",
   "name": "python3"
  },
  "language_info": {
   "codemirror_mode": {
    "name": "ipython",
    "version": 3
   },
   "file_extension": ".py",
   "mimetype": "text/x-python",
   "name": "python",
   "nbconvert_exporter": "python",
   "pygments_lexer": "ipython3",
   "version": "3.7.6"
  }
 },
 "nbformat": 4,
 "nbformat_minor": 4
}
