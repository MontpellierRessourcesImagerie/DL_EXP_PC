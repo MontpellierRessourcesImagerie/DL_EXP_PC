{
 "cells": [
  {
   "cell_type": "markdown",
   "metadata": {
    "colab_type": "text",
    "id": "0JvwqPl0WGVE"
   },
   "source": [
    "# Deep Learning Experiment - Pixel Classification"
   ]
  },
  {
   "cell_type": "markdown",
   "metadata": {
    "colab_type": "text",
    "id": "CLQjiDQLWGVH"
   },
   "source": [
    "## Abstract"
   ]
  },
  {
   "cell_type": "markdown",
   "metadata": {
    "colab_type": "text",
    "id": "3oZUY9DhWGVJ"
   },
   "source": [
    "We take a naive approach to pixel classification (image segmentation) by machine learning with artificial neural networks. The focus here is on exploring practical issues like the preparation of data, python [1] programming and the use of the keras library [2]. The theroretical background of machine learning and deep learning is treated elsewhere [3].\n",
    "\n",
    "Since we know that vectors of measurements can be classified by neural networks, we attempt to do image segmentation in the same way. We consider the NxN environment of each pixel of an image as a feature vector and classify each pixel as either belonging to the background or to an object of interest. Given a number of input images and corresponding ground truth images we extract the training and validation data. We build a neural network using keras, train it with the extracted training data and vaildate it using the extracted validation data. The created classidier is then applied on input images to create a segmentation mask and a probability map. \n",
    "\n",
    "The python programming constructs are explained along the process."
   ]
  },
  {
   "cell_type": "markdown",
   "metadata": {
    "colab_type": "text",
    "id": "ukX7LPh_vFBL"
   },
   "source": [
    "## Setup for Colab\n",
    "\n",
    "When running in google colab, we need to install tifffile and update the keras version. We also need to download the dataset. "
   ]
  },
  {
   "cell_type": "code",
   "execution_count": 1,
   "metadata": {
    "colab": {},
    "colab_type": "code",
    "id": "N01GIurYvqNL"
   },
   "outputs": [],
   "source": [
    "import os\n",
    "if  not os.path.isdir('./training'):\n",
    "  !pip install tifffile\n",
    "  !pip install -U keras\n",
    "  !pip install mpld3\n",
    "  !cd /content/ && git clone https://github.com/MontpellierRessourcesImagerie/DL_EXP_PC.git && cp -r DL_EXP_PC/data . && cp -r DL_EXP_PC/training ."
   ]
  },
  {
   "cell_type": "markdown",
   "metadata": {
    "colab_type": "text",
    "id": "RmPLXqLOWGVL"
   },
   "source": [
    "## Reading in the training data"
   ]
  },
  {
   "cell_type": "markdown",
   "metadata": {
    "colab_type": "text",
    "id": "5eXwA7DgWGVN"
   },
   "source": [
    "For simplicity we will use one image to construct the input data for now. We will generalize this to multiple images later. We have one input image and a correcponding ground-truth image as our training input.\n",
    "\n",
    "As the input of the neural network we need a matrix X containing the input data and a vector y containing the classification for each row in the input matrix. We will construct X and y from the input dataset by first looking at the ground truth images and randomly choosing a number S of foreground samples and a number S of background samples. "
   ]
  },
  {
   "cell_type": "markdown",
   "metadata": {
    "colab_type": "text",
    "id": "fmiMf96XWGVO"
   },
   "source": [
    "We set the paths to the input image and the ground-truth image, the patch size N and the number of samples S of foreground and background values."
   ]
  },
  {
   "cell_type": "code",
   "execution_count": 2,
   "metadata": {
    "colab": {},
    "colab_type": "code",
    "id": "zURDAcw-WGVQ"
   },
   "outputs": [],
   "source": [
    "inputPath = './training/spots.tif'\n",
    "gtPath = './training/spots-gt.tif'\n",
    "N = 3\n",
    "S = 20000"
   ]
  },
  {
   "cell_type": "markdown",
   "metadata": {
    "colab_type": "text",
    "id": "eVzGxcmRWGVa"
   },
   "source": [
    "We read in the input and the ground-truth image as numpy matrices."
   ]
  },
  {
   "cell_type": "code",
   "execution_count": 3,
   "metadata": {
    "colab": {},
    "colab_type": "code",
    "id": "zBVqP954WGVb"
   },
   "outputs": [
    {
     "name": "stdout",
     "output_type": "stream",
     "text": [
      "(1830, 1980)\n"
     ]
    }
   ],
   "source": [
    "import tifffile as tiff\n",
    "gtImage = tiff.imread(gtPath)\n",
    "inputImage = tiff.imread(inputPath) / 255\n",
    "print(inputImage.shape)"
   ]
  },
  {
   "cell_type": "markdown",
   "metadata": {
    "colab_type": "text",
    "id": "mtHLUTHdWGVi"
   },
   "source": [
    "We filter out the background samples and the object samples from the ground-truth image."
   ]
  },
  {
   "cell_type": "code",
   "execution_count": 4,
   "metadata": {
    "colab": {
     "base_uri": "https://localhost:8080/",
     "height": 52
    },
    "colab_type": "code",
    "executionInfo": {
     "elapsed": 1597,
     "status": "ok",
     "timestamp": 1586430002490,
     "user": {
      "displayName": "Volker Bäcker",
      "photoUrl": "https://lh3.googleusercontent.com/a-/AOh14GjEu5wjN2vCYiy08xA1eynmYpMhOc6dLWwRZvWdJbI=s64",
      "userId": "10406901054643491303"
     },
     "user_tz": -120
    },
    "id": "rpuATQFJWGVj",
    "outputId": "5d501a88-963a-47c1-869f-39ea0a573dd5"
   },
   "outputs": [
    {
     "name": "stdout",
     "output_type": "stream",
     "text": [
      "[(0, 0), (0, 1), (0, 2), (0, 3), (0, 4), (0, 5), (0, 6), (0, 7), (0, 8), (0, 9)] nr.: 3412479\n",
      "[(36, 1765), (36, 1766), (36, 1767), (36, 1768), (36, 1769), (37, 1764), (37, 1765), (37, 1766), (37, 1767), (37, 1768)] nr.: 210921\n"
     ]
    }
   ],
   "source": [
    "import numpy as np\n",
    "foregroundY, foregroundX = gtImage.nonzero()\n",
    "foreground = list(zip(foregroundY, foregroundX))\n",
    "backgroundY, backgroundX = (gtImage==0).nonzero()\n",
    "background = list(zip(backgroundY, backgroundX))\n",
    "print(background[0:10], \"nr.:\", len(background))\n",
    "print(foreground[0:10], \"nr.:\", len(foreground))"
   ]
  },
  {
   "cell_type": "markdown",
   "metadata": {
    "colab_type": "text",
    "id": "PUDV-eOoWGVr"
   },
   "source": [
    "We select S randomly choosen coordinates from the foreground and S randomly choosen coordinates from the background. We do not take coordinates close to the borders for which the whole neighborhood is not inside of the image."
   ]
  },
  {
   "cell_type": "code",
   "execution_count": 5,
   "metadata": {
    "colab": {
     "base_uri": "https://localhost:8080/",
     "height": 52
    },
    "colab_type": "code",
    "executionInfo": {
     "elapsed": 1093,
     "status": "ok",
     "timestamp": 1586430022323,
     "user": {
      "displayName": "Volker Bäcker",
      "photoUrl": "https://lh3.googleusercontent.com/a-/AOh14GjEu5wjN2vCYiy08xA1eynmYpMhOc6dLWwRZvWdJbI=s64",
      "userId": "10406901054643491303"
     },
     "user_tz": -120
    },
    "id": "wA2p8iDNWGVs",
    "outputId": "6d40c370-6ba6-465b-b350-7a2ed3ec73a9"
   },
   "outputs": [
    {
     "name": "stdout",
     "output_type": "stream",
     "text": [
      "[(613, 1708), (240, 977), (427, 458), (500, 1663), (754, 738), (276, 81), (1563, 1315), (665, 197), (1478, 1864), (321, 367)]\n",
      "[(1650, 641), (1332, 1191), (1778, 1001), (1054, 1917), (1154, 1020), (904, 12), (420, 426), (592, 958), (851, 1500), (794, 1788)]\n"
     ]
    }
   ],
   "source": [
    "from random import randint\n",
    "height, width = gtImage.shape\n",
    "def getNCoordinateSamplesFrom(n, aList, minX, maxX, minY, maxY):\n",
    "    samples = []\n",
    "    for _ in range(n):\n",
    "        r = randint(0,len(aList)-1)\n",
    "        coords = aList[r]\n",
    "        while coords[0]<=minY or coords[0]>=maxY or coords[1]<=minX or coords[1]>=maxX:    \n",
    "            r = randint(0,len(foreground)-1)\n",
    "            coords = foreground[r]\n",
    "        samples.append(coords)\n",
    "    return samples\n",
    "FS = getNCoordinateSamplesFrom(S, foreground, N//2, width-N//2, N//2, height-N//2)\n",
    "BS = getNCoordinateSamplesFrom(S, background, N//2, width-N//2, N//2, height-N//2)\n",
    "print(FS[0:10])\n",
    "print(BS[0:10])"
   ]
  },
  {
   "cell_type": "markdown",
   "metadata": {
    "colab_type": "text",
    "id": "yOk9SchDWGVz"
   },
   "source": [
    "We create X and y by using the data at the sampled positions in the input image. Since we have separate lists of foreground and background samples, we know to which class each sample must be assigned."
   ]
  },
  {
   "cell_type": "code",
   "execution_count": 6,
   "metadata": {
    "colab": {
     "base_uri": "https://localhost:8080/",
     "height": 191
    },
    "colab_type": "code",
    "executionInfo": {
     "elapsed": 1200,
     "status": "ok",
     "timestamp": 1586430030959,
     "user": {
      "displayName": "Volker Bäcker",
      "photoUrl": "https://lh3.googleusercontent.com/a-/AOh14GjEu5wjN2vCYiy08xA1eynmYpMhOc6dLWwRZvWdJbI=s64",
      "userId": "10406901054643491303"
     },
     "user_tz": -120
    },
    "id": "W7iFQ9YyWGV0",
    "outputId": "072f3e82-e54a-4d83-ffdf-6b1b84dc3282"
   },
   "outputs": [
    {
     "name": "stdout",
     "output_type": "stream",
     "text": [
      "foreground samples\n",
      " [[0.45098039 0.46666667 0.49411765 0.49411765 0.47058824 0.43921569\n",
      "  0.47058824 0.51372549 0.44313725]\n",
      " [0.44313725 0.47058824 0.45098039 0.43137255 0.44313725 0.41568627\n",
      "  0.4627451  0.44313725 0.48627451]\n",
      " [0.46666667 0.42745098 0.4627451  0.43529412 0.41568627 0.46666667\n",
      "  0.43137255 0.41960784 0.47058824]\n",
      " [0.51764706 0.54117647 0.54117647 0.52941176 0.50588235 0.50980392\n",
      "  0.50588235 0.50588235 0.49803922]\n",
      " [0.36078431 0.34901961 0.45882353 0.38431373 0.37254902 0.36078431\n",
      "  0.38431373 0.33333333 0.38431373]] [1 1 1 1 1]\n",
      "background samples\n",
      " [[0.30196078 0.30980392 0.31764706 0.31764706 0.3254902  0.34901961\n",
      "  0.3254902  0.31764706 0.32156863]\n",
      " [0.29803922 0.29411765 0.3254902  0.30980392 0.33333333 0.3254902\n",
      "  0.30980392 0.29411765 0.32941176]\n",
      " [0.31764706 0.34117647 0.32156863 0.31764706 0.3372549  0.32156863\n",
      "  0.34901961 0.32156863 0.32941176]\n",
      " [0.32156863 0.32156863 0.34117647 0.32941176 0.3372549  0.35294118\n",
      "  0.34117647 0.32941176 0.30980392]\n",
      " [0.32156863 0.32156863 0.3254902  0.32941176 0.3254902  0.32156863\n",
      "  0.3254902  0.3372549  0.30588235]] [0 0 0 0 0]\n"
     ]
    }
   ],
   "source": [
    "def addSamplesToTrainingData(n, image, samples, X, y, target):\n",
    "    start = -n//2 + 1\n",
    "    stop = -start + 1\n",
    "    for ys, xs in samples:\n",
    "        vector = []\n",
    "        for i in range(start, stop):\n",
    "            for j in range(start, stop):\n",
    "                vector.append(image[ys+i,xs+j])\n",
    "        X.append(vector)\n",
    "        y.append(target)\n",
    "    return X, y\n",
    "X = []\n",
    "y = []\n",
    "addSamplesToTrainingData(N, inputImage, FS, X, y, 1)\n",
    "addSamplesToTrainingData(N, inputImage, BS, X, y, 0)\n",
    "X = np.array(X)\n",
    "y = np.array(y)\n",
    "print(\"foreground samples\\n\", X[0:5], y[0:5])\n",
    "print(\"background samples\\n\", X[S:S+5], y[S:S+5])"
   ]
  },
  {
   "cell_type": "markdown",
   "metadata": {},
   "source": [
    "The way we created X and y, we have S foreground samples followed by S background samples. This might not be ideal. The training will be done in mini-batches. The data will be shuffled automatically in the training before the mini-batches are created. However for validation a fraction of the data is taken from the end of the data before the shuffling is done. We therefore shuffle the data now."
   ]
  },
  {
   "cell_type": "code",
   "execution_count": 7,
   "metadata": {},
   "outputs": [
    {
     "name": "stdout",
     "output_type": "stream",
     "text": [
      "first 5 of mixed samples\n",
      " [[0.43529412 0.42745098 0.44313725 0.38431373 0.40392157 0.43921569\n",
      "  0.36078431 0.45490196 0.42745098]\n",
      " [0.33333333 0.30980392 0.29803922 0.29803922 0.31764706 0.34509804\n",
      "  0.3254902  0.32941176 0.32156863]\n",
      " [0.43921569 0.4745098  0.44313725 0.47843137 0.44705882 0.47058824\n",
      "  0.45882353 0.42352941 0.45098039]\n",
      " [0.31372549 0.3254902  0.32156863 0.3254902  0.34509804 0.31764706\n",
      "  0.33333333 0.31764706 0.32156863]\n",
      " [0.3372549  0.33333333 0.33333333 0.31372549 0.3372549  0.3372549\n",
      "  0.32941176 0.32941176 0.31372549]] [1 0 1 0 0]\n",
      "last 5 of mixed samples\n",
      " [[0.50196078 0.45098039 0.51372549 0.46666667 0.49803922 0.52156863\n",
      "  0.49803922 0.50980392 0.49019608]\n",
      " [0.46666667 0.48235294 0.45490196 0.48627451 0.4627451  0.5254902\n",
      "  0.52156863 0.49411765 0.48235294]\n",
      " [0.46666667 0.52156863 0.50980392 0.5372549  0.55686275 0.50588235\n",
      "  0.49803922 0.50196078 0.5254902 ]\n",
      " [0.45490196 0.51372549 0.49411765 0.48235294 0.51764706 0.52941176\n",
      "  0.44313725 0.52941176 0.51372549]\n",
      " [0.37647059 0.38431373 0.43137255 0.38039216 0.40392157 0.4\n",
      "  0.40392157 0.41568627 0.4       ]] [1 1 1 1 1]\n"
     ]
    }
   ],
   "source": [
    "seed = np.random.randint(0, 2**(32 - 1) - 1) \n",
    "rstate = np.random.RandomState(seed)\n",
    "rstate.shuffle(X)\n",
    "rstate = np.random.RandomState(seed)\n",
    "rstate.shuffle(y)\n",
    "print(\"first 5 of mixed samples\\n\", X[0:5], y[0:5])\n",
    "print(\"last 5 of mixed samples\\n\", X[S:S+5], y[S:S+5])"
   ]
  },
  {
   "cell_type": "markdown",
   "metadata": {
    "colab_type": "text",
    "id": "Zoc2lxQ2WGV6"
   },
   "source": [
    "## Creating a network using keras"
   ]
  },
  {
   "cell_type": "markdown",
   "metadata": {
    "colab_type": "text",
    "id": "jRU1ZcOKWGV6"
   },
   "source": [
    "As a first approach we create a simple, densly connected network with 4 layers inspired by [[4]](https://machinelearningmastery.com/tutorial-first-neural-network-python-keras/). We visualize the network architecture."
   ]
  },
  {
   "cell_type": "code",
   "execution_count": 8,
   "metadata": {
    "colab": {
     "base_uri": "https://localhost:8080/",
     "height": 504
    },
    "colab_type": "code",
    "executionInfo": {
     "elapsed": 3468,
     "status": "ok",
     "timestamp": 1586430041349,
     "user": {
      "displayName": "Volker Bäcker",
      "photoUrl": "https://lh3.googleusercontent.com/a-/AOh14GjEu5wjN2vCYiy08xA1eynmYpMhOc6dLWwRZvWdJbI=s64",
      "userId": "10406901054643491303"
     },
     "user_tz": -120
    },
    "id": "KOOFecMXWGV7",
    "outputId": "e0a5836b-ca3b-41b0-ca9a-db41d655e692"
   },
   "outputs": [
    {
     "name": "stderr",
     "output_type": "stream",
     "text": [
      "Using TensorFlow backend.\n"
     ]
    },
    {
     "name": "stdout",
     "output_type": "stream",
     "text": [
      "Model: \"sequential_1\"\n",
      "_________________________________________________________________\n",
      "Layer (type)                 Output Shape              Param #   \n",
      "=================================================================\n",
      "dense_1 (Dense)              (None, 8)                 80        \n",
      "_________________________________________________________________\n",
      "dense_2 (Dense)              (None, 1)                 9         \n",
      "=================================================================\n",
      "Total params: 89\n",
      "Trainable params: 89\n",
      "Non-trainable params: 0\n",
      "_________________________________________________________________\n"
     ]
    },
    {
     "data": {
      "image/svg+xml": [
       "<svg height=\"200pt\" viewBox=\"0.00 0.00 295.00 221.00\" width=\"266pt\" xmlns=\"http://www.w3.org/2000/svg\" xmlns:xlink=\"http://www.w3.org/1999/xlink\">\n",
       "<g class=\"graph\" id=\"graph0\" transform=\"scale(.9028 .9028) rotate(0) translate(4 217)\">\n",
       "<title>G</title>\n",
       "<polygon fill=\"#ffffff\" points=\"-4,4 -4,-217 291,-217 291,4 -4,4\" stroke=\"transparent\"/>\n",
       "<!-- 139619899837200 -->\n",
       "<g class=\"node\" id=\"node1\">\n",
       "<title>139619899837200</title>\n",
       "<polygon fill=\"none\" points=\"0,-166.5 0,-212.5 287,-212.5 287,-166.5 0,-166.5\" stroke=\"#000000\"/>\n",
       "<text fill=\"#000000\" font-family=\"Times,serif\" font-size=\"14.00\" text-anchor=\"middle\" x=\"81.5\" y=\"-185.8\">dense_1_input: InputLayer</text>\n",
       "<polyline fill=\"none\" points=\"163,-166.5 163,-212.5 \" stroke=\"#000000\"/>\n",
       "<text fill=\"#000000\" font-family=\"Times,serif\" font-size=\"14.00\" text-anchor=\"middle\" x=\"190.5\" y=\"-197.3\">input:</text>\n",
       "<polyline fill=\"none\" points=\"163,-189.5 218,-189.5 \" stroke=\"#000000\"/>\n",
       "<text fill=\"#000000\" font-family=\"Times,serif\" font-size=\"14.00\" text-anchor=\"middle\" x=\"190.5\" y=\"-174.3\">output:</text>\n",
       "<polyline fill=\"none\" points=\"218,-166.5 218,-212.5 \" stroke=\"#000000\"/>\n",
       "<text fill=\"#000000\" font-family=\"Times,serif\" font-size=\"14.00\" text-anchor=\"middle\" x=\"252.5\" y=\"-197.3\">(None, 9)</text>\n",
       "<polyline fill=\"none\" points=\"218,-189.5 287,-189.5 \" stroke=\"#000000\"/>\n",
       "<text fill=\"#000000\" font-family=\"Times,serif\" font-size=\"14.00\" text-anchor=\"middle\" x=\"252.5\" y=\"-174.3\">(None, 9)</text>\n",
       "</g>\n",
       "<!-- 139622333929872 -->\n",
       "<g class=\"node\" id=\"node2\">\n",
       "<title>139622333929872</title>\n",
       "<polygon fill=\"none\" points=\"30.5,-83.5 30.5,-129.5 256.5,-129.5 256.5,-83.5 30.5,-83.5\" stroke=\"#000000\"/>\n",
       "<text fill=\"#000000\" font-family=\"Times,serif\" font-size=\"14.00\" text-anchor=\"middle\" x=\"81.5\" y=\"-102.8\">dense_1: Dense</text>\n",
       "<polyline fill=\"none\" points=\"132.5,-83.5 132.5,-129.5 \" stroke=\"#000000\"/>\n",
       "<text fill=\"#000000\" font-family=\"Times,serif\" font-size=\"14.00\" text-anchor=\"middle\" x=\"160\" y=\"-114.3\">input:</text>\n",
       "<polyline fill=\"none\" points=\"132.5,-106.5 187.5,-106.5 \" stroke=\"#000000\"/>\n",
       "<text fill=\"#000000\" font-family=\"Times,serif\" font-size=\"14.00\" text-anchor=\"middle\" x=\"160\" y=\"-91.3\">output:</text>\n",
       "<polyline fill=\"none\" points=\"187.5,-83.5 187.5,-129.5 \" stroke=\"#000000\"/>\n",
       "<text fill=\"#000000\" font-family=\"Times,serif\" font-size=\"14.00\" text-anchor=\"middle\" x=\"222\" y=\"-114.3\">(None, 9)</text>\n",
       "<polyline fill=\"none\" points=\"187.5,-106.5 256.5,-106.5 \" stroke=\"#000000\"/>\n",
       "<text fill=\"#000000\" font-family=\"Times,serif\" font-size=\"14.00\" text-anchor=\"middle\" x=\"222\" y=\"-91.3\">(None, 8)</text>\n",
       "</g>\n",
       "<!-- 139619899837200&#45;&gt;139622333929872 -->\n",
       "<g class=\"edge\" id=\"edge1\">\n",
       "<title>139619899837200-&gt;139622333929872</title>\n",
       "<path d=\"M143.5,-166.3799C143.5,-158.1745 143.5,-148.7679 143.5,-139.8786\" fill=\"none\" stroke=\"#000000\"/>\n",
       "<polygon fill=\"#000000\" points=\"147.0001,-139.784 143.5,-129.784 140.0001,-139.784 147.0001,-139.784\" stroke=\"#000000\"/>\n",
       "</g>\n",
       "<!-- 139619899836624 -->\n",
       "<g class=\"node\" id=\"node3\">\n",
       "<title>139619899836624</title>\n",
       "<polygon fill=\"none\" points=\"30.5,-.5 30.5,-46.5 256.5,-46.5 256.5,-.5 30.5,-.5\" stroke=\"#000000\"/>\n",
       "<text fill=\"#000000\" font-family=\"Times,serif\" font-size=\"14.00\" text-anchor=\"middle\" x=\"81.5\" y=\"-19.8\">dense_2: Dense</text>\n",
       "<polyline fill=\"none\" points=\"132.5,-.5 132.5,-46.5 \" stroke=\"#000000\"/>\n",
       "<text fill=\"#000000\" font-family=\"Times,serif\" font-size=\"14.00\" text-anchor=\"middle\" x=\"160\" y=\"-31.3\">input:</text>\n",
       "<polyline fill=\"none\" points=\"132.5,-23.5 187.5,-23.5 \" stroke=\"#000000\"/>\n",
       "<text fill=\"#000000\" font-family=\"Times,serif\" font-size=\"14.00\" text-anchor=\"middle\" x=\"160\" y=\"-8.3\">output:</text>\n",
       "<polyline fill=\"none\" points=\"187.5,-.5 187.5,-46.5 \" stroke=\"#000000\"/>\n",
       "<text fill=\"#000000\" font-family=\"Times,serif\" font-size=\"14.00\" text-anchor=\"middle\" x=\"222\" y=\"-31.3\">(None, 8)</text>\n",
       "<polyline fill=\"none\" points=\"187.5,-23.5 256.5,-23.5 \" stroke=\"#000000\"/>\n",
       "<text fill=\"#000000\" font-family=\"Times,serif\" font-size=\"14.00\" text-anchor=\"middle\" x=\"222\" y=\"-8.3\">(None, 1)</text>\n",
       "</g>\n",
       "<!-- 139622333929872&#45;&gt;139619899836624 -->\n",
       "<g class=\"edge\" id=\"edge2\">\n",
       "<title>139622333929872-&gt;139619899836624</title>\n",
       "<path d=\"M143.5,-83.3799C143.5,-75.1745 143.5,-65.7679 143.5,-56.8786\" fill=\"none\" stroke=\"#000000\"/>\n",
       "<polygon fill=\"#000000\" points=\"147.0001,-56.784 143.5,-46.784 140.0001,-56.784 147.0001,-56.784\" stroke=\"#000000\"/>\n",
       "</g>\n",
       "</g>\n",
       "</svg>"
      ],
      "text/plain": [
       "<IPython.core.display.SVG object>"
      ]
     },
     "execution_count": 8,
     "metadata": {},
     "output_type": "execute_result"
    }
   ],
   "source": [
    "from keras.models import Sequential\n",
    "from keras.layers import Dense\n",
    "from IPython.display import SVG\n",
    "from keras.utils import model_to_dot\n",
    "\n",
    "model = Sequential()\n",
    "model.add(Dense(N*N-1, input_dim=(N*N), activation='relu'))\n",
    "model.add(Dense(1, activation='sigmoid'))\n",
    "model.compile(loss='binary_crossentropy', optimizer='rmsprop', metrics=['accuracy'])\n",
    "model.summary()\n",
    "SVG(model_to_dot(model, show_shapes=True, show_layer_names=True, dpi=65).create(prog='dot', format='svg'))"
   ]
  },
  {
   "cell_type": "markdown",
   "metadata": {
    "colab_type": "text",
    "id": "migHcEROWGWB"
   },
   "source": [
    "## Training the network"
   ]
  },
  {
   "cell_type": "markdown",
   "metadata": {
    "colab_type": "text",
    "id": "jUZtk-YjWGWB"
   },
   "source": [
    "We now run the training of the network and calculate and display the trainig loss and accuracy. We also use one fouth of the data for validation and calculate the validation accuracy and loss."
   ]
  },
  {
   "cell_type": "code",
   "execution_count": 9,
   "metadata": {
    "colab": {
     "base_uri": "https://localhost:8080/",
     "height": 34
    },
    "colab_type": "code",
    "executionInfo": {
     "elapsed": 38844,
     "status": "ok",
     "timestamp": 1586430086308,
     "user": {
      "displayName": "Volker Bäcker",
      "photoUrl": "https://lh3.googleusercontent.com/a-/AOh14GjEu5wjN2vCYiy08xA1eynmYpMhOc6dLWwRZvWdJbI=s64",
      "userId": "10406901054643491303"
     },
     "user_tz": -120
    },
    "id": "nfoOfPlTWGWD",
    "outputId": "392037c8-60cc-4d93-c9bb-49e4e4334ddb"
   },
   "outputs": [
    {
     "name": "stdout",
     "output_type": "stream",
     "text": [
      "Loss:  0.0447494085252285 Accuracy:  0.9876000285148621\n",
      "CPU times: user 7.78 s, sys: 716 ms, total: 8.5 s\n",
      "Wall time: 5.11 s\n"
     ]
    }
   ],
   "source": [
    "%%time\n",
    "history = model.fit(X, y, validation_split=0.25, epochs=25, batch_size=128, verbose=0)\n",
    "print(\"Loss: \", history.history['val_loss'][-1], \"Accuracy: \", history.history['val_accuracy'][-1])"
   ]
  },
  {
   "cell_type": "markdown",
   "metadata": {
    "colab_type": "text",
    "id": "gpGoDtb9WGWI"
   },
   "source": [
    "We visualize the training accuracy and loss history."
   ]
  },
  {
   "cell_type": "code",
   "execution_count": 10,
   "metadata": {
    "colab": {
     "base_uri": "https://localhost:8080/",
     "height": 573
    },
    "colab_type": "code",
    "executionInfo": {
     "elapsed": 1723,
     "status": "ok",
     "timestamp": 1586430093938,
     "user": {
      "displayName": "Volker Bäcker",
      "photoUrl": "https://lh3.googleusercontent.com/a-/AOh14GjEu5wjN2vCYiy08xA1eynmYpMhOc6dLWwRZvWdJbI=s64",
      "userId": "10406901054643491303"
     },
     "user_tz": -120
    },
    "id": "GjA7Hq9uWGWK",
    "outputId": "c9125504-d65c-4bf1-a194-c6723f908aa5"
   },
   "outputs": [
    {
     "data": {
      "text/html": [
       "\n",
       "\n",
       "<style>\n",
       "\n",
       "</style>\n",
       "\n",
       "<div id=\"fig_el143891396227396675369252122982\"></div>\n",
       "<script>\n",
       "function mpld3_load_lib(url, callback){\n",
       "  var s = document.createElement('script');\n",
       "  s.src = url;\n",
       "  s.async = true;\n",
       "  s.onreadystatechange = s.onload = callback;\n",
       "  s.onerror = function(){console.warn(\"failed to load library \" + url);};\n",
       "  document.getElementsByTagName(\"head\")[0].appendChild(s);\n",
       "}\n",
       "\n",
       "if(typeof(mpld3) !== \"undefined\" && mpld3._mpld3IsLoaded){\n",
       "   // already loaded: just create the figure\n",
       "   !function(mpld3){\n",
       "       \n",
       "       mpld3.draw_figure(\"fig_el143891396227396675369252122982\", {\"width\": 1080.0, \"height\": 360.0, \"axes\": [{\"bbox\": [0.07361111111111111, 0.20416666666666672, 0.40926595500459134, 0.6680555555555554], \"xlim\": [-1.2000000000000002, 25.2], \"ylim\": [0.4591600030660629, 1.0129733353853225], \"xdomain\": [-1.2000000000000002, 25.2], \"ydomain\": [0.4591600030660629, 1.0129733353853225], \"xscale\": \"linear\", \"yscale\": \"linear\", \"axes\": [{\"position\": \"bottom\", \"nticks\": 8, \"tickvalues\": null, \"tickformat\": null, \"scale\": \"linear\", \"fontsize\": 10.0, \"grid\": {\"gridOn\": false}, \"visible\": true}, {\"position\": \"left\", \"nticks\": 8, \"tickvalues\": null, \"tickformat\": null, \"scale\": \"linear\", \"fontsize\": 10.0, \"grid\": {\"gridOn\": false}, \"visible\": true}], \"axesbg\": \"#FFFFFF\", \"axesbgalpha\": null, \"zoomable\": true, \"id\": \"el14389139622699997136\", \"lines\": [{\"data\": \"data01\", \"xindex\": 0, \"yindex\": 1, \"coordinates\": \"data\", \"id\": \"el14389139622698597904\", \"color\": \"#1F77B4\", \"linewidth\": 1.5, \"dasharray\": \"none\", \"alpha\": 1, \"zorder\": 2, \"drawstyle\": \"default\"}, {\"data\": \"data01\", \"xindex\": 0, \"yindex\": 2, \"coordinates\": \"data\", \"id\": \"el14389139622736883920\", \"color\": \"#FF7F0E\", \"linewidth\": 1.5, \"dasharray\": \"none\", \"alpha\": 1, \"zorder\": 2, \"drawstyle\": \"default\"}, {\"data\": \"data02\", \"xindex\": 0, \"yindex\": 1, \"coordinates\": \"axes\", \"id\": \"el14389139622739770832\", \"color\": \"#1F77B4\", \"linewidth\": 1.5, \"dasharray\": \"none\", \"alpha\": 1, \"zorder\": 1000002.0, \"drawstyle\": \"default\"}, {\"data\": \"data02\", \"xindex\": 0, \"yindex\": 2, \"coordinates\": \"axes\", \"id\": \"el14389139622698147024\", \"color\": \"#FF7F0E\", \"linewidth\": 1.5, \"dasharray\": \"none\", \"alpha\": 1, \"zorder\": 1000002.0, \"drawstyle\": \"default\"}], \"paths\": [{\"data\": \"data03\", \"xindex\": 0, \"yindex\": 1, \"coordinates\": \"axes\", \"pathcodes\": [\"M\", \"L\", \"S\", \"L\", \"S\", \"L\", \"S\", \"L\", \"S\", \"Z\"], \"id\": \"el14389139622736884496\", \"dasharray\": \"none\", \"alpha\": 0.8, \"facecolor\": \"#FFFFFF\", \"edgecolor\": \"#CCCCCC\", \"edgewidth\": 1.0, \"zorder\": 1000000.0}], \"markers\": [], \"texts\": [{\"text\": \"Epoch\", \"position\": [0.5, -0.13929313929313933], \"coordinates\": \"axes\", \"h_anchor\": \"middle\", \"v_baseline\": \"hanging\", \"rotation\": -0.0, \"fontsize\": 10.0, \"color\": \"#000000\", \"alpha\": 1, \"zorder\": 3, \"id\": \"el14389139622699997456\"}, {\"text\": \"Accuracy\", \"position\": [-0.08936505376721052, 0.5], \"coordinates\": \"axes\", \"h_anchor\": \"middle\", \"v_baseline\": \"auto\", \"rotation\": -90.0, \"fontsize\": 10.0, \"color\": \"#000000\", \"alpha\": 1, \"zorder\": 3, \"id\": \"el14389139622698661968\"}, {\"text\": \"Model accuracy\", \"position\": [0.5, 1.024948024948025], \"coordinates\": \"axes\", \"h_anchor\": \"middle\", \"v_baseline\": \"auto\", \"rotation\": -0.0, \"fontsize\": 12.0, \"color\": \"#000000\", \"alpha\": 1, \"zorder\": 3, \"id\": \"el14389139622698479504\"}, {\"text\": \"Training\", \"position\": [0.8656696185461235, 0.10810810810810817], \"coordinates\": \"axes\", \"h_anchor\": \"start\", \"v_baseline\": \"auto\", \"rotation\": -0.0, \"fontsize\": 10.0, \"color\": \"#000000\", \"alpha\": 1, \"zorder\": 1000003.0, \"id\": \"el14389139622698146640\"}, {\"text\": \"Validation\", \"position\": [0.8656696185461235, 0.04573804573804574], \"coordinates\": \"axes\", \"h_anchor\": \"start\", \"v_baseline\": \"auto\", \"rotation\": -0.0, \"fontsize\": 10.0, \"color\": \"#000000\", \"alpha\": 1, \"zorder\": 1000003.0, \"id\": \"el14389139622698226064\"}], \"collections\": [], \"images\": [], \"sharex\": [], \"sharey\": []}, {\"bbox\": [0.5597222222222222, 0.20416666666666672, 0.4092659550045913, 0.6680555555555554], \"xlim\": [-1.2000000000000002, 25.2], \"ylim\": [0.01302653308719396, 0.7109297927239537], \"xdomain\": [-1.2000000000000002, 25.2], \"ydomain\": [0.01302653308719396, 0.7109297927239537], \"xscale\": \"linear\", \"yscale\": \"linear\", \"axes\": [{\"position\": \"bottom\", \"nticks\": 8, \"tickvalues\": null, \"tickformat\": null, \"scale\": \"linear\", \"fontsize\": 10.0, \"grid\": {\"gridOn\": false}, \"visible\": true}, {\"position\": \"left\", \"nticks\": 9, \"tickvalues\": null, \"tickformat\": null, \"scale\": \"linear\", \"fontsize\": 10.0, \"grid\": {\"gridOn\": false}, \"visible\": true}], \"axesbg\": \"#FFFFFF\", \"axesbgalpha\": null, \"zoomable\": true, \"id\": \"el14389139622698556944\", \"lines\": [{\"data\": \"data01\", \"xindex\": 0, \"yindex\": 3, \"coordinates\": \"data\", \"id\": \"el14389139622697918096\", \"color\": \"#1F77B4\", \"linewidth\": 1.5, \"dasharray\": \"none\", \"alpha\": 1, \"zorder\": 2, \"drawstyle\": \"default\"}, {\"data\": \"data01\", \"xindex\": 0, \"yindex\": 4, \"coordinates\": \"data\", \"id\": \"el14389139622697877200\", \"color\": \"#FF7F0E\", \"linewidth\": 1.5, \"dasharray\": \"none\", \"alpha\": 1, \"zorder\": 2, \"drawstyle\": \"default\"}, {\"data\": \"data04\", \"xindex\": 0, \"yindex\": 1, \"coordinates\": \"axes\", \"id\": \"el14389139622698226640\", \"color\": \"#1F77B4\", \"linewidth\": 1.5, \"dasharray\": \"none\", \"alpha\": 1, \"zorder\": 1000002.0, \"drawstyle\": \"default\"}, {\"data\": \"data04\", \"xindex\": 0, \"yindex\": 2, \"coordinates\": \"axes\", \"id\": \"el14389139622697995856\", \"color\": \"#FF7F0E\", \"linewidth\": 1.5, \"dasharray\": \"none\", \"alpha\": 1, \"zorder\": 1000002.0, \"drawstyle\": \"default\"}], \"paths\": [{\"data\": \"data05\", \"xindex\": 0, \"yindex\": 1, \"coordinates\": \"axes\", \"pathcodes\": [\"M\", \"L\", \"S\", \"L\", \"S\", \"L\", \"S\", \"L\", \"S\", \"Z\"], \"id\": \"el14389139622698146128\", \"dasharray\": \"none\", \"alpha\": 0.8, \"facecolor\": \"#FFFFFF\", \"edgecolor\": \"#CCCCCC\", \"edgewidth\": 1.0, \"zorder\": 1000000.0}], \"markers\": [], \"texts\": [{\"text\": \"Epoch\", \"position\": [0.5, -0.13929313929313933], \"coordinates\": \"axes\", \"h_anchor\": \"middle\", \"v_baseline\": \"hanging\", \"rotation\": -0.0, \"fontsize\": 10.0, \"color\": \"#000000\", \"alpha\": 1, \"zorder\": 3, \"id\": \"el14389139622698271312\"}, {\"text\": \"Loss\", \"position\": [-0.0893650537672106, 0.5], \"coordinates\": \"axes\", \"h_anchor\": \"middle\", \"v_baseline\": \"auto\", \"rotation\": -90.0, \"fontsize\": 10.0, \"color\": \"#000000\", \"alpha\": 1, \"zorder\": 3, \"id\": \"el14389139622698272400\"}, {\"text\": \"Model loss\", \"position\": [0.5, 1.024948024948025], \"coordinates\": \"axes\", \"h_anchor\": \"middle\", \"v_baseline\": \"auto\", \"rotation\": -0.0, \"fontsize\": 12.0, \"color\": \"#000000\", \"alpha\": 1, \"zorder\": 3, \"id\": \"el14389139622698340048\"}, {\"text\": \"Training\", \"position\": [0.8656696185461235, 0.9293139293139294], \"coordinates\": \"axes\", \"h_anchor\": \"start\", \"v_baseline\": \"auto\", \"rotation\": -0.0, \"fontsize\": 10.0, \"color\": \"#000000\", \"alpha\": 1, \"zorder\": 1000003.0, \"id\": \"el14389139622697995344\"}, {\"text\": \"Validation\", \"position\": [0.8656696185461235, 0.8669438669438669], \"coordinates\": \"axes\", \"h_anchor\": \"start\", \"v_baseline\": \"auto\", \"rotation\": -0.0, \"fontsize\": 10.0, \"color\": \"#000000\", \"alpha\": 1, \"zorder\": 1000003.0, \"id\": \"el14389139622698017616\"}], \"collections\": [], \"images\": [], \"sharex\": [], \"sharey\": []}], \"data\": {\"data01\": [[0.0, 0.484333336353302, 0.5009999871253967, 0.6792069172859192, 0.6485410094261169], [1.0, 0.5264999866485596, 0.6402000188827515, 0.6172837977091471, 0.5801079594612122], [2.0, 0.8876000046730042, 0.9797000288963318, 0.5379902192433675, 0.49137871198654176], [3.0, 0.9854333400726318, 0.9876000285148621, 0.4452838408311208, 0.3956459999084473], [4.0, 0.9874333143234253, 0.987500011920929, 0.35012039006551104, 0.3035670002937317], [5.0, 0.9864000082015991, 0.9866999983787537, 0.26554346834023795, 0.22753196482658386], [6.0, 0.9857333302497864, 0.9876999855041504, 0.19818641262054443, 0.16976116075515746], [7.0, 0.9858666658401489, 0.987500011920929, 0.15012041820287705, 0.12995576260089875], [8.0, 0.9857666492462158, 0.986299991607666, 0.11688931421836217, 0.10212871305942535], [9.0, 0.9862333536148071, 0.9868000149726868, 0.09422623137434323, 0.08311606311798096], [10.0, 0.9861999750137329, 0.9876000285148621, 0.07984292492071787, 0.07200215593576431], [11.0, 0.9862666726112366, 0.9878000020980835, 0.07095698763728142, 0.0639913530409336], [12.0, 0.9863666892051697, 0.987500011920929, 0.06465275605122249, 0.058709280428290364], [13.0, 0.9866999983787537, 0.986299991607666, 0.060574276800950365, 0.05557601228952408], [14.0, 0.9866999983787537, 0.9873999953269958, 0.057732645305991176, 0.052397880730032924], [15.0, 0.9863333106040955, 0.9868999719619751, 0.055692029188076655, 0.050770915976166724], [16.0, 0.9866333603858948, 0.9878000020980835, 0.0542842672864596, 0.04896002061963081], [17.0, 0.9868333339691162, 0.9868999719619751, 0.05316285112698873, 0.048636960715055466], [18.0, 0.9869333505630493, 0.987500011920929, 0.05245317935148875, 0.04724626807868481], [19.0, 0.9868333339691162, 0.9878000020980835, 0.051977350530525046, 0.04649028044342995], [20.0, 0.9865000247955322, 0.9876000285148621, 0.05152104624211788, 0.046272528836131095], [21.0, 0.9866999983787537, 0.9876999855041504, 0.051201504826545716, 0.045749621684849265], [22.0, 0.9869333505630493, 0.986299991607666, 0.05085802727937699, 0.046381401434540746], [23.0, 0.9868000149726868, 0.987500011920929, 0.050700418599446614, 0.045090457001328466], [24.0, 0.9869999885559082, 0.9876000285148621, 0.05054354696273804, 0.0447494085252285]], \"data02\": [[0.8023222386605059, 0.12266112266112272, 0.060291060291060294], [0.8475703671502327, 0.12266112266112272, 0.060291060291060294]], \"data03\": [[0.7977974258115332, 0.02079002079002079], [0.9841631550285956, 0.02079002079002079], [0.9886879678775684, 0.02079002079002079], [0.9886879678775684, 0.029106029106029108], [0.9886879678775684, 0.14968814968814975], [0.9886879678775684, 0.15800415800415807], [0.9841631550285956, 0.15800415800415807], [0.7977974258115332, 0.15800415800415807], [0.7932726129625605, 0.15800415800415807], [0.7932726129625605, 0.14968814968814975], [0.7932726129625605, 0.029106029106029108], [0.7932726129625605, 0.02079002079002079], [0.7977974258115332, 0.02079002079002079]], \"data04\": [[0.802322238660506, 0.943866943866944, 0.8814968814968815], [0.8475703671502328, 0.943866943866944, 0.8814968814968815]], \"data05\": [[0.797797425811533, 0.841995841995842], [0.9841631550285956, 0.841995841995842], [0.9886879678775682, 0.841995841995842], [0.9886879678775682, 0.8503118503118503], [0.9886879678775682, 0.970893970893971], [0.9886879678775682, 0.9792099792099793], [0.9841631550285956, 0.9792099792099793], [0.797797425811533, 0.9792099792099793], [0.7932726129625605, 0.9792099792099793], [0.7932726129625605, 0.970893970893971], [0.7932726129625605, 0.8503118503118503], [0.7932726129625605, 0.841995841995842], [0.797797425811533, 0.841995841995842]]}, \"id\": \"el14389139622739667536\", \"plugins\": [{\"type\": \"reset\"}, {\"type\": \"zoom\", \"button\": true, \"enabled\": false}, {\"type\": \"boxzoom\", \"button\": true, \"enabled\": false}]});\n",
       "   }(mpld3);\n",
       "}else if(typeof define === \"function\" && define.amd){\n",
       "   // require.js is available: use it to load d3/mpld3\n",
       "   require.config({paths: {d3: \"https://mpld3.github.io/js/d3.v3.min\"}});\n",
       "   require([\"d3\"], function(d3){\n",
       "      window.d3 = d3;\n",
       "      mpld3_load_lib(\"https://mpld3.github.io/js/mpld3.v0.3.js\", function(){\n",
       "         \n",
       "         mpld3.draw_figure(\"fig_el143891396227396675369252122982\", {\"width\": 1080.0, \"height\": 360.0, \"axes\": [{\"bbox\": [0.07361111111111111, 0.20416666666666672, 0.40926595500459134, 0.6680555555555554], \"xlim\": [-1.2000000000000002, 25.2], \"ylim\": [0.4591600030660629, 1.0129733353853225], \"xdomain\": [-1.2000000000000002, 25.2], \"ydomain\": [0.4591600030660629, 1.0129733353853225], \"xscale\": \"linear\", \"yscale\": \"linear\", \"axes\": [{\"position\": \"bottom\", \"nticks\": 8, \"tickvalues\": null, \"tickformat\": null, \"scale\": \"linear\", \"fontsize\": 10.0, \"grid\": {\"gridOn\": false}, \"visible\": true}, {\"position\": \"left\", \"nticks\": 8, \"tickvalues\": null, \"tickformat\": null, \"scale\": \"linear\", \"fontsize\": 10.0, \"grid\": {\"gridOn\": false}, \"visible\": true}], \"axesbg\": \"#FFFFFF\", \"axesbgalpha\": null, \"zoomable\": true, \"id\": \"el14389139622699997136\", \"lines\": [{\"data\": \"data01\", \"xindex\": 0, \"yindex\": 1, \"coordinates\": \"data\", \"id\": \"el14389139622698597904\", \"color\": \"#1F77B4\", \"linewidth\": 1.5, \"dasharray\": \"none\", \"alpha\": 1, \"zorder\": 2, \"drawstyle\": \"default\"}, {\"data\": \"data01\", \"xindex\": 0, \"yindex\": 2, \"coordinates\": \"data\", \"id\": \"el14389139622736883920\", \"color\": \"#FF7F0E\", \"linewidth\": 1.5, \"dasharray\": \"none\", \"alpha\": 1, \"zorder\": 2, \"drawstyle\": \"default\"}, {\"data\": \"data02\", \"xindex\": 0, \"yindex\": 1, \"coordinates\": \"axes\", \"id\": \"el14389139622739770832\", \"color\": \"#1F77B4\", \"linewidth\": 1.5, \"dasharray\": \"none\", \"alpha\": 1, \"zorder\": 1000002.0, \"drawstyle\": \"default\"}, {\"data\": \"data02\", \"xindex\": 0, \"yindex\": 2, \"coordinates\": \"axes\", \"id\": \"el14389139622698147024\", \"color\": \"#FF7F0E\", \"linewidth\": 1.5, \"dasharray\": \"none\", \"alpha\": 1, \"zorder\": 1000002.0, \"drawstyle\": \"default\"}], \"paths\": [{\"data\": \"data03\", \"xindex\": 0, \"yindex\": 1, \"coordinates\": \"axes\", \"pathcodes\": [\"M\", \"L\", \"S\", \"L\", \"S\", \"L\", \"S\", \"L\", \"S\", \"Z\"], \"id\": \"el14389139622736884496\", \"dasharray\": \"none\", \"alpha\": 0.8, \"facecolor\": \"#FFFFFF\", \"edgecolor\": \"#CCCCCC\", \"edgewidth\": 1.0, \"zorder\": 1000000.0}], \"markers\": [], \"texts\": [{\"text\": \"Epoch\", \"position\": [0.5, -0.13929313929313933], \"coordinates\": \"axes\", \"h_anchor\": \"middle\", \"v_baseline\": \"hanging\", \"rotation\": -0.0, \"fontsize\": 10.0, \"color\": \"#000000\", \"alpha\": 1, \"zorder\": 3, \"id\": \"el14389139622699997456\"}, {\"text\": \"Accuracy\", \"position\": [-0.08936505376721052, 0.5], \"coordinates\": \"axes\", \"h_anchor\": \"middle\", \"v_baseline\": \"auto\", \"rotation\": -90.0, \"fontsize\": 10.0, \"color\": \"#000000\", \"alpha\": 1, \"zorder\": 3, \"id\": \"el14389139622698661968\"}, {\"text\": \"Model accuracy\", \"position\": [0.5, 1.024948024948025], \"coordinates\": \"axes\", \"h_anchor\": \"middle\", \"v_baseline\": \"auto\", \"rotation\": -0.0, \"fontsize\": 12.0, \"color\": \"#000000\", \"alpha\": 1, \"zorder\": 3, \"id\": \"el14389139622698479504\"}, {\"text\": \"Training\", \"position\": [0.8656696185461235, 0.10810810810810817], \"coordinates\": \"axes\", \"h_anchor\": \"start\", \"v_baseline\": \"auto\", \"rotation\": -0.0, \"fontsize\": 10.0, \"color\": \"#000000\", \"alpha\": 1, \"zorder\": 1000003.0, \"id\": \"el14389139622698146640\"}, {\"text\": \"Validation\", \"position\": [0.8656696185461235, 0.04573804573804574], \"coordinates\": \"axes\", \"h_anchor\": \"start\", \"v_baseline\": \"auto\", \"rotation\": -0.0, \"fontsize\": 10.0, \"color\": \"#000000\", \"alpha\": 1, \"zorder\": 1000003.0, \"id\": \"el14389139622698226064\"}], \"collections\": [], \"images\": [], \"sharex\": [], \"sharey\": []}, {\"bbox\": [0.5597222222222222, 0.20416666666666672, 0.4092659550045913, 0.6680555555555554], \"xlim\": [-1.2000000000000002, 25.2], \"ylim\": [0.01302653308719396, 0.7109297927239537], \"xdomain\": [-1.2000000000000002, 25.2], \"ydomain\": [0.01302653308719396, 0.7109297927239537], \"xscale\": \"linear\", \"yscale\": \"linear\", \"axes\": [{\"position\": \"bottom\", \"nticks\": 8, \"tickvalues\": null, \"tickformat\": null, \"scale\": \"linear\", \"fontsize\": 10.0, \"grid\": {\"gridOn\": false}, \"visible\": true}, {\"position\": \"left\", \"nticks\": 9, \"tickvalues\": null, \"tickformat\": null, \"scale\": \"linear\", \"fontsize\": 10.0, \"grid\": {\"gridOn\": false}, \"visible\": true}], \"axesbg\": \"#FFFFFF\", \"axesbgalpha\": null, \"zoomable\": true, \"id\": \"el14389139622698556944\", \"lines\": [{\"data\": \"data01\", \"xindex\": 0, \"yindex\": 3, \"coordinates\": \"data\", \"id\": \"el14389139622697918096\", \"color\": \"#1F77B4\", \"linewidth\": 1.5, \"dasharray\": \"none\", \"alpha\": 1, \"zorder\": 2, \"drawstyle\": \"default\"}, {\"data\": \"data01\", \"xindex\": 0, \"yindex\": 4, \"coordinates\": \"data\", \"id\": \"el14389139622697877200\", \"color\": \"#FF7F0E\", \"linewidth\": 1.5, \"dasharray\": \"none\", \"alpha\": 1, \"zorder\": 2, \"drawstyle\": \"default\"}, {\"data\": \"data04\", \"xindex\": 0, \"yindex\": 1, \"coordinates\": \"axes\", \"id\": \"el14389139622698226640\", \"color\": \"#1F77B4\", \"linewidth\": 1.5, \"dasharray\": \"none\", \"alpha\": 1, \"zorder\": 1000002.0, \"drawstyle\": \"default\"}, {\"data\": \"data04\", \"xindex\": 0, \"yindex\": 2, \"coordinates\": \"axes\", \"id\": \"el14389139622697995856\", \"color\": \"#FF7F0E\", \"linewidth\": 1.5, \"dasharray\": \"none\", \"alpha\": 1, \"zorder\": 1000002.0, \"drawstyle\": \"default\"}], \"paths\": [{\"data\": \"data05\", \"xindex\": 0, \"yindex\": 1, \"coordinates\": \"axes\", \"pathcodes\": [\"M\", \"L\", \"S\", \"L\", \"S\", \"L\", \"S\", \"L\", \"S\", \"Z\"], \"id\": \"el14389139622698146128\", \"dasharray\": \"none\", \"alpha\": 0.8, \"facecolor\": \"#FFFFFF\", \"edgecolor\": \"#CCCCCC\", \"edgewidth\": 1.0, \"zorder\": 1000000.0}], \"markers\": [], \"texts\": [{\"text\": \"Epoch\", \"position\": [0.5, -0.13929313929313933], \"coordinates\": \"axes\", \"h_anchor\": \"middle\", \"v_baseline\": \"hanging\", \"rotation\": -0.0, \"fontsize\": 10.0, \"color\": \"#000000\", \"alpha\": 1, \"zorder\": 3, \"id\": \"el14389139622698271312\"}, {\"text\": \"Loss\", \"position\": [-0.0893650537672106, 0.5], \"coordinates\": \"axes\", \"h_anchor\": \"middle\", \"v_baseline\": \"auto\", \"rotation\": -90.0, \"fontsize\": 10.0, \"color\": \"#000000\", \"alpha\": 1, \"zorder\": 3, \"id\": \"el14389139622698272400\"}, {\"text\": \"Model loss\", \"position\": [0.5, 1.024948024948025], \"coordinates\": \"axes\", \"h_anchor\": \"middle\", \"v_baseline\": \"auto\", \"rotation\": -0.0, \"fontsize\": 12.0, \"color\": \"#000000\", \"alpha\": 1, \"zorder\": 3, \"id\": \"el14389139622698340048\"}, {\"text\": \"Training\", \"position\": [0.8656696185461235, 0.9293139293139294], \"coordinates\": \"axes\", \"h_anchor\": \"start\", \"v_baseline\": \"auto\", \"rotation\": -0.0, \"fontsize\": 10.0, \"color\": \"#000000\", \"alpha\": 1, \"zorder\": 1000003.0, \"id\": \"el14389139622697995344\"}, {\"text\": \"Validation\", \"position\": [0.8656696185461235, 0.8669438669438669], \"coordinates\": \"axes\", \"h_anchor\": \"start\", \"v_baseline\": \"auto\", \"rotation\": -0.0, \"fontsize\": 10.0, \"color\": \"#000000\", \"alpha\": 1, \"zorder\": 1000003.0, \"id\": \"el14389139622698017616\"}], \"collections\": [], \"images\": [], \"sharex\": [], \"sharey\": []}], \"data\": {\"data01\": [[0.0, 0.484333336353302, 0.5009999871253967, 0.6792069172859192, 0.6485410094261169], [1.0, 0.5264999866485596, 0.6402000188827515, 0.6172837977091471, 0.5801079594612122], [2.0, 0.8876000046730042, 0.9797000288963318, 0.5379902192433675, 0.49137871198654176], [3.0, 0.9854333400726318, 0.9876000285148621, 0.4452838408311208, 0.3956459999084473], [4.0, 0.9874333143234253, 0.987500011920929, 0.35012039006551104, 0.3035670002937317], [5.0, 0.9864000082015991, 0.9866999983787537, 0.26554346834023795, 0.22753196482658386], [6.0, 0.9857333302497864, 0.9876999855041504, 0.19818641262054443, 0.16976116075515746], [7.0, 0.9858666658401489, 0.987500011920929, 0.15012041820287705, 0.12995576260089875], [8.0, 0.9857666492462158, 0.986299991607666, 0.11688931421836217, 0.10212871305942535], [9.0, 0.9862333536148071, 0.9868000149726868, 0.09422623137434323, 0.08311606311798096], [10.0, 0.9861999750137329, 0.9876000285148621, 0.07984292492071787, 0.07200215593576431], [11.0, 0.9862666726112366, 0.9878000020980835, 0.07095698763728142, 0.0639913530409336], [12.0, 0.9863666892051697, 0.987500011920929, 0.06465275605122249, 0.058709280428290364], [13.0, 0.9866999983787537, 0.986299991607666, 0.060574276800950365, 0.05557601228952408], [14.0, 0.9866999983787537, 0.9873999953269958, 0.057732645305991176, 0.052397880730032924], [15.0, 0.9863333106040955, 0.9868999719619751, 0.055692029188076655, 0.050770915976166724], [16.0, 0.9866333603858948, 0.9878000020980835, 0.0542842672864596, 0.04896002061963081], [17.0, 0.9868333339691162, 0.9868999719619751, 0.05316285112698873, 0.048636960715055466], [18.0, 0.9869333505630493, 0.987500011920929, 0.05245317935148875, 0.04724626807868481], [19.0, 0.9868333339691162, 0.9878000020980835, 0.051977350530525046, 0.04649028044342995], [20.0, 0.9865000247955322, 0.9876000285148621, 0.05152104624211788, 0.046272528836131095], [21.0, 0.9866999983787537, 0.9876999855041504, 0.051201504826545716, 0.045749621684849265], [22.0, 0.9869333505630493, 0.986299991607666, 0.05085802727937699, 0.046381401434540746], [23.0, 0.9868000149726868, 0.987500011920929, 0.050700418599446614, 0.045090457001328466], [24.0, 0.9869999885559082, 0.9876000285148621, 0.05054354696273804, 0.0447494085252285]], \"data02\": [[0.8023222386605059, 0.12266112266112272, 0.060291060291060294], [0.8475703671502327, 0.12266112266112272, 0.060291060291060294]], \"data03\": [[0.7977974258115332, 0.02079002079002079], [0.9841631550285956, 0.02079002079002079], [0.9886879678775684, 0.02079002079002079], [0.9886879678775684, 0.029106029106029108], [0.9886879678775684, 0.14968814968814975], [0.9886879678775684, 0.15800415800415807], [0.9841631550285956, 0.15800415800415807], [0.7977974258115332, 0.15800415800415807], [0.7932726129625605, 0.15800415800415807], [0.7932726129625605, 0.14968814968814975], [0.7932726129625605, 0.029106029106029108], [0.7932726129625605, 0.02079002079002079], [0.7977974258115332, 0.02079002079002079]], \"data04\": [[0.802322238660506, 0.943866943866944, 0.8814968814968815], [0.8475703671502328, 0.943866943866944, 0.8814968814968815]], \"data05\": [[0.797797425811533, 0.841995841995842], [0.9841631550285956, 0.841995841995842], [0.9886879678775682, 0.841995841995842], [0.9886879678775682, 0.8503118503118503], [0.9886879678775682, 0.970893970893971], [0.9886879678775682, 0.9792099792099793], [0.9841631550285956, 0.9792099792099793], [0.797797425811533, 0.9792099792099793], [0.7932726129625605, 0.9792099792099793], [0.7932726129625605, 0.970893970893971], [0.7932726129625605, 0.8503118503118503], [0.7932726129625605, 0.841995841995842], [0.797797425811533, 0.841995841995842]]}, \"id\": \"el14389139622739667536\", \"plugins\": [{\"type\": \"reset\"}, {\"type\": \"zoom\", \"button\": true, \"enabled\": false}, {\"type\": \"boxzoom\", \"button\": true, \"enabled\": false}]});\n",
       "      });\n",
       "    });\n",
       "}else{\n",
       "    // require.js not available: dynamically load d3 & mpld3\n",
       "    mpld3_load_lib(\"https://mpld3.github.io/js/d3.v3.min.js\", function(){\n",
       "         mpld3_load_lib(\"https://mpld3.github.io/js/mpld3.v0.3.js\", function(){\n",
       "                 \n",
       "                 mpld3.draw_figure(\"fig_el143891396227396675369252122982\", {\"width\": 1080.0, \"height\": 360.0, \"axes\": [{\"bbox\": [0.07361111111111111, 0.20416666666666672, 0.40926595500459134, 0.6680555555555554], \"xlim\": [-1.2000000000000002, 25.2], \"ylim\": [0.4591600030660629, 1.0129733353853225], \"xdomain\": [-1.2000000000000002, 25.2], \"ydomain\": [0.4591600030660629, 1.0129733353853225], \"xscale\": \"linear\", \"yscale\": \"linear\", \"axes\": [{\"position\": \"bottom\", \"nticks\": 8, \"tickvalues\": null, \"tickformat\": null, \"scale\": \"linear\", \"fontsize\": 10.0, \"grid\": {\"gridOn\": false}, \"visible\": true}, {\"position\": \"left\", \"nticks\": 8, \"tickvalues\": null, \"tickformat\": null, \"scale\": \"linear\", \"fontsize\": 10.0, \"grid\": {\"gridOn\": false}, \"visible\": true}], \"axesbg\": \"#FFFFFF\", \"axesbgalpha\": null, \"zoomable\": true, \"id\": \"el14389139622699997136\", \"lines\": [{\"data\": \"data01\", \"xindex\": 0, \"yindex\": 1, \"coordinates\": \"data\", \"id\": \"el14389139622698597904\", \"color\": \"#1F77B4\", \"linewidth\": 1.5, \"dasharray\": \"none\", \"alpha\": 1, \"zorder\": 2, \"drawstyle\": \"default\"}, {\"data\": \"data01\", \"xindex\": 0, \"yindex\": 2, \"coordinates\": \"data\", \"id\": \"el14389139622736883920\", \"color\": \"#FF7F0E\", \"linewidth\": 1.5, \"dasharray\": \"none\", \"alpha\": 1, \"zorder\": 2, \"drawstyle\": \"default\"}, {\"data\": \"data02\", \"xindex\": 0, \"yindex\": 1, \"coordinates\": \"axes\", \"id\": \"el14389139622739770832\", \"color\": \"#1F77B4\", \"linewidth\": 1.5, \"dasharray\": \"none\", \"alpha\": 1, \"zorder\": 1000002.0, \"drawstyle\": \"default\"}, {\"data\": \"data02\", \"xindex\": 0, \"yindex\": 2, \"coordinates\": \"axes\", \"id\": \"el14389139622698147024\", \"color\": \"#FF7F0E\", \"linewidth\": 1.5, \"dasharray\": \"none\", \"alpha\": 1, \"zorder\": 1000002.0, \"drawstyle\": \"default\"}], \"paths\": [{\"data\": \"data03\", \"xindex\": 0, \"yindex\": 1, \"coordinates\": \"axes\", \"pathcodes\": [\"M\", \"L\", \"S\", \"L\", \"S\", \"L\", \"S\", \"L\", \"S\", \"Z\"], \"id\": \"el14389139622736884496\", \"dasharray\": \"none\", \"alpha\": 0.8, \"facecolor\": \"#FFFFFF\", \"edgecolor\": \"#CCCCCC\", \"edgewidth\": 1.0, \"zorder\": 1000000.0}], \"markers\": [], \"texts\": [{\"text\": \"Epoch\", \"position\": [0.5, -0.13929313929313933], \"coordinates\": \"axes\", \"h_anchor\": \"middle\", \"v_baseline\": \"hanging\", \"rotation\": -0.0, \"fontsize\": 10.0, \"color\": \"#000000\", \"alpha\": 1, \"zorder\": 3, \"id\": \"el14389139622699997456\"}, {\"text\": \"Accuracy\", \"position\": [-0.08936505376721052, 0.5], \"coordinates\": \"axes\", \"h_anchor\": \"middle\", \"v_baseline\": \"auto\", \"rotation\": -90.0, \"fontsize\": 10.0, \"color\": \"#000000\", \"alpha\": 1, \"zorder\": 3, \"id\": \"el14389139622698661968\"}, {\"text\": \"Model accuracy\", \"position\": [0.5, 1.024948024948025], \"coordinates\": \"axes\", \"h_anchor\": \"middle\", \"v_baseline\": \"auto\", \"rotation\": -0.0, \"fontsize\": 12.0, \"color\": \"#000000\", \"alpha\": 1, \"zorder\": 3, \"id\": \"el14389139622698479504\"}, {\"text\": \"Training\", \"position\": [0.8656696185461235, 0.10810810810810817], \"coordinates\": \"axes\", \"h_anchor\": \"start\", \"v_baseline\": \"auto\", \"rotation\": -0.0, \"fontsize\": 10.0, \"color\": \"#000000\", \"alpha\": 1, \"zorder\": 1000003.0, \"id\": \"el14389139622698146640\"}, {\"text\": \"Validation\", \"position\": [0.8656696185461235, 0.04573804573804574], \"coordinates\": \"axes\", \"h_anchor\": \"start\", \"v_baseline\": \"auto\", \"rotation\": -0.0, \"fontsize\": 10.0, \"color\": \"#000000\", \"alpha\": 1, \"zorder\": 1000003.0, \"id\": \"el14389139622698226064\"}], \"collections\": [], \"images\": [], \"sharex\": [], \"sharey\": []}, {\"bbox\": [0.5597222222222222, 0.20416666666666672, 0.4092659550045913, 0.6680555555555554], \"xlim\": [-1.2000000000000002, 25.2], \"ylim\": [0.01302653308719396, 0.7109297927239537], \"xdomain\": [-1.2000000000000002, 25.2], \"ydomain\": [0.01302653308719396, 0.7109297927239537], \"xscale\": \"linear\", \"yscale\": \"linear\", \"axes\": [{\"position\": \"bottom\", \"nticks\": 8, \"tickvalues\": null, \"tickformat\": null, \"scale\": \"linear\", \"fontsize\": 10.0, \"grid\": {\"gridOn\": false}, \"visible\": true}, {\"position\": \"left\", \"nticks\": 9, \"tickvalues\": null, \"tickformat\": null, \"scale\": \"linear\", \"fontsize\": 10.0, \"grid\": {\"gridOn\": false}, \"visible\": true}], \"axesbg\": \"#FFFFFF\", \"axesbgalpha\": null, \"zoomable\": true, \"id\": \"el14389139622698556944\", \"lines\": [{\"data\": \"data01\", \"xindex\": 0, \"yindex\": 3, \"coordinates\": \"data\", \"id\": \"el14389139622697918096\", \"color\": \"#1F77B4\", \"linewidth\": 1.5, \"dasharray\": \"none\", \"alpha\": 1, \"zorder\": 2, \"drawstyle\": \"default\"}, {\"data\": \"data01\", \"xindex\": 0, \"yindex\": 4, \"coordinates\": \"data\", \"id\": \"el14389139622697877200\", \"color\": \"#FF7F0E\", \"linewidth\": 1.5, \"dasharray\": \"none\", \"alpha\": 1, \"zorder\": 2, \"drawstyle\": \"default\"}, {\"data\": \"data04\", \"xindex\": 0, \"yindex\": 1, \"coordinates\": \"axes\", \"id\": \"el14389139622698226640\", \"color\": \"#1F77B4\", \"linewidth\": 1.5, \"dasharray\": \"none\", \"alpha\": 1, \"zorder\": 1000002.0, \"drawstyle\": \"default\"}, {\"data\": \"data04\", \"xindex\": 0, \"yindex\": 2, \"coordinates\": \"axes\", \"id\": \"el14389139622697995856\", \"color\": \"#FF7F0E\", \"linewidth\": 1.5, \"dasharray\": \"none\", \"alpha\": 1, \"zorder\": 1000002.0, \"drawstyle\": \"default\"}], \"paths\": [{\"data\": \"data05\", \"xindex\": 0, \"yindex\": 1, \"coordinates\": \"axes\", \"pathcodes\": [\"M\", \"L\", \"S\", \"L\", \"S\", \"L\", \"S\", \"L\", \"S\", \"Z\"], \"id\": \"el14389139622698146128\", \"dasharray\": \"none\", \"alpha\": 0.8, \"facecolor\": \"#FFFFFF\", \"edgecolor\": \"#CCCCCC\", \"edgewidth\": 1.0, \"zorder\": 1000000.0}], \"markers\": [], \"texts\": [{\"text\": \"Epoch\", \"position\": [0.5, -0.13929313929313933], \"coordinates\": \"axes\", \"h_anchor\": \"middle\", \"v_baseline\": \"hanging\", \"rotation\": -0.0, \"fontsize\": 10.0, \"color\": \"#000000\", \"alpha\": 1, \"zorder\": 3, \"id\": \"el14389139622698271312\"}, {\"text\": \"Loss\", \"position\": [-0.0893650537672106, 0.5], \"coordinates\": \"axes\", \"h_anchor\": \"middle\", \"v_baseline\": \"auto\", \"rotation\": -90.0, \"fontsize\": 10.0, \"color\": \"#000000\", \"alpha\": 1, \"zorder\": 3, \"id\": \"el14389139622698272400\"}, {\"text\": \"Model loss\", \"position\": [0.5, 1.024948024948025], \"coordinates\": \"axes\", \"h_anchor\": \"middle\", \"v_baseline\": \"auto\", \"rotation\": -0.0, \"fontsize\": 12.0, \"color\": \"#000000\", \"alpha\": 1, \"zorder\": 3, \"id\": \"el14389139622698340048\"}, {\"text\": \"Training\", \"position\": [0.8656696185461235, 0.9293139293139294], \"coordinates\": \"axes\", \"h_anchor\": \"start\", \"v_baseline\": \"auto\", \"rotation\": -0.0, \"fontsize\": 10.0, \"color\": \"#000000\", \"alpha\": 1, \"zorder\": 1000003.0, \"id\": \"el14389139622697995344\"}, {\"text\": \"Validation\", \"position\": [0.8656696185461235, 0.8669438669438669], \"coordinates\": \"axes\", \"h_anchor\": \"start\", \"v_baseline\": \"auto\", \"rotation\": -0.0, \"fontsize\": 10.0, \"color\": \"#000000\", \"alpha\": 1, \"zorder\": 1000003.0, \"id\": \"el14389139622698017616\"}], \"collections\": [], \"images\": [], \"sharex\": [], \"sharey\": []}], \"data\": {\"data01\": [[0.0, 0.484333336353302, 0.5009999871253967, 0.6792069172859192, 0.6485410094261169], [1.0, 0.5264999866485596, 0.6402000188827515, 0.6172837977091471, 0.5801079594612122], [2.0, 0.8876000046730042, 0.9797000288963318, 0.5379902192433675, 0.49137871198654176], [3.0, 0.9854333400726318, 0.9876000285148621, 0.4452838408311208, 0.3956459999084473], [4.0, 0.9874333143234253, 0.987500011920929, 0.35012039006551104, 0.3035670002937317], [5.0, 0.9864000082015991, 0.9866999983787537, 0.26554346834023795, 0.22753196482658386], [6.0, 0.9857333302497864, 0.9876999855041504, 0.19818641262054443, 0.16976116075515746], [7.0, 0.9858666658401489, 0.987500011920929, 0.15012041820287705, 0.12995576260089875], [8.0, 0.9857666492462158, 0.986299991607666, 0.11688931421836217, 0.10212871305942535], [9.0, 0.9862333536148071, 0.9868000149726868, 0.09422623137434323, 0.08311606311798096], [10.0, 0.9861999750137329, 0.9876000285148621, 0.07984292492071787, 0.07200215593576431], [11.0, 0.9862666726112366, 0.9878000020980835, 0.07095698763728142, 0.0639913530409336], [12.0, 0.9863666892051697, 0.987500011920929, 0.06465275605122249, 0.058709280428290364], [13.0, 0.9866999983787537, 0.986299991607666, 0.060574276800950365, 0.05557601228952408], [14.0, 0.9866999983787537, 0.9873999953269958, 0.057732645305991176, 0.052397880730032924], [15.0, 0.9863333106040955, 0.9868999719619751, 0.055692029188076655, 0.050770915976166724], [16.0, 0.9866333603858948, 0.9878000020980835, 0.0542842672864596, 0.04896002061963081], [17.0, 0.9868333339691162, 0.9868999719619751, 0.05316285112698873, 0.048636960715055466], [18.0, 0.9869333505630493, 0.987500011920929, 0.05245317935148875, 0.04724626807868481], [19.0, 0.9868333339691162, 0.9878000020980835, 0.051977350530525046, 0.04649028044342995], [20.0, 0.9865000247955322, 0.9876000285148621, 0.05152104624211788, 0.046272528836131095], [21.0, 0.9866999983787537, 0.9876999855041504, 0.051201504826545716, 0.045749621684849265], [22.0, 0.9869333505630493, 0.986299991607666, 0.05085802727937699, 0.046381401434540746], [23.0, 0.9868000149726868, 0.987500011920929, 0.050700418599446614, 0.045090457001328466], [24.0, 0.9869999885559082, 0.9876000285148621, 0.05054354696273804, 0.0447494085252285]], \"data02\": [[0.8023222386605059, 0.12266112266112272, 0.060291060291060294], [0.8475703671502327, 0.12266112266112272, 0.060291060291060294]], \"data03\": [[0.7977974258115332, 0.02079002079002079], [0.9841631550285956, 0.02079002079002079], [0.9886879678775684, 0.02079002079002079], [0.9886879678775684, 0.029106029106029108], [0.9886879678775684, 0.14968814968814975], [0.9886879678775684, 0.15800415800415807], [0.9841631550285956, 0.15800415800415807], [0.7977974258115332, 0.15800415800415807], [0.7932726129625605, 0.15800415800415807], [0.7932726129625605, 0.14968814968814975], [0.7932726129625605, 0.029106029106029108], [0.7932726129625605, 0.02079002079002079], [0.7977974258115332, 0.02079002079002079]], \"data04\": [[0.802322238660506, 0.943866943866944, 0.8814968814968815], [0.8475703671502328, 0.943866943866944, 0.8814968814968815]], \"data05\": [[0.797797425811533, 0.841995841995842], [0.9841631550285956, 0.841995841995842], [0.9886879678775682, 0.841995841995842], [0.9886879678775682, 0.8503118503118503], [0.9886879678775682, 0.970893970893971], [0.9886879678775682, 0.9792099792099793], [0.9841631550285956, 0.9792099792099793], [0.797797425811533, 0.9792099792099793], [0.7932726129625605, 0.9792099792099793], [0.7932726129625605, 0.970893970893971], [0.7932726129625605, 0.8503118503118503], [0.7932726129625605, 0.841995841995842], [0.797797425811533, 0.841995841995842]]}, \"id\": \"el14389139622739667536\", \"plugins\": [{\"type\": \"reset\"}, {\"type\": \"zoom\", \"button\": true, \"enabled\": false}, {\"type\": \"boxzoom\", \"button\": true, \"enabled\": false}]});\n",
       "            })\n",
       "         });\n",
       "}\n",
       "</script>"
      ],
      "text/plain": [
       "<IPython.core.display.HTML object>"
      ]
     },
     "execution_count": 10,
     "metadata": {},
     "output_type": "execute_result"
    }
   ],
   "source": [
    "%matplotlib inline\n",
    "import matplotlib.pyplot as plt, mpld3\n",
    "plt.rcParams['xtick.major.pad']='16'\n",
    "plt.rcParams['ytick.major.pad']='16'\n",
    "plt.rcParams[\"figure.figsize\"] = (15,5)\n",
    "# Plot training & validation accuracy values\n",
    "plt.subplot(1, 2, 1)\n",
    "plt.plot(history.history['accuracy'])\n",
    "plt.plot(history.history['val_accuracy'])\n",
    "plt.title('Model accuracy')\n",
    "plt.ylabel('Accuracy')\n",
    "plt.xlabel('Epoch')\n",
    "plt.legend(['Training', 'Validation'], loc='lower right')\n",
    "# Plot training & validation loss values\n",
    "plt.subplot(1, 2, 2)\n",
    "plt.plot(history.history['loss'])\n",
    "plt.plot(history.history['val_loss'])\n",
    "plt.title('Model loss')\n",
    "plt.ylabel('Loss')\n",
    "plt.xlabel('Epoch')\n",
    "plt.legend(['Training', 'Validation'], loc='upper right')\n",
    "plt.tight_layout(pad=3.0)\n",
    "mpld3.display()"
   ]
  },
  {
   "cell_type": "markdown",
   "metadata": {
    "colab_type": "text",
    "id": "P-VIduv3WGWN"
   },
   "source": [
    "## Applying the model on images"
   ]
  },
  {
   "cell_type": "markdown",
   "metadata": {
    "colab_type": "text",
    "id": "5RnGxraeWGWO"
   },
   "source": [
    "We can now use the model to make predictions for the intensity vector of the neighborhood of a pixel."
   ]
  },
  {
   "cell_type": "code",
   "execution_count": 11,
   "metadata": {
    "colab": {
     "base_uri": "https://localhost:8080/",
     "height": 52
    },
    "colab_type": "code",
    "executionInfo": {
     "elapsed": 1287,
     "status": "ok",
     "timestamp": 1586430114179,
     "user": {
      "displayName": "Volker Bäcker",
      "photoUrl": "https://lh3.googleusercontent.com/a-/AOh14GjEu5wjN2vCYiy08xA1eynmYpMhOc6dLWwRZvWdJbI=s64",
      "userId": "10406901054643491303"
     },
     "user_tz": -120
    },
    "id": "B53RMxWsWGWP",
    "outputId": "ea1ad08b-7b76-4422-efe1-c1da6dba66ab"
   },
   "outputs": [
    {
     "name": "stdout",
     "output_type": "stream",
     "text": [
      "0.9999856\n",
      "1\n"
     ]
    }
   ],
   "source": [
    "prediction = model.predict(np.array([[128/255]*N*N]))\n",
    "print(prediction[0][0])\n",
    "classPrediction = model.predict_classes(np.array([[128/255]*N*N]))\n",
    "print(classPrediction[0][0])"
   ]
  },
  {
   "cell_type": "markdown",
   "metadata": {
    "colab_type": "text",
    "id": "XKEndjUcWGWU"
   },
   "source": [
    "We will now use the model to segment images. We need to feed the neighborhood of all pixels to the classifier and create an output mask and a probability map from the result of the classification.\n",
    "\n",
    "We set the path to the folder containing the input images. We will read each image in the folder, do the segmentation and save the result images.\n",
    "\n",
    "Here is how it conceptually works. A loop iterates over the pixel in the input image. For each pixel a feature vector is created and classified from the intensities values in its neighborhood. It works but is very slow. We will therefore rather use an optimized version, that first creates a list of all feature vectors, passes them to the classification and then creates the mask and probability map from the results. However since the version not optimized is easier to understand, here it is:"
   ]
  },
  {
   "cell_type": "markdown",
   "metadata": {
    "colab_type": "text",
    "id": "DyMlFzZ9WGWV"
   },
   "source": [
    "```python\n",
    "import os\n",
    "path = './data'\n",
    "files = os.listdir(path)\n",
    "imagePaths = [os.path.join(path, f)  for f in files if not os.path.isdir(path + \"/\" + f)]\n",
    "imagePaths.sort()\n",
    "for imagePath in imagePaths:\n",
    "    image = tiff.imread(imagePath) / 255\n",
    "    width, height = image.shape\n",
    "    pMap = np.zeros(image.shape)\n",
    "    mask = np.zeros(image.shape)\n",
    "    for x in range(0, width):\n",
    "        if x%100 == 0:\n",
    "            print(x)\n",
    "        for y in range(0, height):\n",
    "            neighborhood = []\n",
    "            for i in range((-N//2)+1, (N//2)+1):\n",
    "                for j in range((-N//2)+1, (N//2)+1):\n",
    "                    ic = i\n",
    "                    jc = j\n",
    "                    if x+i < 0 or x+i>=width:\n",
    "                        ic = -1 * i\n",
    "                    if y+j < 0 or y+j>=height:\n",
    "                        jc = -1 * j    \n",
    "                    neighborhood.append(image[x+ic,y+jc])\n",
    "            neighborhood = np.array([neighborhood])\n",
    "            prob = model.predict(neighborhood)[0][0]\n",
    "            category =  model.predict_classes(neighborhood)[0][0]\n",
    "            pMap[x ,y] = prob * 255\n",
    "            mask[x ,y] = category * 255\n",
    "    print(pMap)\n",
    "    print(mask)\n",
    "```"
   ]
  },
  {
   "cell_type": "markdown",
   "metadata": {
    "colab_type": "text",
    "id": "yNN72DevWGWW"
   },
   "source": [
    "### Making the segmentation faster"
   ]
  },
  {
   "cell_type": "markdown",
   "metadata": {
    "colab_type": "text",
    "id": "Ojb6QgMpWGWX"
   },
   "source": [
    "Although the segmentation above works, it is very slow. We will make it faster by applying the classification on bigger chunks of the image data, instead of classifying each pixel based on its neighborhood individually. We will first calculate the feature-vectors, i.e. the values in the neighboorhod for the whole image. Then we apply the classification. Instead of 2D output images we start with 1D arrays of size widthxheight. We fill the linear array with the classification result and then reshape it to the 2D-image."
   ]
  },
  {
   "cell_type": "code",
   "execution_count": 12,
   "metadata": {
    "colab": {
     "base_uri": "https://localhost:8080/",
     "height": 278
    },
    "colab_type": "code",
    "executionInfo": {
     "elapsed": 310398,
     "status": "ok",
     "timestamp": 1586430453983,
     "user": {
      "displayName": "Volker Bäcker",
      "photoUrl": "https://lh3.googleusercontent.com/a-/AOh14GjEu5wjN2vCYiy08xA1eynmYpMhOc6dLWwRZvWdJbI=s64",
      "userId": "10406901054643491303"
     },
     "user_tz": -120
    },
    "id": "I9hpBJ-8WGWa",
    "outputId": "79ccd54d-2faf-4581-e5ce-6a12c443da62"
   },
   "outputs": [
    {
     "name": "stdout",
     "output_type": "stream",
     "text": [
      "Processing image ./data/spots01.tif\n",
      "Extracting the feature vectors.\n",
      "Row: 1820\n",
      "Applying the classifier.\n",
      "Creating the output images.\n",
      "Done!\n",
      "Processing image ./data/spots02.tif\n",
      "Extracting the feature vectors.\n",
      "Row: 1820\n",
      "Applying the classifier.\n",
      "Creating the output images.\n",
      "Done!\n",
      "CPU times: user 3min 7s, sys: 7.1 s, total: 3min 14s\n",
      "Wall time: 2min 46s\n"
     ]
    }
   ],
   "source": [
    "%%time\n",
    "import os\n",
    "path = './data'\n",
    "out = os.path.join(path, 'out')\n",
    "if not os.path.isdir(out):\n",
    "    os.mkdir(out)\n",
    "files = os.listdir(path)\n",
    "imagePaths = [os.path.join(path, f)  for f in files if not os.path.isdir(path + \"/\" + f)]\n",
    "imagePaths.sort()\n",
    "for imagePath in imagePaths:\n",
    "    print(\"Processing image \" + imagePath)\n",
    "    image = tiff.imread(imagePath) / 255\n",
    "    width, height = image.shape\n",
    "    neighborsRange = range((-N//2)+1, (N//2)+1)\n",
    "    pMap = np.zeros(width*height)\n",
    "    mask = np.zeros(width*height)\n",
    "    neighborhoods = np.zeros((width*height, N*N), dtype=float)\n",
    "    vc = 0\n",
    "    print(\"Extracting the feature vectors.\")\n",
    "    for x in range(0, width):\n",
    "        if x%10 == 0:\n",
    "            print(\"\\rRow: \" + str(x), end=\"\")\n",
    "        for y in range(0, height):\n",
    "            neighborhood = np.zeros(N*N)\n",
    "            nc = 0\n",
    "            for i in neighborsRange:\n",
    "                for j in neighborsRange:\n",
    "                    ic = i\n",
    "                    jc = j\n",
    "                    if x+i < 0 or x+i>=width:\n",
    "                        ic = -1 * i\n",
    "                    if y+j < 0 or y+j>=height:\n",
    "                        jc = -1 * j    \n",
    "                    neighborhood[nc] = image[x+ic,y+jc]\n",
    "                    nc = nc + 1\n",
    "            neighborhoods[vc]=neighborhood\n",
    "            vc = vc + 1\n",
    "    print(\"\\nApplying the classifier.\")\n",
    "    prob = model.predict(neighborhoods)\n",
    "    category =  model.predict_classes(neighborhoods)\n",
    "    counter = 0\n",
    "    print(\"Creating the output images.\")\n",
    "    for p in prob:\n",
    "        pMap[counter] = p[0] * 255\n",
    "        counter = counter + 1\n",
    "    pMap = pMap.reshape(width, height)\n",
    "    pMap = pMap.astype(np.uint8)\n",
    "    outFileName = os.path.basename(imagePath)\n",
    "    outFileName = os.path.splitext(outFileName)[0]\n",
    "    outPath = os.path.join(out,outFileName + \"-pMap.tif\" )\n",
    "    tiff.imwrite(outPath, pMap, imagej=True)\n",
    "    counter = 0\n",
    "    for c in category:\n",
    "        mask[counter] = c[0] * 255\n",
    "        counter = counter + 1\n",
    "    mask = mask.reshape(width, height)\n",
    "    mask = mask.astype(np.uint8)\n",
    "    outPath = os.path.join(out,outFileName + \"-mask.tif\" )\n",
    "    tiff.imwrite(outPath, mask, imagej=True)\n",
    "    print(\"Done!\")"
   ]
  },
  {
   "cell_type": "code",
   "execution_count": 13,
   "metadata": {
    "colab": {
     "base_uri": "https://localhost:8080/",
     "height": 704
    },
    "colab_type": "code",
    "executionInfo": {
     "elapsed": 3119,
     "status": "ok",
     "timestamp": 1586430541229,
     "user": {
      "displayName": "Volker Bäcker",
      "photoUrl": "https://lh3.googleusercontent.com/a-/AOh14GjEu5wjN2vCYiy08xA1eynmYpMhOc6dLWwRZvWdJbI=s64",
      "userId": "10406901054643491303"
     },
     "user_tz": -120
    },
    "id": "_iN0FsfoWGWi",
    "outputId": "13441628-795b-4cb6-a59e-707abe29ce67"
   },
   "outputs": [
    {
     "data": {
      "image/png": "[encoded data removed]",
      "text/plain": [
       "<Figure size 1080x864 with 1 Axes>"
      ]
     },
     "metadata": {
      "needs_background": "light"
     },
     "output_type": "display_data"
    }
   ],
   "source": [
    "from matplotlib import pyplot as plt\n",
    "plt.figure(figsize = (15,12))\n",
    "plt.imshow(mask, interpolation='nearest', aspect=\"auto\")\n",
    "plt.show()"
   ]
  },
  {
   "cell_type": "code",
   "execution_count": 14,
   "metadata": {},
   "outputs": [
    {
     "data": {
      "text/plain": [
       "[array([[-0.0872013 ,  0.06693229,  0.17858037,  0.95676196, -0.50959504,\n",
       "         -0.06668335,  0.8458809 ,  0.41109264],\n",
       "        [-0.5041765 , -0.42691687,  1.2790684 ,  0.3674767 , -0.03887971,\n",
       "         -0.53559875,  0.64183   , -0.31157574],\n",
       "        [ 0.20737767, -0.5612299 ,  0.38152415,  1.115803  , -0.02814869,\n",
       "         -0.42341775,  0.50449723,  0.12815619],\n",
       "        [-0.2834036 ,  0.1407459 ,  1.2507116 ,  0.29606882, -0.23372053,\n",
       "         -0.12064776,  0.3352212 , -0.39858115],\n",
       "        [-0.26389655,  0.39719206,  0.8963727 ,  0.82883793, -0.93891126,\n",
       "         -0.2275343 ,  1.2122948 , -0.4367134 ],\n",
       "        [-0.56918097,  0.01151104,  1.0188102 ,  0.5090729 , -0.24495889,\n",
       "          0.17159528,  1.2323602 ,  0.16812265],\n",
       "        [-0.27337056, -0.2462983 ,  1.1359876 ,  0.70750624, -0.52405506,\n",
       "          0.28194457,  1.1365218 ,  0.07770663],\n",
       "        [ 0.5048338 ,  0.5569359 ,  0.5256249 ,  1.098822  , -0.70040464,\n",
       "          0.02794576,  0.29165363, -0.3676922 ],\n",
       "        [ 0.34416384, -0.18947199,  0.34030405,  0.91743386, -0.05030948,\n",
       "         -0.27717704,  0.6679381 ,  0.47621977]], dtype=float32),\n",
       " array([ 0.        , -0.01027399, -2.076447  , -2.0141487 ,  2.2136798 ,\n",
       "         0.        , -2.0358932 ,  0.        ], dtype=float32),\n",
       " array([[ 0.33156335],\n",
       "        [-0.68009204],\n",
       "        [ 3.4747388 ],\n",
       "        [ 3.9074438 ],\n",
       "        [-3.584799  ],\n",
       "        [-0.6496893 ],\n",
       "        [ 3.492499  ],\n",
       "        [-0.30817866]], dtype=float32),\n",
       " array([-2.1960037], dtype=float32)]"
      ]
     },
     "execution_count": 14,
     "metadata": {},
     "output_type": "execute_result"
    }
   ],
   "source": [
    "model.get_weights()"
   ]
  },
  {
   "cell_type": "markdown",
   "metadata": {
    "colab_type": "text",
    "id": "wzDHnusqWGWn"
   },
   "source": [
    "## Literatur"
   ]
  },
  {
   "cell_type": "markdown",
   "metadata": {
    "colab_type": "text",
    "id": "oNgT5_FHWGWo"
   },
   "source": [
    "[1] Van Rossum G, Drake FL. [Python 3 Reference Manual](https://docs.python.org/3/reference/index.html). Scotts Valley, CA: CreateSpace; 2009.\n",
    "\n",
    "[2] Chollet F. and others. [Keras](https://keras.io). 2015\n",
    "\n",
    "[3] [The MRI machine learning workshop](https://github.com/MontpellierRessourcesImagerie/mri-workshop-machine-learning). 2019\n",
    "\n",
    "[4] Brownlee J. [Your First Deep Learning Project in Python with Keras Step-By-Step](https://machinelearningmastery.com/tutorial-first-neural-network-python-keras/). 2019"
   ]
  }
 ],
 "metadata": {
  "colab": {
   "collapsed_sections": [],
   "name": "Copy of DL01-input-data.ipynb",
   "provenance": [
    {
     "file_id": "https://github.com/MontpellierRessourcesImagerie/DL_EXP_PC/blob/master/DL01-input-data.ipynb",
     "timestamp": 1586429829137
    }
   ],
   "toc_visible": true
  },
  "kernelspec": {
   "display_name": "Python 3",
   "language": "python",
   "name": "python3"
  },
  "language_info": {
   "codemirror_mode": {
    "name": "ipython",
    "version": 3
   },
   "file_extension": ".py",
   "mimetype": "text/x-python",
   "name": "python",
   "nbconvert_exporter": "python",
   "pygments_lexer": "ipython3",
   "version": "3.7.6"
  }
 },
 "nbformat": 4,
 "nbformat_minor": 4
}
