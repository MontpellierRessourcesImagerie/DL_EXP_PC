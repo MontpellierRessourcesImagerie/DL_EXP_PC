{
 "cells": [
  {
   "cell_type": "markdown",
   "metadata": {
    "colab_type": "text",
    "id": "0JvwqPl0WGVE"
   },
   "source": [
    "# Deep Learning Experiment - Pixel Classification"
   ]
  },
  {
   "cell_type": "markdown",
   "metadata": {
    "colab_type": "text",
    "id": "CLQjiDQLWGVH"
   },
   "source": [
    "## Abstract"
   ]
  },
  {
   "cell_type": "markdown",
   "metadata": {
    "colab_type": "text",
    "id": "3oZUY9DhWGVJ"
   },
   "source": [
    "We take a naive approach to pixel classification (image segmentation) by machine learning with artificial neural networks. The focus here is on exploring practical issues like the preparation of data, python [1] programming and the use of the keras library [2]. The theroretical background of machine learning and deep learning is treated elsewhere [3].\n",
    "\n",
    "Since we know that vectors of measurements can be classified by neural networks, we attempt to do image segmentation in the same way. We consider the NxN environment of each pixel of an image as a feature vector and classify each pixel as either belonging to the background or to an object of interest. Given a number of input images and corresponding ground truth images we extract the training and validation data. We build a neural network using keras, train it with the extracted training data and vaildate it using the extracted validation data. The created classidier is then applied on input images to create a segmentation mask and a probability map. \n",
    "\n",
    "The python programming constructs are explained along the process."
   ]
  },
  {
   "cell_type": "markdown",
   "metadata": {
    "colab_type": "text",
    "id": "ukX7LPh_vFBL"
   },
   "source": [
    "## Setup for Colab\n",
    "\n",
    "When running in google colab, we need to install tifffile and update the keras version. We also need to download the dataset. "
   ]
  },
  {
   "cell_type": "code",
   "execution_count": 1,
   "metadata": {
    "colab": {},
    "colab_type": "code",
    "id": "N01GIurYvqNL"
   },
   "outputs": [],
   "source": [
    "import os\n",
    "if  not os.path.isdir('./training'):\n",
    "  !pip install tifffile\n",
    "  !pip install -U keras\n",
    "  !pip install mpld3\n",
    "  !cd /content/ && git clone https://github.com/MontpellierRessourcesImagerie/DL_EXP_PC.git && cp -r DL_EXP_PC/data . && cp -r DL_EXP_PC/training ."
   ]
  },
  {
   "cell_type": "markdown",
   "metadata": {
    "colab_type": "text",
    "id": "RmPLXqLOWGVL"
   },
   "source": [
    "## Reading in and preparing the training data"
   ]
  },
  {
   "cell_type": "markdown",
   "metadata": {
    "colab_type": "text",
    "id": "5eXwA7DgWGVN"
   },
   "source": [
    "For simplicity we will use one image to construct the input data for now. We will generalize this to multiple images later. We have one input image and a correcponding ground-truth image as our training input.\n",
    "\n",
    "As the input of the neural network we need a matrix X containing the input data and a vector y containing the classification for each row in the input matrix. We will construct X and y from the input dataset by first looking at the ground truth images and randomly choosing a number S of foreground samples and a number S of background samples. "
   ]
  },
  {
   "cell_type": "markdown",
   "metadata": {
    "colab_type": "text",
    "id": "fmiMf96XWGVO"
   },
   "source": [
    "We set the paths to the input image and the ground-truth image, the patch size N and the number of samples S of foreground and background values."
   ]
  },
  {
   "cell_type": "code",
   "execution_count": 2,
   "metadata": {
    "colab": {},
    "colab_type": "code",
    "id": "zURDAcw-WGVQ"
   },
   "outputs": [],
   "source": [
    "inputPath = './training/spots.tif'\n",
    "gtPath = './training/spots-gt.tif'\n",
    "N = 3\n",
    "S = 20000"
   ]
  },
  {
   "cell_type": "markdown",
   "metadata": {
    "colab_type": "text",
    "id": "eVzGxcmRWGVa"
   },
   "source": [
    "We read in the input and the ground-truth image as numpy matrices."
   ]
  },
  {
   "cell_type": "code",
   "execution_count": 3,
   "metadata": {
    "colab": {},
    "colab_type": "code",
    "id": "zBVqP954WGVb"
   },
   "outputs": [
    {
     "name": "stdout",
     "output_type": "stream",
     "text": [
      "(1830, 1980)\n"
     ]
    }
   ],
   "source": [
    "import tifffile as tiff\n",
    "gtImage = tiff.imread(gtPath)\n",
    "inputImage = tiff.imread(inputPath) / 255\n",
    "print(inputImage.shape)"
   ]
  },
  {
   "cell_type": "markdown",
   "metadata": {
    "colab_type": "text",
    "id": "mtHLUTHdWGVi"
   },
   "source": [
    "We filter out the background samples and the object samples from the ground-truth image."
   ]
  },
  {
   "cell_type": "code",
   "execution_count": 4,
   "metadata": {
    "colab": {
     "base_uri": "https://localhost:8080/",
     "height": 52
    },
    "colab_type": "code",
    "executionInfo": {
     "elapsed": 1597,
     "status": "ok",
     "timestamp": 1586430002490,
     "user": {
      "displayName": "Volker Bäcker",
      "photoUrl": "https://lh3.googleusercontent.com/a-/AOh14GjEu5wjN2vCYiy08xA1eynmYpMhOc6dLWwRZvWdJbI=s64",
      "userId": "10406901054643491303"
     },
     "user_tz": -120
    },
    "id": "rpuATQFJWGVj",
    "outputId": "5d501a88-963a-47c1-869f-39ea0a573dd5"
   },
   "outputs": [
    {
     "name": "stdout",
     "output_type": "stream",
     "text": [
      "[(0, 0), (0, 1), (0, 2), (0, 3), (0, 4), (0, 5), (0, 6), (0, 7), (0, 8), (0, 9)] nr.: 3412479\n",
      "[(36, 1765), (36, 1766), (36, 1767), (36, 1768), (36, 1769), (37, 1764), (37, 1765), (37, 1766), (37, 1767), (37, 1768)] nr.: 210921\n"
     ]
    }
   ],
   "source": [
    "import numpy as np\n",
    "foregroundY, foregroundX = gtImage.nonzero()\n",
    "foreground = list(zip(foregroundY, foregroundX))\n",
    "backgroundY, backgroundX = (gtImage==0).nonzero()\n",
    "background = list(zip(backgroundY, backgroundX))\n",
    "print(background[0:10], \"nr.:\", len(background))\n",
    "print(foreground[0:10], \"nr.:\", len(foreground))"
   ]
  },
  {
   "cell_type": "markdown",
   "metadata": {
    "colab_type": "text",
    "id": "PUDV-eOoWGVr"
   },
   "source": [
    "We select S randomly choosen coordinates from the foreground and S randomly choosen coordinates from the background. We do not take coordinates close to the borders for which the whole neighborhood is not inside of the image."
   ]
  },
  {
   "cell_type": "code",
   "execution_count": 5,
   "metadata": {
    "colab": {
     "base_uri": "https://localhost:8080/",
     "height": 52
    },
    "colab_type": "code",
    "executionInfo": {
     "elapsed": 1093,
     "status": "ok",
     "timestamp": 1586430022323,
     "user": {
      "displayName": "Volker Bäcker",
      "photoUrl": "https://lh3.googleusercontent.com/a-/AOh14GjEu5wjN2vCYiy08xA1eynmYpMhOc6dLWwRZvWdJbI=s64",
      "userId": "10406901054643491303"
     },
     "user_tz": -120
    },
    "id": "wA2p8iDNWGVs",
    "outputId": "6d40c370-6ba6-465b-b350-7a2ed3ec73a9"
   },
   "outputs": [
    {
     "name": "stdout",
     "output_type": "stream",
     "text": [
      "[(1423, 1499), (363, 224), (1655, 424), (1077, 798), (958, 1661), (1727, 72), (1666, 783), (160, 878), (1007, 622), (1709, 793)]\n",
      "[(971, 650), (453, 1714), (1713, 797), (173, 473), (567, 308), (798, 273), (647, 942), (1372, 946), (922, 577), (1121, 80)]\n"
     ]
    }
   ],
   "source": [
    "from random import randint\n",
    "height, width = gtImage.shape\n",
    "def getNCoordinateSamplesFrom(n, aList, minX, maxX, minY, maxY):\n",
    "    samples = []\n",
    "    for _ in range(n):\n",
    "        r = randint(0,len(aList)-1)\n",
    "        coords = aList[r]\n",
    "        while coords[0]<=minY or coords[0]>=maxY or coords[1]<=minX or coords[1]>=maxX:    \n",
    "            r = randint(0,len(foreground)-1)\n",
    "            coords = foreground[r]\n",
    "        samples.append(coords)\n",
    "    return samples\n",
    "FS = getNCoordinateSamplesFrom(S, foreground, N//2, width-N//2, N//2, height-N//2)\n",
    "BS = getNCoordinateSamplesFrom(S, background, N//2, width-N//2, N//2, height-N//2)\n",
    "print(FS[0:10])\n",
    "print(BS[0:10])"
   ]
  },
  {
   "cell_type": "markdown",
   "metadata": {
    "colab_type": "text",
    "id": "yOk9SchDWGVz"
   },
   "source": [
    "We create X and y by using the data at the sampled positions in the input image. Since we have separate lists of foreground and background samples, we know to which class each sample must be assigned."
   ]
  },
  {
   "cell_type": "code",
   "execution_count": 6,
   "metadata": {
    "colab": {
     "base_uri": "https://localhost:8080/",
     "height": 191
    },
    "colab_type": "code",
    "executionInfo": {
     "elapsed": 1200,
     "status": "ok",
     "timestamp": 1586430030959,
     "user": {
      "displayName": "Volker Bäcker",
      "photoUrl": "https://lh3.googleusercontent.com/a-/AOh14GjEu5wjN2vCYiy08xA1eynmYpMhOc6dLWwRZvWdJbI=s64",
      "userId": "10406901054643491303"
     },
     "user_tz": -120
    },
    "id": "W7iFQ9YyWGV0",
    "outputId": "072f3e82-e54a-4d83-ffdf-6b1b84dc3282"
   },
   "outputs": [
    {
     "name": "stdout",
     "output_type": "stream",
     "text": [
      "foreground samples\n",
      " [[0.47058824 0.51372549 0.56078431 0.51764706 0.55294118 0.53333333\n",
      "  0.51764706 0.5254902  0.55294118]\n",
      " [0.35294118 0.39607843 0.41176471 0.4        0.37647059 0.36078431\n",
      "  0.38039216 0.37254902 0.34901961]\n",
      " [0.4        0.42352941 0.43137255 0.4        0.41568627 0.43137255\n",
      "  0.45098039 0.36470588 0.36078431]\n",
      " [0.48235294 0.4627451  0.47843137 0.45882353 0.48627451 0.47058824\n",
      "  0.50588235 0.48627451 0.46666667]\n",
      " [0.45490196 0.4745098  0.46666667 0.45490196 0.4745098  0.47843137\n",
      "  0.41176471 0.42745098 0.45490196]] [1 1 1 1 1]\n",
      "background samples\n",
      " [[0.29411765 0.30980392 0.29019608 0.29411765 0.29803922 0.30980392\n",
      "  0.31372549 0.30980392 0.31372549]\n",
      " [0.31764706 0.32156863 0.32941176 0.31764706 0.30980392 0.3372549\n",
      "  0.32156863 0.31372549 0.30588235]\n",
      " [0.41568627 0.36470588 0.40392157 0.33333333 0.39215686 0.38431373\n",
      "  0.38431373 0.34509804 0.35294118]\n",
      " [0.29411765 0.29411765 0.29803922 0.29019608 0.28627451 0.32941176\n",
      "  0.29803922 0.29411765 0.28235294]\n",
      " [0.31764706 0.27843137 0.29803922 0.29803922 0.3254902  0.29019608\n",
      "  0.29411765 0.26666667 0.28627451]] [0 0 0 0 0]\n"
     ]
    }
   ],
   "source": [
    "def addSamplesToTrainingData(n, image, samples, X, y, target):\n",
    "    start = -n//2 + 1\n",
    "    stop = -start + 1\n",
    "    for ys, xs in samples:\n",
    "        vector = []\n",
    "        for i in range(start, stop):\n",
    "            for j in range(start, stop):\n",
    "                vector.append(image[ys+i,xs+j])\n",
    "        X.append(vector)\n",
    "        y.append(target)\n",
    "    return X, y\n",
    "X = []\n",
    "y = []\n",
    "addSamplesToTrainingData(N, inputImage, FS, X, y, 1)\n",
    "addSamplesToTrainingData(N, inputImage, BS, X, y, 0)\n",
    "X = np.array(X)\n",
    "y = np.array(y)\n",
    "print(\"foreground samples\\n\", X[0:5], y[0:5])\n",
    "print(\"background samples\\n\", X[S:S+5], y[S:S+5])"
   ]
  },
  {
   "cell_type": "markdown",
   "metadata": {},
   "source": [
    "The way we created X and y, we have S foreground samples followed by S background samples. This might not be ideal. The training will be done in mini-batches. The data will be shuffled automatically in the training before the mini-batches are created. However for validation a fraction of the data is taken from the end of the data before the shuffling is done. We therefore shuffle the data now."
   ]
  },
  {
   "cell_type": "code",
   "execution_count": 7,
   "metadata": {},
   "outputs": [
    {
     "name": "stdout",
     "output_type": "stream",
     "text": [
      "first 5 of mixed samples\n",
      " [[0.49019608 0.50196078 0.43921569 0.47058824 0.52941176 0.48235294\n",
      "  0.51372549 0.50980392 0.49803922]\n",
      " [0.44313725 0.45098039 0.43137255 0.45490196 0.44705882 0.4745098\n",
      "  0.4745098  0.45882353 0.44705882]\n",
      " [0.29803922 0.30588235 0.28627451 0.30980392 0.28627451 0.28627451\n",
      "  0.31372549 0.32156863 0.31764706]\n",
      " [0.32941176 0.30980392 0.31764706 0.28627451 0.27843137 0.30196078\n",
      "  0.32156863 0.30980392 0.29411765]\n",
      " [0.43921569 0.45882353 0.43529412 0.43921569 0.39215686 0.44313725\n",
      "  0.41960784 0.46666667 0.45490196]] [1 1 0 0 1]\n",
      "last 5 of mixed samples\n",
      " [[0.39215686 0.43137255 0.43529412 0.41568627 0.38823529 0.38823529\n",
      "  0.35686275 0.40784314 0.40392157]\n",
      " [0.40784314 0.37254902 0.40392157 0.40784314 0.41176471 0.40392157\n",
      "  0.47058824 0.41176471 0.40784314]\n",
      " [0.31372549 0.34117647 0.34901961 0.32156863 0.3254902  0.3254902\n",
      "  0.31372549 0.3254902  0.34509804]\n",
      " [0.43529412 0.45490196 0.4745098  0.46666667 0.45098039 0.4745098\n",
      "  0.45098039 0.50196078 0.48235294]\n",
      " [0.45882353 0.41568627 0.41960784 0.43137255 0.45490196 0.40784314\n",
      "  0.46666667 0.45490196 0.41568627]] [1 1 0 1 1]\n"
     ]
    }
   ],
   "source": [
    "seed = np.random.randint(0, 2**(32 - 1) - 1) \n",
    "rstate = np.random.RandomState(seed)\n",
    "rstate.shuffle(X)\n",
    "rstate = np.random.RandomState(seed)\n",
    "rstate.shuffle(y)\n",
    "print(\"first 5 of mixed samples\\n\", X[0:5], y[0:5])\n",
    "print(\"last 5 of mixed samples\\n\", X[S:S+5], y[S:S+5])"
   ]
  },
  {
   "cell_type": "markdown",
   "metadata": {
    "colab_type": "text",
    "id": "Zoc2lxQ2WGV6"
   },
   "source": [
    "## Creating a network using keras"
   ]
  },
  {
   "cell_type": "markdown",
   "metadata": {
    "colab_type": "text",
    "id": "jRU1ZcOKWGV6"
   },
   "source": [
    "As a first approach we create a simple, densly connected network with 4 layers inspired by [[4]](https://machinelearningmastery.com/tutorial-first-neural-network-python-keras/). We visualize the network architecture."
   ]
  },
  {
   "cell_type": "code",
   "execution_count": 8,
   "metadata": {
    "colab": {
     "base_uri": "https://localhost:8080/",
     "height": 504
    },
    "colab_type": "code",
    "executionInfo": {
     "elapsed": 3468,
     "status": "ok",
     "timestamp": 1586430041349,
     "user": {
      "displayName": "Volker Bäcker",
      "photoUrl": "https://lh3.googleusercontent.com/a-/AOh14GjEu5wjN2vCYiy08xA1eynmYpMhOc6dLWwRZvWdJbI=s64",
      "userId": "10406901054643491303"
     },
     "user_tz": -120
    },
    "id": "KOOFecMXWGV7",
    "outputId": "e0a5836b-ca3b-41b0-ca9a-db41d655e692"
   },
   "outputs": [
    {
     "name": "stderr",
     "output_type": "stream",
     "text": [
      "Using TensorFlow backend.\n"
     ]
    },
    {
     "name": "stdout",
     "output_type": "stream",
     "text": [
      "Model: \"sequential_1\"\n",
      "_________________________________________________________________\n",
      "Layer (type)                 Output Shape              Param #   \n",
      "=================================================================\n",
      "dense_1 (Dense)              (None, 8)                 80        \n",
      "_________________________________________________________________\n",
      "dense_2 (Dense)              (None, 1)                 9         \n",
      "=================================================================\n",
      "Total params: 89\n",
      "Trainable params: 89\n",
      "Non-trainable params: 0\n",
      "_________________________________________________________________\n"
     ]
    },
    {
     "data": {
      "image/svg+xml": [
       "<svg height=\"200pt\" viewBox=\"0.00 0.00 295.00 221.00\" width=\"266pt\" xmlns=\"http://www.w3.org/2000/svg\" xmlns:xlink=\"http://www.w3.org/1999/xlink\">\n",
       "<g class=\"graph\" id=\"graph0\" transform=\"scale(.9028 .9028) rotate(0) translate(4 217)\">\n",
       "<title>G</title>\n",
       "<polygon fill=\"#ffffff\" points=\"-4,4 -4,-217 291,-217 291,4 -4,4\" stroke=\"transparent\"/>\n",
       "<!-- 140218170026896 -->\n",
       "<g class=\"node\" id=\"node1\">\n",
       "<title>140218170026896</title>\n",
       "<polygon fill=\"none\" points=\"0,-166.5 0,-212.5 287,-212.5 287,-166.5 0,-166.5\" stroke=\"#000000\"/>\n",
       "<text fill=\"#000000\" font-family=\"Times,serif\" font-size=\"14.00\" text-anchor=\"middle\" x=\"81.5\" y=\"-185.8\">dense_1_input: InputLayer</text>\n",
       "<polyline fill=\"none\" points=\"163,-166.5 163,-212.5 \" stroke=\"#000000\"/>\n",
       "<text fill=\"#000000\" font-family=\"Times,serif\" font-size=\"14.00\" text-anchor=\"middle\" x=\"190.5\" y=\"-197.3\">input:</text>\n",
       "<polyline fill=\"none\" points=\"163,-189.5 218,-189.5 \" stroke=\"#000000\"/>\n",
       "<text fill=\"#000000\" font-family=\"Times,serif\" font-size=\"14.00\" text-anchor=\"middle\" x=\"190.5\" y=\"-174.3\">output:</text>\n",
       "<polyline fill=\"none\" points=\"218,-166.5 218,-212.5 \" stroke=\"#000000\"/>\n",
       "<text fill=\"#000000\" font-family=\"Times,serif\" font-size=\"14.00\" text-anchor=\"middle\" x=\"252.5\" y=\"-197.3\">(None, 9)</text>\n",
       "<polyline fill=\"none\" points=\"218,-189.5 287,-189.5 \" stroke=\"#000000\"/>\n",
       "<text fill=\"#000000\" font-family=\"Times,serif\" font-size=\"14.00\" text-anchor=\"middle\" x=\"252.5\" y=\"-174.3\">(None, 9)</text>\n",
       "</g>\n",
       "<!-- 140220604529040 -->\n",
       "<g class=\"node\" id=\"node2\">\n",
       "<title>140220604529040</title>\n",
       "<polygon fill=\"none\" points=\"30.5,-83.5 30.5,-129.5 256.5,-129.5 256.5,-83.5 30.5,-83.5\" stroke=\"#000000\"/>\n",
       "<text fill=\"#000000\" font-family=\"Times,serif\" font-size=\"14.00\" text-anchor=\"middle\" x=\"81.5\" y=\"-102.8\">dense_1: Dense</text>\n",
       "<polyline fill=\"none\" points=\"132.5,-83.5 132.5,-129.5 \" stroke=\"#000000\"/>\n",
       "<text fill=\"#000000\" font-family=\"Times,serif\" font-size=\"14.00\" text-anchor=\"middle\" x=\"160\" y=\"-114.3\">input:</text>\n",
       "<polyline fill=\"none\" points=\"132.5,-106.5 187.5,-106.5 \" stroke=\"#000000\"/>\n",
       "<text fill=\"#000000\" font-family=\"Times,serif\" font-size=\"14.00\" text-anchor=\"middle\" x=\"160\" y=\"-91.3\">output:</text>\n",
       "<polyline fill=\"none\" points=\"187.5,-83.5 187.5,-129.5 \" stroke=\"#000000\"/>\n",
       "<text fill=\"#000000\" font-family=\"Times,serif\" font-size=\"14.00\" text-anchor=\"middle\" x=\"222\" y=\"-114.3\">(None, 9)</text>\n",
       "<polyline fill=\"none\" points=\"187.5,-106.5 256.5,-106.5 \" stroke=\"#000000\"/>\n",
       "<text fill=\"#000000\" font-family=\"Times,serif\" font-size=\"14.00\" text-anchor=\"middle\" x=\"222\" y=\"-91.3\">(None, 8)</text>\n",
       "</g>\n",
       "<!-- 140218170026896&#45;&gt;140220604529040 -->\n",
       "<g class=\"edge\" id=\"edge1\">\n",
       "<title>140218170026896-&gt;140220604529040</title>\n",
       "<path d=\"M143.5,-166.3799C143.5,-158.1745 143.5,-148.7679 143.5,-139.8786\" fill=\"none\" stroke=\"#000000\"/>\n",
       "<polygon fill=\"#000000\" points=\"147.0001,-139.784 143.5,-129.784 140.0001,-139.784 147.0001,-139.784\" stroke=\"#000000\"/>\n",
       "</g>\n",
       "<!-- 140218219675984 -->\n",
       "<g class=\"node\" id=\"node3\">\n",
       "<title>140218219675984</title>\n",
       "<polygon fill=\"none\" points=\"30.5,-.5 30.5,-46.5 256.5,-46.5 256.5,-.5 30.5,-.5\" stroke=\"#000000\"/>\n",
       "<text fill=\"#000000\" font-family=\"Times,serif\" font-size=\"14.00\" text-anchor=\"middle\" x=\"81.5\" y=\"-19.8\">dense_2: Dense</text>\n",
       "<polyline fill=\"none\" points=\"132.5,-.5 132.5,-46.5 \" stroke=\"#000000\"/>\n",
       "<text fill=\"#000000\" font-family=\"Times,serif\" font-size=\"14.00\" text-anchor=\"middle\" x=\"160\" y=\"-31.3\">input:</text>\n",
       "<polyline fill=\"none\" points=\"132.5,-23.5 187.5,-23.5 \" stroke=\"#000000\"/>\n",
       "<text fill=\"#000000\" font-family=\"Times,serif\" font-size=\"14.00\" text-anchor=\"middle\" x=\"160\" y=\"-8.3\">output:</text>\n",
       "<polyline fill=\"none\" points=\"187.5,-.5 187.5,-46.5 \" stroke=\"#000000\"/>\n",
       "<text fill=\"#000000\" font-family=\"Times,serif\" font-size=\"14.00\" text-anchor=\"middle\" x=\"222\" y=\"-31.3\">(None, 8)</text>\n",
       "<polyline fill=\"none\" points=\"187.5,-23.5 256.5,-23.5 \" stroke=\"#000000\"/>\n",
       "<text fill=\"#000000\" font-family=\"Times,serif\" font-size=\"14.00\" text-anchor=\"middle\" x=\"222\" y=\"-8.3\">(None, 1)</text>\n",
       "</g>\n",
       "<!-- 140220604529040&#45;&gt;140218219675984 -->\n",
       "<g class=\"edge\" id=\"edge2\">\n",
       "<title>140220604529040-&gt;140218219675984</title>\n",
       "<path d=\"M143.5,-83.3799C143.5,-75.1745 143.5,-65.7679 143.5,-56.8786\" fill=\"none\" stroke=\"#000000\"/>\n",
       "<polygon fill=\"#000000\" points=\"147.0001,-56.784 143.5,-46.784 140.0001,-56.784 147.0001,-56.784\" stroke=\"#000000\"/>\n",
       "</g>\n",
       "</g>\n",
       "</svg>"
      ],
      "text/plain": [
       "<IPython.core.display.SVG object>"
      ]
     },
     "execution_count": 8,
     "metadata": {},
     "output_type": "execute_result"
    }
   ],
   "source": [
    "from keras.models import Sequential\n",
    "from keras.layers import Dense\n",
    "from IPython.display import SVG\n",
    "from keras.utils import model_to_dot\n",
    "\n",
    "model = Sequential()\n",
    "model.add(Dense(N*N-1, input_dim=(N*N), activation='relu'))\n",
    "model.add(Dense(1, activation='sigmoid'))\n",
    "model.compile(loss='binary_crossentropy', optimizer='rmsprop', metrics=['accuracy'])\n",
    "model.summary()\n",
    "SVG(model_to_dot(model, show_shapes=True, show_layer_names=True, dpi=65).create(prog='dot', format='svg'))"
   ]
  },
  {
   "cell_type": "markdown",
   "metadata": {
    "colab_type": "text",
    "id": "migHcEROWGWB"
   },
   "source": [
    "## Training the network"
   ]
  },
  {
   "cell_type": "markdown",
   "metadata": {
    "colab_type": "text",
    "id": "jUZtk-YjWGWB"
   },
   "source": [
    "We now run the training of the network and calculate and display the trainig loss and accuracy. We also use one fouth of the data for validation and calculate the validation accuracy and loss."
   ]
  },
  {
   "cell_type": "code",
   "execution_count": 9,
   "metadata": {
    "colab": {
     "base_uri": "https://localhost:8080/",
     "height": 34
    },
    "colab_type": "code",
    "executionInfo": {
     "elapsed": 38844,
     "status": "ok",
     "timestamp": 1586430086308,
     "user": {
      "displayName": "Volker Bäcker",
      "photoUrl": "https://lh3.googleusercontent.com/a-/AOh14GjEu5wjN2vCYiy08xA1eynmYpMhOc6dLWwRZvWdJbI=s64",
      "userId": "10406901054643491303"
     },
     "user_tz": -120
    },
    "id": "nfoOfPlTWGWD",
    "outputId": "392037c8-60cc-4d93-c9bb-49e4e4334ddb"
   },
   "outputs": [
    {
     "name": "stdout",
     "output_type": "stream",
     "text": [
      "Loss:  0.045568334621191024 Accuracy:  0.9869999885559082\n",
      "CPU times: user 7.39 s, sys: 578 ms, total: 7.96 s\n",
      "Wall time: 4.96 s\n"
     ]
    }
   ],
   "source": [
    "%%time\n",
    "history = model.fit(X, y, validation_split=0.25, epochs=25, batch_size=128, verbose=0)\n",
    "print(\"Loss: \", history.history['val_loss'][-1], \"Accuracy: \", history.history['val_accuracy'][-1])"
   ]
  },
  {
   "cell_type": "markdown",
   "metadata": {
    "colab_type": "text",
    "id": "gpGoDtb9WGWI"
   },
   "source": [
    "We visualize the training accuracy and loss history."
   ]
  },
  {
   "cell_type": "code",
   "execution_count": 10,
   "metadata": {
    "colab": {
     "base_uri": "https://localhost:8080/",
     "height": 573
    },
    "colab_type": "code",
    "executionInfo": {
     "elapsed": 1723,
     "status": "ok",
     "timestamp": 1586430093938,
     "user": {
      "displayName": "Volker Bäcker",
      "photoUrl": "https://lh3.googleusercontent.com/a-/AOh14GjEu5wjN2vCYiy08xA1eynmYpMhOc6dLWwRZvWdJbI=s64",
      "userId": "10406901054643491303"
     },
     "user_tz": -120
    },
    "id": "GjA7Hq9uWGWK",
    "outputId": "c9125504-d65c-4bf1-a194-c6723f908aa5"
   },
   "outputs": [
    {
     "data": {
      "text/html": [
       "\n",
       "\n",
       "<style>\n",
       "\n",
       "</style>\n",
       "\n",
       "<div id=\"fig_el312241402210931748642408455424\"></div>\n",
       "<script>\n",
       "function mpld3_load_lib(url, callback){\n",
       "  var s = document.createElement('script');\n",
       "  s.src = url;\n",
       "  s.async = true;\n",
       "  s.onreadystatechange = s.onload = callback;\n",
       "  s.onerror = function(){console.warn(\"failed to load library \" + url);};\n",
       "  document.getElementsByTagName(\"head\")[0].appendChild(s);\n",
       "}\n",
       "\n",
       "if(typeof(mpld3) !== \"undefined\" && mpld3._mpld3IsLoaded){\n",
       "   // already loaded: just create the figure\n",
       "   !function(mpld3){\n",
       "       \n",
       "       mpld3.draw_figure(\"fig_el312241402210931748642408455424\", {\"width\": 1080.0, \"height\": 360.0, \"axes\": [{\"bbox\": [0.07361111111111111, 0.20416666666666672, 0.4125, 0.6680555555555554], \"xlim\": [-0.20000000000000018, 26.2], \"ylim\": [0.4594100072979927, 1.0121233209967613], \"xdomain\": [-0.20000000000000018, 26.2], \"ydomain\": [0.4594100072979927, 1.0121233209967613], \"xscale\": \"linear\", \"yscale\": \"linear\", \"axes\": [{\"position\": \"bottom\", \"nticks\": 8, \"tickvalues\": null, \"tickformat\": null, \"scale\": \"linear\", \"fontsize\": 10.0, \"grid\": {\"gridOn\": false}, \"visible\": true}, {\"position\": \"left\", \"nticks\": 8, \"tickvalues\": null, \"tickformat\": null, \"scale\": \"linear\", \"fontsize\": 10.0, \"grid\": {\"gridOn\": false}, \"visible\": true}], \"axesbg\": \"#FFFFFF\", \"axesbgalpha\": null, \"zoomable\": true, \"id\": \"el31224140221012403920\", \"lines\": [{\"data\": \"data01\", \"xindex\": 0, \"yindex\": 1, \"coordinates\": \"data\", \"id\": \"el31224140221008318224\", \"color\": \"#1F77B4\", \"linewidth\": 1.5, \"dasharray\": \"none\", \"alpha\": 1, \"zorder\": 2, \"drawstyle\": \"default\"}, {\"data\": \"data01\", \"xindex\": 0, \"yindex\": 2, \"coordinates\": \"data\", \"id\": \"el31224140221012397520\", \"color\": \"#FF7F0E\", \"linewidth\": 1.5, \"dasharray\": \"none\", \"alpha\": 1, \"zorder\": 2, \"drawstyle\": \"default\"}, {\"data\": \"data02\", \"xindex\": 0, \"yindex\": 1, \"coordinates\": \"axes\", \"id\": \"el31224140221007788816\", \"color\": \"#1F77B4\", \"linewidth\": 1.5, \"dasharray\": \"none\", \"alpha\": 1, \"zorder\": 1000002.0, \"drawstyle\": \"default\"}, {\"data\": \"data02\", \"xindex\": 0, \"yindex\": 2, \"coordinates\": \"axes\", \"id\": \"el31224140221007348176\", \"color\": \"#FF7F0E\", \"linewidth\": 1.5, \"dasharray\": \"none\", \"alpha\": 1, \"zorder\": 1000002.0, \"drawstyle\": \"default\"}], \"paths\": [{\"data\": \"data03\", \"xindex\": 0, \"yindex\": 1, \"coordinates\": \"axes\", \"pathcodes\": [\"M\", \"L\", \"S\", \"L\", \"S\", \"L\", \"S\", \"L\", \"S\", \"Z\"], \"id\": \"el31224140221008317072\", \"dasharray\": \"none\", \"alpha\": 0.8, \"facecolor\": \"#FFFFFF\", \"edgecolor\": \"#CCCCCC\", \"edgewidth\": 1.0, \"zorder\": 1000000.0}], \"markers\": [], \"texts\": [{\"text\": \"Epoch\", \"position\": [0.5, -0.13929313929313933], \"coordinates\": \"axes\", \"h_anchor\": \"middle\", \"v_baseline\": \"hanging\", \"rotation\": -0.0, \"fontsize\": 10.0, \"color\": \"#000000\", \"alpha\": 1, \"zorder\": 3, \"id\": \"el31224140221008317008\"}, {\"text\": \"Accuracy\", \"position\": [-0.08866442199775534, 0.5], \"coordinates\": \"axes\", \"h_anchor\": \"middle\", \"v_baseline\": \"auto\", \"rotation\": -90.0, \"fontsize\": 10.0, \"color\": \"#000000\", \"alpha\": 1, \"zorder\": 3, \"id\": \"el31224140221008318160\"}, {\"text\": \"Model accuracy\", \"position\": [0.5, 1.024948024948025], \"coordinates\": \"axes\", \"h_anchor\": \"middle\", \"v_baseline\": \"auto\", \"rotation\": -0.0, \"fontsize\": 12.0, \"color\": \"#000000\", \"alpha\": 1, \"zorder\": 3, \"id\": \"el31224140221007577040\"}, {\"text\": \"Training\", \"position\": [0.8667227833894502, 0.10810810810810817], \"coordinates\": \"axes\", \"h_anchor\": \"start\", \"v_baseline\": \"auto\", \"rotation\": -0.0, \"fontsize\": 10.0, \"color\": \"#000000\", \"alpha\": 1, \"zorder\": 1000003.0, \"id\": \"el31224140221007788304\"}, {\"text\": \"Validation\", \"position\": [0.8667227833894502, 0.04573804573804574], \"coordinates\": \"axes\", \"h_anchor\": \"start\", \"v_baseline\": \"auto\", \"rotation\": -0.0, \"fontsize\": 10.0, \"color\": \"#000000\", \"alpha\": 1, \"zorder\": 1000003.0, \"id\": \"el31224140221007790032\"}], \"collections\": [], \"images\": [], \"sharex\": [], \"sharey\": []}, {\"bbox\": [0.5597222222222222, 0.20416666666666672, 0.4125, 0.6680555555555554], \"xlim\": [-0.20000000000000018, 26.2], \"ylim\": [0.013748450901607673, 0.7137858927324414], \"xdomain\": [-0.20000000000000018, 26.2], \"ydomain\": [0.013748450901607673, 0.7137858927324414], \"xscale\": \"linear\", \"yscale\": \"linear\", \"axes\": [{\"position\": \"bottom\", \"nticks\": 8, \"tickvalues\": null, \"tickformat\": null, \"scale\": \"linear\", \"fontsize\": 10.0, \"grid\": {\"gridOn\": false}, \"visible\": true}, {\"position\": \"left\", \"nticks\": 9, \"tickvalues\": null, \"tickformat\": null, \"scale\": \"linear\", \"fontsize\": 10.0, \"grid\": {\"gridOn\": false}, \"visible\": true}], \"axesbg\": \"#FFFFFF\", \"axesbgalpha\": null, \"zoomable\": true, \"id\": \"el31224140221007787024\", \"lines\": [{\"data\": \"data01\", \"xindex\": 0, \"yindex\": 3, \"coordinates\": \"data\", \"id\": \"el31224140221007563664\", \"color\": \"#1F77B4\", \"linewidth\": 1.5, \"dasharray\": \"none\", \"alpha\": 1, \"zorder\": 2, \"drawstyle\": \"default\"}, {\"data\": \"data01\", \"xindex\": 0, \"yindex\": 4, \"coordinates\": \"data\", \"id\": \"el31224140221007703760\", \"color\": \"#FF7F0E\", \"linewidth\": 1.5, \"dasharray\": \"none\", \"alpha\": 1, \"zorder\": 2, \"drawstyle\": \"default\"}, {\"data\": \"data02\", \"xindex\": 0, \"yindex\": 3, \"coordinates\": \"axes\", \"id\": \"el31224140221007104912\", \"color\": \"#1F77B4\", \"linewidth\": 1.5, \"dasharray\": \"none\", \"alpha\": 1, \"zorder\": 1000002.0, \"drawstyle\": \"default\"}, {\"data\": \"data02\", \"xindex\": 0, \"yindex\": 4, \"coordinates\": \"axes\", \"id\": \"el31224140221007131280\", \"color\": \"#FF7F0E\", \"linewidth\": 1.5, \"dasharray\": \"none\", \"alpha\": 1, \"zorder\": 1000002.0, \"drawstyle\": \"default\"}], \"paths\": [{\"data\": \"data03\", \"xindex\": 0, \"yindex\": 2, \"coordinates\": \"axes\", \"pathcodes\": [\"M\", \"L\", \"S\", \"L\", \"S\", \"L\", \"S\", \"L\", \"S\", \"Z\"], \"id\": \"el31224140221007788112\", \"dasharray\": \"none\", \"alpha\": 0.8, \"facecolor\": \"#FFFFFF\", \"edgecolor\": \"#CCCCCC\", \"edgewidth\": 1.0, \"zorder\": 1000000.0}], \"markers\": [], \"texts\": [{\"text\": \"Epoch\", \"position\": [0.5, -0.13929313929313933], \"coordinates\": \"axes\", \"h_anchor\": \"middle\", \"v_baseline\": \"hanging\", \"rotation\": -0.0, \"fontsize\": 10.0, \"color\": \"#000000\", \"alpha\": 1, \"zorder\": 3, \"id\": \"el31224140221007351376\"}, {\"text\": \"Loss\", \"position\": [-0.08866442199775548, 0.5], \"coordinates\": \"axes\", \"h_anchor\": \"middle\", \"v_baseline\": \"auto\", \"rotation\": -90.0, \"fontsize\": 10.0, \"color\": \"#000000\", \"alpha\": 1, \"zorder\": 3, \"id\": \"el31224140221007393488\"}, {\"text\": \"Model loss\", \"position\": [0.5, 1.024948024948025], \"coordinates\": \"axes\", \"h_anchor\": \"middle\", \"v_baseline\": \"auto\", \"rotation\": -0.0, \"fontsize\": 12.0, \"color\": \"#000000\", \"alpha\": 1, \"zorder\": 3, \"id\": \"el31224140221007453136\"}, {\"text\": \"Training\", \"position\": [0.8667227833894502, 0.9293139293139294], \"coordinates\": \"axes\", \"h_anchor\": \"start\", \"v_baseline\": \"auto\", \"rotation\": -0.0, \"fontsize\": 10.0, \"color\": \"#000000\", \"alpha\": 1, \"zorder\": 1000003.0, \"id\": \"el31224140221007104272\"}, {\"text\": \"Validation\", \"position\": [0.8667227833894502, 0.8669438669438669], \"coordinates\": \"axes\", \"h_anchor\": \"start\", \"v_baseline\": \"auto\", \"rotation\": -0.0, \"fontsize\": 10.0, \"color\": \"#000000\", \"alpha\": 1, \"zorder\": 1000003.0, \"id\": \"el31224140221007130832\"}], \"collections\": [], \"images\": [], \"sharex\": [], \"sharey\": []}], \"data\": {\"data01\": [[1.0, 0.4845333397388458, 0.49720001220703125, 0.6819660090128581, 0.640243782043457], [2.0, 0.5970666408538818, 0.8309000134468079, 0.6005321334203084, 0.5585197215080261], [3.0, 0.939300000667572, 0.9842000007629395, 0.5070994535446167, 0.45721085162162783], [4.0, 0.9850999712944031, 0.9868999719619751, 0.40418929149309796, 0.353261075258255], [5.0, 0.9853000044822693, 0.986299991607666, 0.3059281869411469, 0.2618007207393646], [6.0, 0.984333336353302, 0.9861000180244446, 0.22425732034047444, 0.1908387207508087], [7.0, 0.9843000173568726, 0.9858999848365784, 0.16394722164869308, 0.1403075246810913], [8.0, 0.9840999841690063, 0.9860000014305115, 0.12284132314920425, 0.10686879808902741], [9.0, 0.9845666885375977, 0.9860000014305115, 0.09781642617781958, 0.08726956686973572], [10.0, 0.9847666621208191, 0.9853000044822693, 0.08241286313533783, 0.0752350609779358], [11.0, 0.9848999977111816, 0.9869999885559082, 0.07258208808104197, 0.06634996764659881], [12.0, 0.9853000044822693, 0.9868999719619751, 0.0660921108841896, 0.06070858674049377], [13.0, 0.9851666688919067, 0.9868999719619751, 0.06178241840998332, 0.05674910328388214], [14.0, 0.9851999878883362, 0.9869999885559082, 0.05883569096128146, 0.054017138862609865], [15.0, 0.9855666756629944, 0.9864000082015991, 0.0566410418232282, 0.0527564319729805], [16.0, 0.9854999780654907, 0.9866999983787537, 0.05508370161950588, 0.05095699537992478], [17.0, 0.9854666590690613, 0.9868999719619751, 0.05384783428112666, 0.0493561774969101], [18.0, 0.9853333234786987, 0.9865000247955322, 0.05303578952948252, 0.0492907434463501], [19.0, 0.9854999780654907, 0.9868999719619751, 0.05233514749010404, 0.04786782417297363], [20.0, 0.9857666492462158, 0.9868000149726868, 0.051820637687047325, 0.04706044291257858], [21.0, 0.9854666590690613, 0.9868999719619751, 0.05141440257926782, 0.04685389904975891], [22.0, 0.9854999780654907, 0.9868000149726868, 0.051051600635548436, 0.046214126759767535], [23.0, 0.9855333566665649, 0.9868999719619751, 0.050825192964077, 0.04613358120918274], [24.0, 0.9854666590690613, 0.9869999885559082, 0.05058636527881026, 0.04583062862753868], [25.0, 0.9860000014305115, 0.9869999885559082, 0.05028533041477203, 0.045568334621191024]], \"data02\": [[0.8038720538720538, 0.12266112266112272, 0.060291060291060294, 0.943866943866944, 0.8814968814968815], [0.8487654320987654, 0.12266112266112272, 0.060291060291060294, 0.943866943866944, 0.8814968814968815]], \"data03\": [[0.7993827160493827, 0.02079002079002079, 0.841995841995842], [0.984287317620651, 0.02079002079002079, 0.841995841995842], [0.9887766554433222, 0.02079002079002079, 0.841995841995842], [0.9887766554433222, 0.029106029106029108, 0.8503118503118503], [0.9887766554433222, 0.14968814968814975, 0.970893970893971], [0.9887766554433222, 0.15800415800415807, 0.9792099792099793], [0.984287317620651, 0.15800415800415807, 0.9792099792099793], [0.7993827160493827, 0.15800415800415807, 0.9792099792099793], [0.7948933782267116, 0.15800415800415807, 0.9792099792099793], [0.7948933782267116, 0.14968814968814975, 0.970893970893971], [0.7948933782267116, 0.029106029106029108, 0.8503118503118503], [0.7948933782267116, 0.02079002079002079, 0.841995841995842], [0.7993827160493827, 0.02079002079002079, 0.841995841995842]]}, \"id\": \"el31224140221093174864\", \"plugins\": [{\"type\": \"reset\"}, {\"type\": \"zoom\", \"button\": true, \"enabled\": false}, {\"type\": \"boxzoom\", \"button\": true, \"enabled\": false}]});\n",
       "   }(mpld3);\n",
       "}else if(typeof define === \"function\" && define.amd){\n",
       "   // require.js is available: use it to load d3/mpld3\n",
       "   require.config({paths: {d3: \"https://mpld3.github.io/js/d3.v3.min\"}});\n",
       "   require([\"d3\"], function(d3){\n",
       "      window.d3 = d3;\n",
       "      mpld3_load_lib(\"https://mpld3.github.io/js/mpld3.v0.3.js\", function(){\n",
       "         \n",
       "         mpld3.draw_figure(\"fig_el312241402210931748642408455424\", {\"width\": 1080.0, \"height\": 360.0, \"axes\": [{\"bbox\": [0.07361111111111111, 0.20416666666666672, 0.4125, 0.6680555555555554], \"xlim\": [-0.20000000000000018, 26.2], \"ylim\": [0.4594100072979927, 1.0121233209967613], \"xdomain\": [-0.20000000000000018, 26.2], \"ydomain\": [0.4594100072979927, 1.0121233209967613], \"xscale\": \"linear\", \"yscale\": \"linear\", \"axes\": [{\"position\": \"bottom\", \"nticks\": 8, \"tickvalues\": null, \"tickformat\": null, \"scale\": \"linear\", \"fontsize\": 10.0, \"grid\": {\"gridOn\": false}, \"visible\": true}, {\"position\": \"left\", \"nticks\": 8, \"tickvalues\": null, \"tickformat\": null, \"scale\": \"linear\", \"fontsize\": 10.0, \"grid\": {\"gridOn\": false}, \"visible\": true}], \"axesbg\": \"#FFFFFF\", \"axesbgalpha\": null, \"zoomable\": true, \"id\": \"el31224140221012403920\", \"lines\": [{\"data\": \"data01\", \"xindex\": 0, \"yindex\": 1, \"coordinates\": \"data\", \"id\": \"el31224140221008318224\", \"color\": \"#1F77B4\", \"linewidth\": 1.5, \"dasharray\": \"none\", \"alpha\": 1, \"zorder\": 2, \"drawstyle\": \"default\"}, {\"data\": \"data01\", \"xindex\": 0, \"yindex\": 2, \"coordinates\": \"data\", \"id\": \"el31224140221012397520\", \"color\": \"#FF7F0E\", \"linewidth\": 1.5, \"dasharray\": \"none\", \"alpha\": 1, \"zorder\": 2, \"drawstyle\": \"default\"}, {\"data\": \"data02\", \"xindex\": 0, \"yindex\": 1, \"coordinates\": \"axes\", \"id\": \"el31224140221007788816\", \"color\": \"#1F77B4\", \"linewidth\": 1.5, \"dasharray\": \"none\", \"alpha\": 1, \"zorder\": 1000002.0, \"drawstyle\": \"default\"}, {\"data\": \"data02\", \"xindex\": 0, \"yindex\": 2, \"coordinates\": \"axes\", \"id\": \"el31224140221007348176\", \"color\": \"#FF7F0E\", \"linewidth\": 1.5, \"dasharray\": \"none\", \"alpha\": 1, \"zorder\": 1000002.0, \"drawstyle\": \"default\"}], \"paths\": [{\"data\": \"data03\", \"xindex\": 0, \"yindex\": 1, \"coordinates\": \"axes\", \"pathcodes\": [\"M\", \"L\", \"S\", \"L\", \"S\", \"L\", \"S\", \"L\", \"S\", \"Z\"], \"id\": \"el31224140221008317072\", \"dasharray\": \"none\", \"alpha\": 0.8, \"facecolor\": \"#FFFFFF\", \"edgecolor\": \"#CCCCCC\", \"edgewidth\": 1.0, \"zorder\": 1000000.0}], \"markers\": [], \"texts\": [{\"text\": \"Epoch\", \"position\": [0.5, -0.13929313929313933], \"coordinates\": \"axes\", \"h_anchor\": \"middle\", \"v_baseline\": \"hanging\", \"rotation\": -0.0, \"fontsize\": 10.0, \"color\": \"#000000\", \"alpha\": 1, \"zorder\": 3, \"id\": \"el31224140221008317008\"}, {\"text\": \"Accuracy\", \"position\": [-0.08866442199775534, 0.5], \"coordinates\": \"axes\", \"h_anchor\": \"middle\", \"v_baseline\": \"auto\", \"rotation\": -90.0, \"fontsize\": 10.0, \"color\": \"#000000\", \"alpha\": 1, \"zorder\": 3, \"id\": \"el31224140221008318160\"}, {\"text\": \"Model accuracy\", \"position\": [0.5, 1.024948024948025], \"coordinates\": \"axes\", \"h_anchor\": \"middle\", \"v_baseline\": \"auto\", \"rotation\": -0.0, \"fontsize\": 12.0, \"color\": \"#000000\", \"alpha\": 1, \"zorder\": 3, \"id\": \"el31224140221007577040\"}, {\"text\": \"Training\", \"position\": [0.8667227833894502, 0.10810810810810817], \"coordinates\": \"axes\", \"h_anchor\": \"start\", \"v_baseline\": \"auto\", \"rotation\": -0.0, \"fontsize\": 10.0, \"color\": \"#000000\", \"alpha\": 1, \"zorder\": 1000003.0, \"id\": \"el31224140221007788304\"}, {\"text\": \"Validation\", \"position\": [0.8667227833894502, 0.04573804573804574], \"coordinates\": \"axes\", \"h_anchor\": \"start\", \"v_baseline\": \"auto\", \"rotation\": -0.0, \"fontsize\": 10.0, \"color\": \"#000000\", \"alpha\": 1, \"zorder\": 1000003.0, \"id\": \"el31224140221007790032\"}], \"collections\": [], \"images\": [], \"sharex\": [], \"sharey\": []}, {\"bbox\": [0.5597222222222222, 0.20416666666666672, 0.4125, 0.6680555555555554], \"xlim\": [-0.20000000000000018, 26.2], \"ylim\": [0.013748450901607673, 0.7137858927324414], \"xdomain\": [-0.20000000000000018, 26.2], \"ydomain\": [0.013748450901607673, 0.7137858927324414], \"xscale\": \"linear\", \"yscale\": \"linear\", \"axes\": [{\"position\": \"bottom\", \"nticks\": 8, \"tickvalues\": null, \"tickformat\": null, \"scale\": \"linear\", \"fontsize\": 10.0, \"grid\": {\"gridOn\": false}, \"visible\": true}, {\"position\": \"left\", \"nticks\": 9, \"tickvalues\": null, \"tickformat\": null, \"scale\": \"linear\", \"fontsize\": 10.0, \"grid\": {\"gridOn\": false}, \"visible\": true}], \"axesbg\": \"#FFFFFF\", \"axesbgalpha\": null, \"zoomable\": true, \"id\": \"el31224140221007787024\", \"lines\": [{\"data\": \"data01\", \"xindex\": 0, \"yindex\": 3, \"coordinates\": \"data\", \"id\": \"el31224140221007563664\", \"color\": \"#1F77B4\", \"linewidth\": 1.5, \"dasharray\": \"none\", \"alpha\": 1, \"zorder\": 2, \"drawstyle\": \"default\"}, {\"data\": \"data01\", \"xindex\": 0, \"yindex\": 4, \"coordinates\": \"data\", \"id\": \"el31224140221007703760\", \"color\": \"#FF7F0E\", \"linewidth\": 1.5, \"dasharray\": \"none\", \"alpha\": 1, \"zorder\": 2, \"drawstyle\": \"default\"}, {\"data\": \"data02\", \"xindex\": 0, \"yindex\": 3, \"coordinates\": \"axes\", \"id\": \"el31224140221007104912\", \"color\": \"#1F77B4\", \"linewidth\": 1.5, \"dasharray\": \"none\", \"alpha\": 1, \"zorder\": 1000002.0, \"drawstyle\": \"default\"}, {\"data\": \"data02\", \"xindex\": 0, \"yindex\": 4, \"coordinates\": \"axes\", \"id\": \"el31224140221007131280\", \"color\": \"#FF7F0E\", \"linewidth\": 1.5, \"dasharray\": \"none\", \"alpha\": 1, \"zorder\": 1000002.0, \"drawstyle\": \"default\"}], \"paths\": [{\"data\": \"data03\", \"xindex\": 0, \"yindex\": 2, \"coordinates\": \"axes\", \"pathcodes\": [\"M\", \"L\", \"S\", \"L\", \"S\", \"L\", \"S\", \"L\", \"S\", \"Z\"], \"id\": \"el31224140221007788112\", \"dasharray\": \"none\", \"alpha\": 0.8, \"facecolor\": \"#FFFFFF\", \"edgecolor\": \"#CCCCCC\", \"edgewidth\": 1.0, \"zorder\": 1000000.0}], \"markers\": [], \"texts\": [{\"text\": \"Epoch\", \"position\": [0.5, -0.13929313929313933], \"coordinates\": \"axes\", \"h_anchor\": \"middle\", \"v_baseline\": \"hanging\", \"rotation\": -0.0, \"fontsize\": 10.0, \"color\": \"#000000\", \"alpha\": 1, \"zorder\": 3, \"id\": \"el31224140221007351376\"}, {\"text\": \"Loss\", \"position\": [-0.08866442199775548, 0.5], \"coordinates\": \"axes\", \"h_anchor\": \"middle\", \"v_baseline\": \"auto\", \"rotation\": -90.0, \"fontsize\": 10.0, \"color\": \"#000000\", \"alpha\": 1, \"zorder\": 3, \"id\": \"el31224140221007393488\"}, {\"text\": \"Model loss\", \"position\": [0.5, 1.024948024948025], \"coordinates\": \"axes\", \"h_anchor\": \"middle\", \"v_baseline\": \"auto\", \"rotation\": -0.0, \"fontsize\": 12.0, \"color\": \"#000000\", \"alpha\": 1, \"zorder\": 3, \"id\": \"el31224140221007453136\"}, {\"text\": \"Training\", \"position\": [0.8667227833894502, 0.9293139293139294], \"coordinates\": \"axes\", \"h_anchor\": \"start\", \"v_baseline\": \"auto\", \"rotation\": -0.0, \"fontsize\": 10.0, \"color\": \"#000000\", \"alpha\": 1, \"zorder\": 1000003.0, \"id\": \"el31224140221007104272\"}, {\"text\": \"Validation\", \"position\": [0.8667227833894502, 0.8669438669438669], \"coordinates\": \"axes\", \"h_anchor\": \"start\", \"v_baseline\": \"auto\", \"rotation\": -0.0, \"fontsize\": 10.0, \"color\": \"#000000\", \"alpha\": 1, \"zorder\": 1000003.0, \"id\": \"el31224140221007130832\"}], \"collections\": [], \"images\": [], \"sharex\": [], \"sharey\": []}], \"data\": {\"data01\": [[1.0, 0.4845333397388458, 0.49720001220703125, 0.6819660090128581, 0.640243782043457], [2.0, 0.5970666408538818, 0.8309000134468079, 0.6005321334203084, 0.5585197215080261], [3.0, 0.939300000667572, 0.9842000007629395, 0.5070994535446167, 0.45721085162162783], [4.0, 0.9850999712944031, 0.9868999719619751, 0.40418929149309796, 0.353261075258255], [5.0, 0.9853000044822693, 0.986299991607666, 0.3059281869411469, 0.2618007207393646], [6.0, 0.984333336353302, 0.9861000180244446, 0.22425732034047444, 0.1908387207508087], [7.0, 0.9843000173568726, 0.9858999848365784, 0.16394722164869308, 0.1403075246810913], [8.0, 0.9840999841690063, 0.9860000014305115, 0.12284132314920425, 0.10686879808902741], [9.0, 0.9845666885375977, 0.9860000014305115, 0.09781642617781958, 0.08726956686973572], [10.0, 0.9847666621208191, 0.9853000044822693, 0.08241286313533783, 0.0752350609779358], [11.0, 0.9848999977111816, 0.9869999885559082, 0.07258208808104197, 0.06634996764659881], [12.0, 0.9853000044822693, 0.9868999719619751, 0.0660921108841896, 0.06070858674049377], [13.0, 0.9851666688919067, 0.9868999719619751, 0.06178241840998332, 0.05674910328388214], [14.0, 0.9851999878883362, 0.9869999885559082, 0.05883569096128146, 0.054017138862609865], [15.0, 0.9855666756629944, 0.9864000082015991, 0.0566410418232282, 0.0527564319729805], [16.0, 0.9854999780654907, 0.9866999983787537, 0.05508370161950588, 0.05095699537992478], [17.0, 0.9854666590690613, 0.9868999719619751, 0.05384783428112666, 0.0493561774969101], [18.0, 0.9853333234786987, 0.9865000247955322, 0.05303578952948252, 0.0492907434463501], [19.0, 0.9854999780654907, 0.9868999719619751, 0.05233514749010404, 0.04786782417297363], [20.0, 0.9857666492462158, 0.9868000149726868, 0.051820637687047325, 0.04706044291257858], [21.0, 0.9854666590690613, 0.9868999719619751, 0.05141440257926782, 0.04685389904975891], [22.0, 0.9854999780654907, 0.9868000149726868, 0.051051600635548436, 0.046214126759767535], [23.0, 0.9855333566665649, 0.9868999719619751, 0.050825192964077, 0.04613358120918274], [24.0, 0.9854666590690613, 0.9869999885559082, 0.05058636527881026, 0.04583062862753868], [25.0, 0.9860000014305115, 0.9869999885559082, 0.05028533041477203, 0.045568334621191024]], \"data02\": [[0.8038720538720538, 0.12266112266112272, 0.060291060291060294, 0.943866943866944, 0.8814968814968815], [0.8487654320987654, 0.12266112266112272, 0.060291060291060294, 0.943866943866944, 0.8814968814968815]], \"data03\": [[0.7993827160493827, 0.02079002079002079, 0.841995841995842], [0.984287317620651, 0.02079002079002079, 0.841995841995842], [0.9887766554433222, 0.02079002079002079, 0.841995841995842], [0.9887766554433222, 0.029106029106029108, 0.8503118503118503], [0.9887766554433222, 0.14968814968814975, 0.970893970893971], [0.9887766554433222, 0.15800415800415807, 0.9792099792099793], [0.984287317620651, 0.15800415800415807, 0.9792099792099793], [0.7993827160493827, 0.15800415800415807, 0.9792099792099793], [0.7948933782267116, 0.15800415800415807, 0.9792099792099793], [0.7948933782267116, 0.14968814968814975, 0.970893970893971], [0.7948933782267116, 0.029106029106029108, 0.8503118503118503], [0.7948933782267116, 0.02079002079002079, 0.841995841995842], [0.7993827160493827, 0.02079002079002079, 0.841995841995842]]}, \"id\": \"el31224140221093174864\", \"plugins\": [{\"type\": \"reset\"}, {\"type\": \"zoom\", \"button\": true, \"enabled\": false}, {\"type\": \"boxzoom\", \"button\": true, \"enabled\": false}]});\n",
       "      });\n",
       "    });\n",
       "}else{\n",
       "    // require.js not available: dynamically load d3 & mpld3\n",
       "    mpld3_load_lib(\"https://mpld3.github.io/js/d3.v3.min.js\", function(){\n",
       "         mpld3_load_lib(\"https://mpld3.github.io/js/mpld3.v0.3.js\", function(){\n",
       "                 \n",
       "                 mpld3.draw_figure(\"fig_el312241402210931748642408455424\", {\"width\": 1080.0, \"height\": 360.0, \"axes\": [{\"bbox\": [0.07361111111111111, 0.20416666666666672, 0.4125, 0.6680555555555554], \"xlim\": [-0.20000000000000018, 26.2], \"ylim\": [0.4594100072979927, 1.0121233209967613], \"xdomain\": [-0.20000000000000018, 26.2], \"ydomain\": [0.4594100072979927, 1.0121233209967613], \"xscale\": \"linear\", \"yscale\": \"linear\", \"axes\": [{\"position\": \"bottom\", \"nticks\": 8, \"tickvalues\": null, \"tickformat\": null, \"scale\": \"linear\", \"fontsize\": 10.0, \"grid\": {\"gridOn\": false}, \"visible\": true}, {\"position\": \"left\", \"nticks\": 8, \"tickvalues\": null, \"tickformat\": null, \"scale\": \"linear\", \"fontsize\": 10.0, \"grid\": {\"gridOn\": false}, \"visible\": true}], \"axesbg\": \"#FFFFFF\", \"axesbgalpha\": null, \"zoomable\": true, \"id\": \"el31224140221012403920\", \"lines\": [{\"data\": \"data01\", \"xindex\": 0, \"yindex\": 1, \"coordinates\": \"data\", \"id\": \"el31224140221008318224\", \"color\": \"#1F77B4\", \"linewidth\": 1.5, \"dasharray\": \"none\", \"alpha\": 1, \"zorder\": 2, \"drawstyle\": \"default\"}, {\"data\": \"data01\", \"xindex\": 0, \"yindex\": 2, \"coordinates\": \"data\", \"id\": \"el31224140221012397520\", \"color\": \"#FF7F0E\", \"linewidth\": 1.5, \"dasharray\": \"none\", \"alpha\": 1, \"zorder\": 2, \"drawstyle\": \"default\"}, {\"data\": \"data02\", \"xindex\": 0, \"yindex\": 1, \"coordinates\": \"axes\", \"id\": \"el31224140221007788816\", \"color\": \"#1F77B4\", \"linewidth\": 1.5, \"dasharray\": \"none\", \"alpha\": 1, \"zorder\": 1000002.0, \"drawstyle\": \"default\"}, {\"data\": \"data02\", \"xindex\": 0, \"yindex\": 2, \"coordinates\": \"axes\", \"id\": \"el31224140221007348176\", \"color\": \"#FF7F0E\", \"linewidth\": 1.5, \"dasharray\": \"none\", \"alpha\": 1, \"zorder\": 1000002.0, \"drawstyle\": \"default\"}], \"paths\": [{\"data\": \"data03\", \"xindex\": 0, \"yindex\": 1, \"coordinates\": \"axes\", \"pathcodes\": [\"M\", \"L\", \"S\", \"L\", \"S\", \"L\", \"S\", \"L\", \"S\", \"Z\"], \"id\": \"el31224140221008317072\", \"dasharray\": \"none\", \"alpha\": 0.8, \"facecolor\": \"#FFFFFF\", \"edgecolor\": \"#CCCCCC\", \"edgewidth\": 1.0, \"zorder\": 1000000.0}], \"markers\": [], \"texts\": [{\"text\": \"Epoch\", \"position\": [0.5, -0.13929313929313933], \"coordinates\": \"axes\", \"h_anchor\": \"middle\", \"v_baseline\": \"hanging\", \"rotation\": -0.0, \"fontsize\": 10.0, \"color\": \"#000000\", \"alpha\": 1, \"zorder\": 3, \"id\": \"el31224140221008317008\"}, {\"text\": \"Accuracy\", \"position\": [-0.08866442199775534, 0.5], \"coordinates\": \"axes\", \"h_anchor\": \"middle\", \"v_baseline\": \"auto\", \"rotation\": -90.0, \"fontsize\": 10.0, \"color\": \"#000000\", \"alpha\": 1, \"zorder\": 3, \"id\": \"el31224140221008318160\"}, {\"text\": \"Model accuracy\", \"position\": [0.5, 1.024948024948025], \"coordinates\": \"axes\", \"h_anchor\": \"middle\", \"v_baseline\": \"auto\", \"rotation\": -0.0, \"fontsize\": 12.0, \"color\": \"#000000\", \"alpha\": 1, \"zorder\": 3, \"id\": \"el31224140221007577040\"}, {\"text\": \"Training\", \"position\": [0.8667227833894502, 0.10810810810810817], \"coordinates\": \"axes\", \"h_anchor\": \"start\", \"v_baseline\": \"auto\", \"rotation\": -0.0, \"fontsize\": 10.0, \"color\": \"#000000\", \"alpha\": 1, \"zorder\": 1000003.0, \"id\": \"el31224140221007788304\"}, {\"text\": \"Validation\", \"position\": [0.8667227833894502, 0.04573804573804574], \"coordinates\": \"axes\", \"h_anchor\": \"start\", \"v_baseline\": \"auto\", \"rotation\": -0.0, \"fontsize\": 10.0, \"color\": \"#000000\", \"alpha\": 1, \"zorder\": 1000003.0, \"id\": \"el31224140221007790032\"}], \"collections\": [], \"images\": [], \"sharex\": [], \"sharey\": []}, {\"bbox\": [0.5597222222222222, 0.20416666666666672, 0.4125, 0.6680555555555554], \"xlim\": [-0.20000000000000018, 26.2], \"ylim\": [0.013748450901607673, 0.7137858927324414], \"xdomain\": [-0.20000000000000018, 26.2], \"ydomain\": [0.013748450901607673, 0.7137858927324414], \"xscale\": \"linear\", \"yscale\": \"linear\", \"axes\": [{\"position\": \"bottom\", \"nticks\": 8, \"tickvalues\": null, \"tickformat\": null, \"scale\": \"linear\", \"fontsize\": 10.0, \"grid\": {\"gridOn\": false}, \"visible\": true}, {\"position\": \"left\", \"nticks\": 9, \"tickvalues\": null, \"tickformat\": null, \"scale\": \"linear\", \"fontsize\": 10.0, \"grid\": {\"gridOn\": false}, \"visible\": true}], \"axesbg\": \"#FFFFFF\", \"axesbgalpha\": null, \"zoomable\": true, \"id\": \"el31224140221007787024\", \"lines\": [{\"data\": \"data01\", \"xindex\": 0, \"yindex\": 3, \"coordinates\": \"data\", \"id\": \"el31224140221007563664\", \"color\": \"#1F77B4\", \"linewidth\": 1.5, \"dasharray\": \"none\", \"alpha\": 1, \"zorder\": 2, \"drawstyle\": \"default\"}, {\"data\": \"data01\", \"xindex\": 0, \"yindex\": 4, \"coordinates\": \"data\", \"id\": \"el31224140221007703760\", \"color\": \"#FF7F0E\", \"linewidth\": 1.5, \"dasharray\": \"none\", \"alpha\": 1, \"zorder\": 2, \"drawstyle\": \"default\"}, {\"data\": \"data02\", \"xindex\": 0, \"yindex\": 3, \"coordinates\": \"axes\", \"id\": \"el31224140221007104912\", \"color\": \"#1F77B4\", \"linewidth\": 1.5, \"dasharray\": \"none\", \"alpha\": 1, \"zorder\": 1000002.0, \"drawstyle\": \"default\"}, {\"data\": \"data02\", \"xindex\": 0, \"yindex\": 4, \"coordinates\": \"axes\", \"id\": \"el31224140221007131280\", \"color\": \"#FF7F0E\", \"linewidth\": 1.5, \"dasharray\": \"none\", \"alpha\": 1, \"zorder\": 1000002.0, \"drawstyle\": \"default\"}], \"paths\": [{\"data\": \"data03\", \"xindex\": 0, \"yindex\": 2, \"coordinates\": \"axes\", \"pathcodes\": [\"M\", \"L\", \"S\", \"L\", \"S\", \"L\", \"S\", \"L\", \"S\", \"Z\"], \"id\": \"el31224140221007788112\", \"dasharray\": \"none\", \"alpha\": 0.8, \"facecolor\": \"#FFFFFF\", \"edgecolor\": \"#CCCCCC\", \"edgewidth\": 1.0, \"zorder\": 1000000.0}], \"markers\": [], \"texts\": [{\"text\": \"Epoch\", \"position\": [0.5, -0.13929313929313933], \"coordinates\": \"axes\", \"h_anchor\": \"middle\", \"v_baseline\": \"hanging\", \"rotation\": -0.0, \"fontsize\": 10.0, \"color\": \"#000000\", \"alpha\": 1, \"zorder\": 3, \"id\": \"el31224140221007351376\"}, {\"text\": \"Loss\", \"position\": [-0.08866442199775548, 0.5], \"coordinates\": \"axes\", \"h_anchor\": \"middle\", \"v_baseline\": \"auto\", \"rotation\": -90.0, \"fontsize\": 10.0, \"color\": \"#000000\", \"alpha\": 1, \"zorder\": 3, \"id\": \"el31224140221007393488\"}, {\"text\": \"Model loss\", \"position\": [0.5, 1.024948024948025], \"coordinates\": \"axes\", \"h_anchor\": \"middle\", \"v_baseline\": \"auto\", \"rotation\": -0.0, \"fontsize\": 12.0, \"color\": \"#000000\", \"alpha\": 1, \"zorder\": 3, \"id\": \"el31224140221007453136\"}, {\"text\": \"Training\", \"position\": [0.8667227833894502, 0.9293139293139294], \"coordinates\": \"axes\", \"h_anchor\": \"start\", \"v_baseline\": \"auto\", \"rotation\": -0.0, \"fontsize\": 10.0, \"color\": \"#000000\", \"alpha\": 1, \"zorder\": 1000003.0, \"id\": \"el31224140221007104272\"}, {\"text\": \"Validation\", \"position\": [0.8667227833894502, 0.8669438669438669], \"coordinates\": \"axes\", \"h_anchor\": \"start\", \"v_baseline\": \"auto\", \"rotation\": -0.0, \"fontsize\": 10.0, \"color\": \"#000000\", \"alpha\": 1, \"zorder\": 1000003.0, \"id\": \"el31224140221007130832\"}], \"collections\": [], \"images\": [], \"sharex\": [], \"sharey\": []}], \"data\": {\"data01\": [[1.0, 0.4845333397388458, 0.49720001220703125, 0.6819660090128581, 0.640243782043457], [2.0, 0.5970666408538818, 0.8309000134468079, 0.6005321334203084, 0.5585197215080261], [3.0, 0.939300000667572, 0.9842000007629395, 0.5070994535446167, 0.45721085162162783], [4.0, 0.9850999712944031, 0.9868999719619751, 0.40418929149309796, 0.353261075258255], [5.0, 0.9853000044822693, 0.986299991607666, 0.3059281869411469, 0.2618007207393646], [6.0, 0.984333336353302, 0.9861000180244446, 0.22425732034047444, 0.1908387207508087], [7.0, 0.9843000173568726, 0.9858999848365784, 0.16394722164869308, 0.1403075246810913], [8.0, 0.9840999841690063, 0.9860000014305115, 0.12284132314920425, 0.10686879808902741], [9.0, 0.9845666885375977, 0.9860000014305115, 0.09781642617781958, 0.08726956686973572], [10.0, 0.9847666621208191, 0.9853000044822693, 0.08241286313533783, 0.0752350609779358], [11.0, 0.9848999977111816, 0.9869999885559082, 0.07258208808104197, 0.06634996764659881], [12.0, 0.9853000044822693, 0.9868999719619751, 0.0660921108841896, 0.06070858674049377], [13.0, 0.9851666688919067, 0.9868999719619751, 0.06178241840998332, 0.05674910328388214], [14.0, 0.9851999878883362, 0.9869999885559082, 0.05883569096128146, 0.054017138862609865], [15.0, 0.9855666756629944, 0.9864000082015991, 0.0566410418232282, 0.0527564319729805], [16.0, 0.9854999780654907, 0.9866999983787537, 0.05508370161950588, 0.05095699537992478], [17.0, 0.9854666590690613, 0.9868999719619751, 0.05384783428112666, 0.0493561774969101], [18.0, 0.9853333234786987, 0.9865000247955322, 0.05303578952948252, 0.0492907434463501], [19.0, 0.9854999780654907, 0.9868999719619751, 0.05233514749010404, 0.04786782417297363], [20.0, 0.9857666492462158, 0.9868000149726868, 0.051820637687047325, 0.04706044291257858], [21.0, 0.9854666590690613, 0.9868999719619751, 0.05141440257926782, 0.04685389904975891], [22.0, 0.9854999780654907, 0.9868000149726868, 0.051051600635548436, 0.046214126759767535], [23.0, 0.9855333566665649, 0.9868999719619751, 0.050825192964077, 0.04613358120918274], [24.0, 0.9854666590690613, 0.9869999885559082, 0.05058636527881026, 0.04583062862753868], [25.0, 0.9860000014305115, 0.9869999885559082, 0.05028533041477203, 0.045568334621191024]], \"data02\": [[0.8038720538720538, 0.12266112266112272, 0.060291060291060294, 0.943866943866944, 0.8814968814968815], [0.8487654320987654, 0.12266112266112272, 0.060291060291060294, 0.943866943866944, 0.8814968814968815]], \"data03\": [[0.7993827160493827, 0.02079002079002079, 0.841995841995842], [0.984287317620651, 0.02079002079002079, 0.841995841995842], [0.9887766554433222, 0.02079002079002079, 0.841995841995842], [0.9887766554433222, 0.029106029106029108, 0.8503118503118503], [0.9887766554433222, 0.14968814968814975, 0.970893970893971], [0.9887766554433222, 0.15800415800415807, 0.9792099792099793], [0.984287317620651, 0.15800415800415807, 0.9792099792099793], [0.7993827160493827, 0.15800415800415807, 0.9792099792099793], [0.7948933782267116, 0.15800415800415807, 0.9792099792099793], [0.7948933782267116, 0.14968814968814975, 0.970893970893971], [0.7948933782267116, 0.029106029106029108, 0.8503118503118503], [0.7948933782267116, 0.02079002079002079, 0.841995841995842], [0.7993827160493827, 0.02079002079002079, 0.841995841995842]]}, \"id\": \"el31224140221093174864\", \"plugins\": [{\"type\": \"reset\"}, {\"type\": \"zoom\", \"button\": true, \"enabled\": false}, {\"type\": \"boxzoom\", \"button\": true, \"enabled\": false}]});\n",
       "            })\n",
       "         });\n",
       "}\n",
       "</script>"
      ],
      "text/plain": [
       "<IPython.core.display.HTML object>"
      ]
     },
     "execution_count": 10,
     "metadata": {},
     "output_type": "execute_result"
    }
   ],
   "source": [
    "%matplotlib inline\n",
    "import matplotlib.pyplot as plt, mpld3\n",
    "def createSubplot(x, dataSeries, dataLabels, title, xLabel, yLabel, legendLoc, position):\n",
    "    plt.subplot(position)\n",
    "    plt.title(title)\n",
    "    plt.xlabel(xLabel)\n",
    "    plt.ylabel(yLabel)\n",
    "    for y, label in zip(dataSeries, dataLabels):\n",
    "        plt.plot(x, y, label=label)\n",
    "    plt.legend(loc=legendLoc)\n",
    "xValues = np.arange(1., len(history.history['loss'])+1, 1)\n",
    "plt.rcParams['xtick.major.pad']='16'\n",
    "plt.rcParams['ytick.major.pad']='16'\n",
    "plt.rcParams[\"figure.figsize\"] = (15,5)\n",
    "createSubplot(xValues, [history.history['accuracy'], history.history['val_accuracy']], \n",
    "              [\"Training\", \"Validation\"], \"Model accuracy\", \"Epoch\", \"Accuracy\",  \"lower right\", 121)\n",
    "createSubplot(xValues, [history.history['loss'], history.history['val_loss']], \n",
    "              [\"Training\", \"Validation\"], \"Model loss\", \"Epoch\", \"Loss\", \"upper right\", 122)\n",
    "plt.tight_layout(pad=3.0)\n",
    "mpld3.display()"
   ]
  },
  {
   "cell_type": "markdown",
   "metadata": {
    "colab_type": "text",
    "id": "P-VIduv3WGWN"
   },
   "source": [
    "## Applying the model on images"
   ]
  },
  {
   "cell_type": "markdown",
   "metadata": {
    "colab_type": "text",
    "id": "5RnGxraeWGWO"
   },
   "source": [
    "We can now use the model to make predictions for the intensity vector of the neighborhood of a pixel."
   ]
  },
  {
   "cell_type": "code",
   "execution_count": 11,
   "metadata": {
    "colab": {
     "base_uri": "https://localhost:8080/",
     "height": 52
    },
    "colab_type": "code",
    "executionInfo": {
     "elapsed": 1287,
     "status": "ok",
     "timestamp": 1586430114179,
     "user": {
      "displayName": "Volker Bäcker",
      "photoUrl": "https://lh3.googleusercontent.com/a-/AOh14GjEu5wjN2vCYiy08xA1eynmYpMhOc6dLWwRZvWdJbI=s64",
      "userId": "10406901054643491303"
     },
     "user_tz": -120
    },
    "id": "B53RMxWsWGWP",
    "outputId": "ea1ad08b-7b76-4422-efe1-c1da6dba66ab"
   },
   "outputs": [
    {
     "name": "stdout",
     "output_type": "stream",
     "text": [
      "[[0.99993336]]\n",
      "[[1]]\n"
     ]
    }
   ],
   "source": [
    "prediction = model.predict(np.array([[128/255]*N*N]))\n",
    "print(prediction)\n",
    "classPrediction = model.predict_classes(np.array([[128/255]*N*N]))\n",
    "print(classPrediction)"
   ]
  },
  {
   "cell_type": "markdown",
   "metadata": {
    "colab_type": "text",
    "id": "XKEndjUcWGWU"
   },
   "source": [
    "We will now use the model to segment images. We need to feed the neighborhood of all pixels to the classifier and create an output mask and a probability map from the result of the classification.\n",
    "\n",
    "We set the path to the folder containing the input images. We will read each image in the folder, do the segmentation and save the result images.\n",
    "\n",
    "Here is how it conceptually works. A loop iterates over the pixel in the input image. For each pixel a feature vector is created and classified from the intensities values in its neighborhood. It works but is very slow. We will therefore rather use an optimized version, that first creates a list of all feature vectors, passes them to the classification and then creates the mask and probability map from the results.\n",
    "\n",
    "We first define a function that creates a list of feature vectors from an image. Each vector represents the intensities in the neighborhood of a pixel in the image. "
   ]
  },
  {
   "cell_type": "code",
   "execution_count": 15,
   "metadata": {},
   "outputs": [],
   "source": [
    "def getFeatureVectorsFromImage(image, n, reportInterval):    \n",
    "    neighborsRange = range((-n//2)+1, (n//2)+1)\n",
    "    height, width = image.shape\n",
    "    neighborhood = np.zeros(n*n)\n",
    "    neighborhoods = np.zeros((image.shape[0]*image.shape[1], n*n), dtype=float)\n",
    "    vc = 0\n",
    "    print(\"Extracting the feature vectors.\")\n",
    "    for y in range(0, height):\n",
    "        if y%reportInterval == 0:\n",
    "            print(\"\\rRow: \" + str(y), end=\"\")\n",
    "        for x in range(0, width):\n",
    "            nc = 0\n",
    "            for i in neighborsRange:\n",
    "                for j in neighborsRange:\n",
    "                    ic = i\n",
    "                    jc = j\n",
    "                    if x+i < 0 or x+i>=width:\n",
    "                        ic = -1 * i\n",
    "                    if y+j < 0 or y+j>=height:\n",
    "                        jc = -1 * j    \n",
    "                    neighborhood[nc] = image[y+jc,x+ic]\n",
    "                    nc = nc + 1\n",
    "            neighborhoods[vc]=neighborhood\n",
    "            vc = vc + 1\n",
    "    print(\"\", end=\"\\n\")\n",
    "    return neighborhoods"
   ]
  },
  {
   "cell_type": "markdown",
   "metadata": {},
   "source": [
    "Now we create an output folder as a subfolder of the input folder and get a list of the images in the input folder."
   ]
  },
  {
   "cell_type": "code",
   "execution_count": 16,
   "metadata": {},
   "outputs": [
    {
     "name": "stdout",
     "output_type": "stream",
     "text": [
      "['./data/spots01.tif', './data/spots02.tif']\n",
      "gt  out  spots01.tif  spots02.tif\n"
     ]
    }
   ],
   "source": [
    "import os\n",
    "path = './data'\n",
    "out = os.path.join(path, 'out')\n",
    "if not os.path.isdir(out):\n",
    "    os.mkdir(out)\n",
    "files = os.listdir(path)\n",
    "imagePaths = [os.path.join(path, f)  for f in files if not os.path.isdir(os.path.join(path, f))]\n",
    "imagePaths.sort()\n",
    "print(imagePaths)\n",
    "!ls ./data"
   ]
  },
  {
   "cell_type": "markdown",
   "metadata": {
    "colab_type": "text",
    "id": "Ojb6QgMpWGWX"
   },
   "source": [
    "For the result images pMap and mask we start with 1D arrays of size $width \\times height$. We fill the linear arrays with the classification results and then reshape them to 2D-images."
   ]
  },
  {
   "cell_type": "code",
   "execution_count": 17,
   "metadata": {
    "colab": {
     "base_uri": "https://localhost:8080/",
     "height": 278
    },
    "colab_type": "code",
    "executionInfo": {
     "elapsed": 310398,
     "status": "ok",
     "timestamp": 1586430453983,
     "user": {
      "displayName": "Volker Bäcker",
      "photoUrl": "https://lh3.googleusercontent.com/a-/AOh14GjEu5wjN2vCYiy08xA1eynmYpMhOc6dLWwRZvWdJbI=s64",
      "userId": "10406901054643491303"
     },
     "user_tz": -120
    },
    "id": "I9hpBJ-8WGWa",
    "outputId": "79ccd54d-2faf-4581-e5ce-6a12c443da62"
   },
   "outputs": [
    {
     "name": "stdout",
     "output_type": "stream",
     "text": [
      "Processing image ./data/spots01.tif\n",
      "Extracting the feature vectors.\n",
      "Row: 1820\n",
      "Applying the classifier.\n",
      "Writing the output images.\n",
      "Processing image ./data/spots02.tif\n",
      "Extracting the feature vectors.\n",
      "Row: 1820\n",
      "Applying the classifier.\n",
      "Writing the output images.\n",
      "Done!\n",
      "CPU times: user 1min 18s, sys: 3.45 s, total: 1min 21s\n",
      "Wall time: 1min 7s\n"
     ]
    }
   ],
   "source": [
    "%%time\n",
    "import tifffile as tiff\n",
    "for imagePath in imagePaths:   \n",
    "    print(\"Processing image \" + imagePath)\n",
    "    image = tiff.imread(imagePath) / 255\n",
    "    neighborhoods = getFeatureVectorsFromImage(image, N, 10)\n",
    "\n",
    "    print(\"Applying the classifier.\")\n",
    "    pMap = model.predict(neighborhoods).flatten()\n",
    "    mask = (np.round(pMap)*255).reshape(image.shape).astype(np.uint8)  \n",
    "    pMap = (pMap * 255).reshape(image.shape).astype(np.uint8)\n",
    "    \n",
    "    print(\"Writing the output images.\")\n",
    "    outFileName = os.path.basename(imagePath)\n",
    "    outFileName = os.path.splitext(outFileName)[0]\n",
    "    outPath = os.path.join(out,outFileName + \"-pMap.tif\" )\n",
    "    tiff.imwrite(outPath, pMap, imagej=True)\n",
    "    outPath = os.path.join(out,outFileName + \"-mask.tif\" )\n",
    "    tiff.imwrite(outPath, mask, imagej=True)\n",
    "print(\"Done!\")"
   ]
  },
  {
   "cell_type": "code",
   "execution_count": 18,
   "metadata": {
    "colab": {
     "base_uri": "https://localhost:8080/",
     "height": 704
    },
    "colab_type": "code",
    "executionInfo": {
     "elapsed": 3119,
     "status": "ok",
     "timestamp": 1586430541229,
     "user": {
      "displayName": "Volker Bäcker",
      "photoUrl": "https://lh3.googleusercontent.com/a-/AOh14GjEu5wjN2vCYiy08xA1eynmYpMhOc6dLWwRZvWdJbI=s64",
      "userId": "10406901054643491303"
     },
     "user_tz": -120
    },
    "id": "_iN0FsfoWGWi",
    "outputId": "13441628-795b-4cb6-a59e-707abe29ce67"
   },
   "outputs": [
    {
     "data": {
      "image/png": "[encoded data removed]",
      "text/plain": [
       "<Figure size 1080x864 with 1 Axes>"
      ]
     },
     "metadata": {
      "needs_background": "light"
     },
     "output_type": "display_data"
    }
   ],
   "source": [
    "from matplotlib import pyplot as plt\n",
    "plt.figure(figsize = (15,12))\n",
    "plt.imshow(mask, interpolation='nearest', aspect=\"auto\")\n",
    "plt.show()"
   ]
  },
  {
   "cell_type": "code",
   "execution_count": 14,
   "metadata": {},
   "outputs": [
    {
     "data": {
      "text/plain": [
       "[array([[-0.10027412,  0.24947888, -0.2141105 , -0.0042963 , -0.6876477 ,\n",
       "          1.0647981 ,  0.79249066,  0.31624848],\n",
       "        [-0.261808  ,  0.11034656, -0.3476799 , -0.12323102, -0.4462426 ,\n",
       "          0.65622467,  0.28279844,  0.8410371 ],\n",
       "        [-0.10062718, -0.35625634, -0.17707768,  0.02133632, -0.33283406,\n",
       "          0.9915828 ,  0.3000889 ,  0.87376547],\n",
       "        [-0.70565605,  0.14563847,  0.28225076, -0.5665982 , -0.06473186,\n",
       "          0.6367087 ,  1.1338865 ,  0.6653829 ],\n",
       "        [-0.51850814, -0.31873006, -0.57809675, -0.12006801, -0.8928453 ,\n",
       "          0.9808985 ,  0.4428513 ,  1.1218145 ],\n",
       "        [-0.3898023 , -0.1355547 ,  0.50832784,  0.12309319, -0.5325432 ,\n",
       "          0.2711881 ,  0.8150395 ,  1.0505173 ],\n",
       "        [-0.49858722, -0.29766494,  0.370215  , -0.4011116 , -0.5788222 ,\n",
       "          0.76388305,  0.36969602,  0.6289859 ],\n",
       "        [-0.06321262,  0.2861836 , -0.51202244,  0.1633696 , -1.0685657 ,\n",
       "          0.39110044,  0.8943148 ,  0.6424107 ],\n",
       "        [-0.16829152,  0.04549944, -0.20486042, -0.5833068 , -0.21379966,\n",
       "          0.46119   ,  1.1473954 ,  0.8824302 ]], dtype=float32),\n",
       " array([ 1.8958102,  0.       ,  0.       ,  0.       ,  1.9346952,\n",
       "        -1.8374935, -1.8268275, -1.9031916], dtype=float32),\n",
       " array([[-3.0798147 ],\n",
       "        [ 0.6630801 ],\n",
       "        [ 0.0370068 ],\n",
       "        [-0.48225212],\n",
       "        [-4.8848963 ],\n",
       "        [ 3.7467735 ],\n",
       "        [ 3.1386025 ],\n",
       "        [ 2.5861793 ]], dtype=float32),\n",
       " array([-1.887786], dtype=float32)]"
      ]
     },
     "execution_count": 14,
     "metadata": {},
     "output_type": "execute_result"
    }
   ],
   "source": [
    "model.get_weights()"
   ]
  },
  {
   "cell_type": "markdown",
   "metadata": {},
   "source": [
    "We can save the model to a file and load it somewhere else to use it. Since the model can be big (which is not the case here) it is saved as a .h5 file."
   ]
  },
  {
   "cell_type": "code",
   "execution_count": 19,
   "metadata": {},
   "outputs": [],
   "source": [
    "model.save('simple-pixel-seg.h5')"
   ]
  },
  {
   "cell_type": "markdown",
   "metadata": {},
   "source": [
    "To load it somewhere else use the load_model function from the module models of keras."
   ]
  },
  {
   "cell_type": "code",
   "execution_count": 21,
   "metadata": {},
   "outputs": [
    {
     "name": "stdout",
     "output_type": "stream",
     "text": [
      "Model: \"sequential_1\"\n",
      "_________________________________________________________________\n",
      "Layer (type)                 Output Shape              Param #   \n",
      "=================================================================\n",
      "dense_1 (Dense)              (None, 8)                 80        \n",
      "_________________________________________________________________\n",
      "dense_2 (Dense)              (None, 1)                 9         \n",
      "=================================================================\n",
      "Total params: 89\n",
      "Trainable params: 89\n",
      "Non-trainable params: 0\n",
      "_________________________________________________________________\n",
      "None\n"
     ]
    },
    {
     "data": {
      "text/plain": [
       "[array([[-0.10027412,  0.24947888, -0.2141105 , -0.0042963 , -0.6876477 ,\n",
       "          1.0647981 ,  0.79249066,  0.31624848],\n",
       "        [-0.261808  ,  0.11034656, -0.3476799 , -0.12323102, -0.4462426 ,\n",
       "          0.65622467,  0.28279844,  0.8410371 ],\n",
       "        [-0.10062718, -0.35625634, -0.17707768,  0.02133632, -0.33283406,\n",
       "          0.9915828 ,  0.3000889 ,  0.87376547],\n",
       "        [-0.70565605,  0.14563847,  0.28225076, -0.5665982 , -0.06473186,\n",
       "          0.6367087 ,  1.1338865 ,  0.6653829 ],\n",
       "        [-0.51850814, -0.31873006, -0.57809675, -0.12006801, -0.8928453 ,\n",
       "          0.9808985 ,  0.4428513 ,  1.1218145 ],\n",
       "        [-0.3898023 , -0.1355547 ,  0.50832784,  0.12309319, -0.5325432 ,\n",
       "          0.2711881 ,  0.8150395 ,  1.0505173 ],\n",
       "        [-0.49858722, -0.29766494,  0.370215  , -0.4011116 , -0.5788222 ,\n",
       "          0.76388305,  0.36969602,  0.6289859 ],\n",
       "        [-0.06321262,  0.2861836 , -0.51202244,  0.1633696 , -1.0685657 ,\n",
       "          0.39110044,  0.8943148 ,  0.6424107 ],\n",
       "        [-0.16829152,  0.04549944, -0.20486042, -0.5833068 , -0.21379966,\n",
       "          0.46119   ,  1.1473954 ,  0.8824302 ]], dtype=float32),\n",
       " array([ 1.8958102,  0.       ,  0.       ,  0.       ,  1.9346952,\n",
       "        -1.8374935, -1.8268275, -1.9031916], dtype=float32),\n",
       " array([[-3.0798147 ],\n",
       "        [ 0.6630801 ],\n",
       "        [ 0.0370068 ],\n",
       "        [-0.48225212],\n",
       "        [-4.8848963 ],\n",
       "        [ 3.7467735 ],\n",
       "        [ 3.1386025 ],\n",
       "        [ 2.5861793 ]], dtype=float32),\n",
       " array([-1.887786], dtype=float32)]"
      ]
     },
     "execution_count": 21,
     "metadata": {},
     "output_type": "execute_result"
    }
   ],
   "source": [
    "from keras.models import load_model\n",
    "model2 = load_model('simple-pixel-seg.h5')\n",
    "print(model2.summary())\n",
    "model2.get_weights()"
   ]
  },
  {
   "cell_type": "markdown",
   "metadata": {
    "colab_type": "text",
    "id": "wzDHnusqWGWn"
   },
   "source": [
    "## Literatur"
   ]
  },
  {
   "cell_type": "markdown",
   "metadata": {
    "colab_type": "text",
    "id": "oNgT5_FHWGWo"
   },
   "source": [
    "[1] Van Rossum G, Drake FL. [Python 3 Reference Manual](https://docs.python.org/3/reference/index.html). Scotts Valley, CA: CreateSpace; 2009.\n",
    "\n",
    "[2] Chollet F. and others. [Keras](https://keras.io). 2015\n",
    "\n",
    "[3] [The MRI machine learning workshop](https://github.com/MontpellierRessourcesImagerie/mri-workshop-machine-learning). 2019\n",
    "\n",
    "[4] Brownlee J. [Your First Deep Learning Project in Python with Keras Step-By-Step](https://machinelearningmastery.com/tutorial-first-neural-network-python-keras/). 2019"
   ]
  }
 ],
 "metadata": {
  "colab": {
   "collapsed_sections": [],
   "name": "Copy of DL01-input-data.ipynb",
   "provenance": [
    {
     "file_id": "https://github.com/MontpellierRessourcesImagerie/DL_EXP_PC/blob/master/DL01-input-data.ipynb",
     "timestamp": 1586429829137
    }
   ],
   "toc_visible": true
  },
  "kernelspec": {
   "display_name": "Python 3",
   "language": "python",
   "name": "python3"
  },
  "language_info": {
   "codemirror_mode": {
    "name": "ipython",
    "version": 3
   },
   "file_extension": ".py",
   "mimetype": "text/x-python",
   "name": "python",
   "nbconvert_exporter": "python",
   "pygments_lexer": "ipython3",
   "version": "3.7.6"
  }
 },
 "nbformat": 4,
 "nbformat_minor": 4
}
