{
 "cells": [
  {
   "cell_type": "markdown",
   "metadata": {},
   "source": [
    "# Python for deep learning"
   ]
  },
  {
   "cell_type": "code",
   "execution_count": 16,
   "metadata": {},
   "outputs": [],
   "source": [
    "import os\n",
    "if  not os.path.isdir('./training'):\n",
    "  !cd /content/ && git clone https://github.com/MontpellierRessourcesImagerie/DL_EXP_PC.git && cp -r DL_EXP_PC/data . && cp -r DL_EXP_PC/training .\n",
    "  %cd DL_EXP_PC"
   ]
  },
  {
   "cell_type": "markdown",
   "metadata": {},
   "source": [
    "## Cell 11"
   ]
  },
  {
   "cell_type": "markdown",
   "metadata": {},
   "source": [
    "```python\n",
    "prediction = model.predict(np.array([[128/255]*N*N]))\n",
    "classPrediction = model.predict_classes(np.array([[128/255]*N*N]))\n",
    "print(\"p:\", prediction.flatten(), \"c:\", classPrediction.flatten())\n",
    "```"
   ]
  },
  {
   "cell_type": "markdown",
   "metadata": {},
   "source": [
    "In cell 10 we use the trained model to make a prediction on a single input vector."
   ]
  },
  {
   "cell_type": "markdown",
   "metadata": {},
   "source": [
    "We build and train the simple model we used before again."
   ]
  },
  {
   "cell_type": "code",
   "execution_count": 1,
   "metadata": {},
   "outputs": [
    {
     "name": "stdout",
     "output_type": "stream",
     "text": [
      "[[0.78449293 0.4450239  0.24956978 0.29892577 0.89719575 0.67521629\n",
      "  0.87022643 0.51161524 0.7404586 ]\n",
      " [0.50048544 0.59244918 0.56587965 0.81743002 0.86286374 0.86492517\n",
      "  0.83557717 0.01080788 0.9107864 ]\n",
      " [0.63063699 0.82823561 0.15778714 0.85168385 0.40060874 0.15861522\n",
      "  0.3530732  0.28126329 0.31443729]\n",
      " [0.30388407 0.44542491 0.60852142 0.89408443 0.35758309 0.16512139\n",
      "  0.53849303 0.22197047 0.1766673 ]\n",
      " [0.81720365 0.14347139 0.69588539 0.23112109 0.54112079 0.34649474\n",
      "  0.02841207 0.52050043 0.13214563]\n",
      " [0.10991633 0.18980094 0.74931736 0.73054308 0.33648484 0.63124249\n",
      "  0.67058359 0.09945681 0.39901845]\n",
      " [0.02801242 0.70559405 0.19742836 0.26132443 0.89666072 0.75645048\n",
      "  0.33973158 0.79119051 0.60225982]\n",
      " [0.06463632 0.83245597 0.35066521 0.55156138 0.25679072 0.43986709\n",
      "  0.81733135 0.49912386 0.78190666]\n",
      " [0.18606974 0.56205549 0.00935219 0.69496586 0.50185723 0.84456457\n",
      "  0.90006546 0.40022903 0.90075564]]\n",
      "[1 1 0 0 0 0 1 1 1]\n"
     ]
    }
   ],
   "source": [
    "import numpy as np\n",
    "X = np.random.rand(1000, 9)\n",
    "y = np.array([int(round(sum(xv)/len(xv))) for xv in X])\n",
    "print(X[0:9])\n",
    "print(y[0:9])"
   ]
  },
  {
   "cell_type": "code",
   "execution_count": 2,
   "metadata": {},
   "outputs": [
    {
     "name": "stderr",
     "output_type": "stream",
     "text": [
      "Using TensorFlow backend.\n"
     ]
    },
    {
     "name": "stdout",
     "output_type": "stream",
     "text": [
      "Loss:  0.10502414405345917 Accuracy:  0.9800000190734863\n",
      "CPU times: user 6.26 s, sys: 786 ms, total: 7.05 s\n",
      "Wall time: 4.33 s\n"
     ]
    }
   ],
   "source": [
    "%%time\n",
    "from keras.models import Sequential\n",
    "from keras.layers import Dense\n",
    "from IPython.display import SVG\n",
    "N=3\n",
    "model = Sequential()\n",
    "model.add(Dense(N*N-1, input_dim=(N*N), activation='relu'))\n",
    "model.add(Dense(1, activation='sigmoid'))\n",
    "model.compile(loss='binary_crossentropy', optimizer='rmsprop', metrics=['accuracy'])\n",
    "history = model.fit(X, y, validation_split=0.25, epochs=1000, batch_size=256, verbose=0)\n",
    "print(\"Loss: \", history.history['val_loss'][-1], \"Accuracy: \", history.history['val_accuracy'][-1])"
   ]
  },
  {
   "cell_type": "code",
   "execution_count": 4,
   "metadata": {},
   "outputs": [
    {
     "name": "stdout",
     "output_type": "stream",
     "text": [
      "[[0.5102043]]\n"
     ]
    }
   ],
   "source": [
    "prediction = model.predict(np.array([[128/255]*N*N]))\n",
    "print(prediction)"
   ]
  },
  {
   "cell_type": "markdown",
   "metadata": {},
   "source": [
    "The prediction method of the model returns a list of predictions, one for each input vector in the input array. However a model can also have a vector instead of a scalar as a prediction result. Therefore result is a list of lists.\n",
    "\n",
    "Here a result for two input vectors:"
   ]
  },
  {
   "cell_type": "code",
   "execution_count": 7,
   "metadata": {},
   "outputs": [
    {
     "name": "stdout",
     "output_type": "stream",
     "text": [
      "[[0.50196078 0.50196078 0.50196078 0.50196078 0.50196078 0.50196078\n",
      "  0.50196078 0.50196078 0.50196078]\n",
      " [0.25098039 0.25098039 0.25098039 0.25098039 0.25098039 0.25098039\n",
      "  0.25098039 0.25098039 0.25098039]]\n"
     ]
    }
   ],
   "source": [
    "inputVectors = np.array([[128/255]*N*N, [64/255]*N*N])\n",
    "print(inputVectors)"
   ]
  },
  {
   "cell_type": "code",
   "execution_count": 8,
   "metadata": {},
   "outputs": [
    {
     "name": "stdout",
     "output_type": "stream",
     "text": [
      "[[5.1020473e-01]\n",
      " [8.1294303e-07]]\n",
      "[[1]\n",
      " [0]]\n"
     ]
    }
   ],
   "source": [
    "prediction = model.predict(inputVectors)\n",
    "print(prediction)\n",
    "classPrediction = model.predict_classes(inputVectors)\n",
    "print(classPrediction)"
   ]
  },
  {
   "cell_type": "markdown",
   "metadata": {},
   "source": [
    "To get rid of the inner arrays, we use the method ``flatten()`` of the numpy array."
   ]
  },
  {
   "cell_type": "code",
   "execution_count": 10,
   "metadata": {},
   "outputs": [
    {
     "name": "stdout",
     "output_type": "stream",
     "text": [
      "[5.1020473e-01 8.1294303e-07]\n",
      "[1 0]\n"
     ]
    }
   ],
   "source": [
    "print(prediction.flatten())\n",
    "print(classPrediction.flatten())"
   ]
  }
 ],
 "metadata": {
  "kernelspec": {
   "display_name": "Python 3",
   "language": "python",
   "name": "python3"
  },
  "language_info": {
   "codemirror_mode": {
    "name": "ipython",
    "version": 3
   },
   "file_extension": ".py",
   "mimetype": "text/x-python",
   "name": "python",
   "nbconvert_exporter": "python",
   "pygments_lexer": "ipython3",
   "version": "3.7.6"
  }
 },
 "nbformat": 4,
 "nbformat_minor": 4
}
