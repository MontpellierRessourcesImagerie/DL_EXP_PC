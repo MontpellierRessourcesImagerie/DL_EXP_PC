{
 "cells": [
  {
   "cell_type": "markdown",
   "metadata": {},
   "source": [
    "# Python for deep learning"
   ]
  },
  {
   "cell_type": "markdown",
   "metadata": {},
   "source": [
    "## Cell 6"
   ]
  },
  {
   "cell_type": "markdown",
   "metadata": {},
   "source": [
    "```python\n",
    "def addSamplesToTrainingData(n, image, samples, X, y, target):\n",
    "    start = -n//2 + 1\n",
    "    stop = -start + 1\n",
    "    for ys, xs in samples:\n",
    "        vector = []\n",
    "        for i in range(start, stop):\n",
    "            for j in range(start, stop):\n",
    "                vector.append(image[ys+i,xs+j])\n",
    "        X.append(vector)\n",
    "        y.append(target)\n",
    "    return X, y\n",
    "X = []\n",
    "y = []\n",
    "addSamplesToTrainingData(N, inputImage, FS, X, y, 1)\n",
    "addSamplesToTrainingData(N, inputImage, BS, X, y, 0)\n",
    "X = np.array(X)\n",
    "y = np.array(y)\n",
    "print(\"foreground samples\\n\", X[0:5], y[0:5])\n",
    "print(\"background samples\\n\", X[S:S+5], y[S:S+5])\n",
    "```"
   ]
  },
  {
   "cell_type": "markdown",
   "metadata": {},
   "source": [
    "The input for the training of our neural network consists of two numpy arrays. The 2d-array X consists of an array of feature vectors, in our case the intensities in the neighborhood of a pixel. The 1-d array y consists of the correct class 0 or 1 for each input vector. We construct X and y from the sampled-positions and the image."
   ]
  },
  {
   "cell_type": "raw",
   "metadata": {},
   "source": [
    "For N=3 we will look for a pixel x,y at the positions:\n",
    "\n",
    "    (x-1, y-1), (x  , y-1), (x+1, y-1)\n",
    "    (x-1, y  ), (x  , y  ), (x+1, y  )\n",
    "    (x-1, y+1), (x  , y+1), (x+1, y+1)\n",
    "    \n",
    "For N=3, start will be -1 and stop 2. That means the range(start, stop) will run from -1 to 1.\n",
    "Since we need to look for the neighboring pixels in x and y, we use one for-loop inside of the other to extract the intensities in the neighborhood."
   ]
  },
  {
   "cell_type": "markdown",
   "metadata": {},
   "source": [
    "In python the integer division of a negative number by a positive number is the next smaller number when the remainder is not zero."
   ]
  },
  {
   "cell_type": "code",
   "execution_count": 14,
   "metadata": {},
   "outputs": [
    {
     "data": {
      "text/plain": [
       "-2"
      ]
     },
     "execution_count": 14,
     "metadata": {},
     "output_type": "execute_result"
    }
   ],
   "source": [
    "-6//3 # remainder zero"
   ]
  },
  {
   "cell_type": "code",
   "execution_count": 13,
   "metadata": {},
   "outputs": [
    {
     "data": {
      "text/plain": [
       "-3"
      ]
     },
     "execution_count": 13,
     "metadata": {},
     "output_type": "execute_result"
    }
   ],
   "source": [
    "-7//3 # remainder 1"
   ]
  },
  {
   "cell_type": "markdown",
   "metadata": {},
   "source": [
    "Therefore -3//2 is -2 and 3//2 is 2."
   ]
  },
  {
   "cell_type": "code",
   "execution_count": 15,
   "metadata": {},
   "outputs": [
    {
     "name": "stdout",
     "output_type": "stream",
     "text": [
      "-2\n",
      "1\n"
     ]
    }
   ],
   "source": [
    "print(-3//2)\n",
    "print(3//2)"
   ]
  },
  {
   "cell_type": "markdown",
   "metadata": {},
   "source": [
    "We add 1 to the start and stop and obtain -1 and 2, which as the boundaries of the range gives a range containing the numbers -1, 0, 1."
   ]
  },
  {
   "cell_type": "code",
   "execution_count": 16,
   "metadata": {},
   "outputs": [
    {
     "data": {
      "text/plain": [
       "[-1, 0, 1]"
      ]
     },
     "execution_count": 16,
     "metadata": {},
     "output_type": "execute_result"
    }
   ],
   "source": [
    "n = 3\n",
    "start = -n//2 + 1\n",
    "stop = -start + 1\n",
    "list(range(start, stop))"
   ]
  },
  {
   "cell_type": "markdown",
   "metadata": {},
   "source": [
    "Here is how we get the coordinates of the 3x3-neighborhood around the pixel (5, 10)."
   ]
  },
  {
   "cell_type": "code",
   "execution_count": 17,
   "metadata": {},
   "outputs": [
    {
     "name": "stdout",
     "output_type": "stream",
     "text": [
      "9 4\n",
      "9 5\n",
      "9 6\n",
      "10 4\n",
      "10 5\n",
      "10 6\n",
      "11 4\n",
      "11 5\n",
      "11 6\n"
     ]
    }
   ],
   "source": [
    "x = 5\n",
    "y = 10\n",
    "for i in range(start, stop):\n",
    "    for j in range(start, stop):\n",
    "        print(y+i,x+j)"
   ]
  }
 ],
 "metadata": {
  "kernelspec": {
   "display_name": "Python 3",
   "language": "python",
   "name": "python3"
  },
  "language_info": {
   "codemirror_mode": {
    "name": "ipython",
    "version": 3
   },
   "file_extension": ".py",
   "mimetype": "text/x-python",
   "name": "python",
   "nbconvert_exporter": "python",
   "pygments_lexer": "ipython3",
   "version": "3.7.6"
  }
 },
 "nbformat": 4,
 "nbformat_minor": 4
}
