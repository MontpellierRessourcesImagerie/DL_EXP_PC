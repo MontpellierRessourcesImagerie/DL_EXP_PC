{
 "cells": [
  {
   "cell_type": "markdown",
   "metadata": {},
   "source": [
    "# Python for deep learning"
   ]
  },
  {
   "cell_type": "code",
   "execution_count": 7,
   "metadata": {},
   "outputs": [],
   "source": [
    "import os\n",
    "if  not os.path.isdir('./training'):\n",
    "  !cd /content/ && git clone https://github.com/MontpellierRessourcesImagerie/DL_EXP_PC.git && cp -r DL_EXP_PC/data . && cp -r DL_EXP_PC/training .\n",
    "  %cd DL_EXP_PC"
   ]
  },
  {
   "cell_type": "markdown",
   "metadata": {},
   "source": [
    "## Cell 7"
   ]
  },
  {
   "cell_type": "markdown",
   "metadata": {},
   "source": [
    "```python\n",
    "seed = np.random.randint(0, 2**(32 - 1) - 1) \n",
    "rstate = np.random.RandomState(seed)\n",
    "rstate.shuffle(X)\n",
    "rstate = np.random.RandomState(seed)\n",
    "rstate.shuffle(y)\n",
    "print(\"first 5 of mixed samples\\n\", X[0:5], y[0:5])\n",
    "print(\"5 samples after the middle\\n\", X[S:S+5], y[S:S+5])\n",
    "```"
   ]
  },
  {
   "cell_type": "markdown",
   "metadata": {},
   "source": [
    "We want to shuffle our data, so that the elements will be in a random order. The ``RandomState`` object from numpy has the method ``shuffle`` that does what we want. However the problem we have is that we need to shuffle X and y in exactly the same way so that the labels in y still correspond to the right input vectors.\n",
    "\n",
    "To accomplish this, we take advantage of the fact that we are using pseudo-random numbers. A pseudo random number generator generates, starting from a seed-value, a series of numbers which is completly deterministic (i.e. not random), but has the same statistical characteristics as a random sequence. By using the same seed for two random number series, we get two times exactly the same series. We use this to shuffle X and y in the same way.\n",
    "\n",
    "Here is an example:"
   ]
  },
  {
   "cell_type": "code",
   "execution_count": 4,
   "metadata": {},
   "outputs": [],
   "source": [
    "a = [ 1 ,  2 ,  3 ,  4 ,  5 ,  6 ,  7,   8 ,  9 , 10 ]\n",
    "b = [\"i\", \"ii\", \"iii\", \"iv\", \"v\", \"vi\", \"vii\", \"viii\", \"ix\", \"x\"]"
   ]
  },
  {
   "cell_type": "code",
   "execution_count": 6,
   "metadata": {},
   "outputs": [
    {
     "name": "stdout",
     "output_type": "stream",
     "text": [
      "a [1, 2, 4, 7, 8, 10, 6, 3, 5, 9]\n",
      "b ['i', 'ii', 'iv', 'vii', 'viii', 'x', 'vi', 'iii', 'v', 'ix']\n"
     ]
    }
   ],
   "source": [
    "import numpy as np\n",
    "seed = np.random.randint(0, 2**(32 - 1) - 1) \n",
    "rstate = np.random.RandomState(seed)\n",
    "rstate.shuffle(a)\n",
    "rstate = np.random.RandomState(seed)\n",
    "rstate.shuffle(b)\n",
    "print(\"a\", a)\n",
    "print(\"b\", b)"
   ]
  }
 ],
 "metadata": {
  "kernelspec": {
   "display_name": "Python 3",
   "language": "python",
   "name": "python3"
  },
  "language_info": {
   "codemirror_mode": {
    "name": "ipython",
    "version": 3
   },
   "file_extension": ".py",
   "mimetype": "text/x-python",
   "name": "python",
   "nbconvert_exporter": "python",
   "pygments_lexer": "ipython3",
   "version": "3.7.6"
  }
 },
 "nbformat": 4,
 "nbformat_minor": 4
}
