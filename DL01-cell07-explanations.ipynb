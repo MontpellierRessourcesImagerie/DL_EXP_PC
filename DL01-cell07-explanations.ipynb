{
 "cells": [
  {
   "cell_type": "markdown",
   "metadata": {},
   "source": [
    "# Python for deep learning"
   ]
  },
  {
   "cell_type": "markdown",
   "metadata": {},
   "source": [
    "## Cell 7"
   ]
  },
  {
   "cell_type": "markdown",
   "metadata": {},
   "source": [
    "```python\n",
    "from keras.models import Sequential\n",
    "from keras.layers import Dense\n",
    "from IPython.display import SVG\n",
    "from keras.utils import model_to_dot\n",
    "\n",
    "model = Sequential()\n",
    "model.add(Dense(N*N-1, input_dim=(N*N), activation='relu'))\n",
    "model.add(Dense(1, activation='sigmoid'))\n",
    "model.compile(loss='binary_crossentropy', optimizer='adam', metrics=['accuracy'])\n",
    "model.summary()\n",
    "SVG(model_to_dot(model, show_shapes=True, show_layer_names=True, dpi=65).create(prog='dot', format='svg'))\n",
    "```"
   ]
  },
  {
   "cell_type": "markdown",
   "metadata": {},
   "source": [
    "We create our neural network using a sequential model. In a sequential model we have a number of sequential layers of neurons where neurons in the layer N are conneted to neurons in the layer N+1.  \n",
    "\n",
    "An alternative way of building a neural network is using the functional API, which allows to create the network as an arbitrary directed, acyclic graph. However we will only use the sequential model here."
   ]
  },
  {
   "cell_type": "markdown",
   "metadata": {},
   "source": [
    "## Creating the model"
   ]
  },
  {
   "cell_type": "markdown",
   "metadata": {},
   "source": [
    "We create a sequential model by instanciating the class Sequential of keras. We can then add step by step the different layers of neurons. Keras makes this easy for us."
   ]
  },
  {
   "cell_type": "code",
   "execution_count": 1,
   "metadata": {},
   "outputs": [
    {
     "name": "stderr",
     "output_type": "stream",
     "text": [
      "Using TensorFlow backend.\n"
     ]
    }
   ],
   "source": [
    "from keras.models import Sequential\n",
    "model = Sequential()"
   ]
  },
  {
   "cell_type": "markdown",
   "metadata": {},
   "source": [
    "The network is empty at the beginning."
   ]
  },
  {
   "cell_type": "markdown",
   "metadata": {},
   "source": [
    "## Adding the first layer"
   ]
  },
  {
   "cell_type": "markdown",
   "metadata": {},
   "source": [
    "We do not explicitly add a layer of input neurons, instead we specify the size of the input when we add the first inner (hidden) layer of neurons. "
   ]
  },
  {
   "cell_type": "code",
   "execution_count": 2,
   "metadata": {},
   "outputs": [
    {
     "name": "stdout",
     "output_type": "stream",
     "text": [
      "Model: \"sequential_1\"\n",
      "_________________________________________________________________\n",
      "Layer (type)                 Output Shape              Param #   \n",
      "=================================================================\n",
      "dense_1 (Dense)              (None, 8)                 80        \n",
      "=================================================================\n",
      "Total params: 80\n",
      "Trainable params: 80\n",
      "Non-trainable params: 0\n",
      "_________________________________________________________________\n"
     ]
    }
   ],
   "source": [
    "from keras.layers import Dense\n",
    "N = 3\n",
    "model.add(Dense(N*N-1, input_dim=(N*N), activation='relu'))\n",
    "model.summary()"
   ]
  },
  {
   "cell_type": "markdown",
   "metadata": {},
   "source": [
    "We create the first hidden layer as a densly connected layer and add it to the model. The layer is created by instanciating the class Dense of keras. The parameters are the number of neurons in the layer, the size of the input vector and the name of the activation function for the neurons in the layer.\n",
    "\n",
    "We choose an input vector of size 9. The first layer has 8 neurons. Densly connected means that each of the 9 inputs is connected to each of the 8 neurons in the layer. That means we have $9\\cdot 8 = 72$ connections between the input neurons and the neurons in the first layer. Each connection has a weight associated. Initially the weights are choosen randomly. The values of the weights are a part of the parameters of the network, that will be modified during the training phase. "
   ]
  },
  {
   "cell_type": "code",
   "execution_count": 3,
   "metadata": {},
   "outputs": [
    {
     "data": {
      "text/plain": [
       "[<tf.Variable 'dense_1/kernel:0' shape=(9, 8) dtype=float32, numpy=\n",
       " array([[-0.49486157, -0.46365124, -0.20133156, -0.44390708,  0.02593178,\n",
       "          0.32586426, -0.08730596,  0.4302361 ],\n",
       "        [-0.38794386,  0.3573715 , -0.38198483, -0.5905899 ,  0.50744855,\n",
       "          0.31425685,  0.14171809,  0.1584937 ],\n",
       "        [ 0.0219028 , -0.14326015,  0.3264076 ,  0.45301437, -0.31929123,\n",
       "          0.5131699 , -0.44844276,  0.10948139],\n",
       "        [ 0.49943435,  0.38688183, -0.00693744,  0.4340936 ,  0.23669183,\n",
       "         -0.20458832, -0.43538252,  0.411345  ],\n",
       "        [-0.5566025 ,  0.4175403 ,  0.5045378 , -0.1625495 , -0.05191338,\n",
       "         -0.5229175 ,  0.59169424, -0.2064155 ],\n",
       "        [-0.05410826, -0.437638  ,  0.09534329, -0.0396989 , -0.28681788,\n",
       "         -0.2008507 ,  0.4010011 ,  0.23694938],\n",
       "        [ 0.03873605, -0.1920672 , -0.24408555,  0.32129973,  0.0504089 ,\n",
       "         -0.5306237 ,  0.45898008, -0.2407907 ],\n",
       "        [-0.47712675, -0.07024908,  0.10453445,  0.0502637 , -0.37576467,\n",
       "          0.5391164 ,  0.45025933, -0.5421611 ],\n",
       "        [ 0.34820658, -0.05779266, -0.0331136 ,  0.17079288, -0.52107537,\n",
       "          0.5059527 ,  0.53610396,  0.06997812]], dtype=float32)>,\n",
       " <tf.Variable 'dense_1/bias:0' shape=(8,) dtype=float32, numpy=array([0., 0., 0., 0., 0., 0., 0., 0.], dtype=float32)>]"
      ]
     },
     "execution_count": 3,
     "metadata": {},
     "output_type": "execute_result"
    }
   ],
   "source": [
    "model.weights"
   ]
  },
  {
   "cell_type": "markdown",
   "metadata": {},
   "source": [
    "The summary of the model tells us that there are 80 parameters. 72 parameters are the weights of the connections. What are the remaining 8 parameters? Each neuron has an additional parameter, the bias. The output of a neuron is calculated by applying the activation function on the input values multiplied by the corresponding weights plus the bias. The summary shows that the biases of the eight neurons are initially 0. Like the weights, the biases will be modified in the training phase. \n",
    "\n",
    "As activation function we selected is ``relu``, which stands for `Rectified Linear Unit`. The ``relu`` function is defined as:\n",
    "\n",
    "  $relu(x) = max(x,0)$"
   ]
  },
  {
   "cell_type": "code",
   "execution_count": 4,
   "metadata": {
    "jupyter": {
     "source_hidden": true
    }
   },
   "outputs": [
    {
     "data": {
      "image/png": "[encoded data removed]",
      "text/plain": [
       "<Figure size 432x288 with 1 Axes>"
      ]
     },
     "metadata": {
      "needs_background": "light"
     },
     "output_type": "display_data"
    }
   ],
   "source": [
    "from matplotlib import pyplot as plt\n",
    "import numpy as np\n",
    "X = np.arange(-1, 1, 0.01)\n",
    "Y = np.array([max(x, 0) for x in X])\n",
    "plt.plot(X, Y)\n",
    "plt.xlabel(\"x\")\n",
    "plt.ylabel(\"relu(x)\")\n",
    "plt.title('relu activation function')\n",
    "plt.show()"
   ]
  },
  {
   "cell_type": "markdown",
   "metadata": {},
   "source": [
    "## Adding the second layer"
   ]
  },
  {
   "cell_type": "markdown",
   "metadata": {},
   "source": [
    "The second and last layer contains one neuron that calculates the output of the network. The output is the probability of an input to belong the foreground. By thresholding the probability map a binary classification output is obtained.\n",
    "\n",
    "The layer is densly connected to the previous layer. This means all units in the previous layer are connected to the only unit this layer. Since the previous layer has 8 units, this adds 9 more parameters to the model. 8 for the 8 weights of the connections and one for the bias of the output neuron."
   ]
  },
  {
   "cell_type": "code",
   "execution_count": 5,
   "metadata": {},
   "outputs": [
    {
     "name": "stdout",
     "output_type": "stream",
     "text": [
      "Model: \"sequential_1\"\n",
      "_________________________________________________________________\n",
      "Layer (type)                 Output Shape              Param #   \n",
      "=================================================================\n",
      "dense_1 (Dense)              (None, 8)                 80        \n",
      "_________________________________________________________________\n",
      "dense_2 (Dense)              (None, 1)                 9         \n",
      "=================================================================\n",
      "Total params: 89\n",
      "Trainable params: 89\n",
      "Non-trainable params: 0\n",
      "_________________________________________________________________\n"
     ]
    }
   ],
   "source": [
    "model.add(Dense(1, activation='sigmoid'))\n",
    "model.summary()"
   ]
  },
  {
   "cell_type": "markdown",
   "metadata": {},
   "source": [
    "As activation function we use a sigmoid function this time. Sigmoid functions have an S like shape and map arbitrary ranges into the interval [0, 1]. An example of a sigmoid function is the logistic function:\n",
    "\n",
    "$f(x) = \\frac{1}{1+e^{-x}}$"
   ]
  },
  {
   "cell_type": "code",
   "execution_count": 6,
   "metadata": {
    "jupyter": {
     "source_hidden": true
    }
   },
   "outputs": [
    {
     "data": {
      "image/png": "[encoded data removed]",
      "text/plain": [
       "<Figure size 432x288 with 1 Axes>"
      ]
     },
     "metadata": {
      "needs_background": "light"
     },
     "output_type": "display_data"
    }
   ],
   "source": [
    "import math\n",
    "def logisticFunction(x):\n",
    "    return 1 / (1 + math.exp(-x))\n",
    "\n",
    "X = np.arange(-3, 3, 0.01)\n",
    "Y = np.array([logisticFunction(x) for x in X])\n",
    "plt.plot(X, Y)\n",
    "plt.xlabel(\"x\")\n",
    "plt.ylabel(\"logisticFunction(x)\")\n",
    "plt.title('a sigmoid activation function')\n",
    "plt.show()"
   ]
  },
  {
   "cell_type": "markdown",
   "metadata": {},
   "source": [
    "The advantage of using a sigmoid function for the output units in classification problems is that it yields a result between 0 and 1."
   ]
  },
  {
   "cell_type": "markdown",
   "metadata": {},
   "source": [
    "## Compiling the model"
   ]
  },
  {
   "cell_type": "markdown",
   "metadata": {},
   "source": [
    "In the compilation step we configure the model for the training, by choose the loss-function, the optimizer and the metrics to be computed."
   ]
  },
  {
   "cell_type": "code",
   "execution_count": 22,
   "metadata": {},
   "outputs": [],
   "source": [
    "model.compile(loss='binary_crossentropy', optimizer='rmsprop', metrics=['accuracy'])"
   ]
  },
  {
   "cell_type": "markdown",
   "metadata": {},
   "source": [
    "The loss function is the function that is minimized by the optimizer. It calculates the loss from a prediction and the true classification results. We pass in the name of one of the loss funcions from the module keras.losses. We use binary crossentropy because we are dealing with a binary classification problem.\n",
    "\n",
    "The optimizer implements the optimization algorithm. We pass in the name of one of the optimizers from the module keras.optimizers. See [[1]](https://arxiv.org/abs/1609.04747) for an overview of gradient descent optimization algorithms. We use ``rmsprop``. We could also use ``Adam``, but rmsprop is a little bit faster and the performances are similar on this problem.\n",
    "\n",
    "The third parameter is a list of metrics that will be calulatated during the training and validation. We calculate the accuracy. Depending on the loss function, accuracy is calculated in different ways. Since we have a binary classification, the binary accuracy is automatically used. It is calculated as the number of correct predictions divided by the number of all predictions."
   ]
  },
  {
   "cell_type": "markdown",
   "metadata": {},
   "source": [
    "## Displaying the model"
   ]
  },
  {
   "cell_type": "markdown",
   "metadata": {},
   "source": [
    "The method summary of the model, displays the architecture of the module in text mode."
   ]
  },
  {
   "cell_type": "code",
   "execution_count": 24,
   "metadata": {},
   "outputs": [
    {
     "name": "stdout",
     "output_type": "stream",
     "text": [
      "Model: \"sequential_1\"\n",
      "_________________________________________________________________\n",
      "Layer (type)                 Output Shape              Param #   \n",
      "=================================================================\n",
      "dense_1 (Dense)              (None, 8)                 80        \n",
      "_________________________________________________________________\n",
      "dense_2 (Dense)              (None, 1)                 9         \n",
      "=================================================================\n",
      "Total params: 89\n",
      "Trainable params: 89\n",
      "Non-trainable params: 0\n",
      "_________________________________________________________________\n"
     ]
    }
   ],
   "source": [
    "model.summary()"
   ]
  },
  {
   "cell_type": "markdown",
   "metadata": {},
   "source": [
    "The non-trainable parameters in the summary are weights and biases that are kept constant. They are not modified during the training. We can make weights and biases of a layer non-trainable before compiling the model.\n",
    "\n",
    "```python\n",
    "    model.get_layer(layerName).trainable = False\n",
    "```\n",
    "\n",
    "This is useful if we want to reuse a pre-trained network for a similiar problem. A keras model has methods to save and load the trained model:\n",
    "```python\n",
    "    from keras.models import load_model\n",
    "    model.save(\"mymodel.h5\")\n",
    "    model = load_model(\"mymodel.h5\")\n",
    "```"
   ]
  },
  {
   "cell_type": "markdown",
   "metadata": {},
   "source": [
    "We can create a graphical representation using the function model_to_dot. "
   ]
  },
  {
   "cell_type": "code",
   "execution_count": 26,
   "metadata": {},
   "outputs": [
    {
     "data": {
      "image/svg+xml": [
       "<svg height=\"200pt\" viewBox=\"0.00 0.00 295.00 221.00\" width=\"266pt\" xmlns=\"http://www.w3.org/2000/svg\" xmlns:xlink=\"http://www.w3.org/1999/xlink\">\n",
       "<g class=\"graph\" id=\"graph0\" transform=\"scale(.9028 .9028) rotate(0) translate(4 217)\">\n",
       "<title>G</title>\n",
       "<polygon fill=\"#ffffff\" points=\"-4,4 -4,-217 291,-217 291,4 -4,4\" stroke=\"transparent\"/>\n",
       "<!-- 140716886635536 -->\n",
       "<g class=\"node\" id=\"node1\">\n",
       "<title>140716886635536</title>\n",
       "<polygon fill=\"none\" points=\"0,-166.5 0,-212.5 287,-212.5 287,-166.5 0,-166.5\" stroke=\"#000000\"/>\n",
       "<text fill=\"#000000\" font-family=\"Times,serif\" font-size=\"14.00\" text-anchor=\"middle\" x=\"81.5\" y=\"-185.8\">dense_3_input: InputLayer</text>\n",
       "<polyline fill=\"none\" points=\"163,-166.5 163,-212.5 \" stroke=\"#000000\"/>\n",
       "<text fill=\"#000000\" font-family=\"Times,serif\" font-size=\"14.00\" text-anchor=\"middle\" x=\"190.5\" y=\"-197.3\">input:</text>\n",
       "<polyline fill=\"none\" points=\"163,-189.5 218,-189.5 \" stroke=\"#000000\"/>\n",
       "<text fill=\"#000000\" font-family=\"Times,serif\" font-size=\"14.00\" text-anchor=\"middle\" x=\"190.5\" y=\"-174.3\">output:</text>\n",
       "<polyline fill=\"none\" points=\"218,-166.5 218,-212.5 \" stroke=\"#000000\"/>\n",
       "<text fill=\"#000000\" font-family=\"Times,serif\" font-size=\"14.00\" text-anchor=\"middle\" x=\"252.5\" y=\"-197.3\">(None, 9)</text>\n",
       "<polyline fill=\"none\" points=\"218,-189.5 287,-189.5 \" stroke=\"#000000\"/>\n",
       "<text fill=\"#000000\" font-family=\"Times,serif\" font-size=\"14.00\" text-anchor=\"middle\" x=\"252.5\" y=\"-174.3\">(None, 9)</text>\n",
       "</g>\n",
       "<!-- 140716886676816 -->\n",
       "<g class=\"node\" id=\"node2\">\n",
       "<title>140716886676816</title>\n",
       "<polygon fill=\"none\" points=\"30.5,-83.5 30.5,-129.5 256.5,-129.5 256.5,-83.5 30.5,-83.5\" stroke=\"#000000\"/>\n",
       "<text fill=\"#000000\" font-family=\"Times,serif\" font-size=\"14.00\" text-anchor=\"middle\" x=\"81.5\" y=\"-102.8\">dense_3: Dense</text>\n",
       "<polyline fill=\"none\" points=\"132.5,-83.5 132.5,-129.5 \" stroke=\"#000000\"/>\n",
       "<text fill=\"#000000\" font-family=\"Times,serif\" font-size=\"14.00\" text-anchor=\"middle\" x=\"160\" y=\"-114.3\">input:</text>\n",
       "<polyline fill=\"none\" points=\"132.5,-106.5 187.5,-106.5 \" stroke=\"#000000\"/>\n",
       "<text fill=\"#000000\" font-family=\"Times,serif\" font-size=\"14.00\" text-anchor=\"middle\" x=\"160\" y=\"-91.3\">output:</text>\n",
       "<polyline fill=\"none\" points=\"187.5,-83.5 187.5,-129.5 \" stroke=\"#000000\"/>\n",
       "<text fill=\"#000000\" font-family=\"Times,serif\" font-size=\"14.00\" text-anchor=\"middle\" x=\"222\" y=\"-114.3\">(None, 9)</text>\n",
       "<polyline fill=\"none\" points=\"187.5,-106.5 256.5,-106.5 \" stroke=\"#000000\"/>\n",
       "<text fill=\"#000000\" font-family=\"Times,serif\" font-size=\"14.00\" text-anchor=\"middle\" x=\"222\" y=\"-91.3\">(None, 8)</text>\n",
       "</g>\n",
       "<!-- 140716886635536&#45;&gt;140716886676816 -->\n",
       "<g class=\"edge\" id=\"edge1\">\n",
       "<title>140716886635536-&gt;140716886676816</title>\n",
       "<path d=\"M143.5,-166.3799C143.5,-158.1745 143.5,-148.7679 143.5,-139.8786\" fill=\"none\" stroke=\"#000000\"/>\n",
       "<polygon fill=\"#000000\" points=\"147.0001,-139.784 143.5,-129.784 140.0001,-139.784 147.0001,-139.784\" stroke=\"#000000\"/>\n",
       "</g>\n",
       "<!-- 140716890859792 -->\n",
       "<g class=\"node\" id=\"node3\">\n",
       "<title>140716890859792</title>\n",
       "<polygon fill=\"none\" points=\"30.5,-.5 30.5,-46.5 256.5,-46.5 256.5,-.5 30.5,-.5\" stroke=\"#000000\"/>\n",
       "<text fill=\"#000000\" font-family=\"Times,serif\" font-size=\"14.00\" text-anchor=\"middle\" x=\"81.5\" y=\"-19.8\">dense_4: Dense</text>\n",
       "<polyline fill=\"none\" points=\"132.5,-.5 132.5,-46.5 \" stroke=\"#000000\"/>\n",
       "<text fill=\"#000000\" font-family=\"Times,serif\" font-size=\"14.00\" text-anchor=\"middle\" x=\"160\" y=\"-31.3\">input:</text>\n",
       "<polyline fill=\"none\" points=\"132.5,-23.5 187.5,-23.5 \" stroke=\"#000000\"/>\n",
       "<text fill=\"#000000\" font-family=\"Times,serif\" font-size=\"14.00\" text-anchor=\"middle\" x=\"160\" y=\"-8.3\">output:</text>\n",
       "<polyline fill=\"none\" points=\"187.5,-.5 187.5,-46.5 \" stroke=\"#000000\"/>\n",
       "<text fill=\"#000000\" font-family=\"Times,serif\" font-size=\"14.00\" text-anchor=\"middle\" x=\"222\" y=\"-31.3\">(None, 8)</text>\n",
       "<polyline fill=\"none\" points=\"187.5,-23.5 256.5,-23.5 \" stroke=\"#000000\"/>\n",
       "<text fill=\"#000000\" font-family=\"Times,serif\" font-size=\"14.00\" text-anchor=\"middle\" x=\"222\" y=\"-8.3\">(None, 1)</text>\n",
       "</g>\n",
       "<!-- 140716886676816&#45;&gt;140716890859792 -->\n",
       "<g class=\"edge\" id=\"edge2\">\n",
       "<title>140716886676816-&gt;140716890859792</title>\n",
       "<path d=\"M143.5,-83.3799C143.5,-75.1745 143.5,-65.7679 143.5,-56.8786\" fill=\"none\" stroke=\"#000000\"/>\n",
       "<polygon fill=\"#000000\" points=\"147.0001,-56.784 143.5,-46.784 140.0001,-56.784 147.0001,-56.784\" stroke=\"#000000\"/>\n",
       "</g>\n",
       "</g>\n",
       "</svg>"
      ],
      "text/plain": [
       "<IPython.core.display.SVG object>"
      ]
     },
     "execution_count": 26,
     "metadata": {},
     "output_type": "execute_result"
    }
   ],
   "source": [
    "from IPython.display import SVG\n",
    "from keras.utils import model_to_dot\n",
    "\n",
    "SVG(model_to_dot(model, show_shapes=True, show_layer_names=True, dpi=65).create(prog='dot', format='svg'))"
   ]
  },
  {
   "cell_type": "markdown",
   "metadata": {},
   "source": [
    "Here is a graphical representation of the network created with [NN-SVG](http://alexlenail.me/NN-SVG/index.html). Each circle represents a unit. In the first column are the input units. In the second column are the units of the first hidden layer. All units from a layer are connected to all units of the following layer."
   ]
  },
  {
   "cell_type": "markdown",
   "metadata": {},
   "source": [
    "<img \n",
    "    src=\"./pics/nn.svg\" \n",
    "    alt=\"network\"/>"
   ]
  },
  {
   "cell_type": "markdown",
   "metadata": {},
   "source": [
    "## Literature"
   ]
  },
  {
   "cell_type": "markdown",
   "metadata": {},
   "source": [
    "[1] Ruder, S. (2017). [An overview of gradient descent optimization algorithms](https://arxiv.org/abs/1609.04747). ArXiv:1609.04747 [Cs].\n"
   ]
  }
 ],
 "metadata": {
  "kernelspec": {
   "display_name": "Python 3",
   "language": "python",
   "name": "python3"
  },
  "language_info": {
   "codemirror_mode": {
    "name": "ipython",
    "version": 3
   },
   "file_extension": ".py",
   "mimetype": "text/x-python",
   "name": "python",
   "nbconvert_exporter": "python",
   "pygments_lexer": "ipython3",
   "version": "3.7.6"
  }
 },
 "nbformat": 4,
 "nbformat_minor": 4
}
