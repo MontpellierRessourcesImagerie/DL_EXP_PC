{
 "cells": [
  {
   "cell_type": "markdown",
   "metadata": {},
   "source": [
    "# Python for deep learning"
   ]
  },
  {
   "cell_type": "markdown",
   "metadata": {},
   "source": [
    "## Cell 12"
   ]
  },
  {
   "cell_type": "markdown",
   "metadata": {},
   "source": [
    "```python\n",
    "def getFeatureVectorsFromImage(image, n, reportInterval):    \n",
    "    neighborsRange = range((-n//2)+1, (n//2)+1)\n",
    "    height, width = image.shape\n",
    "    neighborhood = np.zeros(n*n)\n",
    "    neighborhoods = np.zeros((height*width, n*n), dtype=float)\n",
    "    print(\"Extracting the feature vectors.\")\n",
    "    vectorIndex = 0\n",
    "    for y in range(0, height):\n",
    "        if y%reportInterval == 0:\n",
    "            print(\"\\rRow: \" + str(y), end=\"\")\n",
    "        for x in range(0, width):\n",
    "            featureIndex = 0\n",
    "            for yRel in neighborsRange:\n",
    "                for xRel in neighborsRange:\n",
    "                    yRel = yRel if y+yRel >= 0 and y+yRel < height else -yRel\n",
    "                    xRel = xRel if x+xRel >= 0 and x+xRel < width else -xRel\n",
    "                    neighborhood[featureIndex] = image[y+yRel,x+xRel]\n",
    "                    featureIndex += 1\n",
    "            neighborhoods[vectorIndex] = neighborhood\n",
    "            vectorIndex += 1\n",
    "    print(\"\", end=\"\\n\")\n",
    "    return neighborhoods\n",
    "```"
   ]
  },
  {
   "cell_type": "markdown",
   "metadata": {},
   "source": [
    "In cell 12 we transform the input image into the input for the network, by extracting the intensity values in the neighborhood of each pixels."
   ]
  },
  {
   "cell_type": "markdown",
   "metadata": {},
   "source": [
    "## Creating a model with given weights, saving and loading of a model"
   ]
  },
  {
   "cell_type": "markdown",
   "metadata": {},
   "source": [
    "We first need to have our trained model back. Here we just create an array of the weights from the output of the notebook. We will then create the network again and directly set the weights. This way we do not have to do the training again.\n",
    "We could also save the model in the notebook and load it here. Which will be demonstrated below."
   ]
  },
  {
   "cell_type": "code",
   "execution_count": 145,
   "metadata": {},
   "outputs": [],
   "source": [
    "from numpy import array, float32\n",
    "weights = [array([[-0.10027412,  0.24947888, -0.2141105 , -0.0042963 , -0.6876477 ,\n",
    "          1.0647981 ,  0.79249066,  0.31624848],\n",
    "        [-0.261808  ,  0.11034656, -0.3476799 , -0.12323102, -0.4462426 ,\n",
    "          0.65622467,  0.28279844,  0.8410371 ],\n",
    "        [-0.10062718, -0.35625634, -0.17707768,  0.02133632, -0.33283406,\n",
    "          0.9915828 ,  0.3000889 ,  0.87376547],\n",
    "        [-0.70565605,  0.14563847,  0.28225076, -0.5665982 , -0.06473186,\n",
    "          0.6367087 ,  1.1338865 ,  0.6653829 ],\n",
    "        [-0.51850814, -0.31873006, -0.57809675, -0.12006801, -0.8928453 ,\n",
    "          0.9808985 ,  0.4428513 ,  1.1218145 ],\n",
    "        [-0.3898023 , -0.1355547 ,  0.50832784,  0.12309319, -0.5325432 ,\n",
    "          0.2711881 ,  0.8150395 ,  1.0505173 ],\n",
    "        [-0.49858722, -0.29766494,  0.370215  , -0.4011116 , -0.5788222 ,\n",
    "          0.76388305,  0.36969602,  0.6289859 ],\n",
    "        [-0.06321262,  0.2861836 , -0.51202244,  0.1633696 , -1.0685657 ,\n",
    "          0.39110044,  0.8943148 ,  0.6424107 ],\n",
    "        [-0.16829152,  0.04549944, -0.20486042, -0.5833068 , -0.21379966,\n",
    "          0.46119   ,  1.1473954 ,  0.8824302 ]], dtype=float32),\n",
    " array([ 1.8958102,  0.       ,  0.       ,  0.       ,  1.9346952,\n",
    "        -1.8374935, -1.8268275, -1.9031916], dtype=float32),\n",
    " array([[-3.0798147 ],\n",
    "        [ 0.6630801 ],\n",
    "        [ 0.0370068 ],\n",
    "        [-0.48225212],\n",
    "        [-4.8848963 ],\n",
    "        [ 3.7467735 ],\n",
    "        [ 3.1386025 ],\n",
    "        [ 2.5861793 ]], dtype=float32),\n",
    " array([-1.887786], dtype=float32)]"
   ]
  },
  {
   "cell_type": "markdown",
   "metadata": {},
   "source": [
    "We need an array containing an array of the weights of the connections, followed by an array of biases for each layer."
   ]
  },
  {
   "cell_type": "code",
   "execution_count": 146,
   "metadata": {},
   "outputs": [],
   "source": [
    "weights1 = array([weights[0], weights[1]])\n",
    "weights2 = array([weights[2], weights[3]])"
   ]
  },
  {
   "cell_type": "markdown",
   "metadata": {},
   "source": [
    "When creating the layers we directly pass in the weights, using the keyword parameter weights."
   ]
  },
  {
   "cell_type": "code",
   "execution_count": 147,
   "metadata": {},
   "outputs": [
    {
     "name": "stdout",
     "output_type": "stream",
     "text": [
      "Model: \"sequential_5\"\n",
      "_________________________________________________________________\n",
      "Layer (type)                 Output Shape              Param #   \n",
      "=================================================================\n",
      "dense_7 (Dense)              (None, 8)                 80        \n",
      "_________________________________________________________________\n",
      "dense_8 (Dense)              (None, 1)                 9         \n",
      "=================================================================\n",
      "Total params: 89\n",
      "Trainable params: 89\n",
      "Non-trainable params: 0\n",
      "_________________________________________________________________\n"
     ]
    },
    {
     "data": {
      "image/svg+xml": [
       "<svg height=\"200pt\" viewBox=\"0.00 0.00 295.00 221.00\" width=\"266pt\" xmlns=\"http://www.w3.org/2000/svg\" xmlns:xlink=\"http://www.w3.org/1999/xlink\">\n",
       "<g class=\"graph\" id=\"graph0\" transform=\"scale(.9028 .9028) rotate(0) translate(4 217)\">\n",
       "<title>G</title>\n",
       "<polygon fill=\"#ffffff\" points=\"-4,4 -4,-217 291,-217 291,4 -4,4\" stroke=\"transparent\"/>\n",
       "<!-- 140230186928656 -->\n",
       "<g class=\"node\" id=\"node1\">\n",
       "<title>140230186928656</title>\n",
       "<polygon fill=\"none\" points=\"0,-166.5 0,-212.5 287,-212.5 287,-166.5 0,-166.5\" stroke=\"#000000\"/>\n",
       "<text fill=\"#000000\" font-family=\"Times,serif\" font-size=\"14.00\" text-anchor=\"middle\" x=\"81.5\" y=\"-185.8\">dense_7_input: InputLayer</text>\n",
       "<polyline fill=\"none\" points=\"163,-166.5 163,-212.5 \" stroke=\"#000000\"/>\n",
       "<text fill=\"#000000\" font-family=\"Times,serif\" font-size=\"14.00\" text-anchor=\"middle\" x=\"190.5\" y=\"-197.3\">input:</text>\n",
       "<polyline fill=\"none\" points=\"163,-189.5 218,-189.5 \" stroke=\"#000000\"/>\n",
       "<text fill=\"#000000\" font-family=\"Times,serif\" font-size=\"14.00\" text-anchor=\"middle\" x=\"190.5\" y=\"-174.3\">output:</text>\n",
       "<polyline fill=\"none\" points=\"218,-166.5 218,-212.5 \" stroke=\"#000000\"/>\n",
       "<text fill=\"#000000\" font-family=\"Times,serif\" font-size=\"14.00\" text-anchor=\"middle\" x=\"252.5\" y=\"-197.3\">(None, 9)</text>\n",
       "<polyline fill=\"none\" points=\"218,-189.5 287,-189.5 \" stroke=\"#000000\"/>\n",
       "<text fill=\"#000000\" font-family=\"Times,serif\" font-size=\"14.00\" text-anchor=\"middle\" x=\"252.5\" y=\"-174.3\">(None, 9)</text>\n",
       "</g>\n",
       "<!-- 140230186925008 -->\n",
       "<g class=\"node\" id=\"node2\">\n",
       "<title>140230186925008</title>\n",
       "<polygon fill=\"none\" points=\"30.5,-83.5 30.5,-129.5 256.5,-129.5 256.5,-83.5 30.5,-83.5\" stroke=\"#000000\"/>\n",
       "<text fill=\"#000000\" font-family=\"Times,serif\" font-size=\"14.00\" text-anchor=\"middle\" x=\"81.5\" y=\"-102.8\">dense_7: Dense</text>\n",
       "<polyline fill=\"none\" points=\"132.5,-83.5 132.5,-129.5 \" stroke=\"#000000\"/>\n",
       "<text fill=\"#000000\" font-family=\"Times,serif\" font-size=\"14.00\" text-anchor=\"middle\" x=\"160\" y=\"-114.3\">input:</text>\n",
       "<polyline fill=\"none\" points=\"132.5,-106.5 187.5,-106.5 \" stroke=\"#000000\"/>\n",
       "<text fill=\"#000000\" font-family=\"Times,serif\" font-size=\"14.00\" text-anchor=\"middle\" x=\"160\" y=\"-91.3\">output:</text>\n",
       "<polyline fill=\"none\" points=\"187.5,-83.5 187.5,-129.5 \" stroke=\"#000000\"/>\n",
       "<text fill=\"#000000\" font-family=\"Times,serif\" font-size=\"14.00\" text-anchor=\"middle\" x=\"222\" y=\"-114.3\">(None, 9)</text>\n",
       "<polyline fill=\"none\" points=\"187.5,-106.5 256.5,-106.5 \" stroke=\"#000000\"/>\n",
       "<text fill=\"#000000\" font-family=\"Times,serif\" font-size=\"14.00\" text-anchor=\"middle\" x=\"222\" y=\"-91.3\">(None, 8)</text>\n",
       "</g>\n",
       "<!-- 140230186928656&#45;&gt;140230186925008 -->\n",
       "<g class=\"edge\" id=\"edge1\">\n",
       "<title>140230186928656-&gt;140230186925008</title>\n",
       "<path d=\"M143.5,-166.3799C143.5,-158.1745 143.5,-148.7679 143.5,-139.8786\" fill=\"none\" stroke=\"#000000\"/>\n",
       "<polygon fill=\"#000000\" points=\"147.0001,-139.784 143.5,-129.784 140.0001,-139.784 147.0001,-139.784\" stroke=\"#000000\"/>\n",
       "</g>\n",
       "<!-- 140230186923152 -->\n",
       "<g class=\"node\" id=\"node3\">\n",
       "<title>140230186923152</title>\n",
       "<polygon fill=\"none\" points=\"30.5,-.5 30.5,-46.5 256.5,-46.5 256.5,-.5 30.5,-.5\" stroke=\"#000000\"/>\n",
       "<text fill=\"#000000\" font-family=\"Times,serif\" font-size=\"14.00\" text-anchor=\"middle\" x=\"81.5\" y=\"-19.8\">dense_8: Dense</text>\n",
       "<polyline fill=\"none\" points=\"132.5,-.5 132.5,-46.5 \" stroke=\"#000000\"/>\n",
       "<text fill=\"#000000\" font-family=\"Times,serif\" font-size=\"14.00\" text-anchor=\"middle\" x=\"160\" y=\"-31.3\">input:</text>\n",
       "<polyline fill=\"none\" points=\"132.5,-23.5 187.5,-23.5 \" stroke=\"#000000\"/>\n",
       "<text fill=\"#000000\" font-family=\"Times,serif\" font-size=\"14.00\" text-anchor=\"middle\" x=\"160\" y=\"-8.3\">output:</text>\n",
       "<polyline fill=\"none\" points=\"187.5,-.5 187.5,-46.5 \" stroke=\"#000000\"/>\n",
       "<text fill=\"#000000\" font-family=\"Times,serif\" font-size=\"14.00\" text-anchor=\"middle\" x=\"222\" y=\"-31.3\">(None, 8)</text>\n",
       "<polyline fill=\"none\" points=\"187.5,-23.5 256.5,-23.5 \" stroke=\"#000000\"/>\n",
       "<text fill=\"#000000\" font-family=\"Times,serif\" font-size=\"14.00\" text-anchor=\"middle\" x=\"222\" y=\"-8.3\">(None, 1)</text>\n",
       "</g>\n",
       "<!-- 140230186925008&#45;&gt;140230186923152 -->\n",
       "<g class=\"edge\" id=\"edge2\">\n",
       "<title>140230186925008-&gt;140230186923152</title>\n",
       "<path d=\"M143.5,-83.3799C143.5,-75.1745 143.5,-65.7679 143.5,-56.8786\" fill=\"none\" stroke=\"#000000\"/>\n",
       "<polygon fill=\"#000000\" points=\"147.0001,-56.784 143.5,-46.784 140.0001,-56.784 147.0001,-56.784\" stroke=\"#000000\"/>\n",
       "</g>\n",
       "</g>\n",
       "</svg>"
      ],
      "text/plain": [
       "<IPython.core.display.SVG object>"
      ]
     },
     "execution_count": 147,
     "metadata": {},
     "output_type": "execute_result"
    }
   ],
   "source": [
    "from keras.models import Sequential\n",
    "from keras.layers import Dense\n",
    "from IPython.display import SVG\n",
    "from keras.utils import model_to_dot\n",
    "N=3\n",
    "model = Sequential()\n",
    "model.add(Dense(N*N-1, input_dim=(N*N), activation='relu', weights=weights1))\n",
    "model.add(Dense(1, activation='sigmoid', weights=weights2))\n",
    "model.compile(loss='binary_crossentropy', optimizer='rmsprop', metrics=['accuracy'])\n",
    "model.summary()\n",
    "SVG(model_to_dot(model, show_shapes=True, show_layer_names=True, dpi=65).create(prog='dot', format='svg'))"
   ]
  },
  {
   "cell_type": "code",
   "execution_count": 148,
   "metadata": {},
   "outputs": [
    {
     "name": "stdout",
     "output_type": "stream",
     "text": [
      "[array([[-0.10027412,  0.24947888, -0.2141105 , -0.0042963 , -0.6876477 ,\n",
      "         1.0647981 ,  0.79249066,  0.31624848],\n",
      "       [-0.261808  ,  0.11034656, -0.3476799 , -0.12323102, -0.4462426 ,\n",
      "         0.65622467,  0.28279844,  0.8410371 ],\n",
      "       [-0.10062718, -0.35625634, -0.17707768,  0.02133632, -0.33283406,\n",
      "         0.9915828 ,  0.3000889 ,  0.87376547],\n",
      "       [-0.70565605,  0.14563847,  0.28225076, -0.5665982 , -0.06473186,\n",
      "         0.6367087 ,  1.1338865 ,  0.6653829 ],\n",
      "       [-0.51850814, -0.31873006, -0.57809675, -0.12006801, -0.8928453 ,\n",
      "         0.9808985 ,  0.4428513 ,  1.1218145 ],\n",
      "       [-0.3898023 , -0.1355547 ,  0.50832784,  0.12309319, -0.5325432 ,\n",
      "         0.2711881 ,  0.8150395 ,  1.0505173 ],\n",
      "       [-0.49858722, -0.29766494,  0.370215  , -0.4011116 , -0.5788222 ,\n",
      "         0.76388305,  0.36969602,  0.6289859 ],\n",
      "       [-0.06321262,  0.2861836 , -0.51202244,  0.1633696 , -1.0685657 ,\n",
      "         0.39110044,  0.8943148 ,  0.6424107 ],\n",
      "       [-0.16829152,  0.04549944, -0.20486042, -0.5833068 , -0.21379966,\n",
      "         0.46119   ,  1.1473954 ,  0.8824302 ]], dtype=float32),\n",
      " array([ 1.8958102,  0.       ,  0.       ,  0.       ,  1.9346952,\n",
      "       -1.8374935, -1.8268275, -1.9031916], dtype=float32),\n",
      " array([[-3.0798147 ],\n",
      "       [ 0.6630801 ],\n",
      "       [ 0.0370068 ],\n",
      "       [-0.48225212],\n",
      "       [-4.8848963 ],\n",
      "       [ 3.7467735 ],\n",
      "       [ 3.1386025 ],\n",
      "       [ 2.5861793 ]], dtype=float32),\n",
      " array([-1.887786], dtype=float32)]\n"
     ]
    }
   ],
   "source": [
    "from pprint import pprint\n",
    "pprint(model.get_weights())"
   ]
  },
  {
   "cell_type": "markdown",
   "metadata": {},
   "source": [
    "We do not need it here, but to show how it works, we save the model to disk, as a .h5 file and load it again."
   ]
  },
  {
   "cell_type": "code",
   "execution_count": 149,
   "metadata": {},
   "outputs": [],
   "source": [
    "model.save('simple-pixel-seg.h5')"
   ]
  },
  {
   "cell_type": "code",
   "execution_count": 150,
   "metadata": {},
   "outputs": [
    {
     "name": "stdout",
     "output_type": "stream",
     "text": [
      "Model: \"sequential_5\"\n",
      "_________________________________________________________________\n",
      "Layer (type)                 Output Shape              Param #   \n",
      "=================================================================\n",
      "dense_7 (Dense)              (None, 8)                 80        \n",
      "_________________________________________________________________\n",
      "dense_8 (Dense)              (None, 1)                 9         \n",
      "=================================================================\n",
      "Total params: 89\n",
      "Trainable params: 89\n",
      "Non-trainable params: 0\n",
      "_________________________________________________________________\n"
     ]
    }
   ],
   "source": [
    "from keras.models import load_model\n",
    "model2 = load_model('simple-pixel-seg.h5')\n",
    "model2.summary()"
   ]
  },
  {
   "cell_type": "code",
   "execution_count": 151,
   "metadata": {},
   "outputs": [
    {
     "name": "stdout",
     "output_type": "stream",
     "text": [
      "[array([[-0.10027412,  0.24947888, -0.2141105 , -0.0042963 , -0.6876477 ,\n",
      "         1.0647981 ,  0.79249066,  0.31624848],\n",
      "       [-0.261808  ,  0.11034656, -0.3476799 , -0.12323102, -0.4462426 ,\n",
      "         0.65622467,  0.28279844,  0.8410371 ],\n",
      "       [-0.10062718, -0.35625634, -0.17707768,  0.02133632, -0.33283406,\n",
      "         0.9915828 ,  0.3000889 ,  0.87376547],\n",
      "       [-0.70565605,  0.14563847,  0.28225076, -0.5665982 , -0.06473186,\n",
      "         0.6367087 ,  1.1338865 ,  0.6653829 ],\n",
      "       [-0.51850814, -0.31873006, -0.57809675, -0.12006801, -0.8928453 ,\n",
      "         0.9808985 ,  0.4428513 ,  1.1218145 ],\n",
      "       [-0.3898023 , -0.1355547 ,  0.50832784,  0.12309319, -0.5325432 ,\n",
      "         0.2711881 ,  0.8150395 ,  1.0505173 ],\n",
      "       [-0.49858722, -0.29766494,  0.370215  , -0.4011116 , -0.5788222 ,\n",
      "         0.76388305,  0.36969602,  0.6289859 ],\n",
      "       [-0.06321262,  0.2861836 , -0.51202244,  0.1633696 , -1.0685657 ,\n",
      "         0.39110044,  0.8943148 ,  0.6424107 ],\n",
      "       [-0.16829152,  0.04549944, -0.20486042, -0.5833068 , -0.21379966,\n",
      "         0.46119   ,  1.1473954 ,  0.8824302 ]], dtype=float32),\n",
      " array([ 1.8958102,  0.       ,  0.       ,  0.       ,  1.9346952,\n",
      "       -1.8374935, -1.8268275, -1.9031916], dtype=float32),\n",
      " array([[-3.0798147 ],\n",
      "       [ 0.6630801 ],\n",
      "       [ 0.0370068 ],\n",
      "       [-0.48225212],\n",
      "       [-4.8848963 ],\n",
      "       [ 3.7467735 ],\n",
      "       [ 3.1386025 ],\n",
      "       [ 2.5861793 ]], dtype=float32),\n",
      " array([-1.887786], dtype=float32)]\n"
     ]
    }
   ],
   "source": [
    "pprint(model2.get_weights())"
   ]
  },
  {
   "cell_type": "markdown",
   "metadata": {},
   "source": [
    "## Extracting the features from the image"
   ]
  },
  {
   "cell_type": "markdown",
   "metadata": {},
   "source": [
    "We write a function that transforms the input image into the input format for our network. \n",
    "\n",
    "We iterate over the columns and rows of pixels in the image. For each pixel we retrieve the intensity values in its neighborhood and add them as a feature vector to our network input. However pixels at the border of the image do not have neighbors on one side (or on two sides for corners). For these neighbors that lie outside of the image, we use the mirrored values. If for example the pixel does not have a neighbor to its right, we use the value of its left neighbor instead."
   ]
  },
  {
   "cell_type": "code",
   "execution_count": 187,
   "metadata": {},
   "outputs": [],
   "source": [
    "def getFeatureVectorsFromImage(image, n, reportInterval):    \n",
    "    neighborsRange = range((-n//2)+1, (n//2)+1)\n",
    "    height, width = image.shape\n",
    "    neighborhood = np.zeros(n*n)\n",
    "    neighborhoods = np.zeros((height*width, n*n), dtype=float)\n",
    "    print(\"Extracting the feature vectors.\")\n",
    "    vectorIndex = 0\n",
    "    for y in range(0, height):\n",
    "        if y%reportInterval == 0:\n",
    "            print(\"\\rRow: \" + str(y), end=\"\")\n",
    "        for x in range(0, width):\n",
    "            featureIndex = 0\n",
    "            for yRel in neighborsRange:\n",
    "                for xRel in neighborsRange:\n",
    "                    yRel = yRel if y+yRel >= 0 and y+yRel < height else -yRel\n",
    "                    xRel = xRel if x+xRel >= 0 and x+xRel < width else -xRel\n",
    "                    neighborhood[featureIndex] = image[y+yRel,x+xRel]\n",
    "                    featureIndex += 1\n",
    "            neighborhoods[vectorIndex] = neighborhood\n",
    "            vectorIndex += 1\n",
    "    print(\"\", end=\"\\n\")\n",
    "    return neighborhoods"
   ]
  },
  {
   "cell_type": "markdown",
   "metadata": {},
   "source": [
    "We test the function using a small random image."
   ]
  },
  {
   "cell_type": "code",
   "execution_count": 192,
   "metadata": {
    "collapsed": true,
    "jupyter": {
     "outputs_hidden": true
    }
   },
   "outputs": [
    {
     "name": "stdout",
     "output_type": "stream",
     "text": [
      "array([[0.68351528, 0.27502207, 0.31219423, 0.11763504, 0.86099178],\n",
      "       [0.17363823, 0.65398381, 0.17722023, 0.07507006, 0.76257609],\n",
      "       [0.68921207, 0.72755837, 0.44203417, 0.53998276, 0.19623321],\n",
      "       [0.03743573, 0.917668  , 0.41211213, 0.89874721, 0.90020166],\n",
      "       [0.56284018, 0.41774483, 0.21183847, 0.70768041, 0.86292136]])\n",
      "Extracting the feature vectors.\n",
      "Row: 4\n",
      "array([[0.65398381, 0.17363823, 0.65398381],\n",
      "       [0.27502207, 0.68351528, 0.27502207],\n",
      "       [0.65398381, 0.17363823, 0.65398381]])\n"
     ]
    }
   ],
   "source": [
    "import numpy as np\n",
    "randomImage = np.random.rand(5, 5)\n",
    "pprint(randomImage)\n",
    "X = getFeatureVectorsFromImage(randomImage, 3, 1)\n",
    "pprint(X[0].reshape(3,3))"
   ]
  },
  {
   "cell_type": "markdown",
   "metadata": {},
   "source": [
    "You can see that the neighborhood of the first pixel, consists of the values to the right and bottom-side while the missing values to left and top are replaced by the values at the mirrored positions. "
   ]
  },
  {
   "cell_type": "code",
   "execution_count": 189,
   "metadata": {},
   "outputs": [
    {
     "name": "stdout",
     "output_type": "stream",
     "text": [
      "array([[0.9066144 , 0.12354669, 0.43453985],\n",
      "       [0.58716886, 0.79516947, 0.52633879],\n",
      "       [0.80921585, 0.59229423, 0.4052188 ]])\n"
     ]
    }
   ],
   "source": [
    "pprint(X[6].reshape(3,3))"
   ]
  },
  {
   "cell_type": "markdown",
   "metadata": {},
   "source": [
    "For the 6th pixel at the position (1, 1) all neighbors are within the image."
   ]
  }
 ],
 "metadata": {
  "kernelspec": {
   "display_name": "Python 3",
   "language": "python",
   "name": "python3"
  },
  "language_info": {
   "codemirror_mode": {
    "name": "ipython",
    "version": 3
   },
   "file_extension": ".py",
   "mimetype": "text/x-python",
   "name": "python",
   "nbconvert_exporter": "python",
   "pygments_lexer": "ipython3",
   "version": "3.7.6"
  }
 },
 "nbformat": 4,
 "nbformat_minor": 4
}
