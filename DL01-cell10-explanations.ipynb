{
 "cells": [
  {
   "cell_type": "markdown",
   "metadata": {},
   "source": [
    "# Python for deep learning"
   ]
  },
  {
   "cell_type": "markdown",
   "metadata": {},
   "source": [
    "## Cell 10"
   ]
  },
  {
   "cell_type": "markdown",
   "metadata": {},
   "source": [
    "```python\n",
    "prediction = model.predict(np.array([[128/255]*N*N]))\n",
    "print(prediction[0][0])\n",
    "classPrediction = model.predict_classes(np.array([[128/255]*N*N]))\n",
    "print(classPrediction[0][0])\n",
    "```"
   ]
  },
  {
   "cell_type": "markdown",
   "metadata": {},
   "source": [
    "In cell 10 we use the trained model to make a prediction on a single input vector."
   ]
  },
  {
   "cell_type": "markdown",
   "metadata": {},
   "source": [
    "We build and train the simple we used before again."
   ]
  },
  {
   "cell_type": "code",
   "execution_count": 1,
   "metadata": {},
   "outputs": [
    {
     "name": "stdout",
     "output_type": "stream",
     "text": [
      "[[8.08310311e-01 5.44311795e-01 6.42913333e-01 8.56540516e-02\n",
      "  6.17497203e-01 3.35765236e-01 1.77857313e-01 5.16799921e-01\n",
      "  8.13992176e-01]\n",
      " [7.16476248e-01 7.88758550e-01 4.19360281e-01 4.47909697e-02\n",
      "  4.31661291e-01 5.27061973e-01 6.03679640e-01 5.54401092e-01\n",
      "  7.54257250e-01]\n",
      " [8.70230012e-01 2.71978882e-01 1.87689365e-01 9.98952856e-01\n",
      "  1.61977148e-01 8.39654922e-01 5.30706582e-01 2.51064797e-01\n",
      "  1.47732487e-01]\n",
      " [7.15263701e-01 4.40341853e-02 8.38913607e-01 5.49007791e-01\n",
      "  9.15287416e-01 7.89330061e-01 7.06570485e-01 3.49983073e-02\n",
      "  3.45812009e-02]\n",
      " [3.07598400e-01 7.62378820e-01 4.62190992e-01 8.62816711e-01\n",
      "  4.94725630e-01 9.46769856e-01 5.80712570e-01 9.14667025e-01\n",
      "  5.32833433e-01]\n",
      " [8.25292438e-01 8.10260154e-01 8.11487038e-01 4.67151539e-01\n",
      "  1.58630476e-01 8.50529702e-02 9.97203506e-01 5.61852231e-01\n",
      "  6.10694684e-01]\n",
      " [8.27093437e-01 1.14820009e-01 8.74251289e-01 1.24634244e-04\n",
      "  1.61421357e-01 4.83924787e-02 3.96091148e-01 9.01957984e-01\n",
      "  6.62952885e-01]\n",
      " [6.75023146e-01 3.79848069e-01 2.22267866e-01 9.50587651e-02\n",
      "  6.13891997e-02 7.29356807e-01 3.85623413e-01 2.02488072e-01\n",
      "  8.60287468e-02]\n",
      " [4.81577589e-01 3.48105776e-01 8.33041060e-01 2.63727274e-02\n",
      "  7.43415111e-01 6.38536741e-01 3.77297366e-02 8.09322156e-01\n",
      "  6.86316795e-01]]\n",
      "[1 1 0 1 1 1 0 0 1]\n"
     ]
    }
   ],
   "source": [
    "import numpy as np\n",
    "X = np.random.rand(1000, 9)\n",
    "y = np.array([int(round(sum(xv)/len(xv))) for xv in X])\n",
    "print(X[0:9])\n",
    "print(y[0:9])"
   ]
  },
  {
   "cell_type": "code",
   "execution_count": 4,
   "metadata": {},
   "outputs": [
    {
     "name": "stdout",
     "output_type": "stream",
     "text": [
      "Loss:  0.11684464663267136 Accuracy:  0.9959999918937683\n",
      "CPU times: user 4.99 s, sys: 375 ms, total: 5.36 s\n",
      "Wall time: 3.33 s\n"
     ]
    }
   ],
   "source": [
    "%%time\n",
    "from keras.models import Sequential\n",
    "from keras.layers import Dense\n",
    "from IPython.display import SVG\n",
    "N=3\n",
    "model = Sequential()\n",
    "model.add(Dense(N*N-1, input_dim=(N*N), activation='relu'))\n",
    "model.add(Dense(1, activation='sigmoid'))\n",
    "model.compile(loss='binary_crossentropy', optimizer='rmsprop', metrics=['accuracy'])\n",
    "history = model.fit(X, y, validation_split=0.25, epochs=1000, batch_size=256, verbose=0)\n",
    "print(\"Loss: \", history.history['val_loss'][-1], \"Accuracy: \", history.history['val_accuracy'][-1])"
   ]
  },
  {
   "cell_type": "code",
   "execution_count": 7,
   "metadata": {},
   "outputs": [
    {
     "name": "stdout",
     "output_type": "stream",
     "text": [
      "[[0.5091145]]\n"
     ]
    }
   ],
   "source": [
    "prediction = model.predict(np.array([[128/255]*N*N]))\n",
    "print(prediction)"
   ]
  },
  {
   "cell_type": "markdown",
   "metadata": {},
   "source": [
    "The prediction method of the model returns a list of predictions, one for each input vector in the input array. However a model can also have a vector instead of a scalar as a prediction result. Therefore result is a list of lists.\n",
    "\n",
    "Here a result for two input vectors:"
   ]
  },
  {
   "cell_type": "code",
   "execution_count": 15,
   "metadata": {},
   "outputs": [
    {
     "name": "stdout",
     "output_type": "stream",
     "text": [
      "[[0.50196078 0.50196078 0.50196078 0.50196078 0.50196078 0.50196078\n",
      "  0.50196078 0.50196078 0.50196078]\n",
      " [0.25098039 0.25098039 0.25098039 0.25098039 0.25098039 0.25098039\n",
      "  0.25098039 0.25098039 0.25098039]]\n"
     ]
    }
   ],
   "source": [
    "inputVectors = np.array([[128/255]*N*N, [64/255]*N*N])\n",
    "print(inputVectors)"
   ]
  },
  {
   "cell_type": "code",
   "execution_count": 18,
   "metadata": {},
   "outputs": [
    {
     "name": "stdout",
     "output_type": "stream",
     "text": [
      "[[5.0911421e-01]\n",
      " [1.8465381e-06]]\n",
      "[[1]\n",
      " [0]]\n"
     ]
    }
   ],
   "source": [
    "prediction = model.predict(inputVectors)\n",
    "print(prediction)\n",
    "classPrediction = model.predict_classes(inputVectors)\n",
    "print(classPrediction)"
   ]
  }
 ],
 "metadata": {
  "kernelspec": {
   "display_name": "Python 3",
   "language": "python",
   "name": "python3"
  },
  "language_info": {
   "codemirror_mode": {
    "name": "ipython",
    "version": 3
   },
   "file_extension": ".py",
   "mimetype": "text/x-python",
   "name": "python",
   "nbconvert_exporter": "python",
   "pygments_lexer": "ipython3",
   "version": "3.7.6"
  }
 },
 "nbformat": 4,
 "nbformat_minor": 4
}
